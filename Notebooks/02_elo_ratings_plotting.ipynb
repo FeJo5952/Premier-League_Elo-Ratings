{
 "cells": [
  {
   "cell_type": "code",
   "execution_count": null,
   "id": "1c2edb8e",
   "metadata": {},
   "outputs": [],
   "source": [
    "import pandas as pd\n",
    "import matplotlib.pyplot as plt\n",
    "import plotly.graph_objects as go\n",
    "import plotly.express as px"
   ]
  },
  {
   "cell_type": "code",
   "execution_count": 3,
   "id": "a2962693",
   "metadata": {},
   "outputs": [
    {
     "name": "stdout",
     "output_type": "stream",
     "text": [
      "(12160, 8)\n"
     ]
    },
    {
     "data": {
      "text/html": [
       "<div>\n",
       "<style scoped>\n",
       "    .dataframe tbody tr th:only-of-type {\n",
       "        vertical-align: middle;\n",
       "    }\n",
       "\n",
       "    .dataframe tbody tr th {\n",
       "        vertical-align: top;\n",
       "    }\n",
       "\n",
       "    .dataframe thead th {\n",
       "        text-align: right;\n",
       "    }\n",
       "</style>\n",
       "<table border=\"1\" class=\"dataframe\">\n",
       "  <thead>\n",
       "    <tr style=\"text-align: right;\">\n",
       "      <th></th>\n",
       "      <th>MatchID</th>\n",
       "      <th>Season</th>\n",
       "      <th>MatchWeek</th>\n",
       "      <th>Date</th>\n",
       "      <th>HomeTeam</th>\n",
       "      <th>AwayTeam</th>\n",
       "      <th>FullTimeHomeTeamGoals</th>\n",
       "      <th>FullTimeAwayTeamGoals</th>\n",
       "    </tr>\n",
       "  </thead>\n",
       "  <tbody>\n",
       "    <tr>\n",
       "      <th>0</th>\n",
       "      <td>1993-1994_Arsenal_Coventry</td>\n",
       "      <td>1993-1994</td>\n",
       "      <td>1</td>\n",
       "      <td>1993-08-14</td>\n",
       "      <td>Arsenal</td>\n",
       "      <td>Coventry</td>\n",
       "      <td>0</td>\n",
       "      <td>3</td>\n",
       "    </tr>\n",
       "    <tr>\n",
       "      <th>1</th>\n",
       "      <td>1993-1994_Aston Villa_QPR</td>\n",
       "      <td>1993-1994</td>\n",
       "      <td>1</td>\n",
       "      <td>1993-08-14</td>\n",
       "      <td>Aston Villa</td>\n",
       "      <td>QPR</td>\n",
       "      <td>4</td>\n",
       "      <td>1</td>\n",
       "    </tr>\n",
       "    <tr>\n",
       "      <th>2</th>\n",
       "      <td>1993-1994_Chelsea_Blackburn</td>\n",
       "      <td>1993-1994</td>\n",
       "      <td>1</td>\n",
       "      <td>1993-08-14</td>\n",
       "      <td>Chelsea</td>\n",
       "      <td>Blackburn</td>\n",
       "      <td>1</td>\n",
       "      <td>2</td>\n",
       "    </tr>\n",
       "    <tr>\n",
       "      <th>3</th>\n",
       "      <td>1993-1994_Liverpool_Sheffield Weds</td>\n",
       "      <td>1993-1994</td>\n",
       "      <td>1</td>\n",
       "      <td>1993-08-14</td>\n",
       "      <td>Liverpool</td>\n",
       "      <td>Sheffield Weds</td>\n",
       "      <td>2</td>\n",
       "      <td>0</td>\n",
       "    </tr>\n",
       "    <tr>\n",
       "      <th>4</th>\n",
       "      <td>1993-1994_Man City_Leeds</td>\n",
       "      <td>1993-1994</td>\n",
       "      <td>1</td>\n",
       "      <td>1993-08-14</td>\n",
       "      <td>Man City</td>\n",
       "      <td>Leeds</td>\n",
       "      <td>1</td>\n",
       "      <td>1</td>\n",
       "    </tr>\n",
       "  </tbody>\n",
       "</table>\n",
       "</div>"
      ],
      "text/plain": [
       "                              MatchID     Season  MatchWeek       Date  \\\n",
       "0          1993-1994_Arsenal_Coventry  1993-1994          1 1993-08-14   \n",
       "1           1993-1994_Aston Villa_QPR  1993-1994          1 1993-08-14   \n",
       "2         1993-1994_Chelsea_Blackburn  1993-1994          1 1993-08-14   \n",
       "3  1993-1994_Liverpool_Sheffield Weds  1993-1994          1 1993-08-14   \n",
       "4            1993-1994_Man City_Leeds  1993-1994          1 1993-08-14   \n",
       "\n",
       "      HomeTeam        AwayTeam  FullTimeHomeTeamGoals  FullTimeAwayTeamGoals  \n",
       "0      Arsenal        Coventry                      0                      3  \n",
       "1  Aston Villa             QPR                      4                      1  \n",
       "2      Chelsea       Blackburn                      1                      2  \n",
       "3    Liverpool  Sheffield Weds                      2                      0  \n",
       "4     Man City           Leeds                      1                      1  "
      ]
     },
     "execution_count": 3,
     "metadata": {},
     "output_type": "execute_result"
    }
   ],
   "source": [
    "PL_dataframe = pd.read_csv(\"../Data/Raw/PremierLeague.csv\")\n",
    "columns_to_keep = ['MatchID', 'Season', 'MatchWeek', 'Date', 'HomeTeam', 'AwayTeam',\n",
    "                   'FullTimeHomeTeamGoals', 'FullTimeAwayTeamGoals']\n",
    "PL_dataframe = PL_dataframe[columns_to_keep]\n",
    "print(PL_dataframe.shape)\n",
    "PL_dataframe['Date'] = pd.to_datetime(PL_dataframe['Date'])\n",
    "PL_dataframe = PL_dataframe.sort_values('Date')\n",
    "PL_dataframe.head()"
   ]
  },
  {
   "cell_type": "code",
   "execution_count": 4,
   "id": "cb70c8c6",
   "metadata": {},
   "outputs": [
    {
     "data": {
      "text/html": [
       "<div>\n",
       "<style scoped>\n",
       "    .dataframe tbody tr th:only-of-type {\n",
       "        vertical-align: middle;\n",
       "    }\n",
       "\n",
       "    .dataframe tbody tr th {\n",
       "        vertical-align: top;\n",
       "    }\n",
       "\n",
       "    .dataframe thead th {\n",
       "        text-align: right;\n",
       "    }\n",
       "</style>\n",
       "<table border=\"1\" class=\"dataframe\">\n",
       "  <thead>\n",
       "    <tr style=\"text-align: right;\">\n",
       "      <th></th>\n",
       "      <th>Season</th>\n",
       "      <th>MatchWeek</th>\n",
       "      <th>Date</th>\n",
       "      <th>Team</th>\n",
       "      <th>Full Time Goals</th>\n",
       "      <th>Elo-rating before match</th>\n",
       "      <th>Elo-rating after match</th>\n",
       "    </tr>\n",
       "  </thead>\n",
       "  <tbody>\n",
       "    <tr>\n",
       "      <th>0</th>\n",
       "      <td>1993-1994</td>\n",
       "      <td>1</td>\n",
       "      <td>1993-08-14</td>\n",
       "      <td>Arsenal</td>\n",
       "      <td>0</td>\n",
       "      <td>1500.0</td>\n",
       "      <td>1485.0</td>\n",
       "    </tr>\n",
       "    <tr>\n",
       "      <th>1</th>\n",
       "      <td>1993-1994</td>\n",
       "      <td>1</td>\n",
       "      <td>1993-08-14</td>\n",
       "      <td>Coventry</td>\n",
       "      <td>3</td>\n",
       "      <td>1500.0</td>\n",
       "      <td>1515.0</td>\n",
       "    </tr>\n",
       "    <tr>\n",
       "      <th>2</th>\n",
       "      <td>1993-1994</td>\n",
       "      <td>1</td>\n",
       "      <td>1993-08-14</td>\n",
       "      <td>Aston Villa</td>\n",
       "      <td>4</td>\n",
       "      <td>1500.0</td>\n",
       "      <td>1515.0</td>\n",
       "    </tr>\n",
       "    <tr>\n",
       "      <th>3</th>\n",
       "      <td>1993-1994</td>\n",
       "      <td>1</td>\n",
       "      <td>1993-08-14</td>\n",
       "      <td>QPR</td>\n",
       "      <td>1</td>\n",
       "      <td>1500.0</td>\n",
       "      <td>1485.0</td>\n",
       "    </tr>\n",
       "    <tr>\n",
       "      <th>4</th>\n",
       "      <td>1993-1994</td>\n",
       "      <td>1</td>\n",
       "      <td>1993-08-14</td>\n",
       "      <td>Chelsea</td>\n",
       "      <td>1</td>\n",
       "      <td>1500.0</td>\n",
       "      <td>1485.0</td>\n",
       "    </tr>\n",
       "  </tbody>\n",
       "</table>\n",
       "</div>"
      ],
      "text/plain": [
       "      Season  MatchWeek       Date         Team  Full Time Goals  \\\n",
       "0  1993-1994          1 1993-08-14      Arsenal                0   \n",
       "1  1993-1994          1 1993-08-14     Coventry                3   \n",
       "2  1993-1994          1 1993-08-14  Aston Villa                4   \n",
       "3  1993-1994          1 1993-08-14          QPR                1   \n",
       "4  1993-1994          1 1993-08-14      Chelsea                1   \n",
       "\n",
       "   Elo-rating before match  Elo-rating after match  \n",
       "0                   1500.0                  1485.0  \n",
       "1                   1500.0                  1515.0  \n",
       "2                   1500.0                  1515.0  \n",
       "3                   1500.0                  1485.0  \n",
       "4                   1500.0                  1485.0  "
      ]
     },
     "execution_count": 4,
     "metadata": {},
     "output_type": "execute_result"
    }
   ],
   "source": [
    "elo_ratings_history_df = pd.read_csv('../Data/Processed/Elo-Ratings History.csv')\n",
    "elo_ratings_history_df['Date'] = pd.to_datetime(elo_ratings_history_df['Date'])\n",
    "elo_ratings_history_df.head()"
   ]
  },
  {
   "cell_type": "code",
   "execution_count": 5,
   "id": "c2d0125a",
   "metadata": {},
   "outputs": [
    {
     "name": "stdout",
     "output_type": "stream",
     "text": [
      "True\n"
     ]
    },
    {
     "data": {
      "text/html": [
       "<div>\n",
       "<style scoped>\n",
       "    .dataframe tbody tr th:only-of-type {\n",
       "        vertical-align: middle;\n",
       "    }\n",
       "\n",
       "    .dataframe tbody tr th {\n",
       "        vertical-align: top;\n",
       "    }\n",
       "\n",
       "    .dataframe thead th {\n",
       "        text-align: right;\n",
       "    }\n",
       "</style>\n",
       "<table border=\"1\" class=\"dataframe\">\n",
       "  <thead>\n",
       "    <tr style=\"text-align: right;\">\n",
       "      <th></th>\n",
       "      <th>Season</th>\n",
       "      <th>MatchWeek</th>\n",
       "      <th>Date</th>\n",
       "      <th>Team</th>\n",
       "      <th>Full Time Goals</th>\n",
       "      <th>Elo-rating before match</th>\n",
       "      <th>Elo-rating after match</th>\n",
       "    </tr>\n",
       "  </thead>\n",
       "  <tbody>\n",
       "    <tr>\n",
       "      <th>21</th>\n",
       "      <td>1993-1994</td>\n",
       "      <td>1</td>\n",
       "      <td>1993-08-15</td>\n",
       "      <td>Man United</td>\n",
       "      <td>2</td>\n",
       "      <td>1500.00</td>\n",
       "      <td>1515.00</td>\n",
       "    </tr>\n",
       "    <tr>\n",
       "      <th>36</th>\n",
       "      <td>1993-1994</td>\n",
       "      <td>1</td>\n",
       "      <td>1993-08-18</td>\n",
       "      <td>Man United</td>\n",
       "      <td>3</td>\n",
       "      <td>1515.00</td>\n",
       "      <td>1530.00</td>\n",
       "    </tr>\n",
       "    <tr>\n",
       "      <th>52</th>\n",
       "      <td>1993-1994</td>\n",
       "      <td>2</td>\n",
       "      <td>1993-08-21</td>\n",
       "      <td>Man United</td>\n",
       "      <td>1</td>\n",
       "      <td>1530.00</td>\n",
       "      <td>1527.49</td>\n",
       "    </tr>\n",
       "    <tr>\n",
       "      <th>67</th>\n",
       "      <td>1993-1994</td>\n",
       "      <td>2</td>\n",
       "      <td>1993-08-23</td>\n",
       "      <td>Man United</td>\n",
       "      <td>2</td>\n",
       "      <td>1527.49</td>\n",
       "      <td>1541.89</td>\n",
       "    </tr>\n",
       "    <tr>\n",
       "      <th>95</th>\n",
       "      <td>1993-1994</td>\n",
       "      <td>3</td>\n",
       "      <td>1993-08-28</td>\n",
       "      <td>Man United</td>\n",
       "      <td>3</td>\n",
       "      <td>1541.89</td>\n",
       "      <td>1553.89</td>\n",
       "    </tr>\n",
       "    <tr>\n",
       "      <th>...</th>\n",
       "      <td>...</td>\n",
       "      <td>...</td>\n",
       "      <td>...</td>\n",
       "      <td>...</td>\n",
       "      <td>...</td>\n",
       "      <td>...</td>\n",
       "      <td>...</td>\n",
       "    </tr>\n",
       "    <tr>\n",
       "      <th>24235</th>\n",
       "      <td>2024-2025</td>\n",
       "      <td>34</td>\n",
       "      <td>2025-04-27</td>\n",
       "      <td>Man United</td>\n",
       "      <td>1</td>\n",
       "      <td>1567.33</td>\n",
       "      <td>1568.80</td>\n",
       "    </tr>\n",
       "    <tr>\n",
       "      <th>24255</th>\n",
       "      <td>2024-2025</td>\n",
       "      <td>35</td>\n",
       "      <td>2025-05-04</td>\n",
       "      <td>Man United</td>\n",
       "      <td>3</td>\n",
       "      <td>1568.80</td>\n",
       "      <td>1556.23</td>\n",
       "    </tr>\n",
       "    <tr>\n",
       "      <th>24276</th>\n",
       "      <td>2024-2025</td>\n",
       "      <td>36</td>\n",
       "      <td>2025-05-11</td>\n",
       "      <td>Man United</td>\n",
       "      <td>0</td>\n",
       "      <td>1556.23</td>\n",
       "      <td>1540.02</td>\n",
       "    </tr>\n",
       "    <tr>\n",
       "      <th>24283</th>\n",
       "      <td>2024-2025</td>\n",
       "      <td>37</td>\n",
       "      <td>2025-05-16</td>\n",
       "      <td>Man United</td>\n",
       "      <td>0</td>\n",
       "      <td>1540.02</td>\n",
       "      <td>1531.07</td>\n",
       "    </tr>\n",
       "    <tr>\n",
       "      <th>24308</th>\n",
       "      <td>2024-2025</td>\n",
       "      <td>38</td>\n",
       "      <td>2025-05-25</td>\n",
       "      <td>Man United</td>\n",
       "      <td>2</td>\n",
       "      <td>1531.07</td>\n",
       "      <td>1553.62</td>\n",
       "    </tr>\n",
       "  </tbody>\n",
       "</table>\n",
       "<p>1211 rows × 7 columns</p>\n",
       "</div>"
      ],
      "text/plain": [
       "          Season  MatchWeek       Date        Team  Full Time Goals  \\\n",
       "21     1993-1994          1 1993-08-15  Man United                2   \n",
       "36     1993-1994          1 1993-08-18  Man United                3   \n",
       "52     1993-1994          2 1993-08-21  Man United                1   \n",
       "67     1993-1994          2 1993-08-23  Man United                2   \n",
       "95     1993-1994          3 1993-08-28  Man United                3   \n",
       "...          ...        ...        ...         ...              ...   \n",
       "24235  2024-2025         34 2025-04-27  Man United                1   \n",
       "24255  2024-2025         35 2025-05-04  Man United                3   \n",
       "24276  2024-2025         36 2025-05-11  Man United                0   \n",
       "24283  2024-2025         37 2025-05-16  Man United                0   \n",
       "24308  2024-2025         38 2025-05-25  Man United                2   \n",
       "\n",
       "       Elo-rating before match  Elo-rating after match  \n",
       "21                     1500.00                 1515.00  \n",
       "36                     1515.00                 1530.00  \n",
       "52                     1530.00                 1527.49  \n",
       "67                     1527.49                 1541.89  \n",
       "95                     1541.89                 1553.89  \n",
       "...                        ...                     ...  \n",
       "24235                  1567.33                 1568.80  \n",
       "24255                  1568.80                 1556.23  \n",
       "24276                  1556.23                 1540.02  \n",
       "24283                  1540.02                 1531.07  \n",
       "24308                  1531.07                 1553.62  \n",
       "\n",
       "[1211 rows x 7 columns]"
      ]
     },
     "execution_count": 5,
     "metadata": {},
     "output_type": "execute_result"
    }
   ],
   "source": [
    "man_united_elo_history = elo_ratings_history_df.loc[elo_ratings_history_df['Team'] == 'Man United']\n",
    "print(man_united_elo_history['Date'].is_monotonic_increasing)\n",
    "man_united_elo_history.head()\n",
    "man_united_elo_history"
   ]
  },
  {
   "cell_type": "code",
   "execution_count": 6,
   "id": "09274d32",
   "metadata": {},
   "outputs": [
    {
     "name": "stdout",
     "output_type": "stream",
     "text": [
      "True\n"
     ]
    },
    {
     "data": {
      "text/html": [
       "<div>\n",
       "<style scoped>\n",
       "    .dataframe tbody tr th:only-of-type {\n",
       "        vertical-align: middle;\n",
       "    }\n",
       "\n",
       "    .dataframe tbody tr th {\n",
       "        vertical-align: top;\n",
       "    }\n",
       "\n",
       "    .dataframe thead th {\n",
       "        text-align: right;\n",
       "    }\n",
       "</style>\n",
       "<table border=\"1\" class=\"dataframe\">\n",
       "  <thead>\n",
       "    <tr style=\"text-align: right;\">\n",
       "      <th></th>\n",
       "      <th>Season</th>\n",
       "      <th>MatchWeek</th>\n",
       "      <th>Date</th>\n",
       "      <th>Team</th>\n",
       "      <th>Full Time Goals</th>\n",
       "      <th>Elo-rating before match</th>\n",
       "      <th>Elo-rating after match</th>\n",
       "    </tr>\n",
       "  </thead>\n",
       "  <tbody>\n",
       "    <tr>\n",
       "      <th>0</th>\n",
       "      <td>1993-1994</td>\n",
       "      <td>1</td>\n",
       "      <td>1993-08-14</td>\n",
       "      <td>Arsenal</td>\n",
       "      <td>0</td>\n",
       "      <td>1500.00</td>\n",
       "      <td>1485.00</td>\n",
       "    </tr>\n",
       "    <tr>\n",
       "      <th>23</th>\n",
       "      <td>1993-1994</td>\n",
       "      <td>1</td>\n",
       "      <td>1993-08-16</td>\n",
       "      <td>Arsenal</td>\n",
       "      <td>1</td>\n",
       "      <td>1485.00</td>\n",
       "      <td>1501.29</td>\n",
       "    </tr>\n",
       "    <tr>\n",
       "      <th>49</th>\n",
       "      <td>1993-1994</td>\n",
       "      <td>2</td>\n",
       "      <td>1993-08-21</td>\n",
       "      <td>Arsenal</td>\n",
       "      <td>1</td>\n",
       "      <td>1501.29</td>\n",
       "      <td>1515.64</td>\n",
       "    </tr>\n",
       "    <tr>\n",
       "      <th>68</th>\n",
       "      <td>1993-1994</td>\n",
       "      <td>2</td>\n",
       "      <td>1993-08-24</td>\n",
       "      <td>Arsenal</td>\n",
       "      <td>2</td>\n",
       "      <td>1515.64</td>\n",
       "      <td>1529.92</td>\n",
       "    </tr>\n",
       "    <tr>\n",
       "      <th>98</th>\n",
       "      <td>1993-1994</td>\n",
       "      <td>3</td>\n",
       "      <td>1993-08-28</td>\n",
       "      <td>Arsenal</td>\n",
       "      <td>2</td>\n",
       "      <td>1529.92</td>\n",
       "      <td>1544.71</td>\n",
       "    </tr>\n",
       "  </tbody>\n",
       "</table>\n",
       "</div>"
      ],
      "text/plain": [
       "       Season  MatchWeek       Date     Team  Full Time Goals  \\\n",
       "0   1993-1994          1 1993-08-14  Arsenal                0   \n",
       "23  1993-1994          1 1993-08-16  Arsenal                1   \n",
       "49  1993-1994          2 1993-08-21  Arsenal                1   \n",
       "68  1993-1994          2 1993-08-24  Arsenal                2   \n",
       "98  1993-1994          3 1993-08-28  Arsenal                2   \n",
       "\n",
       "    Elo-rating before match  Elo-rating after match  \n",
       "0                   1500.00                 1485.00  \n",
       "23                  1485.00                 1501.29  \n",
       "49                  1501.29                 1515.64  \n",
       "68                  1515.64                 1529.92  \n",
       "98                  1529.92                 1544.71  "
      ]
     },
     "execution_count": 6,
     "metadata": {},
     "output_type": "execute_result"
    }
   ],
   "source": [
    "arsenal_elo_history = elo_ratings_history_df.loc[elo_ratings_history_df['Team'] == 'Arsenal']\n",
    "print(arsenal_elo_history['Date'].is_monotonic_increasing)\n",
    "arsenal_elo_history.head()"
   ]
  },
  {
   "cell_type": "code",
   "execution_count": 7,
   "id": "0cbfab94",
   "metadata": {},
   "outputs": [
    {
     "data": {
      "image/png": "[encoded data removed]",
      "text/plain": [
       "<Figure size 640x480 with 1 Axes>"
      ]
     },
     "metadata": {},
     "output_type": "display_data"
    }
   ],
   "source": [
    "plt.plot(arsenal_elo_history['Date'], arsenal_elo_history['Elo-rating after match'], label = 'Arsenal')\n",
    "plt.plot(man_united_elo_history['Date'], man_united_elo_history['Elo-rating after match'], label = 'Man United')\n",
    "plt.title('Elo-ratings of Arsenal')\n",
    "plt.xlabel('Date')\n",
    "plt.ylabel('Elo Ratings')\n",
    "plt.legend()\n",
    "plt.show()"
   ]
  },
  {
   "cell_type": "code",
   "execution_count": 8,
   "id": "3ec5cbfe",
   "metadata": {},
   "outputs": [
    {
     "data": {
      "application/vnd.plotly.v1+json": {
       "config": {
        "plotlyServerURL": "https://plot.ly"
       },
       "data": [
        {
         "line": {
          "color": "red"
         },
         "mode": "lines",
         "name": "Arsenal",
         "type": "scatter",
         "x": [
          "1993-08-14T00:00:00.000000000",
          "1993-08-16T00:00:00.000000000",
          "1993-08-21T00:00:00.000000000",
          "1993-08-24T00:00:00.000000000",
          "1993-08-28T00:00:00.000000000",
          "1993-09-01T00:00:00.000000000",
          "1993-09-11T00:00:00.000000000",
          "1993-09-19T00:00:00.000000000",
          "1993-09-25T00:00:00.000000000",
          "1993-10-02T00:00:00.000000000",
          "1993-10-16T00:00:00.000000000",
          "1993-10-23T00:00:00.000000000",
          "1993-10-30T00:00:00.000000000",
          "1993-11-06T00:00:00.000000000",
          "1993-11-20T00:00:00.000000000",
          "1993-11-24T00:00:00.000000000",
          "1993-11-27T00:00:00.000000000",
          "1993-12-04T00:00:00.000000000",
          "1993-12-06T00:00:00.000000000",
          "1993-12-12T00:00:00.000000000",
          "1993-12-18T00:00:00.000000000",
          "1993-12-27T00:00:00.000000000",
          "1993-12-29T00:00:00.000000000",
          "1994-01-01T00:00:00.000000000",
          "1994-01-03T00:00:00.000000000",
          "1994-01-15T00:00:00.000000000",
          "1994-01-22T00:00:00.000000000",
          "1994-02-13T00:00:00.000000000",
          "1994-02-19T00:00:00.000000000",
          "1994-02-26T00:00:00.000000000",
          "1994-03-05T00:00:00.000000000",
          "1994-03-19T00:00:00.000000000",
          "1994-03-22T00:00:00.000000000",
          "1994-03-26T00:00:00.000000000",
          "1994-04-02T00:00:00.000000000",
          "1994-08-20T00:00:00.000000000",
          "1994-08-23T00:00:00.000000000",
          "1994-08-28T00:00:00.000000000",
          "1994-08-31T00:00:00.000000000",
          "1994-09-10T00:00:00.000000000",
          "1994-09-18T00:00:00.000000000",
          "1994-09-25T00:00:00.000000000",
          "1994-10-01T00:00:00.000000000",
          "1994-10-08T00:00:00.000000000",
          "1994-10-15T00:00:00.000000000",
          "1994-10-23T00:00:00.000000000",
          "1994-10-29T00:00:00.000000000",
          "1994-11-06T00:00:00.000000000",
          "1994-11-19T00:00:00.000000000",
          "1994-11-23T00:00:00.000000000",
          "1994-11-26T00:00:00.000000000",
          "1994-12-03T00:00:00.000000000",
          "1994-12-12T00:00:00.000000000",
          "1994-12-17T00:00:00.000000000",
          "1994-12-26T00:00:00.000000000",
          "1994-12-28T00:00:00.000000000",
          "1994-12-31T00:00:00.000000000",
          "1995-01-02T00:00:00.000000000",
          "1995-01-14T00:00:00.000000000",
          "1995-01-21T00:00:00.000000000",
          "1995-01-24T00:00:00.000000000",
          "1995-02-04T00:00:00.000000000",
          "1995-02-11T00:00:00.000000000",
          "1995-02-21T00:00:00.000000000",
          "1995-02-25T00:00:00.000000000",
          "1995-03-05T00:00:00.000000000",
          "1995-03-08T00:00:00.000000000",
          "1995-03-19T00:00:00.000000000",
          "1995-03-22T00:00:00.000000000",
          "1995-04-01T00:00:00.000000000",
          "1995-08-20T00:00:00.000000000",
          "1995-08-23T00:00:00.000000000",
          "1995-08-26T00:00:00.000000000",
          "1995-08-29T00:00:00.000000000",
          "1995-09-10T00:00:00.000000000",
          "1995-09-16T00:00:00.000000000",
          "1995-09-23T00:00:00.000000000",
          "1995-09-30T00:00:00.000000000",
          "1995-10-14T00:00:00.000000000",
          "1995-10-21T00:00:00.000000000",
          "1995-10-30T00:00:00.000000000",
          "1995-11-04T00:00:00.000000000",
          "1995-11-18T00:00:00.000000000",
          "1995-11-21T00:00:00.000000000",
          "1995-11-26T00:00:00.000000000",
          "1995-12-02T00:00:00.000000000",
          "1995-12-09T00:00:00.000000000",
          "1995-12-16T00:00:00.000000000",
          "1995-12-23T00:00:00.000000000",
          "1995-12-26T00:00:00.000000000",
          "1995-12-30T00:00:00.000000000",
          "1996-01-02T00:00:00.000000000",
          "1996-01-13T00:00:00.000000000",
          "1996-01-20T00:00:00.000000000",
          "1996-02-03T00:00:00.000000000",
          "1996-02-10T00:00:00.000000000",
          "1996-02-24T00:00:00.000000000",
          "1996-03-02T00:00:00.000000000",
          "1996-03-05T00:00:00.000000000",
          "1996-03-16T00:00:00.000000000",
          "1996-03-20T00:00:00.000000000",
          "1996-03-23T00:00:00.000000000",
          "1996-04-06T00:00:00.000000000",
          "1996-04-08T00:00:00.000000000",
          "1996-04-15T00:00:00.000000000",
          "1996-04-27T00:00:00.000000000",
          "1996-05-01T00:00:00.000000000",
          "1996-05-04T00:00:00.000000000",
          "1996-08-17T00:00:00.000000000",
          "1996-08-19T00:00:00.000000000",
          "1996-08-24T00:00:00.000000000",
          "1996-09-04T00:00:00.000000000",
          "1996-09-07T00:00:00.000000000",
          "1996-09-16T00:00:00.000000000",
          "1996-09-21T00:00:00.000000000",
          "1996-09-28T00:00:00.000000000",
          "1996-10-12T00:00:00.000000000",
          "1996-10-19T00:00:00.000000000",
          "1996-10-26T00:00:00.000000000",
          "1996-11-02T00:00:00.000000000",
          "1996-11-16T00:00:00.000000000",
          "1996-11-24T00:00:00.000000000",
          "1996-11-30T00:00:00.000000000",
          "1996-12-04T00:00:00.000000000",
          "1996-12-07T00:00:00.000000000",
          "1996-12-21T00:00:00.000000000",
          "1996-12-26T00:00:00.000000000",
          "1996-12-28T00:00:00.000000000",
          "1997-01-01T00:00:00.000000000",
          "1997-01-11T00:00:00.000000000",
          "1997-01-19T00:00:00.000000000",
          "1997-01-29T00:00:00.000000000",
          "1997-02-01T00:00:00.000000000",
          "1997-02-15T00:00:00.000000000",
          "1997-02-19T00:00:00.000000000",
          "1997-02-23T00:00:00.000000000",
          "1997-03-01T00:00:00.000000000",
          "1997-03-08T00:00:00.000000000",
          "1997-03-15T00:00:00.000000000",
          "1997-03-24T00:00:00.000000000",
          "1997-04-05T00:00:00.000000000",
          "1997-04-12T00:00:00.000000000",
          "1997-04-19T00:00:00.000000000",
          "1997-04-21T00:00:00.000000000",
          "1997-05-03T00:00:00.000000000",
          "1997-05-11T00:00:00.000000000",
          "1997-08-09T00:00:00.000000000",
          "1997-08-11T00:00:00.000000000",
          "1997-08-23T00:00:00.000000000",
          "1997-08-27T00:00:00.000000000",
          "1997-08-30T00:00:00.000000000",
          "1997-09-13T00:00:00.000000000",
          "1997-09-21T00:00:00.000000000",
          "1997-09-24T00:00:00.000000000",
          "1997-09-27T00:00:00.000000000",
          "1997-10-04T00:00:00.000000000",
          "1997-10-18T00:00:00.000000000",
          "1997-10-26T00:00:00.000000000",
          "1997-11-01T00:00:00.000000000",
          "1997-11-09T00:00:00.000000000",
          "1997-11-22T00:00:00.000000000",
          "1997-11-30T00:00:00.000000000",
          "1997-12-06T00:00:00.000000000",
          "1997-12-13T00:00:00.000000000",
          "1997-12-26T00:00:00.000000000",
          "1997-12-28T00:00:00.000000000",
          "1998-01-10T00:00:00.000000000",
          "1998-01-17T00:00:00.000000000",
          "1998-01-31T00:00:00.000000000",
          "1998-02-08T00:00:00.000000000",
          "1998-02-21T00:00:00.000000000",
          "1998-03-02T00:00:00.000000000",
          "1998-03-11T00:00:00.000000000",
          "1998-03-14T00:00:00.000000000",
          "1998-03-28T00:00:00.000000000",
          "1998-03-31T00:00:00.000000000",
          "1998-04-11T00:00:00.000000000",
          "1998-04-13T00:00:00.000000000",
          "1998-04-18T00:00:00.000000000",
          "1998-04-25T00:00:00.000000000",
          "1998-04-29T00:00:00.000000000",
          "1998-05-03T00:00:00.000000000",
          "1998-05-06T00:00:00.000000000",
          "1998-05-10T00:00:00.000000000",
          "1998-08-17T00:00:00.000000000",
          "1998-08-22T00:00:00.000000000",
          "1998-08-29T00:00:00.000000000",
          "1998-09-09T00:00:00.000000000",
          "1998-09-12T00:00:00.000000000",
          "1998-09-20T00:00:00.000000000",
          "1998-09-26T00:00:00.000000000",
          "1998-10-04T00:00:00.000000000",
          "1998-10-17T00:00:00.000000000",
          "1998-10-25T00:00:00.000000000",
          "1998-10-31T00:00:00.000000000",
          "1998-11-08T00:00:00.000000000",
          "1998-11-14T00:00:00.000000000",
          "1998-11-21T00:00:00.000000000",
          "1998-11-29T00:00:00.000000000",
          "1998-12-05T00:00:00.000000000",
          "1998-12-13T00:00:00.000000000",
          "1998-12-20T00:00:00.000000000",
          "1998-12-26T00:00:00.000000000",
          "1998-12-28T00:00:00.000000000",
          "1999-01-09T00:00:00.000000000",
          "1999-01-16T00:00:00.000000000",
          "1999-01-31T00:00:00.000000000",
          "1999-02-06T00:00:00.000000000",
          "1999-02-17T00:00:00.000000000",
          "1999-02-20T00:00:00.000000000",
          "1999-02-28T00:00:00.000000000",
          "1999-03-09T00:00:00.000000000",
          "1999-03-13T00:00:00.000000000",
          "1999-03-20T00:00:00.000000000",
          "1999-04-03T00:00:00.000000000",
          "1999-04-06T00:00:00.000000000",
          "1999-04-19T00:00:00.000000000",
          "1999-04-24T00:00:00.000000000",
          "1999-05-02T00:00:00.000000000",
          "1999-05-05T00:00:00.000000000",
          "1999-05-11T00:00:00.000000000",
          "1999-05-16T00:00:00.000000000",
          "1999-08-07T00:00:00.000000000",
          "1999-08-10T00:00:00.000000000",
          "1999-08-14T00:00:00.000000000",
          "1999-08-22T00:00:00.000000000",
          "1999-08-25T00:00:00.000000000",
          "1999-08-28T00:00:00.000000000",
          "1999-09-11T00:00:00.000000000",
          "1999-09-18T00:00:00.000000000",
          "1999-09-25T00:00:00.000000000",
          "1999-10-03T00:00:00.000000000",
          "1999-10-16T00:00:00.000000000",
          "1999-10-23T00:00:00.000000000",
          "1999-10-30T00:00:00.000000000",
          "1999-11-07T00:00:00.000000000",
          "1999-11-20T00:00:00.000000000",
          "1999-11-28T00:00:00.000000000",
          "1999-12-04T00:00:00.000000000",
          "1999-12-18T00:00:00.000000000",
          "1999-12-26T00:00:00.000000000",
          "1999-12-28T00:00:00.000000000",
          "2000-01-03T00:00:00.000000000",
          "2000-01-15T00:00:00.000000000",
          "2000-01-24T00:00:00.000000000",
          "2000-02-05T00:00:00.000000000",
          "2000-02-13T00:00:00.000000000",
          "2000-02-26T00:00:00.000000000",
          "2000-03-05T00:00:00.000000000",
          "2000-03-12T00:00:00.000000000",
          "2000-03-19T00:00:00.000000000",
          "2000-03-26T00:00:00.000000000",
          "2000-04-01T00:00:00.000000000",
          "2000-04-16T00:00:00.000000000",
          "2000-04-23T00:00:00.000000000",
          "2000-04-29T00:00:00.000000000",
          "2000-05-02T00:00:00.000000000",
          "2000-05-06T00:00:00.000000000",
          "2000-05-09T00:00:00.000000000",
          "2000-05-14T00:00:00.000000000",
          "2000-08-19T00:00:00.000000000",
          "2000-08-21T00:00:00.000000000",
          "2000-08-26T00:00:00.000000000",
          "2000-09-06T00:00:00.000000000",
          "2000-09-09T00:00:00.000000000",
          "2000-09-16T00:00:00.000000000",
          "2000-09-23T00:00:00.000000000",
          "2000-10-01T00:00:00.000000000",
          "2000-10-14T00:00:00.000000000",
          "2000-10-21T00:00:00.000000000",
          "2000-10-28T00:00:00.000000000",
          "2000-11-04T00:00:00.000000000",
          "2000-11-11T00:00:00.000000000",
          "2000-11-18T00:00:00.000000000",
          "2000-11-26T00:00:00.000000000",
          "2000-12-02T00:00:00.000000000",
          "2000-12-09T00:00:00.000000000",
          "2000-12-18T00:00:00.000000000",
          "2000-12-23T00:00:00.000000000",
          "2000-12-26T00:00:00.000000000",
          "2000-12-30T00:00:00.000000000",
          "2001-01-01T00:00:00.000000000",
          "2001-01-13T00:00:00.000000000",
          "2001-01-20T00:00:00.000000000",
          "2001-01-30T00:00:00.000000000",
          "2001-02-03T00:00:00.000000000",
          "2001-02-10T00:00:00.000000000",
          "2001-02-25T00:00:00.000000000",
          "2001-03-03T00:00:00.000000000",
          "2001-03-18T00:00:00.000000000",
          "2001-03-31T00:00:00.000000000",
          "2001-04-11T00:00:00.000000000",
          "2001-04-14T00:00:00.000000000",
          "2001-04-21T00:00:00.000000000",
          "2001-04-28T00:00:00.000000000",
          "2001-05-05T00:00:00.000000000",
          "2001-05-15T00:00:00.000000000",
          "2001-05-19T00:00:00.000000000",
          "2001-08-18T00:00:00.000000000",
          "2001-08-21T00:00:00.000000000",
          "2001-08-25T00:00:00.000000000",
          "2001-09-08T00:00:00.000000000",
          "2001-09-15T00:00:00.000000000",
          "2001-09-22T00:00:00.000000000",
          "2001-09-29T00:00:00.000000000",
          "2001-10-13T00:00:00.000000000",
          "2001-10-20T00:00:00.000000000",
          "2001-10-27T00:00:00.000000000",
          "2001-11-04T00:00:00.000000000",
          "2001-11-17T00:00:00.000000000",
          "2001-11-25T00:00:00.000000000",
          "2001-12-01T00:00:00.000000000",
          "2001-12-09T00:00:00.000000000",
          "2001-12-15T00:00:00.000000000",
          "2001-12-18T00:00:00.000000000",
          "2001-12-23T00:00:00.000000000",
          "2001-12-26T00:00:00.000000000",
          "2001-12-29T00:00:00.000000000",
          "2002-01-13T00:00:00.000000000",
          "2002-01-20T00:00:00.000000000",
          "2002-01-23T00:00:00.000000000",
          "2002-01-30T00:00:00.000000000",
          "2002-02-02T00:00:00.000000000",
          "2002-02-10T00:00:00.000000000",
          "2002-02-23T00:00:00.000000000",
          "2002-03-02T00:00:00.000000000",
          "2002-03-05T00:00:00.000000000",
          "2002-03-17T00:00:00.000000000",
          "2002-03-30T00:00:00.000000000",
          "2002-04-01T00:00:00.000000000",
          "2002-04-06T00:00:00.000000000",
          "2002-04-21T00:00:00.000000000",
          "2002-04-24T00:00:00.000000000",
          "2002-04-29T00:00:00.000000000",
          "2002-05-08T00:00:00.000000000",
          "2002-05-11T00:00:00.000000000",
          "2002-08-18T00:00:00.000000000",
          "2002-08-24T00:00:00.000000000",
          "2002-08-27T00:00:00.000000000",
          "2002-09-01T00:00:00.000000000",
          "2002-09-10T00:00:00.000000000",
          "2002-09-14T00:00:00.000000000",
          "2002-09-21T00:00:00.000000000",
          "2002-09-28T00:00:00.000000000",
          "2002-10-06T00:00:00.000000000",
          "2002-10-19T00:00:00.000000000",
          "2002-10-26T00:00:00.000000000",
          "2002-11-03T00:00:00.000000000",
          "2002-11-09T00:00:00.000000000",
          "2002-11-16T00:00:00.000000000",
          "2002-11-23T00:00:00.000000000",
          "2002-11-30T00:00:00.000000000",
          "2002-12-07T00:00:00.000000000",
          "2002-12-15T00:00:00.000000000",
          "2002-12-21T00:00:00.000000000",
          "2002-12-26T00:00:00.000000000",
          "2002-12-29T00:00:00.000000000",
          "2003-01-01T00:00:00.000000000",
          "2003-01-12T00:00:00.000000000",
          "2003-01-19T00:00:00.000000000",
          "2003-01-29T00:00:00.000000000",
          "2003-02-01T00:00:00.000000000",
          "2003-02-09T00:00:00.000000000",
          "2003-02-22T00:00:00.000000000",
          "2003-03-02T00:00:00.000000000",
          "2003-03-15T00:00:00.000000000",
          "2003-03-23T00:00:00.000000000",
          "2003-04-05T00:00:00.000000000",
          "2003-04-16T00:00:00.000000000",
          "2003-04-19T00:00:00.000000000",
          "2003-04-26T00:00:00.000000000",
          "2003-05-04T00:00:00.000000000",
          "2003-05-07T00:00:00.000000000",
          "2003-05-11T00:00:00.000000000",
          "2003-08-16T00:00:00.000000000",
          "2003-08-24T00:00:00.000000000",
          "2003-08-27T00:00:00.000000000",
          "2003-08-31T00:00:00.000000000",
          "2003-09-13T00:00:00.000000000",
          "2003-09-21T00:00:00.000000000",
          "2003-09-26T00:00:00.000000000",
          "2003-10-04T00:00:00.000000000",
          "2003-10-18T00:00:00.000000000",
          "2003-10-26T00:00:00.000000000",
          "2003-11-01T00:00:00.000000000",
          "2003-11-08T00:00:00.000000000",
          "2003-11-22T00:00:00.000000000",
          "2003-11-30T00:00:00.000000000",
          "2003-12-06T00:00:00.000000000",
          "2003-12-14T00:00:00.000000000",
          "2003-12-20T00:00:00.000000000",
          "2003-12-26T00:00:00.000000000",
          "2003-12-29T00:00:00.000000000",
          "2004-01-07T00:00:00.000000000",
          "2004-01-10T00:00:00.000000000",
          "2004-01-18T00:00:00.000000000",
          "2004-02-01T00:00:00.000000000",
          "2004-02-07T00:00:00.000000000",
          "2004-02-10T00:00:00.000000000",
          "2004-02-21T00:00:00.000000000",
          "2004-02-28T00:00:00.000000000",
          "2004-03-13T00:00:00.000000000",
          "2004-03-20T00:00:00.000000000",
          "2004-03-28T00:00:00.000000000",
          "2004-04-09T00:00:00.000000000",
          "2004-04-11T00:00:00.000000000",
          "2004-04-16T00:00:00.000000000",
          "2004-04-25T00:00:00.000000000",
          "2004-05-01T00:00:00.000000000",
          "2004-05-04T00:00:00.000000000",
          "2004-05-09T00:00:00.000000000",
          "2004-05-15T00:00:00.000000000",
          "2004-08-15T00:00:00.000000000",
          "2004-08-22T00:00:00.000000000",
          "2004-08-25T00:00:00.000000000",
          "2004-08-28T00:00:00.000000000",
          "2004-09-11T00:00:00.000000000",
          "2004-09-18T00:00:00.000000000",
          "2004-09-25T00:00:00.000000000",
          "2004-10-02T00:00:00.000000000",
          "2004-10-16T00:00:00.000000000",
          "2004-10-24T00:00:00.000000000",
          "2004-10-30T00:00:00.000000000",
          "2004-11-06T00:00:00.000000000",
          "2004-11-13T00:00:00.000000000",
          "2004-11-20T00:00:00.000000000",
          "2004-11-28T00:00:00.000000000",
          "2004-12-04T00:00:00.000000000",
          "2004-12-12T00:00:00.000000000",
          "2004-12-19T00:00:00.000000000",
          "2004-12-26T00:00:00.000000000",
          "2004-12-29T00:00:00.000000000",
          "2005-01-01T00:00:00.000000000",
          "2005-01-04T00:00:00.000000000",
          "2005-01-15T00:00:00.000000000",
          "2005-01-23T00:00:00.000000000",
          "2005-02-01T00:00:00.000000000",
          "2005-02-05T00:00:00.000000000",
          "2005-02-14T00:00:00.000000000",
          "2005-02-26T00:00:00.000000000",
          "2005-03-05T00:00:00.000000000",
          "2005-03-19T00:00:00.000000000",
          "2005-04-02T00:00:00.000000000",
          "2005-04-09T00:00:00.000000000",
          "2005-04-20T00:00:00.000000000",
          "2005-04-25T00:00:00.000000000",
          "2005-05-02T00:00:00.000000000",
          "2005-05-08T00:00:00.000000000",
          "2005-05-11T00:00:00.000000000",
          "2005-05-15T00:00:00.000000000",
          "2005-08-14T00:00:00.000000000",
          "2005-08-21T00:00:00.000000000",
          "2005-08-24T00:00:00.000000000",
          "2005-09-10T00:00:00.000000000",
          "2005-09-19T00:00:00.000000000",
          "2005-09-24T00:00:00.000000000",
          "2005-10-02T00:00:00.000000000",
          "2005-10-15T00:00:00.000000000",
          "2005-10-22T00:00:00.000000000",
          "2005-10-29T00:00:00.000000000",
          "2005-11-05T00:00:00.000000000",
          "2005-11-19T00:00:00.000000000",
          "2005-11-26T00:00:00.000000000",
          "2005-12-03T00:00:00.000000000",
          "2005-12-10T00:00:00.000000000",
          "2005-12-18T00:00:00.000000000",
          "2005-12-26T00:00:00.000000000",
          "2005-12-28T00:00:00.000000000",
          "2005-12-31T00:00:00.000000000",
          "2006-01-03T00:00:00.000000000",
          "2006-01-14T00:00:00.000000000",
          "2006-01-21T00:00:00.000000000",
          "2006-02-01T00:00:00.000000000",
          "2006-02-04T00:00:00.000000000",
          "2006-02-11T00:00:00.000000000",
          "2006-02-14T00:00:00.000000000",
          "2006-02-25T00:00:00.000000000",
          "2006-03-04T00:00:00.000000000",
          "2006-03-12T00:00:00.000000000",
          "2006-03-18T00:00:00.000000000",
          "2006-04-01T00:00:00.000000000",
          "2006-04-09T00:00:00.000000000",
          "2006-04-12T00:00:00.000000000",
          "2006-04-15T00:00:00.000000000",
          "2006-04-22T00:00:00.000000000",
          "2006-05-01T00:00:00.000000000",
          "2006-05-04T00:00:00.000000000",
          "2006-05-07T00:00:00.000000000",
          "2006-08-19T00:00:00.000000000",
          "2006-08-26T00:00:00.000000000",
          "2006-09-09T00:00:00.000000000",
          "2006-09-17T00:00:00.000000000",
          "2006-09-23T00:00:00.000000000",
          "2006-09-30T00:00:00.000000000",
          "2006-10-14T00:00:00.000000000",
          "2006-10-22T00:00:00.000000000",
          "2006-10-28T00:00:00.000000000",
          "2006-11-05T00:00:00.000000000",
          "2006-11-12T00:00:00.000000000",
          "2006-11-18T00:00:00.000000000",
          "2006-11-25T00:00:00.000000000",
          "2006-11-29T00:00:00.000000000",
          "2006-12-02T00:00:00.000000000",
          "2006-12-10T00:00:00.000000000",
          "2006-12-13T00:00:00.000000000",
          "2006-12-16T00:00:00.000000000",
          "2006-12-23T00:00:00.000000000",
          "2006-12-26T00:00:00.000000000",
          "2006-12-30T00:00:00.000000000",
          "2007-01-02T00:00:00.000000000",
          "2007-01-13T00:00:00.000000000",
          "2007-01-21T00:00:00.000000000",
          "2007-02-03T00:00:00.000000000",
          "2007-02-11T00:00:00.000000000",
          "2007-03-03T00:00:00.000000000",
          "2007-03-14T00:00:00.000000000",
          "2007-03-18T00:00:00.000000000",
          "2007-03-31T00:00:00.000000000",
          "2007-04-07T00:00:00.000000000",
          "2007-04-09T00:00:00.000000000",
          "2007-04-14T00:00:00.000000000",
          "2007-04-17T00:00:00.000000000",
          "2007-04-21T00:00:00.000000000",
          "2007-04-29T00:00:00.000000000",
          "2007-05-06T00:00:00.000000000",
          "2007-05-13T00:00:00.000000000",
          "2007-08-12T00:00:00.000000000",
          "2007-08-19T00:00:00.000000000",
          "2007-08-25T00:00:00.000000000",
          "2007-09-02T00:00:00.000000000",
          "2007-09-15T00:00:00.000000000",
          "2007-09-22T00:00:00.000000000",
          "2007-09-29T00:00:00.000000000",
          "2007-10-07T00:00:00.000000000",
          "2007-10-20T00:00:00.000000000",
          "2007-10-28T00:00:00.000000000",
          "2007-11-03T00:00:00.000000000",
          "2007-11-12T00:00:00.000000000",
          "2007-11-24T00:00:00.000000000",
          "2007-12-01T00:00:00.000000000",
          "2007-12-05T00:00:00.000000000",
          "2007-12-09T00:00:00.000000000",
          "2007-12-16T00:00:00.000000000",
          "2007-12-22T00:00:00.000000000",
          "2007-12-26T00:00:00.000000000",
          "2007-12-29T00:00:00.000000000",
          "2008-01-01T00:00:00.000000000",
          "2008-01-12T00:00:00.000000000",
          "2008-01-19T00:00:00.000000000",
          "2008-01-29T00:00:00.000000000",
          "2008-02-02T00:00:00.000000000",
          "2008-02-11T00:00:00.000000000",
          "2008-02-23T00:00:00.000000000",
          "2008-03-01T00:00:00.000000000",
          "2008-03-09T00:00:00.000000000",
          "2008-03-15T00:00:00.000000000",
          "2008-03-23T00:00:00.000000000",
          "2008-03-29T00:00:00.000000000",
          "2008-04-05T00:00:00.000000000",
          "2008-04-13T00:00:00.000000000",
          "2008-04-19T00:00:00.000000000",
          "2008-04-28T00:00:00.000000000",
          "2008-05-04T00:00:00.000000000",
          "2008-05-11T00:00:00.000000000",
          "2008-08-16T00:00:00.000000000",
          "2008-08-23T00:00:00.000000000",
          "2008-08-30T00:00:00.000000000",
          "2008-09-13T00:00:00.000000000",
          "2008-09-20T00:00:00.000000000",
          "2008-09-27T00:00:00.000000000",
          "2008-10-04T00:00:00.000000000",
          "2008-10-18T00:00:00.000000000",
          "2008-10-26T00:00:00.000000000",
          "2008-10-29T00:00:00.000000000",
          "2008-11-01T00:00:00.000000000",
          "2008-11-08T00:00:00.000000000",
          "2008-11-15T00:00:00.000000000",
          "2008-11-22T00:00:00.000000000",
          "2008-11-30T00:00:00.000000000",
          "2008-12-06T00:00:00.000000000",
          "2008-12-13T00:00:00.000000000",
          "2008-12-21T00:00:00.000000000",
          "2008-12-26T00:00:00.000000000",
          "2008-12-28T00:00:00.000000000",
          "2009-01-10T00:00:00.000000000",
          "2009-01-17T00:00:00.000000000",
          "2009-01-28T00:00:00.000000000",
          "2009-01-31T00:00:00.000000000",
          "2009-02-08T00:00:00.000000000",
          "2009-02-21T00:00:00.000000000",
          "2009-02-28T00:00:00.000000000",
          "2009-03-03T00:00:00.000000000",
          "2009-03-14T00:00:00.000000000",
          "2009-03-21T00:00:00.000000000",
          "2009-04-04T00:00:00.000000000",
          "2009-04-11T00:00:00.000000000",
          "2009-04-21T00:00:00.000000000",
          "2009-04-26T00:00:00.000000000",
          "2009-05-02T00:00:00.000000000",
          "2009-05-10T00:00:00.000000000",
          "2009-05-16T00:00:00.000000000",
          "2009-05-24T00:00:00.000000000",
          "2009-08-15T00:00:00.000000000",
          "2009-08-22T00:00:00.000000000",
          "2009-08-29T00:00:00.000000000",
          "2009-09-12T00:00:00.000000000",
          "2009-09-19T00:00:00.000000000",
          "2009-09-26T00:00:00.000000000",
          "2009-10-04T00:00:00.000000000",
          "2009-10-17T00:00:00.000000000",
          "2009-10-25T00:00:00.000000000",
          "2009-10-31T00:00:00.000000000",
          "2009-11-07T00:00:00.000000000",
          "2009-11-21T00:00:00.000000000",
          "2009-11-29T00:00:00.000000000",
          "2009-12-05T00:00:00.000000000",
          "2009-12-13T00:00:00.000000000",
          "2009-12-16T00:00:00.000000000",
          "2009-12-19T00:00:00.000000000",
          "2009-12-27T00:00:00.000000000",
          "2009-12-30T00:00:00.000000000",
          "2010-01-09T00:00:00.000000000",
          "2010-01-17T00:00:00.000000000",
          "2010-01-20T00:00:00.000000000",
          "2010-01-27T00:00:00.000000000",
          "2010-01-31T00:00:00.000000000",
          "2010-02-07T00:00:00.000000000",
          "2010-02-10T00:00:00.000000000",
          "2010-02-20T00:00:00.000000000",
          "2010-02-27T00:00:00.000000000",
          "2010-03-06T00:00:00.000000000",
          "2010-03-13T00:00:00.000000000",
          "2010-03-20T00:00:00.000000000",
          "2010-03-27T00:00:00.000000000",
          "2010-04-03T00:00:00.000000000",
          "2010-04-14T00:00:00.000000000",
          "2010-04-18T00:00:00.000000000",
          "2010-04-24T00:00:00.000000000",
          "2010-05-03T00:00:00.000000000",
          "2010-05-09T00:00:00.000000000",
          "2010-08-15T00:00:00.000000000",
          "2010-08-21T00:00:00.000000000",
          "2010-08-28T00:00:00.000000000",
          "2010-09-11T00:00:00.000000000",
          "2010-09-18T00:00:00.000000000",
          "2010-09-25T00:00:00.000000000",
          "2010-10-03T00:00:00.000000000",
          "2010-10-16T00:00:00.000000000",
          "2010-10-24T00:00:00.000000000",
          "2010-10-30T00:00:00.000000000",
          "2010-11-07T00:00:00.000000000",
          "2010-11-10T00:00:00.000000000",
          "2010-11-14T00:00:00.000000000",
          "2010-11-20T00:00:00.000000000",
          "2010-11-27T00:00:00.000000000",
          "2010-12-04T00:00:00.000000000",
          "2010-12-13T00:00:00.000000000",
          "2010-12-27T00:00:00.000000000",
          "2010-12-29T00:00:00.000000000",
          "2011-01-01T00:00:00.000000000",
          "2011-01-05T00:00:00.000000000",
          "2011-01-15T00:00:00.000000000",
          "2011-01-22T00:00:00.000000000",
          "2011-02-01T00:00:00.000000000",
          "2011-02-05T00:00:00.000000000",
          "2011-02-12T00:00:00.000000000",
          "2011-02-23T00:00:00.000000000",
          "2011-03-05T00:00:00.000000000",
          "2011-03-19T00:00:00.000000000",
          "2011-04-02T00:00:00.000000000",
          "2011-04-10T00:00:00.000000000",
          "2011-04-17T00:00:00.000000000",
          "2011-04-20T00:00:00.000000000",
          "2011-04-24T00:00:00.000000000",
          "2011-05-01T00:00:00.000000000",
          "2011-05-08T00:00:00.000000000",
          "2011-05-15T00:00:00.000000000",
          "2011-05-22T00:00:00.000000000",
          "2011-08-13T00:00:00.000000000",
          "2011-08-20T00:00:00.000000000",
          "2011-08-28T00:00:00.000000000",
          "2011-09-10T00:00:00.000000000",
          "2011-09-17T00:00:00.000000000",
          "2011-09-24T00:00:00.000000000",
          "2011-10-02T00:00:00.000000000",
          "2011-10-16T00:00:00.000000000",
          "2011-10-23T00:00:00.000000000",
          "2011-10-29T00:00:00.000000000",
          "2011-11-05T00:00:00.000000000",
          "2011-11-19T00:00:00.000000000",
          "2011-11-26T00:00:00.000000000",
          "2011-12-03T00:00:00.000000000",
          "2011-12-10T00:00:00.000000000",
          "2011-12-18T00:00:00.000000000",
          "2011-12-21T00:00:00.000000000",
          "2011-12-27T00:00:00.000000000",
          "2011-12-31T00:00:00.000000000",
          "2012-01-02T00:00:00.000000000",
          "2012-01-15T00:00:00.000000000",
          "2012-01-22T00:00:00.000000000",
          "2012-02-01T00:00:00.000000000",
          "2012-02-04T00:00:00.000000000",
          "2012-02-11T00:00:00.000000000",
          "2012-02-26T00:00:00.000000000",
          "2012-03-03T00:00:00.000000000",
          "2012-03-12T00:00:00.000000000",
          "2012-03-21T00:00:00.000000000",
          "2012-03-24T00:00:00.000000000",
          "2012-03-31T00:00:00.000000000",
          "2012-04-08T00:00:00.000000000",
          "2012-04-11T00:00:00.000000000",
          "2012-04-16T00:00:00.000000000",
          "2012-04-21T00:00:00.000000000",
          "2012-04-28T00:00:00.000000000",
          "2012-05-05T00:00:00.000000000",
          "2012-05-13T00:00:00.000000000",
          "2012-08-18T00:00:00.000000000",
          "2012-08-26T00:00:00.000000000",
          "2012-09-02T00:00:00.000000000",
          "2012-09-15T00:00:00.000000000",
          "2012-09-23T00:00:00.000000000",
          "2012-09-29T00:00:00.000000000",
          "2012-10-06T00:00:00.000000000",
          "2012-10-20T00:00:00.000000000",
          "2012-10-27T00:00:00.000000000",
          "2012-11-03T00:00:00.000000000",
          "2012-11-10T00:00:00.000000000",
          "2012-11-17T00:00:00.000000000",
          "2012-11-24T00:00:00.000000000",
          "2012-11-28T00:00:00.000000000",
          "2012-12-01T00:00:00.000000000",
          "2012-12-08T00:00:00.000000000",
          "2012-12-17T00:00:00.000000000",
          "2012-12-22T00:00:00.000000000",
          "2012-12-29T00:00:00.000000000",
          "2013-01-01T00:00:00.000000000",
          "2013-01-13T00:00:00.000000000",
          "2013-01-20T00:00:00.000000000",
          "2013-01-23T00:00:00.000000000",
          "2013-01-30T00:00:00.000000000",
          "2013-02-02T00:00:00.000000000",
          "2013-02-09T00:00:00.000000000",
          "2013-02-23T00:00:00.000000000",
          "2013-03-03T00:00:00.000000000",
          "2013-03-16T00:00:00.000000000",
          "2013-03-30T00:00:00.000000000",
          "2013-04-06T00:00:00.000000000",
          "2013-04-13T00:00:00.000000000",
          "2013-04-16T00:00:00.000000000",
          "2013-04-20T00:00:00.000000000",
          "2013-04-28T00:00:00.000000000",
          "2013-05-04T00:00:00.000000000",
          "2013-05-14T00:00:00.000000000",
          "2013-05-19T00:00:00.000000000",
          "2013-08-17T00:00:00.000000000",
          "2013-08-24T00:00:00.000000000",
          "2013-09-01T00:00:00.000000000",
          "2013-09-14T00:00:00.000000000",
          "2013-09-22T00:00:00.000000000",
          "2013-09-28T00:00:00.000000000",
          "2013-10-06T00:00:00.000000000",
          "2013-10-19T00:00:00.000000000",
          "2013-10-26T00:00:00.000000000",
          "2013-11-02T00:00:00.000000000",
          "2013-11-10T00:00:00.000000000",
          "2013-11-23T00:00:00.000000000",
          "2013-11-30T00:00:00.000000000",
          "2013-12-04T00:00:00.000000000",
          "2013-12-08T00:00:00.000000000",
          "2013-12-14T00:00:00.000000000",
          "2013-12-23T00:00:00.000000000",
          "2013-12-26T00:00:00.000000000",
          "2013-12-29T00:00:00.000000000",
          "2014-01-01T00:00:00.000000000",
          "2014-01-13T00:00:00.000000000",
          "2014-01-18T00:00:00.000000000",
          "2014-01-28T00:00:00.000000000",
          "2014-02-02T00:00:00.000000000",
          "2014-02-08T00:00:00.000000000",
          "2014-02-12T00:00:00.000000000",
          "2014-02-22T00:00:00.000000000",
          "2014-03-01T00:00:00.000000000",
          "2014-03-16T00:00:00.000000000",
          "2014-03-22T00:00:00.000000000",
          "2014-03-25T00:00:00.000000000",
          "2014-03-29T00:00:00.000000000",
          "2014-04-06T00:00:00.000000000",
          "2014-04-15T00:00:00.000000000",
          "2014-04-20T00:00:00.000000000",
          "2014-04-28T00:00:00.000000000",
          "2014-05-04T00:00:00.000000000",
          "2014-05-11T00:00:00.000000000",
          "2014-08-16T00:00:00.000000000",
          "2014-08-23T00:00:00.000000000",
          "2014-08-31T00:00:00.000000000",
          "2014-09-13T00:00:00.000000000",
          "2014-09-20T00:00:00.000000000",
          "2014-09-27T00:00:00.000000000",
          "2014-10-05T00:00:00.000000000",
          "2014-10-18T00:00:00.000000000",
          "2014-10-25T00:00:00.000000000",
          "2014-11-01T00:00:00.000000000",
          "2014-11-09T00:00:00.000000000",
          "2014-11-22T00:00:00.000000000",
          "2014-11-29T00:00:00.000000000",
          "2014-12-03T00:00:00.000000000",
          "2014-12-06T00:00:00.000000000",
          "2014-12-13T00:00:00.000000000",
          "2014-12-21T00:00:00.000000000",
          "2014-12-26T00:00:00.000000000",
          "2014-12-28T00:00:00.000000000",
          "2015-01-01T00:00:00.000000000",
          "2015-01-11T00:00:00.000000000",
          "2015-01-18T00:00:00.000000000",
          "2015-02-01T00:00:00.000000000",
          "2015-02-07T00:00:00.000000000",
          "2015-02-10T00:00:00.000000000",
          "2015-02-21T00:00:00.000000000",
          "2015-03-01T00:00:00.000000000",
          "2015-03-04T00:00:00.000000000",
          "2015-03-14T00:00:00.000000000",
          "2015-03-21T00:00:00.000000000",
          "2015-04-04T00:00:00.000000000",
          "2015-04-11T00:00:00.000000000",
          "2015-04-26T00:00:00.000000000",
          "2015-05-04T00:00:00.000000000",
          "2015-05-11T00:00:00.000000000",
          "2015-05-17T00:00:00.000000000",
          "2015-05-20T00:00:00.000000000",
          "2015-05-24T00:00:00.000000000",
          "2015-08-09T00:00:00.000000000",
          "2015-08-16T00:00:00.000000000",
          "2015-08-24T00:00:00.000000000",
          "2015-08-29T00:00:00.000000000",
          "2015-09-12T00:00:00.000000000",
          "2015-09-19T00:00:00.000000000",
          "2015-09-26T00:00:00.000000000",
          "2015-10-04T00:00:00.000000000",
          "2015-10-17T00:00:00.000000000",
          "2015-10-24T00:00:00.000000000",
          "2015-10-31T00:00:00.000000000",
          "2015-11-08T00:00:00.000000000",
          "2015-11-21T00:00:00.000000000",
          "2015-11-29T00:00:00.000000000",
          "2015-12-05T00:00:00.000000000",
          "2015-12-13T00:00:00.000000000",
          "2015-12-21T00:00:00.000000000",
          "2015-12-26T00:00:00.000000000",
          "2015-12-28T00:00:00.000000000",
          "2016-01-02T00:00:00.000000000",
          "2016-01-13T00:00:00.000000000",
          "2016-01-17T00:00:00.000000000",
          "2016-01-24T00:00:00.000000000",
          "2016-02-02T00:00:00.000000000",
          "2016-02-07T00:00:00.000000000",
          "2016-02-14T00:00:00.000000000",
          "2016-02-28T00:00:00.000000000",
          "2016-03-02T00:00:00.000000000",
          "2016-03-05T00:00:00.000000000",
          "2016-03-19T00:00:00.000000000",
          "2016-04-02T00:00:00.000000000",
          "2016-04-09T00:00:00.000000000",
          "2016-04-17T00:00:00.000000000",
          "2016-04-21T00:00:00.000000000",
          "2016-04-24T00:00:00.000000000",
          "2016-04-30T00:00:00.000000000",
          "2016-05-08T00:00:00.000000000",
          "2016-05-15T00:00:00.000000000",
          "2016-08-14T00:00:00.000000000",
          "2016-08-20T00:00:00.000000000",
          "2016-08-27T00:00:00.000000000",
          "2016-09-10T00:00:00.000000000",
          "2016-09-17T00:00:00.000000000",
          "2016-09-24T00:00:00.000000000",
          "2016-10-02T00:00:00.000000000",
          "2016-10-15T00:00:00.000000000",
          "2016-10-22T00:00:00.000000000",
          "2016-10-29T00:00:00.000000000",
          "2016-11-06T00:00:00.000000000",
          "2016-11-19T00:00:00.000000000",
          "2016-11-27T00:00:00.000000000",
          "2016-12-03T00:00:00.000000000",
          "2016-12-10T00:00:00.000000000",
          "2016-12-13T00:00:00.000000000",
          "2016-12-18T00:00:00.000000000",
          "2016-12-26T00:00:00.000000000",
          "2017-01-01T00:00:00.000000000",
          "2017-01-03T00:00:00.000000000",
          "2017-01-14T00:00:00.000000000",
          "2017-01-22T00:00:00.000000000",
          "2017-01-31T00:00:00.000000000",
          "2017-02-04T00:00:00.000000000",
          "2017-02-11T00:00:00.000000000",
          "2017-03-04T00:00:00.000000000",
          "2017-03-18T00:00:00.000000000",
          "2017-04-02T00:00:00.000000000",
          "2017-04-05T00:00:00.000000000",
          "2017-04-10T00:00:00.000000000",
          "2017-04-17T00:00:00.000000000",
          "2017-04-26T00:00:00.000000000",
          "2017-04-30T00:00:00.000000000",
          "2017-05-07T00:00:00.000000000",
          "2017-05-10T00:00:00.000000000",
          "2017-05-13T00:00:00.000000000",
          "2017-05-16T00:00:00.000000000",
          "2017-05-21T00:00:00.000000000",
          "2017-08-11T00:00:00.000000000",
          "2017-08-19T00:00:00.000000000",
          "2017-08-27T00:00:00.000000000",
          "2017-09-09T00:00:00.000000000",
          "2017-09-17T00:00:00.000000000",
          "2017-09-25T00:00:00.000000000",
          "2017-10-01T00:00:00.000000000",
          "2017-10-14T00:00:00.000000000",
          "2017-10-22T00:00:00.000000000",
          "2017-10-28T00:00:00.000000000",
          "2017-11-05T00:00:00.000000000",
          "2017-11-18T00:00:00.000000000",
          "2017-11-26T00:00:00.000000000",
          "2017-11-29T00:00:00.000000000",
          "2017-12-02T00:00:00.000000000",
          "2017-12-10T00:00:00.000000000",
          "2017-12-13T00:00:00.000000000",
          "2017-12-16T00:00:00.000000000",
          "2017-12-22T00:00:00.000000000",
          "2017-12-28T00:00:00.000000000",
          "2017-12-31T00:00:00.000000000",
          "2018-01-03T00:00:00.000000000",
          "2018-01-14T00:00:00.000000000",
          "2018-01-20T00:00:00.000000000",
          "2018-01-30T00:00:00.000000000",
          "2018-02-03T00:00:00.000000000",
          "2018-02-10T00:00:00.000000000",
          "2018-03-01T00:00:00.000000000",
          "2018-03-04T00:00:00.000000000",
          "2018-03-11T00:00:00.000000000",
          "2018-04-01T00:00:00.000000000",
          "2018-04-08T00:00:00.000000000",
          "2018-04-15T00:00:00.000000000",
          "2018-04-22T00:00:00.000000000",
          "2018-04-29T00:00:00.000000000",
          "2018-05-06T00:00:00.000000000",
          "2018-05-09T00:00:00.000000000",
          "2018-05-13T00:00:00.000000000",
          "2018-08-12T00:00:00.000000000",
          "2018-08-18T00:00:00.000000000",
          "2018-08-25T00:00:00.000000000",
          "2018-09-02T00:00:00.000000000",
          "2018-09-15T00:00:00.000000000",
          "2018-09-23T00:00:00.000000000",
          "2018-09-29T00:00:00.000000000",
          "2018-10-07T00:00:00.000000000",
          "2018-10-22T00:00:00.000000000",
          "2018-10-28T00:00:00.000000000",
          "2018-11-03T00:00:00.000000000",
          "2018-11-11T00:00:00.000000000",
          "2018-11-25T00:00:00.000000000",
          "2018-12-02T00:00:00.000000000",
          "2018-12-05T00:00:00.000000000",
          "2018-12-08T00:00:00.000000000",
          "2018-12-16T00:00:00.000000000",
          "2018-12-22T00:00:00.000000000",
          "2018-12-26T00:00:00.000000000",
          "2018-12-29T00:00:00.000000000",
          "2019-01-01T00:00:00.000000000",
          "2019-01-12T00:00:00.000000000",
          "2019-01-19T00:00:00.000000000",
          "2019-01-29T00:00:00.000000000",
          "2019-02-03T00:00:00.000000000",
          "2019-02-09T00:00:00.000000000",
          "2019-02-24T00:00:00.000000000",
          "2019-02-27T00:00:00.000000000",
          "2019-03-02T00:00:00.000000000",
          "2019-03-10T00:00:00.000000000",
          "2019-04-01T00:00:00.000000000",
          "2019-04-07T00:00:00.000000000",
          "2019-04-15T00:00:00.000000000",
          "2019-04-21T00:00:00.000000000",
          "2019-04-24T00:00:00.000000000",
          "2019-04-28T00:00:00.000000000",
          "2019-05-05T00:00:00.000000000",
          "2019-05-12T00:00:00.000000000",
          "2019-08-11T00:00:00.000000000",
          "2019-08-17T00:00:00.000000000",
          "2019-08-24T00:00:00.000000000",
          "2019-09-01T00:00:00.000000000",
          "2019-09-15T00:00:00.000000000",
          "2019-09-22T00:00:00.000000000",
          "2019-09-30T00:00:00.000000000",
          "2019-10-06T00:00:00.000000000",
          "2019-10-21T00:00:00.000000000",
          "2019-10-27T00:00:00.000000000",
          "2019-11-02T00:00:00.000000000",
          "2019-11-09T00:00:00.000000000",
          "2019-11-23T00:00:00.000000000",
          "2019-12-01T00:00:00.000000000",
          "2019-12-05T00:00:00.000000000",
          "2019-12-09T00:00:00.000000000",
          "2019-12-15T00:00:00.000000000",
          "2019-12-21T00:00:00.000000000",
          "2019-12-26T00:00:00.000000000",
          "2019-12-29T00:00:00.000000000",
          "2020-01-01T00:00:00.000000000",
          "2020-01-11T00:00:00.000000000",
          "2020-01-18T00:00:00.000000000",
          "2020-01-21T00:00:00.000000000",
          "2020-02-02T00:00:00.000000000",
          "2020-02-16T00:00:00.000000000",
          "2020-02-23T00:00:00.000000000",
          "2020-03-07T00:00:00.000000000",
          "2020-06-17T00:00:00.000000000",
          "2020-06-20T00:00:00.000000000",
          "2020-06-25T00:00:00.000000000",
          "2020-07-01T00:00:00.000000000",
          "2020-07-04T00:00:00.000000000",
          "2020-07-07T00:00:00.000000000",
          "2020-07-12T00:00:00.000000000",
          "2020-07-15T00:00:00.000000000",
          "2020-07-21T00:00:00.000000000",
          "2020-07-26T00:00:00.000000000",
          "2020-09-12T00:00:00.000000000",
          "2020-09-19T00:00:00.000000000",
          "2020-09-28T00:00:00.000000000",
          "2020-10-04T00:00:00.000000000",
          "2020-10-17T00:00:00.000000000",
          "2020-10-25T00:00:00.000000000",
          "2020-11-01T00:00:00.000000000",
          "2020-11-08T00:00:00.000000000",
          "2020-11-22T00:00:00.000000000",
          "2020-11-29T00:00:00.000000000",
          "2020-12-06T00:00:00.000000000",
          "2020-12-13T00:00:00.000000000",
          "2020-12-16T00:00:00.000000000",
          "2020-12-19T00:00:00.000000000",
          "2020-12-26T00:00:00.000000000",
          "2020-12-29T00:00:00.000000000",
          "2021-01-02T00:00:00.000000000",
          "2021-01-14T00:00:00.000000000",
          "2021-01-18T00:00:00.000000000",
          "2021-01-26T00:00:00.000000000",
          "2021-01-30T00:00:00.000000000",
          "2021-02-02T00:00:00.000000000",
          "2021-02-06T00:00:00.000000000",
          "2021-02-14T00:00:00.000000000",
          "2021-02-21T00:00:00.000000000",
          "2021-02-28T00:00:00.000000000",
          "2021-03-06T00:00:00.000000000",
          "2021-03-14T00:00:00.000000000",
          "2021-03-21T00:00:00.000000000",
          "2021-04-03T00:00:00.000000000",
          "2021-04-11T00:00:00.000000000",
          "2021-04-18T00:00:00.000000000",
          "2021-04-23T00:00:00.000000000",
          "2021-05-02T00:00:00.000000000",
          "2021-05-09T00:00:00.000000000",
          "2021-05-12T00:00:00.000000000",
          "2021-05-19T00:00:00.000000000",
          "2021-05-23T00:00:00.000000000",
          "2021-08-13T00:00:00.000000000",
          "2021-08-22T00:00:00.000000000",
          "2021-08-28T00:00:00.000000000",
          "2021-09-11T00:00:00.000000000",
          "2021-09-18T00:00:00.000000000",
          "2021-09-26T00:00:00.000000000",
          "2021-10-02T00:00:00.000000000",
          "2021-10-18T00:00:00.000000000",
          "2021-10-22T00:00:00.000000000",
          "2021-10-30T00:00:00.000000000",
          "2021-11-07T00:00:00.000000000",
          "2021-11-20T00:00:00.000000000",
          "2021-11-27T00:00:00.000000000",
          "2021-12-02T00:00:00.000000000",
          "2021-12-06T00:00:00.000000000",
          "2021-12-11T00:00:00.000000000",
          "2021-12-15T00:00:00.000000000",
          "2021-12-18T00:00:00.000000000",
          "2021-12-26T00:00:00.000000000",
          "2022-01-01T00:00:00.000000000",
          "2022-01-23T00:00:00.000000000",
          "2022-02-10T00:00:00.000000000",
          "2022-02-19T00:00:00.000000000",
          "2022-02-24T00:00:00.000000000",
          "2022-03-06T00:00:00.000000000",
          "2022-03-13T00:00:00.000000000",
          "2022-03-16T00:00:00.000000000",
          "2022-03-19T00:00:00.000000000",
          "2022-04-04T00:00:00.000000000",
          "2022-04-09T00:00:00.000000000",
          "2022-04-16T00:00:00.000000000",
          "2022-04-20T00:00:00.000000000",
          "2022-04-23T00:00:00.000000000",
          "2022-05-01T00:00:00.000000000",
          "2022-05-08T00:00:00.000000000",
          "2022-05-12T00:00:00.000000000",
          "2022-05-16T00:00:00.000000000",
          "2022-05-22T00:00:00.000000000",
          "2022-08-05T00:00:00.000000000",
          "2022-08-13T00:00:00.000000000",
          "2022-08-20T00:00:00.000000000",
          "2022-08-27T00:00:00.000000000",
          "2022-08-31T00:00:00.000000000",
          "2022-09-04T00:00:00.000000000",
          "2022-09-18T00:00:00.000000000",
          "2022-10-01T00:00:00.000000000",
          "2022-10-09T00:00:00.000000000",
          "2022-10-16T00:00:00.000000000",
          "2022-10-23T00:00:00.000000000",
          "2022-10-30T00:00:00.000000000",
          "2022-11-06T00:00:00.000000000",
          "2022-11-12T00:00:00.000000000",
          "2022-12-26T00:00:00.000000000",
          "2022-12-31T00:00:00.000000000",
          "2023-01-03T00:00:00.000000000",
          "2023-01-15T00:00:00.000000000",
          "2023-01-22T00:00:00.000000000",
          "2023-02-04T00:00:00.000000000",
          "2023-02-11T00:00:00.000000000",
          "2023-02-15T00:00:00.000000000",
          "2023-02-18T00:00:00.000000000",
          "2023-02-25T00:00:00.000000000",
          "2023-03-01T00:00:00.000000000",
          "2023-03-04T00:00:00.000000000",
          "2023-03-12T00:00:00.000000000",
          "2023-03-19T00:00:00.000000000",
          "2023-04-01T00:00:00.000000000",
          "2023-04-09T00:00:00.000000000",
          "2023-04-16T00:00:00.000000000",
          "2023-04-21T00:00:00.000000000",
          "2023-04-26T00:00:00.000000000",
          "2023-05-02T00:00:00.000000000",
          "2023-05-07T00:00:00.000000000",
          "2023-05-14T00:00:00.000000000",
          "2023-05-20T00:00:00.000000000",
          "2023-05-28T00:00:00.000000000",
          "2023-08-12T00:00:00.000000000",
          "2023-08-21T00:00:00.000000000",
          "2023-08-26T00:00:00.000000000",
          "2023-09-03T00:00:00.000000000",
          "2023-09-17T00:00:00.000000000",
          "2023-09-24T00:00:00.000000000",
          "2023-09-30T00:00:00.000000000",
          "2023-10-08T00:00:00.000000000",
          "2023-10-21T00:00:00.000000000",
          "2023-10-28T00:00:00.000000000",
          "2023-11-04T00:00:00.000000000",
          "2023-11-11T00:00:00.000000000",
          "2023-11-25T00:00:00.000000000",
          "2023-12-02T00:00:00.000000000",
          "2023-12-05T00:00:00.000000000",
          "2023-12-09T00:00:00.000000000",
          "2023-12-17T00:00:00.000000000",
          "2023-12-23T00:00:00.000000000",
          "2023-12-28T00:00:00.000000000",
          "2023-12-31T00:00:00.000000000",
          "2024-01-20T00:00:00.000000000",
          "2024-01-30T00:00:00.000000000",
          "2024-02-04T00:00:00.000000000",
          "2024-02-11T00:00:00.000000000",
          "2024-02-17T00:00:00.000000000",
          "2024-02-24T00:00:00.000000000",
          "2024-03-04T00:00:00.000000000",
          "2024-03-09T00:00:00.000000000",
          "2024-03-31T00:00:00.000000000",
          "2024-04-03T00:00:00.000000000",
          "2024-04-06T00:00:00.000000000",
          "2024-04-14T00:00:00.000000000",
          "2024-04-20T00:00:00.000000000",
          "2024-04-23T00:00:00.000000000",
          "2024-04-28T00:00:00.000000000",
          "2024-05-04T00:00:00.000000000",
          "2024-05-12T00:00:00.000000000",
          "2024-05-19T00:00:00.000000000",
          "2024-08-17T00:00:00.000000000",
          "2024-08-24T00:00:00.000000000",
          "2024-08-31T00:00:00.000000000",
          "2024-09-15T00:00:00.000000000",
          "2024-09-22T00:00:00.000000000",
          "2024-09-28T00:00:00.000000000",
          "2024-10-05T00:00:00.000000000",
          "2024-10-19T00:00:00.000000000",
          "2024-10-27T00:00:00.000000000",
          "2024-11-02T00:00:00.000000000",
          "2024-11-10T00:00:00.000000000",
          "2024-11-23T00:00:00.000000000",
          "2024-11-30T00:00:00.000000000",
          "2024-12-04T00:00:00.000000000",
          "2024-12-08T00:00:00.000000000",
          "2024-12-14T00:00:00.000000000",
          "2024-12-21T00:00:00.000000000",
          "2024-12-27T00:00:00.000000000",
          "2025-01-01T00:00:00.000000000",
          "2025-01-04T00:00:00.000000000",
          "2025-01-15T00:00:00.000000000",
          "2025-01-18T00:00:00.000000000",
          "2025-01-25T00:00:00.000000000",
          "2025-02-02T00:00:00.000000000",
          "2025-02-15T00:00:00.000000000",
          "2025-02-22T00:00:00.000000000",
          "2025-02-26T00:00:00.000000000",
          "2025-03-09T00:00:00.000000000",
          "2025-03-16T00:00:00.000000000",
          "2025-04-01T00:00:00.000000000",
          "2025-04-05T00:00:00.000000000",
          "2025-04-12T00:00:00.000000000",
          "2025-04-20T00:00:00.000000000",
          "2025-04-23T00:00:00.000000000",
          "2025-05-03T00:00:00.000000000",
          "2025-05-11T00:00:00.000000000",
          "2025-05-18T00:00:00.000000000",
          "2025-05-25T00:00:00.000000000"
         ],
         "y": {
          "bdata": "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",
          "dtype": "f8"
         }
        },
        {
         "line": {
          "color": "black"
         },
         "mode": "lines",
         "name": "Man United",
         "type": "scatter",
         "x": [
          "1993-08-15T00:00:00.000000000",
          "1993-08-18T00:00:00.000000000",
          "1993-08-21T00:00:00.000000000",
          "1993-08-23T00:00:00.000000000",
          "1993-08-28T00:00:00.000000000",
          "1993-09-01T00:00:00.000000000",
          "1993-09-11T00:00:00.000000000",
          "1993-09-19T00:00:00.000000000",
          "1993-09-25T00:00:00.000000000",
          "1993-10-02T00:00:00.000000000",
          "1993-10-16T00:00:00.000000000",
          "1993-10-23T00:00:00.000000000",
          "1993-10-30T00:00:00.000000000",
          "1993-11-07T00:00:00.000000000",
          "1993-11-20T00:00:00.000000000",
          "1993-11-24T00:00:00.000000000",
          "1993-11-27T00:00:00.000000000",
          "1993-12-04T00:00:00.000000000",
          "1993-12-07T00:00:00.000000000",
          "1993-12-11T00:00:00.000000000",
          "1993-12-19T00:00:00.000000000",
          "1993-12-26T00:00:00.000000000",
          "1993-12-29T00:00:00.000000000",
          "1994-01-01T00:00:00.000000000",
          "1994-01-04T00:00:00.000000000",
          "1994-01-15T00:00:00.000000000",
          "1994-01-22T00:00:00.000000000",
          "1994-02-05T00:00:00.000000000",
          "1994-02-26T00:00:00.000000000",
          "1994-03-05T00:00:00.000000000",
          "1994-03-16T00:00:00.000000000",
          "1994-03-19T00:00:00.000000000",
          "1994-03-22T00:00:00.000000000",
          "1994-03-30T00:00:00.000000000",
          "1994-04-02T00:00:00.000000000",
          "1994-08-20T00:00:00.000000000",
          "1994-08-22T00:00:00.000000000",
          "1994-08-27T00:00:00.000000000",
          "1994-08-31T00:00:00.000000000",
          "1994-09-11T00:00:00.000000000",
          "1994-09-17T00:00:00.000000000",
          "1994-09-24T00:00:00.000000000",
          "1994-10-01T00:00:00.000000000",
          "1994-10-08T00:00:00.000000000",
          "1994-10-15T00:00:00.000000000",
          "1994-10-23T00:00:00.000000000",
          "1994-10-29T00:00:00.000000000",
          "1994-11-06T00:00:00.000000000",
          "1994-11-10T00:00:00.000000000",
          "1994-11-19T00:00:00.000000000",
          "1994-11-26T00:00:00.000000000",
          "1994-12-03T00:00:00.000000000",
          "1994-12-10T00:00:00.000000000",
          "1994-12-17T00:00:00.000000000",
          "1994-12-26T00:00:00.000000000",
          "1994-12-28T00:00:00.000000000",
          "1994-12-31T00:00:00.000000000",
          "1995-01-03T00:00:00.000000000",
          "1995-01-15T00:00:00.000000000",
          "1995-01-22T00:00:00.000000000",
          "1995-01-25T00:00:00.000000000",
          "1995-02-04T00:00:00.000000000",
          "1995-02-11T00:00:00.000000000",
          "1995-02-22T00:00:00.000000000",
          "1995-02-25T00:00:00.000000000",
          "1995-03-04T00:00:00.000000000",
          "1995-03-07T00:00:00.000000000",
          "1995-03-15T00:00:00.000000000",
          "1995-03-19T00:00:00.000000000",
          "1995-03-22T00:00:00.000000000",
          "1995-04-02T00:00:00.000000000",
          "1995-08-19T00:00:00.000000000",
          "1995-08-23T00:00:00.000000000",
          "1995-08-26T00:00:00.000000000",
          "1995-08-28T00:00:00.000000000",
          "1995-09-09T00:00:00.000000000",
          "1995-09-16T00:00:00.000000000",
          "1995-09-23T00:00:00.000000000",
          "1995-10-01T00:00:00.000000000",
          "1995-10-14T00:00:00.000000000",
          "1995-10-21T00:00:00.000000000",
          "1995-10-28T00:00:00.000000000",
          "1995-11-04T00:00:00.000000000",
          "1995-11-18T00:00:00.000000000",
          "1995-11-22T00:00:00.000000000",
          "1995-11-27T00:00:00.000000000",
          "1995-12-02T00:00:00.000000000",
          "1995-12-09T00:00:00.000000000",
          "1995-12-17T00:00:00.000000000",
          "1995-12-24T00:00:00.000000000",
          "1995-12-27T00:00:00.000000000",
          "1995-12-30T00:00:00.000000000",
          "1996-01-01T00:00:00.000000000",
          "1996-01-13T00:00:00.000000000",
          "1996-01-23T00:00:00.000000000",
          "1996-02-03T00:00:00.000000000",
          "1996-02-10T00:00:00.000000000",
          "1996-02-21T00:00:00.000000000",
          "1996-02-25T00:00:00.000000000",
          "1996-03-04T00:00:00.000000000",
          "1996-03-16T00:00:00.000000000",
          "1996-03-20T00:00:00.000000000",
          "1996-03-24T00:00:00.000000000",
          "1996-04-06T00:00:00.000000000",
          "1996-04-08T00:00:00.000000000",
          "1996-04-13T00:00:00.000000000",
          "1996-04-17T00:00:00.000000000",
          "1996-04-28T00:00:00.000000000",
          "1996-05-04T00:00:00.000000000",
          "1996-08-17T00:00:00.000000000",
          "1996-08-21T00:00:00.000000000",
          "1996-08-25T00:00:00.000000000",
          "1996-09-04T00:00:00.000000000",
          "1996-09-07T00:00:00.000000000",
          "1996-09-14T00:00:00.000000000",
          "1996-09-21T00:00:00.000000000",
          "1996-09-29T00:00:00.000000000",
          "1996-10-12T00:00:00.000000000",
          "1996-10-20T00:00:00.000000000",
          "1996-10-26T00:00:00.000000000",
          "1996-11-02T00:00:00.000000000",
          "1996-11-16T00:00:00.000000000",
          "1996-11-23T00:00:00.000000000",
          "1996-11-30T00:00:00.000000000",
          "1996-12-08T00:00:00.000000000",
          "1996-12-18T00:00:00.000000000",
          "1996-12-21T00:00:00.000000000",
          "1996-12-26T00:00:00.000000000",
          "1996-12-28T00:00:00.000000000",
          "1997-01-01T00:00:00.000000000",
          "1997-01-12T00:00:00.000000000",
          "1997-01-18T00:00:00.000000000",
          "1997-01-29T00:00:00.000000000",
          "1997-02-01T00:00:00.000000000",
          "1997-02-19T00:00:00.000000000",
          "1997-02-22T00:00:00.000000000",
          "1997-03-01T00:00:00.000000000",
          "1997-03-08T00:00:00.000000000",
          "1997-03-15T00:00:00.000000000",
          "1997-03-22T00:00:00.000000000",
          "1997-04-05T00:00:00.000000000",
          "1997-04-12T00:00:00.000000000",
          "1997-04-19T00:00:00.000000000",
          "1997-05-03T00:00:00.000000000",
          "1997-05-05T00:00:00.000000000",
          "1997-05-08T00:00:00.000000000",
          "1997-05-11T00:00:00.000000000",
          "1997-08-10T00:00:00.000000000",
          "1997-08-13T00:00:00.000000000",
          "1997-08-23T00:00:00.000000000",
          "1997-08-27T00:00:00.000000000",
          "1997-08-30T00:00:00.000000000",
          "1997-09-13T00:00:00.000000000",
          "1997-09-20T00:00:00.000000000",
          "1997-09-24T00:00:00.000000000",
          "1997-09-27T00:00:00.000000000",
          "1997-10-04T00:00:00.000000000",
          "1997-10-18T00:00:00.000000000",
          "1997-10-25T00:00:00.000000000",
          "1997-11-01T00:00:00.000000000",
          "1997-11-09T00:00:00.000000000",
          "1997-11-22T00:00:00.000000000",
          "1997-11-30T00:00:00.000000000",
          "1997-12-06T00:00:00.000000000",
          "1997-12-15T00:00:00.000000000",
          "1997-12-21T00:00:00.000000000",
          "1997-12-26T00:00:00.000000000",
          "1997-12-28T00:00:00.000000000",
          "1998-01-10T00:00:00.000000000",
          "1998-01-19T00:00:00.000000000",
          "1998-01-31T00:00:00.000000000",
          "1998-02-07T00:00:00.000000000",
          "1998-02-18T00:00:00.000000000",
          "1998-02-21T00:00:00.000000000",
          "1998-02-28T00:00:00.000000000",
          "1998-03-07T00:00:00.000000000",
          "1998-03-11T00:00:00.000000000",
          "1998-03-14T00:00:00.000000000",
          "1998-03-28T00:00:00.000000000",
          "1998-04-06T00:00:00.000000000",
          "1998-04-10T00:00:00.000000000",
          "1998-04-18T00:00:00.000000000",
          "1998-04-27T00:00:00.000000000",
          "1998-05-04T00:00:00.000000000",
          "1998-05-10T00:00:00.000000000",
          "1998-08-15T00:00:00.000000000",
          "1998-08-22T00:00:00.000000000",
          "1998-09-09T00:00:00.000000000",
          "1998-09-12T00:00:00.000000000",
          "1998-09-20T00:00:00.000000000",
          "1998-09-24T00:00:00.000000000",
          "1998-10-03T00:00:00.000000000",
          "1998-10-17T00:00:00.000000000",
          "1998-10-24T00:00:00.000000000",
          "1998-10-31T00:00:00.000000000",
          "1998-11-08T00:00:00.000000000",
          "1998-11-14T00:00:00.000000000",
          "1998-11-21T00:00:00.000000000",
          "1998-11-29T00:00:00.000000000",
          "1998-12-05T00:00:00.000000000",
          "1998-12-12T00:00:00.000000000",
          "1998-12-16T00:00:00.000000000",
          "1998-12-19T00:00:00.000000000",
          "1998-12-26T00:00:00.000000000",
          "1998-12-29T00:00:00.000000000",
          "1999-01-10T00:00:00.000000000",
          "1999-01-16T00:00:00.000000000",
          "1999-01-31T00:00:00.000000000",
          "1999-02-02T00:00:00.000000000",
          "1999-02-06T00:00:00.000000000",
          "1999-02-17T00:00:00.000000000",
          "1999-02-20T00:00:00.000000000",
          "1999-02-27T00:00:00.000000000",
          "1999-03-13T00:00:00.000000000",
          "1999-03-21T00:00:00.000000000",
          "1999-04-03T00:00:00.000000000",
          "1999-04-17T00:00:00.000000000",
          "1999-04-25T00:00:00.000000000",
          "1999-05-01T00:00:00.000000000",
          "1999-05-05T00:00:00.000000000",
          "1999-05-09T00:00:00.000000000",
          "1999-05-12T00:00:00.000000000",
          "1999-05-16T00:00:00.000000000",
          "1999-08-08T00:00:00.000000000",
          "1999-08-11T00:00:00.000000000",
          "1999-08-14T00:00:00.000000000",
          "1999-08-22T00:00:00.000000000",
          "1999-08-25T00:00:00.000000000",
          "1999-08-30T00:00:00.000000000",
          "1999-09-11T00:00:00.000000000",
          "1999-09-18T00:00:00.000000000",
          "1999-09-25T00:00:00.000000000",
          "1999-10-03T00:00:00.000000000",
          "1999-10-16T00:00:00.000000000",
          "1999-10-23T00:00:00.000000000",
          "1999-10-30T00:00:00.000000000",
          "1999-11-06T00:00:00.000000000",
          "1999-11-20T00:00:00.000000000",
          "1999-12-04T00:00:00.000000000",
          "1999-12-18T00:00:00.000000000",
          "1999-12-26T00:00:00.000000000",
          "1999-12-28T00:00:00.000000000",
          "2000-01-24T00:00:00.000000000",
          "2000-01-29T00:00:00.000000000",
          "2000-02-02T00:00:00.000000000",
          "2000-02-05T00:00:00.000000000",
          "2000-02-12T00:00:00.000000000",
          "2000-02-20T00:00:00.000000000",
          "2000-02-26T00:00:00.000000000",
          "2000-03-04T00:00:00.000000000",
          "2000-03-11T00:00:00.000000000",
          "2000-03-18T00:00:00.000000000",
          "2000-03-25T00:00:00.000000000",
          "2000-04-01T00:00:00.000000000",
          "2000-04-10T00:00:00.000000000",
          "2000-04-15T00:00:00.000000000",
          "2000-04-22T00:00:00.000000000",
          "2000-04-24T00:00:00.000000000",
          "2000-04-29T00:00:00.000000000",
          "2000-05-06T00:00:00.000000000",
          "2000-05-14T00:00:00.000000000",
          "2000-08-20T00:00:00.000000000",
          "2000-08-22T00:00:00.000000000",
          "2000-08-26T00:00:00.000000000",
          "2000-09-05T00:00:00.000000000",
          "2000-09-09T00:00:00.000000000",
          "2000-09-16T00:00:00.000000000",
          "2000-09-23T00:00:00.000000000",
          "2000-10-01T00:00:00.000000000",
          "2000-10-14T00:00:00.000000000",
          "2000-10-21T00:00:00.000000000",
          "2000-10-28T00:00:00.000000000",
          "2000-11-04T00:00:00.000000000",
          "2000-11-11T00:00:00.000000000",
          "2000-11-18T00:00:00.000000000",
          "2000-11-25T00:00:00.000000000",
          "2000-12-02T00:00:00.000000000",
          "2000-12-09T00:00:00.000000000",
          "2000-12-17T00:00:00.000000000",
          "2000-12-23T00:00:00.000000000",
          "2000-12-26T00:00:00.000000000",
          "2000-12-30T00:00:00.000000000",
          "2001-01-01T00:00:00.000000000",
          "2001-01-13T00:00:00.000000000",
          "2001-01-20T00:00:00.000000000",
          "2001-01-31T00:00:00.000000000",
          "2001-02-03T00:00:00.000000000",
          "2001-02-10T00:00:00.000000000",
          "2001-02-25T00:00:00.000000000",
          "2001-03-03T00:00:00.000000000",
          "2001-03-17T00:00:00.000000000",
          "2001-03-31T00:00:00.000000000",
          "2001-04-10T00:00:00.000000000",
          "2001-04-14T00:00:00.000000000",
          "2001-04-21T00:00:00.000000000",
          "2001-04-28T00:00:00.000000000",
          "2001-05-05T00:00:00.000000000",
          "2001-05-13T00:00:00.000000000",
          "2001-05-19T00:00:00.000000000",
          "2001-08-19T00:00:00.000000000",
          "2001-08-22T00:00:00.000000000",
          "2001-08-26T00:00:00.000000000",
          "2001-09-08T00:00:00.000000000",
          "2001-09-15T00:00:00.000000000",
          "2001-09-22T00:00:00.000000000",
          "2001-09-29T00:00:00.000000000",
          "2001-10-13T00:00:00.000000000",
          "2001-10-20T00:00:00.000000000",
          "2001-10-27T00:00:00.000000000",
          "2001-11-04T00:00:00.000000000",
          "2001-11-17T00:00:00.000000000",
          "2001-11-25T00:00:00.000000000",
          "2001-12-01T00:00:00.000000000",
          "2001-12-08T00:00:00.000000000",
          "2001-12-12T00:00:00.000000000",
          "2001-12-15T00:00:00.000000000",
          "2001-12-22T00:00:00.000000000",
          "2001-12-26T00:00:00.000000000",
          "2001-12-30T00:00:00.000000000",
          "2002-01-02T00:00:00.000000000",
          "2002-01-13T00:00:00.000000000",
          "2002-01-19T00:00:00.000000000",
          "2002-01-22T00:00:00.000000000",
          "2002-01-29T00:00:00.000000000",
          "2002-02-02T00:00:00.000000000",
          "2002-02-10T00:00:00.000000000",
          "2002-02-23T00:00:00.000000000",
          "2002-03-03T00:00:00.000000000",
          "2002-03-06T00:00:00.000000000",
          "2002-03-16T00:00:00.000000000",
          "2002-03-23T00:00:00.000000000",
          "2002-03-30T00:00:00.000000000",
          "2002-04-06T00:00:00.000000000",
          "2002-04-20T00:00:00.000000000",
          "2002-04-27T00:00:00.000000000",
          "2002-05-08T00:00:00.000000000",
          "2002-05-11T00:00:00.000000000",
          "2002-08-17T00:00:00.000000000",
          "2002-08-23T00:00:00.000000000",
          "2002-08-31T00:00:00.000000000",
          "2002-09-03T00:00:00.000000000",
          "2002-09-11T00:00:00.000000000",
          "2002-09-14T00:00:00.000000000",
          "2002-09-21T00:00:00.000000000",
          "2002-09-28T00:00:00.000000000",
          "2002-10-07T00:00:00.000000000",
          "2002-10-19T00:00:00.000000000",
          "2002-10-26T00:00:00.000000000",
          "2002-11-02T00:00:00.000000000",
          "2002-11-09T00:00:00.000000000",
          "2002-11-17T00:00:00.000000000",
          "2002-11-23T00:00:00.000000000",
          "2002-12-01T00:00:00.000000000",
          "2002-12-07T00:00:00.000000000",
          "2002-12-14T00:00:00.000000000",
          "2002-12-22T00:00:00.000000000",
          "2002-12-26T00:00:00.000000000",
          "2002-12-28T00:00:00.000000000",
          "2003-01-01T00:00:00.000000000",
          "2003-01-11T00:00:00.000000000",
          "2003-01-18T00:00:00.000000000",
          "2003-02-01T00:00:00.000000000",
          "2003-02-04T00:00:00.000000000",
          "2003-02-09T00:00:00.000000000",
          "2003-02-22T00:00:00.000000000",
          "2003-03-05T00:00:00.000000000",
          "2003-03-15T00:00:00.000000000",
          "2003-03-22T00:00:00.000000000",
          "2003-04-05T00:00:00.000000000",
          "2003-04-12T00:00:00.000000000",
          "2003-04-16T00:00:00.000000000",
          "2003-04-19T00:00:00.000000000",
          "2003-04-27T00:00:00.000000000",
          "2003-05-03T00:00:00.000000000",
          "2003-05-11T00:00:00.000000000",
          "2003-08-16T00:00:00.000000000",
          "2003-08-23T00:00:00.000000000",
          "2003-08-27T00:00:00.000000000",
          "2003-08-31T00:00:00.000000000",
          "2003-09-13T00:00:00.000000000",
          "2003-09-21T00:00:00.000000000",
          "2003-09-27T00:00:00.000000000",
          "2003-10-04T00:00:00.000000000",
          "2003-10-18T00:00:00.000000000",
          "2003-10-25T00:00:00.000000000",
          "2003-11-01T00:00:00.000000000",
          "2003-11-09T00:00:00.000000000",
          "2003-11-22T00:00:00.000000000",
          "2003-11-30T00:00:00.000000000",
          "2003-12-06T00:00:00.000000000",
          "2003-12-13T00:00:00.000000000",
          "2003-12-21T00:00:00.000000000",
          "2003-12-26T00:00:00.000000000",
          "2003-12-28T00:00:00.000000000",
          "2004-01-07T00:00:00.000000000",
          "2004-01-11T00:00:00.000000000",
          "2004-01-17T00:00:00.000000000",
          "2004-01-31T00:00:00.000000000",
          "2004-02-07T00:00:00.000000000",
          "2004-02-11T00:00:00.000000000",
          "2004-02-21T00:00:00.000000000",
          "2004-02-28T00:00:00.000000000",
          "2004-03-14T00:00:00.000000000",
          "2004-03-20T00:00:00.000000000",
          "2004-03-28T00:00:00.000000000",
          "2004-04-10T00:00:00.000000000",
          "2004-04-13T00:00:00.000000000",
          "2004-04-17T00:00:00.000000000",
          "2004-04-20T00:00:00.000000000",
          "2004-04-24T00:00:00.000000000",
          "2004-05-01T00:00:00.000000000",
          "2004-05-08T00:00:00.000000000",
          "2004-05-15T00:00:00.000000000",
          "2004-08-15T00:00:00.000000000",
          "2004-08-21T00:00:00.000000000",
          "2004-08-28T00:00:00.000000000",
          "2004-08-30T00:00:00.000000000",
          "2004-09-11T00:00:00.000000000",
          "2004-09-20T00:00:00.000000000",
          "2004-09-25T00:00:00.000000000",
          "2004-10-03T00:00:00.000000000",
          "2004-10-16T00:00:00.000000000",
          "2004-10-24T00:00:00.000000000",
          "2004-10-30T00:00:00.000000000",
          "2004-11-07T00:00:00.000000000",
          "2004-11-14T00:00:00.000000000",
          "2004-11-20T00:00:00.000000000",
          "2004-11-27T00:00:00.000000000",
          "2004-12-04T00:00:00.000000000",
          "2004-12-13T00:00:00.000000000",
          "2004-12-18T00:00:00.000000000",
          "2004-12-26T00:00:00.000000000",
          "2004-12-28T00:00:00.000000000",
          "2005-01-01T00:00:00.000000000",
          "2005-01-04T00:00:00.000000000",
          "2005-01-15T00:00:00.000000000",
          "2005-01-22T00:00:00.000000000",
          "2005-02-01T00:00:00.000000000",
          "2005-02-05T00:00:00.000000000",
          "2005-02-13T00:00:00.000000000",
          "2005-02-26T00:00:00.000000000",
          "2005-03-05T00:00:00.000000000",
          "2005-03-19T00:00:00.000000000",
          "2005-04-02T00:00:00.000000000",
          "2005-04-09T00:00:00.000000000",
          "2005-04-20T00:00:00.000000000",
          "2005-04-24T00:00:00.000000000",
          "2005-05-01T00:00:00.000000000",
          "2005-05-07T00:00:00.000000000",
          "2005-05-10T00:00:00.000000000",
          "2005-05-15T00:00:00.000000000",
          "2005-08-13T00:00:00.000000000",
          "2005-08-20T00:00:00.000000000",
          "2005-08-28T00:00:00.000000000",
          "2005-09-10T00:00:00.000000000",
          "2005-09-18T00:00:00.000000000",
          "2005-09-24T00:00:00.000000000",
          "2005-10-01T00:00:00.000000000",
          "2005-10-15T00:00:00.000000000",
          "2005-10-22T00:00:00.000000000",
          "2005-10-29T00:00:00.000000000",
          "2005-11-06T00:00:00.000000000",
          "2005-11-19T00:00:00.000000000",
          "2005-11-27T00:00:00.000000000",
          "2005-12-03T00:00:00.000000000",
          "2005-12-11T00:00:00.000000000",
          "2005-12-14T00:00:00.000000000",
          "2005-12-17T00:00:00.000000000",
          "2005-12-26T00:00:00.000000000",
          "2005-12-28T00:00:00.000000000",
          "2005-12-31T00:00:00.000000000",
          "2006-01-03T00:00:00.000000000",
          "2006-01-14T00:00:00.000000000",
          "2006-01-22T00:00:00.000000000",
          "2006-02-01T00:00:00.000000000",
          "2006-02-04T00:00:00.000000000",
          "2006-02-11T00:00:00.000000000",
          "2006-03-06T00:00:00.000000000",
          "2006-03-12T00:00:00.000000000",
          "2006-03-18T00:00:00.000000000",
          "2006-03-26T00:00:00.000000000",
          "2006-03-29T00:00:00.000000000",
          "2006-04-01T00:00:00.000000000",
          "2006-04-09T00:00:00.000000000",
          "2006-04-14T00:00:00.000000000",
          "2006-04-17T00:00:00.000000000",
          "2006-04-29T00:00:00.000000000",
          "2006-05-01T00:00:00.000000000",
          "2006-05-07T00:00:00.000000000",
          "2006-08-20T00:00:00.000000000",
          "2006-08-23T00:00:00.000000000",
          "2006-08-26T00:00:00.000000000",
          "2006-09-09T00:00:00.000000000",
          "2006-09-17T00:00:00.000000000",
          "2006-09-23T00:00:00.000000000",
          "2006-10-01T00:00:00.000000000",
          "2006-10-14T00:00:00.000000000",
          "2006-10-22T00:00:00.000000000",
          "2006-10-28T00:00:00.000000000",
          "2006-11-04T00:00:00.000000000",
          "2006-11-11T00:00:00.000000000",
          "2006-11-18T00:00:00.000000000",
          "2006-11-26T00:00:00.000000000",
          "2006-11-29T00:00:00.000000000",
          "2006-12-02T00:00:00.000000000",
          "2006-12-09T00:00:00.000000000",
          "2006-12-17T00:00:00.000000000",
          "2006-12-23T00:00:00.000000000",
          "2006-12-26T00:00:00.000000000",
          "2006-12-30T00:00:00.000000000",
          "2007-01-01T00:00:00.000000000",
          "2007-01-13T00:00:00.000000000",
          "2007-01-21T00:00:00.000000000",
          "2007-01-31T00:00:00.000000000",
          "2007-02-04T00:00:00.000000000",
          "2007-02-10T00:00:00.000000000",
          "2007-02-24T00:00:00.000000000",
          "2007-03-03T00:00:00.000000000",
          "2007-03-17T00:00:00.000000000",
          "2007-03-31T00:00:00.000000000",
          "2007-04-07T00:00:00.000000000",
          "2007-04-17T00:00:00.000000000",
          "2007-04-21T00:00:00.000000000",
          "2007-04-28T00:00:00.000000000",
          "2007-05-05T00:00:00.000000000",
          "2007-05-09T00:00:00.000000000",
          "2007-05-13T00:00:00.000000000",
          "2007-08-12T00:00:00.000000000",
          "2007-08-15T00:00:00.000000000",
          "2007-08-19T00:00:00.000000000",
          "2007-08-26T00:00:00.000000000",
          "2007-09-01T00:00:00.000000000",
          "2007-09-15T00:00:00.000000000",
          "2007-09-23T00:00:00.000000000",
          "2007-09-29T00:00:00.000000000",
          "2007-10-06T00:00:00.000000000",
          "2007-10-20T00:00:00.000000000",
          "2007-10-27T00:00:00.000000000",
          "2007-11-03T00:00:00.000000000",
          "2007-11-11T00:00:00.000000000",
          "2007-11-24T00:00:00.000000000",
          "2007-12-03T00:00:00.000000000",
          "2007-12-08T00:00:00.000000000",
          "2007-12-16T00:00:00.000000000",
          "2007-12-23T00:00:00.000000000",
          "2007-12-26T00:00:00.000000000",
          "2007-12-29T00:00:00.000000000",
          "2008-01-01T00:00:00.000000000",
          "2008-01-12T00:00:00.000000000",
          "2008-01-19T00:00:00.000000000",
          "2008-01-30T00:00:00.000000000",
          "2008-02-02T00:00:00.000000000",
          "2008-02-10T00:00:00.000000000",
          "2008-02-23T00:00:00.000000000",
          "2008-03-01T00:00:00.000000000",
          "2008-03-15T00:00:00.000000000",
          "2008-03-19T00:00:00.000000000",
          "2008-03-23T00:00:00.000000000",
          "2008-03-29T00:00:00.000000000",
          "2008-04-06T00:00:00.000000000",
          "2008-04-13T00:00:00.000000000",
          "2008-04-19T00:00:00.000000000",
          "2008-04-26T00:00:00.000000000",
          "2008-05-03T00:00:00.000000000",
          "2008-05-11T00:00:00.000000000",
          "2008-08-17T00:00:00.000000000",
          "2008-08-25T00:00:00.000000000",
          "2008-09-13T00:00:00.000000000",
          "2008-09-21T00:00:00.000000000",
          "2008-09-27T00:00:00.000000000",
          "2008-10-04T00:00:00.000000000",
          "2008-10-18T00:00:00.000000000",
          "2008-10-25T00:00:00.000000000",
          "2008-10-29T00:00:00.000000000",
          "2008-11-01T00:00:00.000000000",
          "2008-11-08T00:00:00.000000000",
          "2008-11-15T00:00:00.000000000",
          "2008-11-22T00:00:00.000000000",
          "2008-11-30T00:00:00.000000000",
          "2008-12-06T00:00:00.000000000",
          "2008-12-13T00:00:00.000000000",
          "2008-12-26T00:00:00.000000000",
          "2008-12-29T00:00:00.000000000",
          "2009-01-11T00:00:00.000000000",
          "2009-01-14T00:00:00.000000000",
          "2009-01-17T00:00:00.000000000",
          "2009-01-27T00:00:00.000000000",
          "2009-01-31T00:00:00.000000000",
          "2009-02-08T00:00:00.000000000",
          "2009-02-18T00:00:00.000000000",
          "2009-02-21T00:00:00.000000000",
          "2009-03-04T00:00:00.000000000",
          "2009-03-14T00:00:00.000000000",
          "2009-03-21T00:00:00.000000000",
          "2009-04-05T00:00:00.000000000",
          "2009-04-11T00:00:00.000000000",
          "2009-04-22T00:00:00.000000000",
          "2009-04-25T00:00:00.000000000",
          "2009-05-02T00:00:00.000000000",
          "2009-05-10T00:00:00.000000000",
          "2009-05-13T00:00:00.000000000",
          "2009-05-16T00:00:00.000000000",
          "2009-05-24T00:00:00.000000000",
          "2009-08-16T00:00:00.000000000",
          "2009-08-19T00:00:00.000000000",
          "2009-08-22T00:00:00.000000000",
          "2009-08-29T00:00:00.000000000",
          "2009-09-12T00:00:00.000000000",
          "2009-09-20T00:00:00.000000000",
          "2009-09-26T00:00:00.000000000",
          "2009-10-03T00:00:00.000000000",
          "2009-10-17T00:00:00.000000000",
          "2009-10-25T00:00:00.000000000",
          "2009-10-31T00:00:00.000000000",
          "2009-11-08T00:00:00.000000000",
          "2009-11-21T00:00:00.000000000",
          "2009-11-28T00:00:00.000000000",
          "2009-12-05T00:00:00.000000000",
          "2009-12-12T00:00:00.000000000",
          "2009-12-15T00:00:00.000000000",
          "2009-12-19T00:00:00.000000000",
          "2009-12-27T00:00:00.000000000",
          "2009-12-30T00:00:00.000000000",
          "2010-01-09T00:00:00.000000000",
          "2010-01-16T00:00:00.000000000",
          "2010-01-23T00:00:00.000000000",
          "2010-01-31T00:00:00.000000000",
          "2010-02-06T00:00:00.000000000",
          "2010-02-10T00:00:00.000000000",
          "2010-02-20T00:00:00.000000000",
          "2010-02-23T00:00:00.000000000",
          "2010-03-06T00:00:00.000000000",
          "2010-03-14T00:00:00.000000000",
          "2010-03-21T00:00:00.000000000",
          "2010-03-27T00:00:00.000000000",
          "2010-04-03T00:00:00.000000000",
          "2010-04-11T00:00:00.000000000",
          "2010-04-17T00:00:00.000000000",
          "2010-04-24T00:00:00.000000000",
          "2010-05-02T00:00:00.000000000",
          "2010-05-09T00:00:00.000000000",
          "2010-08-16T00:00:00.000000000",
          "2010-08-22T00:00:00.000000000",
          "2010-08-28T00:00:00.000000000",
          "2010-09-11T00:00:00.000000000",
          "2010-09-19T00:00:00.000000000",
          "2010-09-26T00:00:00.000000000",
          "2010-10-02T00:00:00.000000000",
          "2010-10-16T00:00:00.000000000",
          "2010-10-24T00:00:00.000000000",
          "2010-10-30T00:00:00.000000000",
          "2010-11-06T00:00:00.000000000",
          "2010-11-10T00:00:00.000000000",
          "2010-11-13T00:00:00.000000000",
          "2010-11-20T00:00:00.000000000",
          "2010-11-27T00:00:00.000000000",
          "2010-12-13T00:00:00.000000000",
          "2010-12-26T00:00:00.000000000",
          "2010-12-28T00:00:00.000000000",
          "2011-01-01T00:00:00.000000000",
          "2011-01-04T00:00:00.000000000",
          "2011-01-16T00:00:00.000000000",
          "2011-01-22T00:00:00.000000000",
          "2011-01-25T00:00:00.000000000",
          "2011-02-01T00:00:00.000000000",
          "2011-02-05T00:00:00.000000000",
          "2011-02-12T00:00:00.000000000",
          "2011-02-26T00:00:00.000000000",
          "2011-03-01T00:00:00.000000000",
          "2011-03-06T00:00:00.000000000",
          "2011-03-19T00:00:00.000000000",
          "2011-04-02T00:00:00.000000000",
          "2011-04-09T00:00:00.000000000",
          "2011-04-19T00:00:00.000000000",
          "2011-04-23T00:00:00.000000000",
          "2011-05-01T00:00:00.000000000",
          "2011-05-08T00:00:00.000000000",
          "2011-05-14T00:00:00.000000000",
          "2011-05-22T00:00:00.000000000",
          "2011-08-14T00:00:00.000000000",
          "2011-08-22T00:00:00.000000000",
          "2011-08-28T00:00:00.000000000",
          "2011-09-10T00:00:00.000000000",
          "2011-09-18T00:00:00.000000000",
          "2011-09-24T00:00:00.000000000",
          "2011-10-01T00:00:00.000000000",
          "2011-10-15T00:00:00.000000000",
          "2011-10-23T00:00:00.000000000",
          "2011-10-29T00:00:00.000000000",
          "2011-11-05T00:00:00.000000000",
          "2011-11-19T00:00:00.000000000",
          "2011-11-26T00:00:00.000000000",
          "2011-12-03T00:00:00.000000000",
          "2011-12-10T00:00:00.000000000",
          "2011-12-18T00:00:00.000000000",
          "2011-12-21T00:00:00.000000000",
          "2011-12-26T00:00:00.000000000",
          "2011-12-31T00:00:00.000000000",
          "2012-01-04T00:00:00.000000000",
          "2012-01-14T00:00:00.000000000",
          "2012-01-22T00:00:00.000000000",
          "2012-01-31T00:00:00.000000000",
          "2012-02-05T00:00:00.000000000",
          "2012-02-11T00:00:00.000000000",
          "2012-02-26T00:00:00.000000000",
          "2012-03-04T00:00:00.000000000",
          "2012-03-11T00:00:00.000000000",
          "2012-03-18T00:00:00.000000000",
          "2012-03-26T00:00:00.000000000",
          "2012-04-02T00:00:00.000000000",
          "2012-04-08T00:00:00.000000000",
          "2012-04-11T00:00:00.000000000",
          "2012-04-15T00:00:00.000000000",
          "2012-04-22T00:00:00.000000000",
          "2012-04-30T00:00:00.000000000",
          "2012-05-06T00:00:00.000000000",
          "2012-05-13T00:00:00.000000000",
          "2012-08-20T00:00:00.000000000",
          "2012-08-25T00:00:00.000000000",
          "2012-09-02T00:00:00.000000000",
          "2012-09-15T00:00:00.000000000",
          "2012-09-23T00:00:00.000000000",
          "2012-09-29T00:00:00.000000000",
          "2012-10-07T00:00:00.000000000",
          "2012-10-20T00:00:00.000000000",
          "2012-10-28T00:00:00.000000000",
          "2012-11-03T00:00:00.000000000",
          "2012-11-10T00:00:00.000000000",
          "2012-11-17T00:00:00.000000000",
          "2012-11-24T00:00:00.000000000",
          "2012-11-28T00:00:00.000000000",
          "2012-12-01T00:00:00.000000000",
          "2012-12-09T00:00:00.000000000",
          "2012-12-15T00:00:00.000000000",
          "2012-12-23T00:00:00.000000000",
          "2012-12-26T00:00:00.000000000",
          "2012-12-29T00:00:00.000000000",
          "2013-01-01T00:00:00.000000000",
          "2013-01-13T00:00:00.000000000",
          "2013-01-20T00:00:00.000000000",
          "2013-01-30T00:00:00.000000000",
          "2013-02-02T00:00:00.000000000",
          "2013-02-10T00:00:00.000000000",
          "2013-02-23T00:00:00.000000000",
          "2013-03-02T00:00:00.000000000",
          "2013-03-16T00:00:00.000000000",
          "2013-03-30T00:00:00.000000000",
          "2013-04-08T00:00:00.000000000",
          "2013-04-14T00:00:00.000000000",
          "2013-04-17T00:00:00.000000000",
          "2013-04-22T00:00:00.000000000",
          "2013-04-28T00:00:00.000000000",
          "2013-05-05T00:00:00.000000000",
          "2013-05-12T00:00:00.000000000",
          "2013-05-19T00:00:00.000000000",
          "2013-08-17T00:00:00.000000000",
          "2013-08-26T00:00:00.000000000",
          "2013-09-01T00:00:00.000000000",
          "2013-09-14T00:00:00.000000000",
          "2013-09-22T00:00:00.000000000",
          "2013-09-28T00:00:00.000000000",
          "2013-10-05T00:00:00.000000000",
          "2013-10-19T00:00:00.000000000",
          "2013-10-26T00:00:00.000000000",
          "2013-11-02T00:00:00.000000000",
          "2013-11-10T00:00:00.000000000",
          "2013-11-24T00:00:00.000000000",
          "2013-12-01T00:00:00.000000000",
          "2013-12-04T00:00:00.000000000",
          "2013-12-07T00:00:00.000000000",
          "2013-12-15T00:00:00.000000000",
          "2013-12-21T00:00:00.000000000",
          "2013-12-26T00:00:00.000000000",
          "2013-12-28T00:00:00.000000000",
          "2014-01-01T00:00:00.000000000",
          "2014-01-11T00:00:00.000000000",
          "2014-01-19T00:00:00.000000000",
          "2014-01-28T00:00:00.000000000",
          "2014-02-01T00:00:00.000000000",
          "2014-02-09T00:00:00.000000000",
          "2014-02-12T00:00:00.000000000",
          "2014-02-22T00:00:00.000000000",
          "2014-03-08T00:00:00.000000000",
          "2014-03-16T00:00:00.000000000",
          "2014-03-22T00:00:00.000000000",
          "2014-03-25T00:00:00.000000000",
          "2014-03-29T00:00:00.000000000",
          "2014-04-05T00:00:00.000000000",
          "2014-04-20T00:00:00.000000000",
          "2014-04-26T00:00:00.000000000",
          "2014-05-03T00:00:00.000000000",
          "2014-05-06T00:00:00.000000000",
          "2014-05-11T00:00:00.000000000",
          "2014-08-16T00:00:00.000000000",
          "2014-08-24T00:00:00.000000000",
          "2014-08-30T00:00:00.000000000",
          "2014-09-14T00:00:00.000000000",
          "2014-09-21T00:00:00.000000000",
          "2014-09-27T00:00:00.000000000",
          "2014-10-05T00:00:00.000000000",
          "2014-10-20T00:00:00.000000000",
          "2014-10-26T00:00:00.000000000",
          "2014-11-02T00:00:00.000000000",
          "2014-11-08T00:00:00.000000000",
          "2014-11-22T00:00:00.000000000",
          "2014-11-29T00:00:00.000000000",
          "2014-12-02T00:00:00.000000000",
          "2014-12-08T00:00:00.000000000",
          "2014-12-14T00:00:00.000000000",
          "2014-12-20T00:00:00.000000000",
          "2014-12-26T00:00:00.000000000",
          "2014-12-28T00:00:00.000000000",
          "2015-01-01T00:00:00.000000000",
          "2015-01-11T00:00:00.000000000",
          "2015-01-17T00:00:00.000000000",
          "2015-01-31T00:00:00.000000000",
          "2015-02-08T00:00:00.000000000",
          "2015-02-11T00:00:00.000000000",
          "2015-02-21T00:00:00.000000000",
          "2015-02-28T00:00:00.000000000",
          "2015-03-04T00:00:00.000000000",
          "2015-03-15T00:00:00.000000000",
          "2015-03-22T00:00:00.000000000",
          "2015-04-04T00:00:00.000000000",
          "2015-04-12T00:00:00.000000000",
          "2015-04-18T00:00:00.000000000",
          "2015-04-26T00:00:00.000000000",
          "2015-05-02T00:00:00.000000000",
          "2015-05-09T00:00:00.000000000",
          "2015-05-17T00:00:00.000000000",
          "2015-05-24T00:00:00.000000000",
          "2015-08-08T00:00:00.000000000",
          "2015-08-14T00:00:00.000000000",
          "2015-08-22T00:00:00.000000000",
          "2015-08-30T00:00:00.000000000",
          "2015-09-12T00:00:00.000000000",
          "2015-09-20T00:00:00.000000000",
          "2015-09-26T00:00:00.000000000",
          "2015-10-04T00:00:00.000000000",
          "2015-10-17T00:00:00.000000000",
          "2015-10-25T00:00:00.000000000",
          "2015-10-31T00:00:00.000000000",
          "2015-11-07T00:00:00.000000000",
          "2015-11-21T00:00:00.000000000",
          "2015-11-28T00:00:00.000000000",
          "2015-12-05T00:00:00.000000000",
          "2015-12-12T00:00:00.000000000",
          "2015-12-19T00:00:00.000000000",
          "2015-12-26T00:00:00.000000000",
          "2015-12-28T00:00:00.000000000",
          "2016-01-02T00:00:00.000000000",
          "2016-01-12T00:00:00.000000000",
          "2016-01-17T00:00:00.000000000",
          "2016-01-23T00:00:00.000000000",
          "2016-02-02T00:00:00.000000000",
          "2016-02-07T00:00:00.000000000",
          "2016-02-13T00:00:00.000000000",
          "2016-02-28T00:00:00.000000000",
          "2016-03-02T00:00:00.000000000",
          "2016-03-06T00:00:00.000000000",
          "2016-03-20T00:00:00.000000000",
          "2016-04-03T00:00:00.000000000",
          "2016-04-10T00:00:00.000000000",
          "2016-04-16T00:00:00.000000000",
          "2016-04-20T00:00:00.000000000",
          "2016-05-01T00:00:00.000000000",
          "2016-05-07T00:00:00.000000000",
          "2016-05-10T00:00:00.000000000",
          "2016-05-17T00:00:00.000000000",
          "2016-08-14T00:00:00.000000000",
          "2016-08-19T00:00:00.000000000",
          "2016-08-27T00:00:00.000000000",
          "2016-09-10T00:00:00.000000000",
          "2016-09-18T00:00:00.000000000",
          "2016-09-24T00:00:00.000000000",
          "2016-10-02T00:00:00.000000000",
          "2016-10-17T00:00:00.000000000",
          "2016-10-23T00:00:00.000000000",
          "2016-10-29T00:00:00.000000000",
          "2016-11-06T00:00:00.000000000",
          "2016-11-19T00:00:00.000000000",
          "2016-11-27T00:00:00.000000000",
          "2016-12-04T00:00:00.000000000",
          "2016-12-11T00:00:00.000000000",
          "2016-12-14T00:00:00.000000000",
          "2016-12-17T00:00:00.000000000",
          "2016-12-26T00:00:00.000000000",
          "2016-12-31T00:00:00.000000000",
          "2017-01-02T00:00:00.000000000",
          "2017-01-15T00:00:00.000000000",
          "2017-01-21T00:00:00.000000000",
          "2017-02-01T00:00:00.000000000",
          "2017-02-05T00:00:00.000000000",
          "2017-02-11T00:00:00.000000000",
          "2017-03-04T00:00:00.000000000",
          "2017-03-19T00:00:00.000000000",
          "2017-04-01T00:00:00.000000000",
          "2017-04-04T00:00:00.000000000",
          "2017-04-09T00:00:00.000000000",
          "2017-04-16T00:00:00.000000000",
          "2017-04-23T00:00:00.000000000",
          "2017-04-27T00:00:00.000000000",
          "2017-04-30T00:00:00.000000000",
          "2017-05-07T00:00:00.000000000",
          "2017-05-14T00:00:00.000000000",
          "2017-05-17T00:00:00.000000000",
          "2017-05-21T00:00:00.000000000",
          "2017-08-13T00:00:00.000000000",
          "2017-08-19T00:00:00.000000000",
          "2017-08-26T00:00:00.000000000",
          "2017-09-09T00:00:00.000000000",
          "2017-09-17T00:00:00.000000000",
          "2017-09-23T00:00:00.000000000",
          "2017-09-30T00:00:00.000000000",
          "2017-10-14T00:00:00.000000000",
          "2017-10-21T00:00:00.000000000",
          "2017-10-28T00:00:00.000000000",
          "2017-11-05T00:00:00.000000000",
          "2017-11-18T00:00:00.000000000",
          "2017-11-25T00:00:00.000000000",
          "2017-11-28T00:00:00.000000000",
          "2017-12-02T00:00:00.000000000",
          "2017-12-10T00:00:00.000000000",
          "2017-12-13T00:00:00.000000000",
          "2017-12-17T00:00:00.000000000",
          "2017-12-23T00:00:00.000000000",
          "2017-12-26T00:00:00.000000000",
          "2017-12-30T00:00:00.000000000",
          "2018-01-01T00:00:00.000000000",
          "2018-01-15T00:00:00.000000000",
          "2018-01-20T00:00:00.000000000",
          "2018-01-31T00:00:00.000000000",
          "2018-02-03T00:00:00.000000000",
          "2018-02-11T00:00:00.000000000",
          "2018-02-25T00:00:00.000000000",
          "2018-03-05T00:00:00.000000000",
          "2018-03-10T00:00:00.000000000",
          "2018-03-31T00:00:00.000000000",
          "2018-04-07T00:00:00.000000000",
          "2018-04-15T00:00:00.000000000",
          "2018-04-18T00:00:00.000000000",
          "2018-04-29T00:00:00.000000000",
          "2018-05-04T00:00:00.000000000",
          "2018-05-10T00:00:00.000000000",
          "2018-05-13T00:00:00.000000000",
          "2018-08-10T00:00:00.000000000",
          "2018-08-19T00:00:00.000000000",
          "2018-08-27T00:00:00.000000000",
          "2018-09-02T00:00:00.000000000",
          "2018-09-15T00:00:00.000000000",
          "2018-09-22T00:00:00.000000000",
          "2018-09-29T00:00:00.000000000",
          "2018-10-06T00:00:00.000000000",
          "2018-10-20T00:00:00.000000000",
          "2018-10-28T00:00:00.000000000",
          "2018-11-03T00:00:00.000000000",
          "2018-11-11T00:00:00.000000000",
          "2018-11-24T00:00:00.000000000",
          "2018-12-01T00:00:00.000000000",
          "2018-12-05T00:00:00.000000000",
          "2018-12-08T00:00:00.000000000",
          "2018-12-16T00:00:00.000000000",
          "2018-12-22T00:00:00.000000000",
          "2018-12-26T00:00:00.000000000",
          "2018-12-30T00:00:00.000000000",
          "2019-01-02T00:00:00.000000000",
          "2019-01-13T00:00:00.000000000",
          "2019-01-19T00:00:00.000000000",
          "2019-01-29T00:00:00.000000000",
          "2019-02-03T00:00:00.000000000",
          "2019-02-09T00:00:00.000000000",
          "2019-02-24T00:00:00.000000000",
          "2019-02-27T00:00:00.000000000",
          "2019-03-02T00:00:00.000000000",
          "2019-03-10T00:00:00.000000000",
          "2019-03-30T00:00:00.000000000",
          "2019-04-02T00:00:00.000000000",
          "2019-04-13T00:00:00.000000000",
          "2019-04-21T00:00:00.000000000",
          "2019-04-24T00:00:00.000000000",
          "2019-04-28T00:00:00.000000000",
          "2019-05-05T00:00:00.000000000",
          "2019-05-12T00:00:00.000000000",
          "2019-08-11T00:00:00.000000000",
          "2019-08-19T00:00:00.000000000",
          "2019-08-24T00:00:00.000000000",
          "2019-08-31T00:00:00.000000000",
          "2019-09-14T00:00:00.000000000",
          "2019-09-22T00:00:00.000000000",
          "2019-09-30T00:00:00.000000000",
          "2019-10-06T00:00:00.000000000",
          "2019-10-20T00:00:00.000000000",
          "2019-10-27T00:00:00.000000000",
          "2019-11-02T00:00:00.000000000",
          "2019-11-10T00:00:00.000000000",
          "2019-11-24T00:00:00.000000000",
          "2019-12-01T00:00:00.000000000",
          "2019-12-04T00:00:00.000000000",
          "2019-12-07T00:00:00.000000000",
          "2019-12-15T00:00:00.000000000",
          "2019-12-22T00:00:00.000000000",
          "2019-12-26T00:00:00.000000000",
          "2019-12-28T00:00:00.000000000",
          "2020-01-01T00:00:00.000000000",
          "2020-01-11T00:00:00.000000000",
          "2020-01-19T00:00:00.000000000",
          "2020-01-22T00:00:00.000000000",
          "2020-02-01T00:00:00.000000000",
          "2020-02-17T00:00:00.000000000",
          "2020-02-23T00:00:00.000000000",
          "2020-03-01T00:00:00.000000000",
          "2020-03-08T00:00:00.000000000",
          "2020-06-19T00:00:00.000000000",
          "2020-06-24T00:00:00.000000000",
          "2020-06-30T00:00:00.000000000",
          "2020-07-04T00:00:00.000000000",
          "2020-07-09T00:00:00.000000000",
          "2020-07-13T00:00:00.000000000",
          "2020-07-16T00:00:00.000000000",
          "2020-07-22T00:00:00.000000000",
          "2020-07-26T00:00:00.000000000",
          "2020-09-19T00:00:00.000000000",
          "2020-09-26T00:00:00.000000000",
          "2020-10-04T00:00:00.000000000",
          "2020-10-17T00:00:00.000000000",
          "2020-10-24T00:00:00.000000000",
          "2020-11-01T00:00:00.000000000",
          "2020-11-07T00:00:00.000000000",
          "2020-11-21T00:00:00.000000000",
          "2020-11-29T00:00:00.000000000",
          "2020-12-05T00:00:00.000000000",
          "2020-12-12T00:00:00.000000000",
          "2020-12-17T00:00:00.000000000",
          "2020-12-20T00:00:00.000000000",
          "2020-12-26T00:00:00.000000000",
          "2020-12-29T00:00:00.000000000",
          "2021-01-01T00:00:00.000000000",
          "2021-01-12T00:00:00.000000000",
          "2021-01-17T00:00:00.000000000",
          "2021-01-20T00:00:00.000000000",
          "2021-01-27T00:00:00.000000000",
          "2021-01-30T00:00:00.000000000",
          "2021-02-02T00:00:00.000000000",
          "2021-02-06T00:00:00.000000000",
          "2021-02-14T00:00:00.000000000",
          "2021-02-21T00:00:00.000000000",
          "2021-02-28T00:00:00.000000000",
          "2021-03-03T00:00:00.000000000",
          "2021-03-07T00:00:00.000000000",
          "2021-03-14T00:00:00.000000000",
          "2021-04-04T00:00:00.000000000",
          "2021-04-11T00:00:00.000000000",
          "2021-04-18T00:00:00.000000000",
          "2021-04-25T00:00:00.000000000",
          "2021-05-09T00:00:00.000000000",
          "2021-05-11T00:00:00.000000000",
          "2021-05-13T00:00:00.000000000",
          "2021-05-18T00:00:00.000000000",
          "2021-05-23T00:00:00.000000000",
          "2021-08-14T00:00:00.000000000",
          "2021-08-22T00:00:00.000000000",
          "2021-08-29T00:00:00.000000000",
          "2021-09-11T00:00:00.000000000",
          "2021-09-19T00:00:00.000000000",
          "2021-09-25T00:00:00.000000000",
          "2021-10-02T00:00:00.000000000",
          "2021-10-16T00:00:00.000000000",
          "2021-10-24T00:00:00.000000000",
          "2021-10-30T00:00:00.000000000",
          "2021-11-06T00:00:00.000000000",
          "2021-11-20T00:00:00.000000000",
          "2021-11-28T00:00:00.000000000",
          "2021-12-02T00:00:00.000000000",
          "2021-12-05T00:00:00.000000000",
          "2021-12-11T00:00:00.000000000",
          "2021-12-27T00:00:00.000000000",
          "2021-12-30T00:00:00.000000000",
          "2022-01-03T00:00:00.000000000",
          "2022-01-15T00:00:00.000000000",
          "2022-01-19T00:00:00.000000000",
          "2022-01-22T00:00:00.000000000",
          "2022-02-08T00:00:00.000000000",
          "2022-02-12T00:00:00.000000000",
          "2022-02-15T00:00:00.000000000",
          "2022-02-20T00:00:00.000000000",
          "2022-02-26T00:00:00.000000000",
          "2022-03-06T00:00:00.000000000",
          "2022-03-12T00:00:00.000000000",
          "2022-04-02T00:00:00.000000000",
          "2022-04-09T00:00:00.000000000",
          "2022-04-16T00:00:00.000000000",
          "2022-04-19T00:00:00.000000000",
          "2022-04-23T00:00:00.000000000",
          "2022-04-28T00:00:00.000000000",
          "2022-05-02T00:00:00.000000000",
          "2022-05-07T00:00:00.000000000",
          "2022-05-22T00:00:00.000000000",
          "2022-08-07T00:00:00.000000000",
          "2022-08-13T00:00:00.000000000",
          "2022-08-22T00:00:00.000000000",
          "2022-08-27T00:00:00.000000000",
          "2022-09-01T00:00:00.000000000",
          "2022-09-04T00:00:00.000000000",
          "2022-10-02T00:00:00.000000000",
          "2022-10-09T00:00:00.000000000",
          "2022-10-16T00:00:00.000000000",
          "2022-10-19T00:00:00.000000000",
          "2022-10-22T00:00:00.000000000",
          "2022-10-30T00:00:00.000000000",
          "2022-11-06T00:00:00.000000000",
          "2022-11-13T00:00:00.000000000",
          "2022-12-27T00:00:00.000000000",
          "2022-12-31T00:00:00.000000000",
          "2023-01-03T00:00:00.000000000",
          "2023-01-14T00:00:00.000000000",
          "2023-01-18T00:00:00.000000000",
          "2023-01-22T00:00:00.000000000",
          "2023-02-04T00:00:00.000000000",
          "2023-02-08T00:00:00.000000000",
          "2023-02-12T00:00:00.000000000",
          "2023-02-19T00:00:00.000000000",
          "2023-03-05T00:00:00.000000000",
          "2023-03-12T00:00:00.000000000",
          "2023-04-02T00:00:00.000000000",
          "2023-04-05T00:00:00.000000000",
          "2023-04-08T00:00:00.000000000",
          "2023-04-16T00:00:00.000000000",
          "2023-04-27T00:00:00.000000000",
          "2023-04-30T00:00:00.000000000",
          "2023-05-04T00:00:00.000000000",
          "2023-05-07T00:00:00.000000000",
          "2023-05-13T00:00:00.000000000",
          "2023-05-20T00:00:00.000000000",
          "2023-05-25T00:00:00.000000000",
          "2023-05-28T00:00:00.000000000",
          "2023-08-14T00:00:00.000000000",
          "2023-08-19T00:00:00.000000000",
          "2023-08-26T00:00:00.000000000",
          "2023-09-03T00:00:00.000000000",
          "2023-09-16T00:00:00.000000000",
          "2023-09-23T00:00:00.000000000",
          "2023-09-30T00:00:00.000000000",
          "2023-10-07T00:00:00.000000000",
          "2023-10-21T00:00:00.000000000",
          "2023-10-29T00:00:00.000000000",
          "2023-11-04T00:00:00.000000000",
          "2023-11-11T00:00:00.000000000",
          "2023-11-26T00:00:00.000000000",
          "2023-12-02T00:00:00.000000000",
          "2023-12-06T00:00:00.000000000",
          "2023-12-09T00:00:00.000000000",
          "2023-12-17T00:00:00.000000000",
          "2023-12-23T00:00:00.000000000",
          "2023-12-26T00:00:00.000000000",
          "2023-12-30T00:00:00.000000000",
          "2024-01-14T00:00:00.000000000",
          "2024-02-01T00:00:00.000000000",
          "2024-02-04T00:00:00.000000000",
          "2024-02-11T00:00:00.000000000",
          "2024-02-18T00:00:00.000000000",
          "2024-02-24T00:00:00.000000000",
          "2024-03-03T00:00:00.000000000",
          "2024-03-09T00:00:00.000000000",
          "2024-03-30T00:00:00.000000000",
          "2024-04-04T00:00:00.000000000",
          "2024-04-07T00:00:00.000000000",
          "2024-04-13T00:00:00.000000000",
          "2024-04-24T00:00:00.000000000",
          "2024-04-27T00:00:00.000000000",
          "2024-05-06T00:00:00.000000000",
          "2024-05-12T00:00:00.000000000",
          "2024-05-15T00:00:00.000000000",
          "2024-05-19T00:00:00.000000000",
          "2024-08-16T00:00:00.000000000",
          "2024-08-24T00:00:00.000000000",
          "2024-09-01T00:00:00.000000000",
          "2024-09-14T00:00:00.000000000",
          "2024-09-21T00:00:00.000000000",
          "2024-09-29T00:00:00.000000000",
          "2024-10-06T00:00:00.000000000",
          "2024-10-19T00:00:00.000000000",
          "2024-10-27T00:00:00.000000000",
          "2024-11-03T00:00:00.000000000",
          "2024-11-10T00:00:00.000000000",
          "2024-11-24T00:00:00.000000000",
          "2024-12-01T00:00:00.000000000",
          "2024-12-04T00:00:00.000000000",
          "2024-12-07T00:00:00.000000000",
          "2024-12-15T00:00:00.000000000",
          "2024-12-22T00:00:00.000000000",
          "2024-12-26T00:00:00.000000000",
          "2024-12-30T00:00:00.000000000",
          "2025-01-05T00:00:00.000000000",
          "2025-01-16T00:00:00.000000000",
          "2025-01-19T00:00:00.000000000",
          "2025-01-26T00:00:00.000000000",
          "2025-02-02T00:00:00.000000000",
          "2025-02-16T00:00:00.000000000",
          "2025-02-22T00:00:00.000000000",
          "2025-02-26T00:00:00.000000000",
          "2025-03-09T00:00:00.000000000",
          "2025-03-16T00:00:00.000000000",
          "2025-04-01T00:00:00.000000000",
          "2025-04-06T00:00:00.000000000",
          "2025-04-13T00:00:00.000000000",
          "2025-04-20T00:00:00.000000000",
          "2025-04-27T00:00:00.000000000",
          "2025-05-04T00:00:00.000000000",
          "2025-05-11T00:00:00.000000000",
          "2025-05-16T00:00:00.000000000",
          "2025-05-25T00:00:00.000000000"
         ],
         "y": {
          "bdata": "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",
          "dtype": "f8"
         }
        }
       ],
       "layout": {
        "template": {
         "data": {
          "bar": [
           {
            "error_x": {
             "color": "#2a3f5f"
            },
            "error_y": {
             "color": "#2a3f5f"
            },
            "marker": {
             "line": {
              "color": "#E5ECF6",
              "width": 0.5
             },
             "pattern": {
              "fillmode": "overlay",
              "size": 10,
              "solidity": 0.2
             }
            },
            "type": "bar"
           }
          ],
          "barpolar": [
           {
            "marker": {
             "line": {
              "color": "#E5ECF6",
              "width": 0.5
             },
             "pattern": {
              "fillmode": "overlay",
              "size": 10,
              "solidity": 0.2
             }
            },
            "type": "barpolar"
           }
          ],
          "carpet": [
           {
            "aaxis": {
             "endlinecolor": "#2a3f5f",
             "gridcolor": "white",
             "linecolor": "white",
             "minorgridcolor": "white",
             "startlinecolor": "#2a3f5f"
            },
            "baxis": {
             "endlinecolor": "#2a3f5f",
             "gridcolor": "white",
             "linecolor": "white",
             "minorgridcolor": "white",
             "startlinecolor": "#2a3f5f"
            },
            "type": "carpet"
           }
          ],
          "choropleth": [
           {
            "colorbar": {
             "outlinewidth": 0,
             "ticks": ""
            },
            "type": "choropleth"
           }
          ],
          "contour": [
           {
            "colorbar": {
             "outlinewidth": 0,
             "ticks": ""
            },
            "colorscale": [
             [
              0,
              "#0d0887"
             ],
             [
              0.1111111111111111,
              "#46039f"
             ],
             [
              0.2222222222222222,
              "#7201a8"
             ],
             [
              0.3333333333333333,
              "#9c179e"
             ],
             [
              0.4444444444444444,
              "#bd3786"
             ],
             [
              0.5555555555555556,
              "#d8576b"
             ],
             [
              0.6666666666666666,
              "#ed7953"
             ],
             [
              0.7777777777777778,
              "#fb9f3a"
             ],
             [
              0.8888888888888888,
              "#fdca26"
             ],
             [
              1,
              "#f0f921"
             ]
            ],
            "type": "contour"
           }
          ],
          "contourcarpet": [
           {
            "colorbar": {
             "outlinewidth": 0,
             "ticks": ""
            },
            "type": "contourcarpet"
           }
          ],
          "heatmap": [
           {
            "colorbar": {
             "outlinewidth": 0,
             "ticks": ""
            },
            "colorscale": [
             [
              0,
              "#0d0887"
             ],
             [
              0.1111111111111111,
              "#46039f"
             ],
             [
              0.2222222222222222,
              "#7201a8"
             ],
             [
              0.3333333333333333,
              "#9c179e"
             ],
             [
              0.4444444444444444,
              "#bd3786"
             ],
             [
              0.5555555555555556,
              "#d8576b"
             ],
             [
              0.6666666666666666,
              "#ed7953"
             ],
             [
              0.7777777777777778,
              "#fb9f3a"
             ],
             [
              0.8888888888888888,
              "#fdca26"
             ],
             [
              1,
              "#f0f921"
             ]
            ],
            "type": "heatmap"
           }
          ],
          "histogram": [
           {
            "marker": {
             "pattern": {
              "fillmode": "overlay",
              "size": 10,
              "solidity": 0.2
             }
            },
            "type": "histogram"
           }
          ],
          "histogram2d": [
           {
            "colorbar": {
             "outlinewidth": 0,
             "ticks": ""
            },
            "colorscale": [
             [
              0,
              "#0d0887"
             ],
             [
              0.1111111111111111,
              "#46039f"
             ],
             [
              0.2222222222222222,
              "#7201a8"
             ],
             [
              0.3333333333333333,
              "#9c179e"
             ],
             [
              0.4444444444444444,
              "#bd3786"
             ],
             [
              0.5555555555555556,
              "#d8576b"
             ],
             [
              0.6666666666666666,
              "#ed7953"
             ],
             [
              0.7777777777777778,
              "#fb9f3a"
             ],
             [
              0.8888888888888888,
              "#fdca26"
             ],
             [
              1,
              "#f0f921"
             ]
            ],
            "type": "histogram2d"
           }
          ],
          "histogram2dcontour": [
           {
            "colorbar": {
             "outlinewidth": 0,
             "ticks": ""
            },
            "colorscale": [
             [
              0,
              "#0d0887"
             ],
             [
              0.1111111111111111,
              "#46039f"
             ],
             [
              0.2222222222222222,
              "#7201a8"
             ],
             [
              0.3333333333333333,
              "#9c179e"
             ],
             [
              0.4444444444444444,
              "#bd3786"
             ],
             [
              0.5555555555555556,
              "#d8576b"
             ],
             [
              0.6666666666666666,
              "#ed7953"
             ],
             [
              0.7777777777777778,
              "#fb9f3a"
             ],
             [
              0.8888888888888888,
              "#fdca26"
             ],
             [
              1,
              "#f0f921"
             ]
            ],
            "type": "histogram2dcontour"
           }
          ],
          "mesh3d": [
           {
            "colorbar": {
             "outlinewidth": 0,
             "ticks": ""
            },
            "type": "mesh3d"
           }
          ],
          "parcoords": [
           {
            "line": {
             "colorbar": {
              "outlinewidth": 0,
              "ticks": ""
             }
            },
            "type": "parcoords"
           }
          ],
          "pie": [
           {
            "automargin": true,
            "type": "pie"
           }
          ],
          "scatter": [
           {
            "fillpattern": {
             "fillmode": "overlay",
             "size": 10,
             "solidity": 0.2
            },
            "type": "scatter"
           }
          ],
          "scatter3d": [
           {
            "line": {
             "colorbar": {
              "outlinewidth": 0,
              "ticks": ""
             }
            },
            "marker": {
             "colorbar": {
              "outlinewidth": 0,
              "ticks": ""
             }
            },
            "type": "scatter3d"
           }
          ],
          "scattercarpet": [
           {
            "marker": {
             "colorbar": {
              "outlinewidth": 0,
              "ticks": ""
             }
            },
            "type": "scattercarpet"
           }
          ],
          "scattergeo": [
           {
            "marker": {
             "colorbar": {
              "outlinewidth": 0,
              "ticks": ""
             }
            },
            "type": "scattergeo"
           }
          ],
          "scattergl": [
           {
            "marker": {
             "colorbar": {
              "outlinewidth": 0,
              "ticks": ""
             }
            },
            "type": "scattergl"
           }
          ],
          "scattermap": [
           {
            "marker": {
             "colorbar": {
              "outlinewidth": 0,
              "ticks": ""
             }
            },
            "type": "scattermap"
           }
          ],
          "scattermapbox": [
           {
            "marker": {
             "colorbar": {
              "outlinewidth": 0,
              "ticks": ""
             }
            },
            "type": "scattermapbox"
           }
          ],
          "scatterpolar": [
           {
            "marker": {
             "colorbar": {
              "outlinewidth": 0,
              "ticks": ""
             }
            },
            "type": "scatterpolar"
           }
          ],
          "scatterpolargl": [
           {
            "marker": {
             "colorbar": {
              "outlinewidth": 0,
              "ticks": ""
             }
            },
            "type": "scatterpolargl"
           }
          ],
          "scatterternary": [
           {
            "marker": {
             "colorbar": {
              "outlinewidth": 0,
              "ticks": ""
             }
            },
            "type": "scatterternary"
           }
          ],
          "surface": [
           {
            "colorbar": {
             "outlinewidth": 0,
             "ticks": ""
            },
            "colorscale": [
             [
              0,
              "#0d0887"
             ],
             [
              0.1111111111111111,
              "#46039f"
             ],
             [
              0.2222222222222222,
              "#7201a8"
             ],
             [
              0.3333333333333333,
              "#9c179e"
             ],
             [
              0.4444444444444444,
              "#bd3786"
             ],
             [
              0.5555555555555556,
              "#d8576b"
             ],
             [
              0.6666666666666666,
              "#ed7953"
             ],
             [
              0.7777777777777778,
              "#fb9f3a"
             ],
             [
              0.8888888888888888,
              "#fdca26"
             ],
             [
              1,
              "#f0f921"
             ]
            ],
            "type": "surface"
           }
          ],
          "table": [
           {
            "cells": {
             "fill": {
              "color": "#EBF0F8"
             },
             "line": {
              "color": "white"
             }
            },
            "header": {
             "fill": {
              "color": "#C8D4E3"
             },
             "line": {
              "color": "white"
             }
            },
            "type": "table"
           }
          ]
         },
         "layout": {
          "annotationdefaults": {
           "arrowcolor": "#2a3f5f",
           "arrowhead": 0,
           "arrowwidth": 1
          },
          "autotypenumbers": "strict",
          "coloraxis": {
           "colorbar": {
            "outlinewidth": 0,
            "ticks": ""
           }
          },
          "colorscale": {
           "diverging": [
            [
             0,
             "#8e0152"
            ],
            [
             0.1,
             "#c51b7d"
            ],
            [
             0.2,
             "#de77ae"
            ],
            [
             0.3,
             "#f1b6da"
            ],
            [
             0.4,
             "#fde0ef"
            ],
            [
             0.5,
             "#f7f7f7"
            ],
            [
             0.6,
             "#e6f5d0"
            ],
            [
             0.7,
             "#b8e186"
            ],
            [
             0.8,
             "#7fbc41"
            ],
            [
             0.9,
             "#4d9221"
            ],
            [
             1,
             "#276419"
            ]
           ],
           "sequential": [
            [
             0,
             "#0d0887"
            ],
            [
             0.1111111111111111,
             "#46039f"
            ],
            [
             0.2222222222222222,
             "#7201a8"
            ],
            [
             0.3333333333333333,
             "#9c179e"
            ],
            [
             0.4444444444444444,
             "#bd3786"
            ],
            [
             0.5555555555555556,
             "#d8576b"
            ],
            [
             0.6666666666666666,
             "#ed7953"
            ],
            [
             0.7777777777777778,
             "#fb9f3a"
            ],
            [
             0.8888888888888888,
             "#fdca26"
            ],
            [
             1,
             "#f0f921"
            ]
           ],
           "sequentialminus": [
            [
             0,
             "#0d0887"
            ],
            [
             0.1111111111111111,
             "#46039f"
            ],
            [
             0.2222222222222222,
             "#7201a8"
            ],
            [
             0.3333333333333333,
             "#9c179e"
            ],
            [
             0.4444444444444444,
             "#bd3786"
            ],
            [
             0.5555555555555556,
             "#d8576b"
            ],
            [
             0.6666666666666666,
             "#ed7953"
            ],
            [
             0.7777777777777778,
             "#fb9f3a"
            ],
            [
             0.8888888888888888,
             "#fdca26"
            ],
            [
             1,
             "#f0f921"
            ]
           ]
          },
          "colorway": [
           "#636efa",
           "#EF553B",
           "#00cc96",
           "#ab63fa",
           "#FFA15A",
           "#19d3f3",
           "#FF6692",
           "#B6E880",
           "#FF97FF",
           "#FECB52"
          ],
          "font": {
           "color": "#2a3f5f"
          },
          "geo": {
           "bgcolor": "white",
           "lakecolor": "white",
           "landcolor": "#E5ECF6",
           "showlakes": true,
           "showland": true,
           "subunitcolor": "white"
          },
          "hoverlabel": {
           "align": "left"
          },
          "hovermode": "closest",
          "mapbox": {
           "style": "light"
          },
          "paper_bgcolor": "white",
          "plot_bgcolor": "#E5ECF6",
          "polar": {
           "angularaxis": {
            "gridcolor": "white",
            "linecolor": "white",
            "ticks": ""
           },
           "bgcolor": "#E5ECF6",
           "radialaxis": {
            "gridcolor": "white",
            "linecolor": "white",
            "ticks": ""
           }
          },
          "scene": {
           "xaxis": {
            "backgroundcolor": "#E5ECF6",
            "gridcolor": "white",
            "gridwidth": 2,
            "linecolor": "white",
            "showbackground": true,
            "ticks": "",
            "zerolinecolor": "white"
           },
           "yaxis": {
            "backgroundcolor": "#E5ECF6",
            "gridcolor": "white",
            "gridwidth": 2,
            "linecolor": "white",
            "showbackground": true,
            "ticks": "",
            "zerolinecolor": "white"
           },
           "zaxis": {
            "backgroundcolor": "#E5ECF6",
            "gridcolor": "white",
            "gridwidth": 2,
            "linecolor": "white",
            "showbackground": true,
            "ticks": "",
            "zerolinecolor": "white"
           }
          },
          "shapedefaults": {
           "line": {
            "color": "#2a3f5f"
           }
          },
          "ternary": {
           "aaxis": {
            "gridcolor": "white",
            "linecolor": "white",
            "ticks": ""
           },
           "baxis": {
            "gridcolor": "white",
            "linecolor": "white",
            "ticks": ""
           },
           "bgcolor": "#E5ECF6",
           "caxis": {
            "gridcolor": "white",
            "linecolor": "white",
            "ticks": ""
           }
          },
          "title": {
           "x": 0.05
          },
          "xaxis": {
           "automargin": true,
           "gridcolor": "white",
           "linecolor": "white",
           "ticks": "",
           "title": {
            "standoff": 15
           },
           "zerolinecolor": "white",
           "zerolinewidth": 2
          },
          "yaxis": {
           "automargin": true,
           "gridcolor": "white",
           "linecolor": "white",
           "ticks": "",
           "title": {
            "standoff": 15
           },
           "zerolinecolor": "white",
           "zerolinewidth": 2
          }
         }
        },
        "title": {
         "text": "Elo-Ratings"
        },
        "xaxis": {
         "title": {
          "text": "Date"
         }
        },
        "yaxis": {
         "title": {
          "text": "Elo Ratings"
         }
        }
       }
      }
     },
     "metadata": {},
     "output_type": "display_data"
    }
   ],
   "source": [
    "fig = go.Figure()\n",
    "\n",
    "fig.add_trace(go.Scatter(\n",
    "    x = arsenal_elo_history['Date'],\n",
    "    y = arsenal_elo_history['Elo-rating after match'],\n",
    "    mode = 'lines',\n",
    "    name = 'Arsenal',\n",
    "    line = dict(color = 'red')\n",
    "))\n",
    "\n",
    "fig.add_trace(go.Scatter(\n",
    "    x = man_united_elo_history['Date'],\n",
    "    y = man_united_elo_history['Elo-rating after match'],\n",
    "    mode = 'lines',\n",
    "    name = 'Man United',\n",
    "    line = dict(color = 'black')\n",
    "))\n",
    "\n",
    "fig.update_layout(\n",
    "    title = 'Elo-Ratings',\n",
    "    xaxis_title = 'Date',\n",
    "    yaxis_title = 'Elo Ratings'\n",
    ")\n",
    "\n",
    "fig.show()"
   ]
  },
  {
   "cell_type": "code",
   "execution_count": 9,
   "id": "8dd0b217",
   "metadata": {},
   "outputs": [],
   "source": [
    "def plotly_chart_maker(*teams):\n",
    "\n",
    "    fig = go.Figure()\n",
    "    colors = ['red', 'blue', 'green', 'black', 'orange', 'purple', 'brown']\n",
    "    \n",
    "    for idx, team in enumerate(teams):\n",
    "        teams_elo_history = elo_ratings_history_df.loc[elo_ratings_history_df['Team'] == team]\n",
    "        color = colors[idx% len(colors)]\n",
    "        \n",
    "        fig.add_trace(go.Scatter(\n",
    "        x = teams_elo_history['Date'],\n",
    "        y = teams_elo_history['Elo-rating after match'],\n",
    "        mode = 'lines',\n",
    "        name = team,\n",
    "        line = dict(color = color)\n",
    "))\n",
    "    fig.show()"
   ]
  },
  {
   "cell_type": "code",
   "execution_count": 10,
   "id": "87eb86d4",
   "metadata": {},
   "outputs": [
    {
     "data": {
      "application/vnd.plotly.v1+json": {
       "config": {
        "plotlyServerURL": "https://plot.ly"
       },
       "data": [
        {
         "line": {
          "color": "red"
         },
         "mode": "lines",
         "name": "Arsenal",
         "type": "scatter",
         "x": [
          "1993-08-14T00:00:00.000000000",
          "1993-08-16T00:00:00.000000000",
          "1993-08-21T00:00:00.000000000",
          "1993-08-24T00:00:00.000000000",
          "1993-08-28T00:00:00.000000000",
          "1993-09-01T00:00:00.000000000",
          "1993-09-11T00:00:00.000000000",
          "1993-09-19T00:00:00.000000000",
          "1993-09-25T00:00:00.000000000",
          "1993-10-02T00:00:00.000000000",
          "1993-10-16T00:00:00.000000000",
          "1993-10-23T00:00:00.000000000",
          "1993-10-30T00:00:00.000000000",
          "1993-11-06T00:00:00.000000000",
          "1993-11-20T00:00:00.000000000",
          "1993-11-24T00:00:00.000000000",
          "1993-11-27T00:00:00.000000000",
          "1993-12-04T00:00:00.000000000",
          "1993-12-06T00:00:00.000000000",
          "1993-12-12T00:00:00.000000000",
          "1993-12-18T00:00:00.000000000",
          "1993-12-27T00:00:00.000000000",
          "1993-12-29T00:00:00.000000000",
          "1994-01-01T00:00:00.000000000",
          "1994-01-03T00:00:00.000000000",
          "1994-01-15T00:00:00.000000000",
          "1994-01-22T00:00:00.000000000",
          "1994-02-13T00:00:00.000000000",
          "1994-02-19T00:00:00.000000000",
          "1994-02-26T00:00:00.000000000",
          "1994-03-05T00:00:00.000000000",
          "1994-03-19T00:00:00.000000000",
          "1994-03-22T00:00:00.000000000",
          "1994-03-26T00:00:00.000000000",
          "1994-04-02T00:00:00.000000000",
          "1994-08-20T00:00:00.000000000",
          "1994-08-23T00:00:00.000000000",
          "1994-08-28T00:00:00.000000000",
          "1994-08-31T00:00:00.000000000",
          "1994-09-10T00:00:00.000000000",
          "1994-09-18T00:00:00.000000000",
          "1994-09-25T00:00:00.000000000",
          "1994-10-01T00:00:00.000000000",
          "1994-10-08T00:00:00.000000000",
          "1994-10-15T00:00:00.000000000",
          "1994-10-23T00:00:00.000000000",
          "1994-10-29T00:00:00.000000000",
          "1994-11-06T00:00:00.000000000",
          "1994-11-19T00:00:00.000000000",
          "1994-11-23T00:00:00.000000000",
          "1994-11-26T00:00:00.000000000",
          "1994-12-03T00:00:00.000000000",
          "1994-12-12T00:00:00.000000000",
          "1994-12-17T00:00:00.000000000",
          "1994-12-26T00:00:00.000000000",
          "1994-12-28T00:00:00.000000000",
          "1994-12-31T00:00:00.000000000",
          "1995-01-02T00:00:00.000000000",
          "1995-01-14T00:00:00.000000000",
          "1995-01-21T00:00:00.000000000",
          "1995-01-24T00:00:00.000000000",
          "1995-02-04T00:00:00.000000000",
          "1995-02-11T00:00:00.000000000",
          "1995-02-21T00:00:00.000000000",
          "1995-02-25T00:00:00.000000000",
          "1995-03-05T00:00:00.000000000",
          "1995-03-08T00:00:00.000000000",
          "1995-03-19T00:00:00.000000000",
          "1995-03-22T00:00:00.000000000",
          "1995-04-01T00:00:00.000000000",
          "1995-08-20T00:00:00.000000000",
          "1995-08-23T00:00:00.000000000",
          "1995-08-26T00:00:00.000000000",
          "1995-08-29T00:00:00.000000000",
          "1995-09-10T00:00:00.000000000",
          "1995-09-16T00:00:00.000000000",
          "1995-09-23T00:00:00.000000000",
          "1995-09-30T00:00:00.000000000",
          "1995-10-14T00:00:00.000000000",
          "1995-10-21T00:00:00.000000000",
          "1995-10-30T00:00:00.000000000",
          "1995-11-04T00:00:00.000000000",
          "1995-11-18T00:00:00.000000000",
          "1995-11-21T00:00:00.000000000",
          "1995-11-26T00:00:00.000000000",
          "1995-12-02T00:00:00.000000000",
          "1995-12-09T00:00:00.000000000",
          "1995-12-16T00:00:00.000000000",
          "1995-12-23T00:00:00.000000000",
          "1995-12-26T00:00:00.000000000",
          "1995-12-30T00:00:00.000000000",
          "1996-01-02T00:00:00.000000000",
          "1996-01-13T00:00:00.000000000",
          "1996-01-20T00:00:00.000000000",
          "1996-02-03T00:00:00.000000000",
          "1996-02-10T00:00:00.000000000",
          "1996-02-24T00:00:00.000000000",
          "1996-03-02T00:00:00.000000000",
          "1996-03-05T00:00:00.000000000",
          "1996-03-16T00:00:00.000000000",
          "1996-03-20T00:00:00.000000000",
          "1996-03-23T00:00:00.000000000",
          "1996-04-06T00:00:00.000000000",
          "1996-04-08T00:00:00.000000000",
          "1996-04-15T00:00:00.000000000",
          "1996-04-27T00:00:00.000000000",
          "1996-05-01T00:00:00.000000000",
          "1996-05-04T00:00:00.000000000",
          "1996-08-17T00:00:00.000000000",
          "1996-08-19T00:00:00.000000000",
          "1996-08-24T00:00:00.000000000",
          "1996-09-04T00:00:00.000000000",
          "1996-09-07T00:00:00.000000000",
          "1996-09-16T00:00:00.000000000",
          "1996-09-21T00:00:00.000000000",
          "1996-09-28T00:00:00.000000000",
          "1996-10-12T00:00:00.000000000",
          "1996-10-19T00:00:00.000000000",
          "1996-10-26T00:00:00.000000000",
          "1996-11-02T00:00:00.000000000",
          "1996-11-16T00:00:00.000000000",
          "1996-11-24T00:00:00.000000000",
          "1996-11-30T00:00:00.000000000",
          "1996-12-04T00:00:00.000000000",
          "1996-12-07T00:00:00.000000000",
          "1996-12-21T00:00:00.000000000",
          "1996-12-26T00:00:00.000000000",
          "1996-12-28T00:00:00.000000000",
          "1997-01-01T00:00:00.000000000",
          "1997-01-11T00:00:00.000000000",
          "1997-01-19T00:00:00.000000000",
          "1997-01-29T00:00:00.000000000",
          "1997-02-01T00:00:00.000000000",
          "1997-02-15T00:00:00.000000000",
          "1997-02-19T00:00:00.000000000",
          "1997-02-23T00:00:00.000000000",
          "1997-03-01T00:00:00.000000000",
          "1997-03-08T00:00:00.000000000",
          "1997-03-15T00:00:00.000000000",
          "1997-03-24T00:00:00.000000000",
          "1997-04-05T00:00:00.000000000",
          "1997-04-12T00:00:00.000000000",
          "1997-04-19T00:00:00.000000000",
          "1997-04-21T00:00:00.000000000",
          "1997-05-03T00:00:00.000000000",
          "1997-05-11T00:00:00.000000000",
          "1997-08-09T00:00:00.000000000",
          "1997-08-11T00:00:00.000000000",
          "1997-08-23T00:00:00.000000000",
          "1997-08-27T00:00:00.000000000",
          "1997-08-30T00:00:00.000000000",
          "1997-09-13T00:00:00.000000000",
          "1997-09-21T00:00:00.000000000",
          "1997-09-24T00:00:00.000000000",
          "1997-09-27T00:00:00.000000000",
          "1997-10-04T00:00:00.000000000",
          "1997-10-18T00:00:00.000000000",
          "1997-10-26T00:00:00.000000000",
          "1997-11-01T00:00:00.000000000",
          "1997-11-09T00:00:00.000000000",
          "1997-11-22T00:00:00.000000000",
          "1997-11-30T00:00:00.000000000",
          "1997-12-06T00:00:00.000000000",
          "1997-12-13T00:00:00.000000000",
          "1997-12-26T00:00:00.000000000",
          "1997-12-28T00:00:00.000000000",
          "1998-01-10T00:00:00.000000000",
          "1998-01-17T00:00:00.000000000",
          "1998-01-31T00:00:00.000000000",
          "1998-02-08T00:00:00.000000000",
          "1998-02-21T00:00:00.000000000",
          "1998-03-02T00:00:00.000000000",
          "1998-03-11T00:00:00.000000000",
          "1998-03-14T00:00:00.000000000",
          "1998-03-28T00:00:00.000000000",
          "1998-03-31T00:00:00.000000000",
          "1998-04-11T00:00:00.000000000",
          "1998-04-13T00:00:00.000000000",
          "1998-04-18T00:00:00.000000000",
          "1998-04-25T00:00:00.000000000",
          "1998-04-29T00:00:00.000000000",
          "1998-05-03T00:00:00.000000000",
          "1998-05-06T00:00:00.000000000",
          "1998-05-10T00:00:00.000000000",
          "1998-08-17T00:00:00.000000000",
          "1998-08-22T00:00:00.000000000",
          "1998-08-29T00:00:00.000000000",
          "1998-09-09T00:00:00.000000000",
          "1998-09-12T00:00:00.000000000",
          "1998-09-20T00:00:00.000000000",
          "1998-09-26T00:00:00.000000000",
          "1998-10-04T00:00:00.000000000",
          "1998-10-17T00:00:00.000000000",
          "1998-10-25T00:00:00.000000000",
          "1998-10-31T00:00:00.000000000",
          "1998-11-08T00:00:00.000000000",
          "1998-11-14T00:00:00.000000000",
          "1998-11-21T00:00:00.000000000",
          "1998-11-29T00:00:00.000000000",
          "1998-12-05T00:00:00.000000000",
          "1998-12-13T00:00:00.000000000",
          "1998-12-20T00:00:00.000000000",
          "1998-12-26T00:00:00.000000000",
          "1998-12-28T00:00:00.000000000",
          "1999-01-09T00:00:00.000000000",
          "1999-01-16T00:00:00.000000000",
          "1999-01-31T00:00:00.000000000",
          "1999-02-06T00:00:00.000000000",
          "1999-02-17T00:00:00.000000000",
          "1999-02-20T00:00:00.000000000",
          "1999-02-28T00:00:00.000000000",
          "1999-03-09T00:00:00.000000000",
          "1999-03-13T00:00:00.000000000",
          "1999-03-20T00:00:00.000000000",
          "1999-04-03T00:00:00.000000000",
          "1999-04-06T00:00:00.000000000",
          "1999-04-19T00:00:00.000000000",
          "1999-04-24T00:00:00.000000000",
          "1999-05-02T00:00:00.000000000",
          "1999-05-05T00:00:00.000000000",
          "1999-05-11T00:00:00.000000000",
          "1999-05-16T00:00:00.000000000",
          "1999-08-07T00:00:00.000000000",
          "1999-08-10T00:00:00.000000000",
          "1999-08-14T00:00:00.000000000",
          "1999-08-22T00:00:00.000000000",
          "1999-08-25T00:00:00.000000000",
          "1999-08-28T00:00:00.000000000",
          "1999-09-11T00:00:00.000000000",
          "1999-09-18T00:00:00.000000000",
          "1999-09-25T00:00:00.000000000",
          "1999-10-03T00:00:00.000000000",
          "1999-10-16T00:00:00.000000000",
          "1999-10-23T00:00:00.000000000",
          "1999-10-30T00:00:00.000000000",
          "1999-11-07T00:00:00.000000000",
          "1999-11-20T00:00:00.000000000",
          "1999-11-28T00:00:00.000000000",
          "1999-12-04T00:00:00.000000000",
          "1999-12-18T00:00:00.000000000",
          "1999-12-26T00:00:00.000000000",
          "1999-12-28T00:00:00.000000000",
          "2000-01-03T00:00:00.000000000",
          "2000-01-15T00:00:00.000000000",
          "2000-01-24T00:00:00.000000000",
          "2000-02-05T00:00:00.000000000",
          "2000-02-13T00:00:00.000000000",
          "2000-02-26T00:00:00.000000000",
          "2000-03-05T00:00:00.000000000",
          "2000-03-12T00:00:00.000000000",
          "2000-03-19T00:00:00.000000000",
          "2000-03-26T00:00:00.000000000",
          "2000-04-01T00:00:00.000000000",
          "2000-04-16T00:00:00.000000000",
          "2000-04-23T00:00:00.000000000",
          "2000-04-29T00:00:00.000000000",
          "2000-05-02T00:00:00.000000000",
          "2000-05-06T00:00:00.000000000",
          "2000-05-09T00:00:00.000000000",
          "2000-05-14T00:00:00.000000000",
          "2000-08-19T00:00:00.000000000",
          "2000-08-21T00:00:00.000000000",
          "2000-08-26T00:00:00.000000000",
          "2000-09-06T00:00:00.000000000",
          "2000-09-09T00:00:00.000000000",
          "2000-09-16T00:00:00.000000000",
          "2000-09-23T00:00:00.000000000",
          "2000-10-01T00:00:00.000000000",
          "2000-10-14T00:00:00.000000000",
          "2000-10-21T00:00:00.000000000",
          "2000-10-28T00:00:00.000000000",
          "2000-11-04T00:00:00.000000000",
          "2000-11-11T00:00:00.000000000",
          "2000-11-18T00:00:00.000000000",
          "2000-11-26T00:00:00.000000000",
          "2000-12-02T00:00:00.000000000",
          "2000-12-09T00:00:00.000000000",
          "2000-12-18T00:00:00.000000000",
          "2000-12-23T00:00:00.000000000",
          "2000-12-26T00:00:00.000000000",
          "2000-12-30T00:00:00.000000000",
          "2001-01-01T00:00:00.000000000",
          "2001-01-13T00:00:00.000000000",
          "2001-01-20T00:00:00.000000000",
          "2001-01-30T00:00:00.000000000",
          "2001-02-03T00:00:00.000000000",
          "2001-02-10T00:00:00.000000000",
          "2001-02-25T00:00:00.000000000",
          "2001-03-03T00:00:00.000000000",
          "2001-03-18T00:00:00.000000000",
          "2001-03-31T00:00:00.000000000",
          "2001-04-11T00:00:00.000000000",
          "2001-04-14T00:00:00.000000000",
          "2001-04-21T00:00:00.000000000",
          "2001-04-28T00:00:00.000000000",
          "2001-05-05T00:00:00.000000000",
          "2001-05-15T00:00:00.000000000",
          "2001-05-19T00:00:00.000000000",
          "2001-08-18T00:00:00.000000000",
          "2001-08-21T00:00:00.000000000",
          "2001-08-25T00:00:00.000000000",
          "2001-09-08T00:00:00.000000000",
          "2001-09-15T00:00:00.000000000",
          "2001-09-22T00:00:00.000000000",
          "2001-09-29T00:00:00.000000000",
          "2001-10-13T00:00:00.000000000",
          "2001-10-20T00:00:00.000000000",
          "2001-10-27T00:00:00.000000000",
          "2001-11-04T00:00:00.000000000",
          "2001-11-17T00:00:00.000000000",
          "2001-11-25T00:00:00.000000000",
          "2001-12-01T00:00:00.000000000",
          "2001-12-09T00:00:00.000000000",
          "2001-12-15T00:00:00.000000000",
          "2001-12-18T00:00:00.000000000",
          "2001-12-23T00:00:00.000000000",
          "2001-12-26T00:00:00.000000000",
          "2001-12-29T00:00:00.000000000",
          "2002-01-13T00:00:00.000000000",
          "2002-01-20T00:00:00.000000000",
          "2002-01-23T00:00:00.000000000",
          "2002-01-30T00:00:00.000000000",
          "2002-02-02T00:00:00.000000000",
          "2002-02-10T00:00:00.000000000",
          "2002-02-23T00:00:00.000000000",
          "2002-03-02T00:00:00.000000000",
          "2002-03-05T00:00:00.000000000",
          "2002-03-17T00:00:00.000000000",
          "2002-03-30T00:00:00.000000000",
          "2002-04-01T00:00:00.000000000",
          "2002-04-06T00:00:00.000000000",
          "2002-04-21T00:00:00.000000000",
          "2002-04-24T00:00:00.000000000",
          "2002-04-29T00:00:00.000000000",
          "2002-05-08T00:00:00.000000000",
          "2002-05-11T00:00:00.000000000",
          "2002-08-18T00:00:00.000000000",
          "2002-08-24T00:00:00.000000000",
          "2002-08-27T00:00:00.000000000",
          "2002-09-01T00:00:00.000000000",
          "2002-09-10T00:00:00.000000000",
          "2002-09-14T00:00:00.000000000",
          "2002-09-21T00:00:00.000000000",
          "2002-09-28T00:00:00.000000000",
          "2002-10-06T00:00:00.000000000",
          "2002-10-19T00:00:00.000000000",
          "2002-10-26T00:00:00.000000000",
          "2002-11-03T00:00:00.000000000",
          "2002-11-09T00:00:00.000000000",
          "2002-11-16T00:00:00.000000000",
          "2002-11-23T00:00:00.000000000",
          "2002-11-30T00:00:00.000000000",
          "2002-12-07T00:00:00.000000000",
          "2002-12-15T00:00:00.000000000",
          "2002-12-21T00:00:00.000000000",
          "2002-12-26T00:00:00.000000000",
          "2002-12-29T00:00:00.000000000",
          "2003-01-01T00:00:00.000000000",
          "2003-01-12T00:00:00.000000000",
          "2003-01-19T00:00:00.000000000",
          "2003-01-29T00:00:00.000000000",
          "2003-02-01T00:00:00.000000000",
          "2003-02-09T00:00:00.000000000",
          "2003-02-22T00:00:00.000000000",
          "2003-03-02T00:00:00.000000000",
          "2003-03-15T00:00:00.000000000",
          "2003-03-23T00:00:00.000000000",
          "2003-04-05T00:00:00.000000000",
          "2003-04-16T00:00:00.000000000",
          "2003-04-19T00:00:00.000000000",
          "2003-04-26T00:00:00.000000000",
          "2003-05-04T00:00:00.000000000",
          "2003-05-07T00:00:00.000000000",
          "2003-05-11T00:00:00.000000000",
          "2003-08-16T00:00:00.000000000",
          "2003-08-24T00:00:00.000000000",
          "2003-08-27T00:00:00.000000000",
          "2003-08-31T00:00:00.000000000",
          "2003-09-13T00:00:00.000000000",
          "2003-09-21T00:00:00.000000000",
          "2003-09-26T00:00:00.000000000",
          "2003-10-04T00:00:00.000000000",
          "2003-10-18T00:00:00.000000000",
          "2003-10-26T00:00:00.000000000",
          "2003-11-01T00:00:00.000000000",
          "2003-11-08T00:00:00.000000000",
          "2003-11-22T00:00:00.000000000",
          "2003-11-30T00:00:00.000000000",
          "2003-12-06T00:00:00.000000000",
          "2003-12-14T00:00:00.000000000",
          "2003-12-20T00:00:00.000000000",
          "2003-12-26T00:00:00.000000000",
          "2003-12-29T00:00:00.000000000",
          "2004-01-07T00:00:00.000000000",
          "2004-01-10T00:00:00.000000000",
          "2004-01-18T00:00:00.000000000",
          "2004-02-01T00:00:00.000000000",
          "2004-02-07T00:00:00.000000000",
          "2004-02-10T00:00:00.000000000",
          "2004-02-21T00:00:00.000000000",
          "2004-02-28T00:00:00.000000000",
          "2004-03-13T00:00:00.000000000",
          "2004-03-20T00:00:00.000000000",
          "2004-03-28T00:00:00.000000000",
          "2004-04-09T00:00:00.000000000",
          "2004-04-11T00:00:00.000000000",
          "2004-04-16T00:00:00.000000000",
          "2004-04-25T00:00:00.000000000",
          "2004-05-01T00:00:00.000000000",
          "2004-05-04T00:00:00.000000000",
          "2004-05-09T00:00:00.000000000",
          "2004-05-15T00:00:00.000000000",
          "2004-08-15T00:00:00.000000000",
          "2004-08-22T00:00:00.000000000",
          "2004-08-25T00:00:00.000000000",
          "2004-08-28T00:00:00.000000000",
          "2004-09-11T00:00:00.000000000",
          "2004-09-18T00:00:00.000000000",
          "2004-09-25T00:00:00.000000000",
          "2004-10-02T00:00:00.000000000",
          "2004-10-16T00:00:00.000000000",
          "2004-10-24T00:00:00.000000000",
          "2004-10-30T00:00:00.000000000",
          "2004-11-06T00:00:00.000000000",
          "2004-11-13T00:00:00.000000000",
          "2004-11-20T00:00:00.000000000",
          "2004-11-28T00:00:00.000000000",
          "2004-12-04T00:00:00.000000000",
          "2004-12-12T00:00:00.000000000",
          "2004-12-19T00:00:00.000000000",
          "2004-12-26T00:00:00.000000000",
          "2004-12-29T00:00:00.000000000",
          "2005-01-01T00:00:00.000000000",
          "2005-01-04T00:00:00.000000000",
          "2005-01-15T00:00:00.000000000",
          "2005-01-23T00:00:00.000000000",
          "2005-02-01T00:00:00.000000000",
          "2005-02-05T00:00:00.000000000",
          "2005-02-14T00:00:00.000000000",
          "2005-02-26T00:00:00.000000000",
          "2005-03-05T00:00:00.000000000",
          "2005-03-19T00:00:00.000000000",
          "2005-04-02T00:00:00.000000000",
          "2005-04-09T00:00:00.000000000",
          "2005-04-20T00:00:00.000000000",
          "2005-04-25T00:00:00.000000000",
          "2005-05-02T00:00:00.000000000",
          "2005-05-08T00:00:00.000000000",
          "2005-05-11T00:00:00.000000000",
          "2005-05-15T00:00:00.000000000",
          "2005-08-14T00:00:00.000000000",
          "2005-08-21T00:00:00.000000000",
          "2005-08-24T00:00:00.000000000",
          "2005-09-10T00:00:00.000000000",
          "2005-09-19T00:00:00.000000000",
          "2005-09-24T00:00:00.000000000",
          "2005-10-02T00:00:00.000000000",
          "2005-10-15T00:00:00.000000000",
          "2005-10-22T00:00:00.000000000",
          "2005-10-29T00:00:00.000000000",
          "2005-11-05T00:00:00.000000000",
          "2005-11-19T00:00:00.000000000",
          "2005-11-26T00:00:00.000000000",
          "2005-12-03T00:00:00.000000000",
          "2005-12-10T00:00:00.000000000",
          "2005-12-18T00:00:00.000000000",
          "2005-12-26T00:00:00.000000000",
          "2005-12-28T00:00:00.000000000",
          "2005-12-31T00:00:00.000000000",
          "2006-01-03T00:00:00.000000000",
          "2006-01-14T00:00:00.000000000",
          "2006-01-21T00:00:00.000000000",
          "2006-02-01T00:00:00.000000000",
          "2006-02-04T00:00:00.000000000",
          "2006-02-11T00:00:00.000000000",
          "2006-02-14T00:00:00.000000000",
          "2006-02-25T00:00:00.000000000",
          "2006-03-04T00:00:00.000000000",
          "2006-03-12T00:00:00.000000000",
          "2006-03-18T00:00:00.000000000",
          "2006-04-01T00:00:00.000000000",
          "2006-04-09T00:00:00.000000000",
          "2006-04-12T00:00:00.000000000",
          "2006-04-15T00:00:00.000000000",
          "2006-04-22T00:00:00.000000000",
          "2006-05-01T00:00:00.000000000",
          "2006-05-04T00:00:00.000000000",
          "2006-05-07T00:00:00.000000000",
          "2006-08-19T00:00:00.000000000",
          "2006-08-26T00:00:00.000000000",
          "2006-09-09T00:00:00.000000000",
          "2006-09-17T00:00:00.000000000",
          "2006-09-23T00:00:00.000000000",
          "2006-09-30T00:00:00.000000000",
          "2006-10-14T00:00:00.000000000",
          "2006-10-22T00:00:00.000000000",
          "2006-10-28T00:00:00.000000000",
          "2006-11-05T00:00:00.000000000",
          "2006-11-12T00:00:00.000000000",
          "2006-11-18T00:00:00.000000000",
          "2006-11-25T00:00:00.000000000",
          "2006-11-29T00:00:00.000000000",
          "2006-12-02T00:00:00.000000000",
          "2006-12-10T00:00:00.000000000",
          "2006-12-13T00:00:00.000000000",
          "2006-12-16T00:00:00.000000000",
          "2006-12-23T00:00:00.000000000",
          "2006-12-26T00:00:00.000000000",
          "2006-12-30T00:00:00.000000000",
          "2007-01-02T00:00:00.000000000",
          "2007-01-13T00:00:00.000000000",
          "2007-01-21T00:00:00.000000000",
          "2007-02-03T00:00:00.000000000",
          "2007-02-11T00:00:00.000000000",
          "2007-03-03T00:00:00.000000000",
          "2007-03-14T00:00:00.000000000",
          "2007-03-18T00:00:00.000000000",
          "2007-03-31T00:00:00.000000000",
          "2007-04-07T00:00:00.000000000",
          "2007-04-09T00:00:00.000000000",
          "2007-04-14T00:00:00.000000000",
          "2007-04-17T00:00:00.000000000",
          "2007-04-21T00:00:00.000000000",
          "2007-04-29T00:00:00.000000000",
          "2007-05-06T00:00:00.000000000",
          "2007-05-13T00:00:00.000000000",
          "2007-08-12T00:00:00.000000000",
          "2007-08-19T00:00:00.000000000",
          "2007-08-25T00:00:00.000000000",
          "2007-09-02T00:00:00.000000000",
          "2007-09-15T00:00:00.000000000",
          "2007-09-22T00:00:00.000000000",
          "2007-09-29T00:00:00.000000000",
          "2007-10-07T00:00:00.000000000",
          "2007-10-20T00:00:00.000000000",
          "2007-10-28T00:00:00.000000000",
          "2007-11-03T00:00:00.000000000",
          "2007-11-12T00:00:00.000000000",
          "2007-11-24T00:00:00.000000000",
          "2007-12-01T00:00:00.000000000",
          "2007-12-05T00:00:00.000000000",
          "2007-12-09T00:00:00.000000000",
          "2007-12-16T00:00:00.000000000",
          "2007-12-22T00:00:00.000000000",
          "2007-12-26T00:00:00.000000000",
          "2007-12-29T00:00:00.000000000",
          "2008-01-01T00:00:00.000000000",
          "2008-01-12T00:00:00.000000000",
          "2008-01-19T00:00:00.000000000",
          "2008-01-29T00:00:00.000000000",
          "2008-02-02T00:00:00.000000000",
          "2008-02-11T00:00:00.000000000",
          "2008-02-23T00:00:00.000000000",
          "2008-03-01T00:00:00.000000000",
          "2008-03-09T00:00:00.000000000",
          "2008-03-15T00:00:00.000000000",
          "2008-03-23T00:00:00.000000000",
          "2008-03-29T00:00:00.000000000",
          "2008-04-05T00:00:00.000000000",
          "2008-04-13T00:00:00.000000000",
          "2008-04-19T00:00:00.000000000",
          "2008-04-28T00:00:00.000000000",
          "2008-05-04T00:00:00.000000000",
          "2008-05-11T00:00:00.000000000",
          "2008-08-16T00:00:00.000000000",
          "2008-08-23T00:00:00.000000000",
          "2008-08-30T00:00:00.000000000",
          "2008-09-13T00:00:00.000000000",
          "2008-09-20T00:00:00.000000000",
          "2008-09-27T00:00:00.000000000",
          "2008-10-04T00:00:00.000000000",
          "2008-10-18T00:00:00.000000000",
          "2008-10-26T00:00:00.000000000",
          "2008-10-29T00:00:00.000000000",
          "2008-11-01T00:00:00.000000000",
          "2008-11-08T00:00:00.000000000",
          "2008-11-15T00:00:00.000000000",
          "2008-11-22T00:00:00.000000000",
          "2008-11-30T00:00:00.000000000",
          "2008-12-06T00:00:00.000000000",
          "2008-12-13T00:00:00.000000000",
          "2008-12-21T00:00:00.000000000",
          "2008-12-26T00:00:00.000000000",
          "2008-12-28T00:00:00.000000000",
          "2009-01-10T00:00:00.000000000",
          "2009-01-17T00:00:00.000000000",
          "2009-01-28T00:00:00.000000000",
          "2009-01-31T00:00:00.000000000",
          "2009-02-08T00:00:00.000000000",
          "2009-02-21T00:00:00.000000000",
          "2009-02-28T00:00:00.000000000",
          "2009-03-03T00:00:00.000000000",
          "2009-03-14T00:00:00.000000000",
          "2009-03-21T00:00:00.000000000",
          "2009-04-04T00:00:00.000000000",
          "2009-04-11T00:00:00.000000000",
          "2009-04-21T00:00:00.000000000",
          "2009-04-26T00:00:00.000000000",
          "2009-05-02T00:00:00.000000000",
          "2009-05-10T00:00:00.000000000",
          "2009-05-16T00:00:00.000000000",
          "2009-05-24T00:00:00.000000000",
          "2009-08-15T00:00:00.000000000",
          "2009-08-22T00:00:00.000000000",
          "2009-08-29T00:00:00.000000000",
          "2009-09-12T00:00:00.000000000",
          "2009-09-19T00:00:00.000000000",
          "2009-09-26T00:00:00.000000000",
          "2009-10-04T00:00:00.000000000",
          "2009-10-17T00:00:00.000000000",
          "2009-10-25T00:00:00.000000000",
          "2009-10-31T00:00:00.000000000",
          "2009-11-07T00:00:00.000000000",
          "2009-11-21T00:00:00.000000000",
          "2009-11-29T00:00:00.000000000",
          "2009-12-05T00:00:00.000000000",
          "2009-12-13T00:00:00.000000000",
          "2009-12-16T00:00:00.000000000",
          "2009-12-19T00:00:00.000000000",
          "2009-12-27T00:00:00.000000000",
          "2009-12-30T00:00:00.000000000",
          "2010-01-09T00:00:00.000000000",
          "2010-01-17T00:00:00.000000000",
          "2010-01-20T00:00:00.000000000",
          "2010-01-27T00:00:00.000000000",
          "2010-01-31T00:00:00.000000000",
          "2010-02-07T00:00:00.000000000",
          "2010-02-10T00:00:00.000000000",
          "2010-02-20T00:00:00.000000000",
          "2010-02-27T00:00:00.000000000",
          "2010-03-06T00:00:00.000000000",
          "2010-03-13T00:00:00.000000000",
          "2010-03-20T00:00:00.000000000",
          "2010-03-27T00:00:00.000000000",
          "2010-04-03T00:00:00.000000000",
          "2010-04-14T00:00:00.000000000",
          "2010-04-18T00:00:00.000000000",
          "2010-04-24T00:00:00.000000000",
          "2010-05-03T00:00:00.000000000",
          "2010-05-09T00:00:00.000000000",
          "2010-08-15T00:00:00.000000000",
          "2010-08-21T00:00:00.000000000",
          "2010-08-28T00:00:00.000000000",
          "2010-09-11T00:00:00.000000000",
          "2010-09-18T00:00:00.000000000",
          "2010-09-25T00:00:00.000000000",
          "2010-10-03T00:00:00.000000000",
          "2010-10-16T00:00:00.000000000",
          "2010-10-24T00:00:00.000000000",
          "2010-10-30T00:00:00.000000000",
          "2010-11-07T00:00:00.000000000",
          "2010-11-10T00:00:00.000000000",
          "2010-11-14T00:00:00.000000000",
          "2010-11-20T00:00:00.000000000",
          "2010-11-27T00:00:00.000000000",
          "2010-12-04T00:00:00.000000000",
          "2010-12-13T00:00:00.000000000",
          "2010-12-27T00:00:00.000000000",
          "2010-12-29T00:00:00.000000000",
          "2011-01-01T00:00:00.000000000",
          "2011-01-05T00:00:00.000000000",
          "2011-01-15T00:00:00.000000000",
          "2011-01-22T00:00:00.000000000",
          "2011-02-01T00:00:00.000000000",
          "2011-02-05T00:00:00.000000000",
          "2011-02-12T00:00:00.000000000",
          "2011-02-23T00:00:00.000000000",
          "2011-03-05T00:00:00.000000000",
          "2011-03-19T00:00:00.000000000",
          "2011-04-02T00:00:00.000000000",
          "2011-04-10T00:00:00.000000000",
          "2011-04-17T00:00:00.000000000",
          "2011-04-20T00:00:00.000000000",
          "2011-04-24T00:00:00.000000000",
          "2011-05-01T00:00:00.000000000",
          "2011-05-08T00:00:00.000000000",
          "2011-05-15T00:00:00.000000000",
          "2011-05-22T00:00:00.000000000",
          "2011-08-13T00:00:00.000000000",
          "2011-08-20T00:00:00.000000000",
          "2011-08-28T00:00:00.000000000",
          "2011-09-10T00:00:00.000000000",
          "2011-09-17T00:00:00.000000000",
          "2011-09-24T00:00:00.000000000",
          "2011-10-02T00:00:00.000000000",
          "2011-10-16T00:00:00.000000000",
          "2011-10-23T00:00:00.000000000",
          "2011-10-29T00:00:00.000000000",
          "2011-11-05T00:00:00.000000000",
          "2011-11-19T00:00:00.000000000",
          "2011-11-26T00:00:00.000000000",
          "2011-12-03T00:00:00.000000000",
          "2011-12-10T00:00:00.000000000",
          "2011-12-18T00:00:00.000000000",
          "2011-12-21T00:00:00.000000000",
          "2011-12-27T00:00:00.000000000",
          "2011-12-31T00:00:00.000000000",
          "2012-01-02T00:00:00.000000000",
          "2012-01-15T00:00:00.000000000",
          "2012-01-22T00:00:00.000000000",
          "2012-02-01T00:00:00.000000000",
          "2012-02-04T00:00:00.000000000",
          "2012-02-11T00:00:00.000000000",
          "2012-02-26T00:00:00.000000000",
          "2012-03-03T00:00:00.000000000",
          "2012-03-12T00:00:00.000000000",
          "2012-03-21T00:00:00.000000000",
          "2012-03-24T00:00:00.000000000",
          "2012-03-31T00:00:00.000000000",
          "2012-04-08T00:00:00.000000000",
          "2012-04-11T00:00:00.000000000",
          "2012-04-16T00:00:00.000000000",
          "2012-04-21T00:00:00.000000000",
          "2012-04-28T00:00:00.000000000",
          "2012-05-05T00:00:00.000000000",
          "2012-05-13T00:00:00.000000000",
          "2012-08-18T00:00:00.000000000",
          "2012-08-26T00:00:00.000000000",
          "2012-09-02T00:00:00.000000000",
          "2012-09-15T00:00:00.000000000",
          "2012-09-23T00:00:00.000000000",
          "2012-09-29T00:00:00.000000000",
          "2012-10-06T00:00:00.000000000",
          "2012-10-20T00:00:00.000000000",
          "2012-10-27T00:00:00.000000000",
          "2012-11-03T00:00:00.000000000",
          "2012-11-10T00:00:00.000000000",
          "2012-11-17T00:00:00.000000000",
          "2012-11-24T00:00:00.000000000",
          "2012-11-28T00:00:00.000000000",
          "2012-12-01T00:00:00.000000000",
          "2012-12-08T00:00:00.000000000",
          "2012-12-17T00:00:00.000000000",
          "2012-12-22T00:00:00.000000000",
          "2012-12-29T00:00:00.000000000",
          "2013-01-01T00:00:00.000000000",
          "2013-01-13T00:00:00.000000000",
          "2013-01-20T00:00:00.000000000",
          "2013-01-23T00:00:00.000000000",
          "2013-01-30T00:00:00.000000000",
          "2013-02-02T00:00:00.000000000",
          "2013-02-09T00:00:00.000000000",
          "2013-02-23T00:00:00.000000000",
          "2013-03-03T00:00:00.000000000",
          "2013-03-16T00:00:00.000000000",
          "2013-03-30T00:00:00.000000000",
          "2013-04-06T00:00:00.000000000",
          "2013-04-13T00:00:00.000000000",
          "2013-04-16T00:00:00.000000000",
          "2013-04-20T00:00:00.000000000",
          "2013-04-28T00:00:00.000000000",
          "2013-05-04T00:00:00.000000000",
          "2013-05-14T00:00:00.000000000",
          "2013-05-19T00:00:00.000000000",
          "2013-08-17T00:00:00.000000000",
          "2013-08-24T00:00:00.000000000",
          "2013-09-01T00:00:00.000000000",
          "2013-09-14T00:00:00.000000000",
          "2013-09-22T00:00:00.000000000",
          "2013-09-28T00:00:00.000000000",
          "2013-10-06T00:00:00.000000000",
          "2013-10-19T00:00:00.000000000",
          "2013-10-26T00:00:00.000000000",
          "2013-11-02T00:00:00.000000000",
          "2013-11-10T00:00:00.000000000",
          "2013-11-23T00:00:00.000000000",
          "2013-11-30T00:00:00.000000000",
          "2013-12-04T00:00:00.000000000",
          "2013-12-08T00:00:00.000000000",
          "2013-12-14T00:00:00.000000000",
          "2013-12-23T00:00:00.000000000",
          "2013-12-26T00:00:00.000000000",
          "2013-12-29T00:00:00.000000000",
          "2014-01-01T00:00:00.000000000",
          "2014-01-13T00:00:00.000000000",
          "2014-01-18T00:00:00.000000000",
          "2014-01-28T00:00:00.000000000",
          "2014-02-02T00:00:00.000000000",
          "2014-02-08T00:00:00.000000000",
          "2014-02-12T00:00:00.000000000",
          "2014-02-22T00:00:00.000000000",
          "2014-03-01T00:00:00.000000000",
          "2014-03-16T00:00:00.000000000",
          "2014-03-22T00:00:00.000000000",
          "2014-03-25T00:00:00.000000000",
          "2014-03-29T00:00:00.000000000",
          "2014-04-06T00:00:00.000000000",
          "2014-04-15T00:00:00.000000000",
          "2014-04-20T00:00:00.000000000",
          "2014-04-28T00:00:00.000000000",
          "2014-05-04T00:00:00.000000000",
          "2014-05-11T00:00:00.000000000",
          "2014-08-16T00:00:00.000000000",
          "2014-08-23T00:00:00.000000000",
          "2014-08-31T00:00:00.000000000",
          "2014-09-13T00:00:00.000000000",
          "2014-09-20T00:00:00.000000000",
          "2014-09-27T00:00:00.000000000",
          "2014-10-05T00:00:00.000000000",
          "2014-10-18T00:00:00.000000000",
          "2014-10-25T00:00:00.000000000",
          "2014-11-01T00:00:00.000000000",
          "2014-11-09T00:00:00.000000000",
          "2014-11-22T00:00:00.000000000",
          "2014-11-29T00:00:00.000000000",
          "2014-12-03T00:00:00.000000000",
          "2014-12-06T00:00:00.000000000",
          "2014-12-13T00:00:00.000000000",
          "2014-12-21T00:00:00.000000000",
          "2014-12-26T00:00:00.000000000",
          "2014-12-28T00:00:00.000000000",
          "2015-01-01T00:00:00.000000000",
          "2015-01-11T00:00:00.000000000",
          "2015-01-18T00:00:00.000000000",
          "2015-02-01T00:00:00.000000000",
          "2015-02-07T00:00:00.000000000",
          "2015-02-10T00:00:00.000000000",
          "2015-02-21T00:00:00.000000000",
          "2015-03-01T00:00:00.000000000",
          "2015-03-04T00:00:00.000000000",
          "2015-03-14T00:00:00.000000000",
          "2015-03-21T00:00:00.000000000",
          "2015-04-04T00:00:00.000000000",
          "2015-04-11T00:00:00.000000000",
          "2015-04-26T00:00:00.000000000",
          "2015-05-04T00:00:00.000000000",
          "2015-05-11T00:00:00.000000000",
          "2015-05-17T00:00:00.000000000",
          "2015-05-20T00:00:00.000000000",
          "2015-05-24T00:00:00.000000000",
          "2015-08-09T00:00:00.000000000",
          "2015-08-16T00:00:00.000000000",
          "2015-08-24T00:00:00.000000000",
          "2015-08-29T00:00:00.000000000",
          "2015-09-12T00:00:00.000000000",
          "2015-09-19T00:00:00.000000000",
          "2015-09-26T00:00:00.000000000",
          "2015-10-04T00:00:00.000000000",
          "2015-10-17T00:00:00.000000000",
          "2015-10-24T00:00:00.000000000",
          "2015-10-31T00:00:00.000000000",
          "2015-11-08T00:00:00.000000000",
          "2015-11-21T00:00:00.000000000",
          "2015-11-29T00:00:00.000000000",
          "2015-12-05T00:00:00.000000000",
          "2015-12-13T00:00:00.000000000",
          "2015-12-21T00:00:00.000000000",
          "2015-12-26T00:00:00.000000000",
          "2015-12-28T00:00:00.000000000",
          "2016-01-02T00:00:00.000000000",
          "2016-01-13T00:00:00.000000000",
          "2016-01-17T00:00:00.000000000",
          "2016-01-24T00:00:00.000000000",
          "2016-02-02T00:00:00.000000000",
          "2016-02-07T00:00:00.000000000",
          "2016-02-14T00:00:00.000000000",
          "2016-02-28T00:00:00.000000000",
          "2016-03-02T00:00:00.000000000",
          "2016-03-05T00:00:00.000000000",
          "2016-03-19T00:00:00.000000000",
          "2016-04-02T00:00:00.000000000",
          "2016-04-09T00:00:00.000000000",
          "2016-04-17T00:00:00.000000000",
          "2016-04-21T00:00:00.000000000",
          "2016-04-24T00:00:00.000000000",
          "2016-04-30T00:00:00.000000000",
          "2016-05-08T00:00:00.000000000",
          "2016-05-15T00:00:00.000000000",
          "2016-08-14T00:00:00.000000000",
          "2016-08-20T00:00:00.000000000",
          "2016-08-27T00:00:00.000000000",
          "2016-09-10T00:00:00.000000000",
          "2016-09-17T00:00:00.000000000",
          "2016-09-24T00:00:00.000000000",
          "2016-10-02T00:00:00.000000000",
          "2016-10-15T00:00:00.000000000",
          "2016-10-22T00:00:00.000000000",
          "2016-10-29T00:00:00.000000000",
          "2016-11-06T00:00:00.000000000",
          "2016-11-19T00:00:00.000000000",
          "2016-11-27T00:00:00.000000000",
          "2016-12-03T00:00:00.000000000",
          "2016-12-10T00:00:00.000000000",
          "2016-12-13T00:00:00.000000000",
          "2016-12-18T00:00:00.000000000",
          "2016-12-26T00:00:00.000000000",
          "2017-01-01T00:00:00.000000000",
          "2017-01-03T00:00:00.000000000",
          "2017-01-14T00:00:00.000000000",
          "2017-01-22T00:00:00.000000000",
          "2017-01-31T00:00:00.000000000",
          "2017-02-04T00:00:00.000000000",
          "2017-02-11T00:00:00.000000000",
          "2017-03-04T00:00:00.000000000",
          "2017-03-18T00:00:00.000000000",
          "2017-04-02T00:00:00.000000000",
          "2017-04-05T00:00:00.000000000",
          "2017-04-10T00:00:00.000000000",
          "2017-04-17T00:00:00.000000000",
          "2017-04-26T00:00:00.000000000",
          "2017-04-30T00:00:00.000000000",
          "2017-05-07T00:00:00.000000000",
          "2017-05-10T00:00:00.000000000",
          "2017-05-13T00:00:00.000000000",
          "2017-05-16T00:00:00.000000000",
          "2017-05-21T00:00:00.000000000",
          "2017-08-11T00:00:00.000000000",
          "2017-08-19T00:00:00.000000000",
          "2017-08-27T00:00:00.000000000",
          "2017-09-09T00:00:00.000000000",
          "2017-09-17T00:00:00.000000000",
          "2017-09-25T00:00:00.000000000",
          "2017-10-01T00:00:00.000000000",
          "2017-10-14T00:00:00.000000000",
          "2017-10-22T00:00:00.000000000",
          "2017-10-28T00:00:00.000000000",
          "2017-11-05T00:00:00.000000000",
          "2017-11-18T00:00:00.000000000",
          "2017-11-26T00:00:00.000000000",
          "2017-11-29T00:00:00.000000000",
          "2017-12-02T00:00:00.000000000",
          "2017-12-10T00:00:00.000000000",
          "2017-12-13T00:00:00.000000000",
          "2017-12-16T00:00:00.000000000",
          "2017-12-22T00:00:00.000000000",
          "2017-12-28T00:00:00.000000000",
          "2017-12-31T00:00:00.000000000",
          "2018-01-03T00:00:00.000000000",
          "2018-01-14T00:00:00.000000000",
          "2018-01-20T00:00:00.000000000",
          "2018-01-30T00:00:00.000000000",
          "2018-02-03T00:00:00.000000000",
          "2018-02-10T00:00:00.000000000",
          "2018-03-01T00:00:00.000000000",
          "2018-03-04T00:00:00.000000000",
          "2018-03-11T00:00:00.000000000",
          "2018-04-01T00:00:00.000000000",
          "2018-04-08T00:00:00.000000000",
          "2018-04-15T00:00:00.000000000",
          "2018-04-22T00:00:00.000000000",
          "2018-04-29T00:00:00.000000000",
          "2018-05-06T00:00:00.000000000",
          "2018-05-09T00:00:00.000000000",
          "2018-05-13T00:00:00.000000000",
          "2018-08-12T00:00:00.000000000",
          "2018-08-18T00:00:00.000000000",
          "2018-08-25T00:00:00.000000000",
          "2018-09-02T00:00:00.000000000",
          "2018-09-15T00:00:00.000000000",
          "2018-09-23T00:00:00.000000000",
          "2018-09-29T00:00:00.000000000",
          "2018-10-07T00:00:00.000000000",
          "2018-10-22T00:00:00.000000000",
          "2018-10-28T00:00:00.000000000",
          "2018-11-03T00:00:00.000000000",
          "2018-11-11T00:00:00.000000000",
          "2018-11-25T00:00:00.000000000",
          "2018-12-02T00:00:00.000000000",
          "2018-12-05T00:00:00.000000000",
          "2018-12-08T00:00:00.000000000",
          "2018-12-16T00:00:00.000000000",
          "2018-12-22T00:00:00.000000000",
          "2018-12-26T00:00:00.000000000",
          "2018-12-29T00:00:00.000000000",
          "2019-01-01T00:00:00.000000000",
          "2019-01-12T00:00:00.000000000",
          "2019-01-19T00:00:00.000000000",
          "2019-01-29T00:00:00.000000000",
          "2019-02-03T00:00:00.000000000",
          "2019-02-09T00:00:00.000000000",
          "2019-02-24T00:00:00.000000000",
          "2019-02-27T00:00:00.000000000",
          "2019-03-02T00:00:00.000000000",
          "2019-03-10T00:00:00.000000000",
          "2019-04-01T00:00:00.000000000",
          "2019-04-07T00:00:00.000000000",
          "2019-04-15T00:00:00.000000000",
          "2019-04-21T00:00:00.000000000",
          "2019-04-24T00:00:00.000000000",
          "2019-04-28T00:00:00.000000000",
          "2019-05-05T00:00:00.000000000",
          "2019-05-12T00:00:00.000000000",
          "2019-08-11T00:00:00.000000000",
          "2019-08-17T00:00:00.000000000",
          "2019-08-24T00:00:00.000000000",
          "2019-09-01T00:00:00.000000000",
          "2019-09-15T00:00:00.000000000",
          "2019-09-22T00:00:00.000000000",
          "2019-09-30T00:00:00.000000000",
          "2019-10-06T00:00:00.000000000",
          "2019-10-21T00:00:00.000000000",
          "2019-10-27T00:00:00.000000000",
          "2019-11-02T00:00:00.000000000",
          "2019-11-09T00:00:00.000000000",
          "2019-11-23T00:00:00.000000000",
          "2019-12-01T00:00:00.000000000",
          "2019-12-05T00:00:00.000000000",
          "2019-12-09T00:00:00.000000000",
          "2019-12-15T00:00:00.000000000",
          "2019-12-21T00:00:00.000000000",
          "2019-12-26T00:00:00.000000000",
          "2019-12-29T00:00:00.000000000",
          "2020-01-01T00:00:00.000000000",
          "2020-01-11T00:00:00.000000000",
          "2020-01-18T00:00:00.000000000",
          "2020-01-21T00:00:00.000000000",
          "2020-02-02T00:00:00.000000000",
          "2020-02-16T00:00:00.000000000",
          "2020-02-23T00:00:00.000000000",
          "2020-03-07T00:00:00.000000000",
          "2020-06-17T00:00:00.000000000",
          "2020-06-20T00:00:00.000000000",
          "2020-06-25T00:00:00.000000000",
          "2020-07-01T00:00:00.000000000",
          "2020-07-04T00:00:00.000000000",
          "2020-07-07T00:00:00.000000000",
          "2020-07-12T00:00:00.000000000",
          "2020-07-15T00:00:00.000000000",
          "2020-07-21T00:00:00.000000000",
          "2020-07-26T00:00:00.000000000",
          "2020-09-12T00:00:00.000000000",
          "2020-09-19T00:00:00.000000000",
          "2020-09-28T00:00:00.000000000",
          "2020-10-04T00:00:00.000000000",
          "2020-10-17T00:00:00.000000000",
          "2020-10-25T00:00:00.000000000",
          "2020-11-01T00:00:00.000000000",
          "2020-11-08T00:00:00.000000000",
          "2020-11-22T00:00:00.000000000",
          "2020-11-29T00:00:00.000000000",
          "2020-12-06T00:00:00.000000000",
          "2020-12-13T00:00:00.000000000",
          "2020-12-16T00:00:00.000000000",
          "2020-12-19T00:00:00.000000000",
          "2020-12-26T00:00:00.000000000",
          "2020-12-29T00:00:00.000000000",
          "2021-01-02T00:00:00.000000000",
          "2021-01-14T00:00:00.000000000",
          "2021-01-18T00:00:00.000000000",
          "2021-01-26T00:00:00.000000000",
          "2021-01-30T00:00:00.000000000",
          "2021-02-02T00:00:00.000000000",
          "2021-02-06T00:00:00.000000000",
          "2021-02-14T00:00:00.000000000",
          "2021-02-21T00:00:00.000000000",
          "2021-02-28T00:00:00.000000000",
          "2021-03-06T00:00:00.000000000",
          "2021-03-14T00:00:00.000000000",
          "2021-03-21T00:00:00.000000000",
          "2021-04-03T00:00:00.000000000",
          "2021-04-11T00:00:00.000000000",
          "2021-04-18T00:00:00.000000000",
          "2021-04-23T00:00:00.000000000",
          "2021-05-02T00:00:00.000000000",
          "2021-05-09T00:00:00.000000000",
          "2021-05-12T00:00:00.000000000",
          "2021-05-19T00:00:00.000000000",
          "2021-05-23T00:00:00.000000000",
          "2021-08-13T00:00:00.000000000",
          "2021-08-22T00:00:00.000000000",
          "2021-08-28T00:00:00.000000000",
          "2021-09-11T00:00:00.000000000",
          "2021-09-18T00:00:00.000000000",
          "2021-09-26T00:00:00.000000000",
          "2021-10-02T00:00:00.000000000",
          "2021-10-18T00:00:00.000000000",
          "2021-10-22T00:00:00.000000000",
          "2021-10-30T00:00:00.000000000",
          "2021-11-07T00:00:00.000000000",
          "2021-11-20T00:00:00.000000000",
          "2021-11-27T00:00:00.000000000",
          "2021-12-02T00:00:00.000000000",
          "2021-12-06T00:00:00.000000000",
          "2021-12-11T00:00:00.000000000",
          "2021-12-15T00:00:00.000000000",
          "2021-12-18T00:00:00.000000000",
          "2021-12-26T00:00:00.000000000",
          "2022-01-01T00:00:00.000000000",
          "2022-01-23T00:00:00.000000000",
          "2022-02-10T00:00:00.000000000",
          "2022-02-19T00:00:00.000000000",
          "2022-02-24T00:00:00.000000000",
          "2022-03-06T00:00:00.000000000",
          "2022-03-13T00:00:00.000000000",
          "2022-03-16T00:00:00.000000000",
          "2022-03-19T00:00:00.000000000",
          "2022-04-04T00:00:00.000000000",
          "2022-04-09T00:00:00.000000000",
          "2022-04-16T00:00:00.000000000",
          "2022-04-20T00:00:00.000000000",
          "2022-04-23T00:00:00.000000000",
          "2022-05-01T00:00:00.000000000",
          "2022-05-08T00:00:00.000000000",
          "2022-05-12T00:00:00.000000000",
          "2022-05-16T00:00:00.000000000",
          "2022-05-22T00:00:00.000000000",
          "2022-08-05T00:00:00.000000000",
          "2022-08-13T00:00:00.000000000",
          "2022-08-20T00:00:00.000000000",
          "2022-08-27T00:00:00.000000000",
          "2022-08-31T00:00:00.000000000",
          "2022-09-04T00:00:00.000000000",
          "2022-09-18T00:00:00.000000000",
          "2022-10-01T00:00:00.000000000",
          "2022-10-09T00:00:00.000000000",
          "2022-10-16T00:00:00.000000000",
          "2022-10-23T00:00:00.000000000",
          "2022-10-30T00:00:00.000000000",
          "2022-11-06T00:00:00.000000000",
          "2022-11-12T00:00:00.000000000",
          "2022-12-26T00:00:00.000000000",
          "2022-12-31T00:00:00.000000000",
          "2023-01-03T00:00:00.000000000",
          "2023-01-15T00:00:00.000000000",
          "2023-01-22T00:00:00.000000000",
          "2023-02-04T00:00:00.000000000",
          "2023-02-11T00:00:00.000000000",
          "2023-02-15T00:00:00.000000000",
          "2023-02-18T00:00:00.000000000",
          "2023-02-25T00:00:00.000000000",
          "2023-03-01T00:00:00.000000000",
          "2023-03-04T00:00:00.000000000",
          "2023-03-12T00:00:00.000000000",
          "2023-03-19T00:00:00.000000000",
          "2023-04-01T00:00:00.000000000",
          "2023-04-09T00:00:00.000000000",
          "2023-04-16T00:00:00.000000000",
          "2023-04-21T00:00:00.000000000",
          "2023-04-26T00:00:00.000000000",
          "2023-05-02T00:00:00.000000000",
          "2023-05-07T00:00:00.000000000",
          "2023-05-14T00:00:00.000000000",
          "2023-05-20T00:00:00.000000000",
          "2023-05-28T00:00:00.000000000",
          "2023-08-12T00:00:00.000000000",
          "2023-08-21T00:00:00.000000000",
          "2023-08-26T00:00:00.000000000",
          "2023-09-03T00:00:00.000000000",
          "2023-09-17T00:00:00.000000000",
          "2023-09-24T00:00:00.000000000",
          "2023-09-30T00:00:00.000000000",
          "2023-10-08T00:00:00.000000000",
          "2023-10-21T00:00:00.000000000",
          "2023-10-28T00:00:00.000000000",
          "2023-11-04T00:00:00.000000000",
          "2023-11-11T00:00:00.000000000",
          "2023-11-25T00:00:00.000000000",
          "2023-12-02T00:00:00.000000000",
          "2023-12-05T00:00:00.000000000",
          "2023-12-09T00:00:00.000000000",
          "2023-12-17T00:00:00.000000000",
          "2023-12-23T00:00:00.000000000",
          "2023-12-28T00:00:00.000000000",
          "2023-12-31T00:00:00.000000000",
          "2024-01-20T00:00:00.000000000",
          "2024-01-30T00:00:00.000000000",
          "2024-02-04T00:00:00.000000000",
          "2024-02-11T00:00:00.000000000",
          "2024-02-17T00:00:00.000000000",
          "2024-02-24T00:00:00.000000000",
          "2024-03-04T00:00:00.000000000",
          "2024-03-09T00:00:00.000000000",
          "2024-03-31T00:00:00.000000000",
          "2024-04-03T00:00:00.000000000",
          "2024-04-06T00:00:00.000000000",
          "2024-04-14T00:00:00.000000000",
          "2024-04-20T00:00:00.000000000",
          "2024-04-23T00:00:00.000000000",
          "2024-04-28T00:00:00.000000000",
          "2024-05-04T00:00:00.000000000",
          "2024-05-12T00:00:00.000000000",
          "2024-05-19T00:00:00.000000000",
          "2024-08-17T00:00:00.000000000",
          "2024-08-24T00:00:00.000000000",
          "2024-08-31T00:00:00.000000000",
          "2024-09-15T00:00:00.000000000",
          "2024-09-22T00:00:00.000000000",
          "2024-09-28T00:00:00.000000000",
          "2024-10-05T00:00:00.000000000",
          "2024-10-19T00:00:00.000000000",
          "2024-10-27T00:00:00.000000000",
          "2024-11-02T00:00:00.000000000",
          "2024-11-10T00:00:00.000000000",
          "2024-11-23T00:00:00.000000000",
          "2024-11-30T00:00:00.000000000",
          "2024-12-04T00:00:00.000000000",
          "2024-12-08T00:00:00.000000000",
          "2024-12-14T00:00:00.000000000",
          "2024-12-21T00:00:00.000000000",
          "2024-12-27T00:00:00.000000000",
          "2025-01-01T00:00:00.000000000",
          "2025-01-04T00:00:00.000000000",
          "2025-01-15T00:00:00.000000000",
          "2025-01-18T00:00:00.000000000",
          "2025-01-25T00:00:00.000000000",
          "2025-02-02T00:00:00.000000000",
          "2025-02-15T00:00:00.000000000",
          "2025-02-22T00:00:00.000000000",
          "2025-02-26T00:00:00.000000000",
          "2025-03-09T00:00:00.000000000",
          "2025-03-16T00:00:00.000000000",
          "2025-04-01T00:00:00.000000000",
          "2025-04-05T00:00:00.000000000",
          "2025-04-12T00:00:00.000000000",
          "2025-04-20T00:00:00.000000000",
          "2025-04-23T00:00:00.000000000",
          "2025-05-03T00:00:00.000000000",
          "2025-05-11T00:00:00.000000000",
          "2025-05-18T00:00:00.000000000",
          "2025-05-25T00:00:00.000000000"
         ],
         "y": {
          "bdata": "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",
          "dtype": "f8"
         }
        },
        {
         "line": {
          "color": "blue"
         },
         "mode": "lines",
         "name": "Chelsea",
         "type": "scatter",
         "x": [
          "1993-08-14T00:00:00.000000000",
          "1993-08-17T00:00:00.000000000",
          "1993-08-21T00:00:00.000000000",
          "1993-08-25T00:00:00.000000000",
          "1993-08-28T00:00:00.000000000",
          "1993-09-01T00:00:00.000000000",
          "1993-09-11T00:00:00.000000000",
          "1993-09-18T00:00:00.000000000",
          "1993-09-25T00:00:00.000000000",
          "1993-10-02T00:00:00.000000000",
          "1993-10-16T00:00:00.000000000",
          "1993-10-23T00:00:00.000000000",
          "1993-10-30T00:00:00.000000000",
          "1993-11-06T00:00:00.000000000",
          "1993-11-20T00:00:00.000000000",
          "1993-11-22T00:00:00.000000000",
          "1993-11-27T00:00:00.000000000",
          "1993-12-05T00:00:00.000000000",
          "1993-12-11T00:00:00.000000000",
          "1993-12-27T00:00:00.000000000",
          "1993-12-28T00:00:00.000000000",
          "1994-01-01T00:00:00.000000000",
          "1994-01-03T00:00:00.000000000",
          "1994-01-15T00:00:00.000000000",
          "1994-01-22T00:00:00.000000000",
          "1994-02-05T00:00:00.000000000",
          "1994-02-12T00:00:00.000000000",
          "1994-02-27T00:00:00.000000000",
          "1994-03-05T00:00:00.000000000",
          "1994-03-16T00:00:00.000000000",
          "1994-03-19T00:00:00.000000000",
          "1994-03-26T00:00:00.000000000",
          "1994-03-30T00:00:00.000000000",
          "1994-04-02T00:00:00.000000000",
          "1994-08-20T00:00:00.000000000",
          "1994-08-27T00:00:00.000000000",
          "1994-08-31T00:00:00.000000000",
          "1994-09-10T00:00:00.000000000",
          "1994-09-18T00:00:00.000000000",
          "1994-09-24T00:00:00.000000000",
          "1994-10-02T00:00:00.000000000",
          "1994-10-08T00:00:00.000000000",
          "1994-10-15T00:00:00.000000000",
          "1994-10-23T00:00:00.000000000",
          "1994-10-29T00:00:00.000000000",
          "1994-11-06T00:00:00.000000000",
          "1994-11-09T00:00:00.000000000",
          "1994-11-19T00:00:00.000000000",
          "1994-11-23T00:00:00.000000000",
          "1994-11-26T00:00:00.000000000",
          "1994-12-03T00:00:00.000000000",
          "1994-12-10T00:00:00.000000000",
          "1994-12-18T00:00:00.000000000",
          "1994-12-26T00:00:00.000000000",
          "1994-12-28T00:00:00.000000000",
          "1994-12-31T00:00:00.000000000",
          "1995-01-14T00:00:00.000000000",
          "1995-01-21T00:00:00.000000000",
          "1995-01-25T00:00:00.000000000",
          "1995-02-04T00:00:00.000000000",
          "1995-02-11T00:00:00.000000000",
          "1995-02-25T00:00:00.000000000",
          "1995-03-05T00:00:00.000000000",
          "1995-03-08T00:00:00.000000000",
          "1995-03-11T00:00:00.000000000",
          "1995-03-18T00:00:00.000000000",
          "1995-03-22T00:00:00.000000000",
          "1995-04-01T00:00:00.000000000",
          "1995-08-19T00:00:00.000000000",
          "1995-08-23T00:00:00.000000000",
          "1995-08-26T00:00:00.000000000",
          "1995-08-30T00:00:00.000000000",
          "1995-09-11T00:00:00.000000000",
          "1995-09-16T00:00:00.000000000",
          "1995-09-24T00:00:00.000000000",
          "1995-09-30T00:00:00.000000000",
          "1995-10-14T00:00:00.000000000",
          "1995-10-21T00:00:00.000000000",
          "1995-10-28T00:00:00.000000000",
          "1995-11-04T00:00:00.000000000",
          "1995-11-18T00:00:00.000000000",
          "1995-11-22T00:00:00.000000000",
          "1995-11-25T00:00:00.000000000",
          "1995-12-02T00:00:00.000000000",
          "1995-12-09T00:00:00.000000000",
          "1995-12-16T00:00:00.000000000",
          "1995-12-23T00:00:00.000000000",
          "1995-12-26T00:00:00.000000000",
          "1995-12-30T00:00:00.000000000",
          "1996-01-02T00:00:00.000000000",
          "1996-01-13T00:00:00.000000000",
          "1996-01-20T00:00:00.000000000",
          "1996-02-04T00:00:00.000000000",
          "1996-02-10T00:00:00.000000000",
          "1996-02-17T00:00:00.000000000",
          "1996-02-24T00:00:00.000000000",
          "1996-03-02T00:00:00.000000000",
          "1996-03-12T00:00:00.000000000",
          "1996-03-16T00:00:00.000000000",
          "1996-03-23T00:00:00.000000000",
          "1996-04-06T00:00:00.000000000",
          "1996-04-08T00:00:00.000000000",
          "1996-04-13T00:00:00.000000000",
          "1996-04-17T00:00:00.000000000",
          "1996-04-27T00:00:00.000000000",
          "1996-05-04T00:00:00.000000000",
          "1996-08-18T00:00:00.000000000",
          "1996-08-21T00:00:00.000000000",
          "1996-08-24T00:00:00.000000000",
          "1996-09-04T00:00:00.000000000",
          "1996-09-07T00:00:00.000000000",
          "1996-09-15T00:00:00.000000000",
          "1996-09-21T00:00:00.000000000",
          "1996-09-28T00:00:00.000000000",
          "1996-10-12T00:00:00.000000000",
          "1996-10-19T00:00:00.000000000",
          "1996-10-26T00:00:00.000000000",
          "1996-11-02T00:00:00.000000000",
          "1996-11-16T00:00:00.000000000",
          "1996-11-23T00:00:00.000000000",
          "1996-12-01T00:00:00.000000000",
          "1996-12-07T00:00:00.000000000",
          "1996-12-15T00:00:00.000000000",
          "1996-12-21T00:00:00.000000000",
          "1996-12-26T00:00:00.000000000",
          "1996-12-28T00:00:00.000000000",
          "1997-01-01T00:00:00.000000000",
          "1997-01-11T00:00:00.000000000",
          "1997-01-18T00:00:00.000000000",
          "1997-02-01T00:00:00.000000000",
          "1997-02-22T00:00:00.000000000",
          "1997-03-01T00:00:00.000000000",
          "1997-03-05T00:00:00.000000000",
          "1997-03-12T00:00:00.000000000",
          "1997-03-16T00:00:00.000000000",
          "1997-03-19T00:00:00.000000000",
          "1997-03-22T00:00:00.000000000",
          "1997-04-05T00:00:00.000000000",
          "1997-04-09T00:00:00.000000000",
          "1997-04-16T00:00:00.000000000",
          "1997-04-19T00:00:00.000000000",
          "1997-04-22T00:00:00.000000000",
          "1997-05-03T00:00:00.000000000",
          "1997-05-11T00:00:00.000000000",
          "1997-08-09T00:00:00.000000000",
          "1997-08-24T00:00:00.000000000",
          "1997-08-27T00:00:00.000000000",
          "1997-08-30T00:00:00.000000000",
          "1997-09-13T00:00:00.000000000",
          "1997-09-21T00:00:00.000000000",
          "1997-09-24T00:00:00.000000000",
          "1997-09-27T00:00:00.000000000",
          "1997-10-05T00:00:00.000000000",
          "1997-10-18T00:00:00.000000000",
          "1997-10-26T00:00:00.000000000",
          "1997-11-01T00:00:00.000000000",
          "1997-11-09T00:00:00.000000000",
          "1997-11-22T00:00:00.000000000",
          "1997-11-26T00:00:00.000000000",
          "1997-11-29T00:00:00.000000000",
          "1997-12-06T00:00:00.000000000",
          "1997-12-13T00:00:00.000000000",
          "1997-12-20T00:00:00.000000000",
          "1997-12-26T00:00:00.000000000",
          "1997-12-29T00:00:00.000000000",
          "1998-01-10T00:00:00.000000000",
          "1998-01-18T00:00:00.000000000",
          "1998-01-31T00:00:00.000000000",
          "1998-02-08T00:00:00.000000000",
          "1998-02-21T00:00:00.000000000",
          "1998-02-28T00:00:00.000000000",
          "1998-03-08T00:00:00.000000000",
          "1998-03-11T00:00:00.000000000",
          "1998-03-14T00:00:00.000000000",
          "1998-04-05T00:00:00.000000000",
          "1998-04-08T00:00:00.000000000",
          "1998-04-11T00:00:00.000000000",
          "1998-04-19T00:00:00.000000000",
          "1998-04-25T00:00:00.000000000",
          "1998-04-29T00:00:00.000000000",
          "1998-05-02T00:00:00.000000000",
          "1998-05-10T00:00:00.000000000",
          "1998-08-15T00:00:00.000000000",
          "1998-08-22T00:00:00.000000000",
          "1998-09-09T00:00:00.000000000",
          "1998-09-12T00:00:00.000000000",
          "1998-09-21T00:00:00.000000000",
          "1998-09-26T00:00:00.000000000",
          "1998-10-04T00:00:00.000000000",
          "1998-10-17T00:00:00.000000000",
          "1998-10-25T00:00:00.000000000",
          "1998-11-08T00:00:00.000000000",
          "1998-11-14T00:00:00.000000000",
          "1998-11-21T00:00:00.000000000",
          "1998-11-28T00:00:00.000000000",
          "1998-12-05T00:00:00.000000000",
          "1998-12-09T00:00:00.000000000",
          "1998-12-12T00:00:00.000000000",
          "1998-12-16T00:00:00.000000000",
          "1998-12-19T00:00:00.000000000",
          "1998-12-26T00:00:00.000000000",
          "1998-12-29T00:00:00.000000000",
          "1999-01-09T00:00:00.000000000",
          "1999-01-16T00:00:00.000000000",
          "1999-01-31T00:00:00.000000000",
          "1999-02-06T00:00:00.000000000",
          "1999-02-17T00:00:00.000000000",
          "1999-02-20T00:00:00.000000000",
          "1999-02-27T00:00:00.000000000",
          "1999-03-13T00:00:00.000000000",
          "1999-03-21T00:00:00.000000000",
          "1999-04-03T00:00:00.000000000",
          "1999-04-11T00:00:00.000000000",
          "1999-04-14T00:00:00.000000000",
          "1999-04-18T00:00:00.000000000",
          "1999-04-25T00:00:00.000000000",
          "1999-05-01T00:00:00.000000000",
          "1999-05-05T00:00:00.000000000",
          "1999-05-10T00:00:00.000000000",
          "1999-05-16T00:00:00.000000000",
          "1999-08-07T00:00:00.000000000",
          "1999-08-14T00:00:00.000000000",
          "1999-08-21T00:00:00.000000000",
          "1999-08-28T00:00:00.000000000",
          "1999-09-11T00:00:00.000000000",
          "1999-09-18T00:00:00.000000000",
          "1999-09-25T00:00:00.000000000",
          "1999-10-03T00:00:00.000000000",
          "1999-10-16T00:00:00.000000000",
          "1999-10-23T00:00:00.000000000",
          "1999-10-30T00:00:00.000000000",
          "1999-11-07T00:00:00.000000000",
          "1999-11-20T00:00:00.000000000",
          "1999-11-28T00:00:00.000000000",
          "1999-12-04T00:00:00.000000000",
          "1999-12-19T00:00:00.000000000",
          "1999-12-26T00:00:00.000000000",
          "1999-12-29T00:00:00.000000000",
          "2000-01-04T00:00:00.000000000",
          "2000-01-08T00:00:00.000000000",
          "2000-01-12T00:00:00.000000000",
          "2000-01-15T00:00:00.000000000",
          "2000-01-22T00:00:00.000000000",
          "2000-02-05T00:00:00.000000000",
          "2000-02-12T00:00:00.000000000",
          "2000-02-26T00:00:00.000000000",
          "2000-03-04T00:00:00.000000000",
          "2000-03-11T00:00:00.000000000",
          "2000-03-18T00:00:00.000000000",
          "2000-03-25T00:00:00.000000000",
          "2000-04-01T00:00:00.000000000",
          "2000-04-12T00:00:00.000000000",
          "2000-04-15T00:00:00.000000000",
          "2000-04-22T00:00:00.000000000",
          "2000-04-24T00:00:00.000000000",
          "2000-04-29T00:00:00.000000000",
          "2000-05-06T00:00:00.000000000",
          "2000-05-14T00:00:00.000000000",
          "2000-08-19T00:00:00.000000000",
          "2000-08-22T00:00:00.000000000",
          "2000-08-27T00:00:00.000000000",
          "2000-09-06T00:00:00.000000000",
          "2000-09-09T00:00:00.000000000",
          "2000-09-17T00:00:00.000000000",
          "2000-09-23T00:00:00.000000000",
          "2000-10-01T00:00:00.000000000",
          "2000-10-14T00:00:00.000000000",
          "2000-10-21T00:00:00.000000000",
          "2000-10-28T00:00:00.000000000",
          "2000-11-04T00:00:00.000000000",
          "2000-11-12T00:00:00.000000000",
          "2000-11-18T00:00:00.000000000",
          "2000-11-25T00:00:00.000000000",
          "2000-12-03T00:00:00.000000000",
          "2000-12-09T00:00:00.000000000",
          "2000-12-16T00:00:00.000000000",
          "2000-12-23T00:00:00.000000000",
          "2000-12-26T00:00:00.000000000",
          "2001-01-01T00:00:00.000000000",
          "2001-01-13T00:00:00.000000000",
          "2001-01-20T00:00:00.000000000",
          "2001-01-31T00:00:00.000000000",
          "2001-02-03T00:00:00.000000000",
          "2001-02-10T00:00:00.000000000",
          "2001-03-03T00:00:00.000000000",
          "2001-03-07T00:00:00.000000000",
          "2001-03-17T00:00:00.000000000",
          "2001-03-31T00:00:00.000000000",
          "2001-04-07T00:00:00.000000000",
          "2001-04-14T00:00:00.000000000",
          "2001-04-17T00:00:00.000000000",
          "2001-04-21T00:00:00.000000000",
          "2001-04-28T00:00:00.000000000",
          "2001-05-05T00:00:00.000000000",
          "2001-05-08T00:00:00.000000000",
          "2001-05-19T00:00:00.000000000",
          "2001-08-19T00:00:00.000000000",
          "2001-08-25T00:00:00.000000000",
          "2001-09-08T00:00:00.000000000",
          "2001-09-16T00:00:00.000000000",
          "2001-09-23T00:00:00.000000000",
          "2001-09-30T00:00:00.000000000",
          "2001-10-13T00:00:00.000000000",
          "2001-10-21T00:00:00.000000000",
          "2001-10-24T00:00:00.000000000",
          "2001-10-28T00:00:00.000000000",
          "2001-11-04T00:00:00.000000000",
          "2001-11-18T00:00:00.000000000",
          "2001-11-24T00:00:00.000000000",
          "2001-12-01T00:00:00.000000000",
          "2001-12-05T00:00:00.000000000",
          "2001-12-09T00:00:00.000000000",
          "2001-12-16T00:00:00.000000000",
          "2001-12-23T00:00:00.000000000",
          "2001-12-26T00:00:00.000000000",
          "2001-12-29T00:00:00.000000000",
          "2002-01-01T00:00:00.000000000",
          "2002-01-12T00:00:00.000000000",
          "2002-01-20T00:00:00.000000000",
          "2002-01-30T00:00:00.000000000",
          "2002-02-02T00:00:00.000000000",
          "2002-02-09T00:00:00.000000000",
          "2002-03-02T00:00:00.000000000",
          "2002-03-06T00:00:00.000000000",
          "2002-03-13T00:00:00.000000000",
          "2002-03-16T00:00:00.000000000",
          "2002-03-24T00:00:00.000000000",
          "2002-03-30T00:00:00.000000000",
          "2002-04-01T00:00:00.000000000",
          "2002-04-06T00:00:00.000000000",
          "2002-04-10T00:00:00.000000000",
          "2002-04-20T00:00:00.000000000",
          "2002-04-27T00:00:00.000000000",
          "2002-05-11T00:00:00.000000000",
          "2002-08-17T00:00:00.000000000",
          "2002-08-23T00:00:00.000000000",
          "2002-08-28T00:00:00.000000000",
          "2002-09-01T00:00:00.000000000",
          "2002-09-11T00:00:00.000000000",
          "2002-09-14T00:00:00.000000000",
          "2002-09-23T00:00:00.000000000",
          "2002-09-28T00:00:00.000000000",
          "2002-10-06T00:00:00.000000000",
          "2002-10-19T00:00:00.000000000",
          "2002-10-26T00:00:00.000000000",
          "2002-11-03T00:00:00.000000000",
          "2002-11-09T00:00:00.000000000",
          "2002-11-16T00:00:00.000000000",
          "2002-11-23T00:00:00.000000000",
          "2002-11-30T00:00:00.000000000",
          "2002-12-07T00:00:00.000000000",
          "2002-12-14T00:00:00.000000000",
          "2002-12-21T00:00:00.000000000",
          "2002-12-26T00:00:00.000000000",
          "2002-12-28T00:00:00.000000000",
          "2003-01-01T00:00:00.000000000",
          "2003-01-11T00:00:00.000000000",
          "2003-01-18T00:00:00.000000000",
          "2003-01-28T00:00:00.000000000",
          "2003-02-01T00:00:00.000000000",
          "2003-02-08T00:00:00.000000000",
          "2003-02-22T00:00:00.000000000",
          "2003-03-01T00:00:00.000000000",
          "2003-03-16T00:00:00.000000000",
          "2003-03-22T00:00:00.000000000",
          "2003-04-05T00:00:00.000000000",
          "2003-04-12T00:00:00.000000000",
          "2003-04-19T00:00:00.000000000",
          "2003-04-21T00:00:00.000000000",
          "2003-04-26T00:00:00.000000000",
          "2003-05-03T00:00:00.000000000",
          "2003-05-11T00:00:00.000000000",
          "2003-08-17T00:00:00.000000000",
          "2003-08-23T00:00:00.000000000",
          "2003-08-30T00:00:00.000000000",
          "2003-09-13T00:00:00.000000000",
          "2003-09-20T00:00:00.000000000",
          "2003-09-27T00:00:00.000000000",
          "2003-10-05T00:00:00.000000000",
          "2003-10-14T00:00:00.000000000",
          "2003-10-18T00:00:00.000000000",
          "2003-10-25T00:00:00.000000000",
          "2003-11-01T00:00:00.000000000",
          "2003-11-09T00:00:00.000000000",
          "2003-11-22T00:00:00.000000000",
          "2003-11-30T00:00:00.000000000",
          "2003-12-06T00:00:00.000000000",
          "2003-12-13T00:00:00.000000000",
          "2003-12-20T00:00:00.000000000",
          "2003-12-26T00:00:00.000000000",
          "2003-12-28T00:00:00.000000000",
          "2004-01-07T00:00:00.000000000",
          "2004-01-11T00:00:00.000000000",
          "2004-01-18T00:00:00.000000000",
          "2004-02-01T00:00:00.000000000",
          "2004-02-08T00:00:00.000000000",
          "2004-02-11T00:00:00.000000000",
          "2004-02-21T00:00:00.000000000",
          "2004-02-28T00:00:00.000000000",
          "2004-03-13T00:00:00.000000000",
          "2004-03-20T00:00:00.000000000",
          "2004-03-27T00:00:00.000000000",
          "2004-04-03T00:00:00.000000000",
          "2004-04-10T00:00:00.000000000",
          "2004-04-12T00:00:00.000000000",
          "2004-04-17T00:00:00.000000000",
          "2004-04-25T00:00:00.000000000",
          "2004-05-01T00:00:00.000000000",
          "2004-05-08T00:00:00.000000000",
          "2004-05-15T00:00:00.000000000",
          "2004-08-15T00:00:00.000000000",
          "2004-08-21T00:00:00.000000000",
          "2004-08-24T00:00:00.000000000",
          "2004-08-28T00:00:00.000000000",
          "2004-09-11T00:00:00.000000000",
          "2004-09-19T00:00:00.000000000",
          "2004-09-25T00:00:00.000000000",
          "2004-10-03T00:00:00.000000000",
          "2004-10-16T00:00:00.000000000",
          "2004-10-23T00:00:00.000000000",
          "2004-10-30T00:00:00.000000000",
          "2004-11-06T00:00:00.000000000",
          "2004-11-13T00:00:00.000000000",
          "2004-11-20T00:00:00.000000000",
          "2004-11-27T00:00:00.000000000",
          "2004-12-04T00:00:00.000000000",
          "2004-12-12T00:00:00.000000000",
          "2004-12-18T00:00:00.000000000",
          "2004-12-26T00:00:00.000000000",
          "2004-12-28T00:00:00.000000000",
          "2005-01-01T00:00:00.000000000",
          "2005-01-04T00:00:00.000000000",
          "2005-01-15T00:00:00.000000000",
          "2005-01-22T00:00:00.000000000",
          "2005-02-02T00:00:00.000000000",
          "2005-02-06T00:00:00.000000000",
          "2005-02-12T00:00:00.000000000",
          "2005-03-05T00:00:00.000000000",
          "2005-03-15T00:00:00.000000000",
          "2005-03-19T00:00:00.000000000",
          "2005-04-02T00:00:00.000000000",
          "2005-04-09T00:00:00.000000000",
          "2005-04-20T00:00:00.000000000",
          "2005-04-23T00:00:00.000000000",
          "2005-04-30T00:00:00.000000000",
          "2005-05-07T00:00:00.000000000",
          "2005-05-10T00:00:00.000000000",
          "2005-05-15T00:00:00.000000000",
          "2005-08-14T00:00:00.000000000",
          "2005-08-21T00:00:00.000000000",
          "2005-08-24T00:00:00.000000000",
          "2005-08-27T00:00:00.000000000",
          "2005-09-10T00:00:00.000000000",
          "2005-09-17T00:00:00.000000000",
          "2005-09-24T00:00:00.000000000",
          "2005-10-02T00:00:00.000000000",
          "2005-10-15T00:00:00.000000000",
          "2005-10-23T00:00:00.000000000",
          "2005-10-29T00:00:00.000000000",
          "2005-11-06T00:00:00.000000000",
          "2005-11-19T00:00:00.000000000",
          "2005-11-26T00:00:00.000000000",
          "2005-12-03T00:00:00.000000000",
          "2005-12-10T00:00:00.000000000",
          "2005-12-18T00:00:00.000000000",
          "2005-12-26T00:00:00.000000000",
          "2005-12-28T00:00:00.000000000",
          "2005-12-31T00:00:00.000000000",
          "2006-01-02T00:00:00.000000000",
          "2006-01-15T00:00:00.000000000",
          "2006-01-22T00:00:00.000000000",
          "2006-02-01T00:00:00.000000000",
          "2006-02-05T00:00:00.000000000",
          "2006-02-11T00:00:00.000000000",
          "2006-02-25T00:00:00.000000000",
          "2006-03-04T00:00:00.000000000",
          "2006-03-11T00:00:00.000000000",
          "2006-03-19T00:00:00.000000000",
          "2006-03-25T00:00:00.000000000",
          "2006-04-01T00:00:00.000000000",
          "2006-04-09T00:00:00.000000000",
          "2006-04-15T00:00:00.000000000",
          "2006-04-17T00:00:00.000000000",
          "2006-04-29T00:00:00.000000000",
          "2006-05-02T00:00:00.000000000",
          "2006-05-07T00:00:00.000000000",
          "2006-08-20T00:00:00.000000000",
          "2006-08-23T00:00:00.000000000",
          "2006-08-27T00:00:00.000000000",
          "2006-09-09T00:00:00.000000000",
          "2006-09-17T00:00:00.000000000",
          "2006-09-23T00:00:00.000000000",
          "2006-09-30T00:00:00.000000000",
          "2006-10-14T00:00:00.000000000",
          "2006-10-21T00:00:00.000000000",
          "2006-10-28T00:00:00.000000000",
          "2006-11-05T00:00:00.000000000",
          "2006-11-11T00:00:00.000000000",
          "2006-11-18T00:00:00.000000000",
          "2006-11-26T00:00:00.000000000",
          "2006-11-29T00:00:00.000000000",
          "2006-12-10T00:00:00.000000000",
          "2006-12-13T00:00:00.000000000",
          "2006-12-17T00:00:00.000000000",
          "2006-12-23T00:00:00.000000000",
          "2006-12-26T00:00:00.000000000",
          "2006-12-30T00:00:00.000000000",
          "2007-01-02T00:00:00.000000000",
          "2007-01-13T00:00:00.000000000",
          "2007-01-20T00:00:00.000000000",
          "2007-01-31T00:00:00.000000000",
          "2007-02-03T00:00:00.000000000",
          "2007-02-10T00:00:00.000000000",
          "2007-03-03T00:00:00.000000000",
          "2007-03-14T00:00:00.000000000",
          "2007-03-17T00:00:00.000000000",
          "2007-03-31T00:00:00.000000000",
          "2007-04-07T00:00:00.000000000",
          "2007-04-18T00:00:00.000000000",
          "2007-04-22T00:00:00.000000000",
          "2007-04-28T00:00:00.000000000",
          "2007-05-06T00:00:00.000000000",
          "2007-05-09T00:00:00.000000000",
          "2007-05-13T00:00:00.000000000",
          "2007-08-12T00:00:00.000000000",
          "2007-08-15T00:00:00.000000000",
          "2007-08-19T00:00:00.000000000",
          "2007-08-25T00:00:00.000000000",
          "2007-09-02T00:00:00.000000000",
          "2007-09-15T00:00:00.000000000",
          "2007-09-23T00:00:00.000000000",
          "2007-09-29T00:00:00.000000000",
          "2007-10-07T00:00:00.000000000",
          "2007-10-20T00:00:00.000000000",
          "2007-10-27T00:00:00.000000000",
          "2007-11-03T00:00:00.000000000",
          "2007-11-11T00:00:00.000000000",
          "2007-11-24T00:00:00.000000000",
          "2007-12-01T00:00:00.000000000",
          "2007-12-08T00:00:00.000000000",
          "2007-12-16T00:00:00.000000000",
          "2007-12-23T00:00:00.000000000",
          "2007-12-26T00:00:00.000000000",
          "2007-12-29T00:00:00.000000000",
          "2008-01-01T00:00:00.000000000",
          "2008-01-12T00:00:00.000000000",
          "2008-01-19T00:00:00.000000000",
          "2008-01-30T00:00:00.000000000",
          "2008-02-02T00:00:00.000000000",
          "2008-02-10T00:00:00.000000000",
          "2008-03-01T00:00:00.000000000",
          "2008-03-12T00:00:00.000000000",
          "2008-03-15T00:00:00.000000000",
          "2008-03-19T00:00:00.000000000",
          "2008-03-23T00:00:00.000000000",
          "2008-03-30T00:00:00.000000000",
          "2008-04-05T00:00:00.000000000",
          "2008-04-14T00:00:00.000000000",
          "2008-04-17T00:00:00.000000000",
          "2008-04-26T00:00:00.000000000",
          "2008-05-05T00:00:00.000000000",
          "2008-05-11T00:00:00.000000000",
          "2008-08-17T00:00:00.000000000",
          "2008-08-24T00:00:00.000000000",
          "2008-08-31T00:00:00.000000000",
          "2008-09-13T00:00:00.000000000",
          "2008-09-21T00:00:00.000000000",
          "2008-09-27T00:00:00.000000000",
          "2008-10-05T00:00:00.000000000",
          "2008-10-18T00:00:00.000000000",
          "2008-10-26T00:00:00.000000000",
          "2008-10-29T00:00:00.000000000",
          "2008-11-01T00:00:00.000000000",
          "2008-11-09T00:00:00.000000000",
          "2008-11-15T00:00:00.000000000",
          "2008-11-22T00:00:00.000000000",
          "2008-11-30T00:00:00.000000000",
          "2008-12-06T00:00:00.000000000",
          "2008-12-14T00:00:00.000000000",
          "2008-12-22T00:00:00.000000000",
          "2008-12-26T00:00:00.000000000",
          "2008-12-28T00:00:00.000000000",
          "2009-01-11T00:00:00.000000000",
          "2009-01-17T00:00:00.000000000",
          "2009-01-28T00:00:00.000000000",
          "2009-02-01T00:00:00.000000000",
          "2009-02-07T00:00:00.000000000",
          "2009-02-21T00:00:00.000000000",
          "2009-02-28T00:00:00.000000000",
          "2009-03-03T00:00:00.000000000",
          "2009-03-15T00:00:00.000000000",
          "2009-03-21T00:00:00.000000000",
          "2009-04-04T00:00:00.000000000",
          "2009-04-11T00:00:00.000000000",
          "2009-04-22T00:00:00.000000000",
          "2009-04-25T00:00:00.000000000",
          "2009-05-02T00:00:00.000000000",
          "2009-05-10T00:00:00.000000000",
          "2009-05-17T00:00:00.000000000",
          "2009-05-24T00:00:00.000000000",
          "2009-08-15T00:00:00.000000000",
          "2009-08-18T00:00:00.000000000",
          "2009-08-23T00:00:00.000000000",
          "2009-08-29T00:00:00.000000000",
          "2009-09-12T00:00:00.000000000",
          "2009-09-20T00:00:00.000000000",
          "2009-09-26T00:00:00.000000000",
          "2009-10-04T00:00:00.000000000",
          "2009-10-17T00:00:00.000000000",
          "2009-10-24T00:00:00.000000000",
          "2009-10-31T00:00:00.000000000",
          "2009-11-08T00:00:00.000000000",
          "2009-11-21T00:00:00.000000000",
          "2009-11-29T00:00:00.000000000",
          "2009-12-05T00:00:00.000000000",
          "2009-12-12T00:00:00.000000000",
          "2009-12-16T00:00:00.000000000",
          "2009-12-20T00:00:00.000000000",
          "2009-12-26T00:00:00.000000000",
          "2009-12-28T00:00:00.000000000",
          "2010-01-16T00:00:00.000000000",
          "2010-01-27T00:00:00.000000000",
          "2010-01-30T00:00:00.000000000",
          "2010-02-02T00:00:00.000000000",
          "2010-02-07T00:00:00.000000000",
          "2010-02-10T00:00:00.000000000",
          "2010-02-20T00:00:00.000000000",
          "2010-02-27T00:00:00.000000000",
          "2010-03-13T00:00:00.000000000",
          "2010-03-21T00:00:00.000000000",
          "2010-03-24T00:00:00.000000000",
          "2010-03-27T00:00:00.000000000",
          "2010-04-03T00:00:00.000000000",
          "2010-04-13T00:00:00.000000000",
          "2010-04-17T00:00:00.000000000",
          "2010-04-25T00:00:00.000000000",
          "2010-05-02T00:00:00.000000000",
          "2010-05-09T00:00:00.000000000",
          "2010-08-14T00:00:00.000000000",
          "2010-08-21T00:00:00.000000000",
          "2010-08-28T00:00:00.000000000",
          "2010-09-11T00:00:00.000000000",
          "2010-09-19T00:00:00.000000000",
          "2010-09-25T00:00:00.000000000",
          "2010-10-03T00:00:00.000000000",
          "2010-10-16T00:00:00.000000000",
          "2010-10-23T00:00:00.000000000",
          "2010-10-30T00:00:00.000000000",
          "2010-11-07T00:00:00.000000000",
          "2010-11-10T00:00:00.000000000",
          "2010-11-14T00:00:00.000000000",
          "2010-11-20T00:00:00.000000000",
          "2010-11-28T00:00:00.000000000",
          "2010-12-04T00:00:00.000000000",
          "2010-12-12T00:00:00.000000000",
          "2010-12-27T00:00:00.000000000",
          "2010-12-29T00:00:00.000000000",
          "2011-01-02T00:00:00.000000000",
          "2011-01-05T00:00:00.000000000",
          "2011-01-15T00:00:00.000000000",
          "2011-01-24T00:00:00.000000000",
          "2011-02-01T00:00:00.000000000",
          "2011-02-06T00:00:00.000000000",
          "2011-02-14T00:00:00.000000000",
          "2011-03-01T00:00:00.000000000",
          "2011-03-07T00:00:00.000000000",
          "2011-03-20T00:00:00.000000000",
          "2011-04-02T00:00:00.000000000",
          "2011-04-09T00:00:00.000000000",
          "2011-04-16T00:00:00.000000000",
          "2011-04-20T00:00:00.000000000",
          "2011-04-23T00:00:00.000000000",
          "2011-04-30T00:00:00.000000000",
          "2011-05-08T00:00:00.000000000",
          "2011-05-15T00:00:00.000000000",
          "2011-05-22T00:00:00.000000000",
          "2011-08-14T00:00:00.000000000",
          "2011-08-20T00:00:00.000000000",
          "2011-08-27T00:00:00.000000000",
          "2011-09-10T00:00:00.000000000",
          "2011-09-18T00:00:00.000000000",
          "2011-09-24T00:00:00.000000000",
          "2011-10-02T00:00:00.000000000",
          "2011-10-15T00:00:00.000000000",
          "2011-10-23T00:00:00.000000000",
          "2011-10-29T00:00:00.000000000",
          "2011-11-05T00:00:00.000000000",
          "2011-11-20T00:00:00.000000000",
          "2011-11-26T00:00:00.000000000",
          "2011-12-03T00:00:00.000000000",
          "2011-12-12T00:00:00.000000000",
          "2011-12-17T00:00:00.000000000",
          "2011-12-22T00:00:00.000000000",
          "2011-12-26T00:00:00.000000000",
          "2011-12-31T00:00:00.000000000",
          "2012-01-02T00:00:00.000000000",
          "2012-01-14T00:00:00.000000000",
          "2012-01-21T00:00:00.000000000",
          "2012-01-31T00:00:00.000000000",
          "2012-02-05T00:00:00.000000000",
          "2012-02-11T00:00:00.000000000",
          "2012-02-25T00:00:00.000000000",
          "2012-03-03T00:00:00.000000000",
          "2012-03-10T00:00:00.000000000",
          "2012-03-21T00:00:00.000000000",
          "2012-03-24T00:00:00.000000000",
          "2012-03-31T00:00:00.000000000",
          "2012-04-07T00:00:00.000000000",
          "2012-04-09T00:00:00.000000000",
          "2012-04-21T00:00:00.000000000",
          "2012-04-29T00:00:00.000000000",
          "2012-05-02T00:00:00.000000000",
          "2012-05-08T00:00:00.000000000",
          "2012-05-13T00:00:00.000000000",
          "2012-08-19T00:00:00.000000000",
          "2012-08-22T00:00:00.000000000",
          "2012-08-25T00:00:00.000000000",
          "2012-09-15T00:00:00.000000000",
          "2012-09-22T00:00:00.000000000",
          "2012-09-29T00:00:00.000000000",
          "2012-10-06T00:00:00.000000000",
          "2012-10-20T00:00:00.000000000",
          "2012-10-28T00:00:00.000000000",
          "2012-11-03T00:00:00.000000000",
          "2012-11-11T00:00:00.000000000",
          "2012-11-17T00:00:00.000000000",
          "2012-11-25T00:00:00.000000000",
          "2012-11-28T00:00:00.000000000",
          "2012-12-01T00:00:00.000000000",
          "2012-12-08T00:00:00.000000000",
          "2012-12-23T00:00:00.000000000",
          "2012-12-26T00:00:00.000000000",
          "2012-12-30T00:00:00.000000000",
          "2013-01-02T00:00:00.000000000",
          "2013-01-12T00:00:00.000000000",
          "2013-01-16T00:00:00.000000000",
          "2013-01-20T00:00:00.000000000",
          "2013-01-30T00:00:00.000000000",
          "2013-02-02T00:00:00.000000000",
          "2013-02-09T00:00:00.000000000",
          "2013-02-24T00:00:00.000000000",
          "2013-03-02T00:00:00.000000000",
          "2013-03-17T00:00:00.000000000",
          "2013-03-30T00:00:00.000000000",
          "2013-04-07T00:00:00.000000000",
          "2013-04-17T00:00:00.000000000",
          "2013-04-21T00:00:00.000000000",
          "2013-04-28T00:00:00.000000000",
          "2013-05-05T00:00:00.000000000",
          "2013-05-08T00:00:00.000000000",
          "2013-05-11T00:00:00.000000000",
          "2013-05-19T00:00:00.000000000",
          "2013-08-18T00:00:00.000000000",
          "2013-08-21T00:00:00.000000000",
          "2013-08-26T00:00:00.000000000",
          "2013-09-14T00:00:00.000000000",
          "2013-09-21T00:00:00.000000000",
          "2013-09-28T00:00:00.000000000",
          "2013-10-06T00:00:00.000000000",
          "2013-10-19T00:00:00.000000000",
          "2013-10-27T00:00:00.000000000",
          "2013-11-02T00:00:00.000000000",
          "2013-11-09T00:00:00.000000000",
          "2013-11-23T00:00:00.000000000",
          "2013-12-01T00:00:00.000000000",
          "2013-12-04T00:00:00.000000000",
          "2013-12-07T00:00:00.000000000",
          "2013-12-14T00:00:00.000000000",
          "2013-12-23T00:00:00.000000000",
          "2013-12-26T00:00:00.000000000",
          "2013-12-29T00:00:00.000000000",
          "2014-01-01T00:00:00.000000000",
          "2014-01-11T00:00:00.000000000",
          "2014-01-19T00:00:00.000000000",
          "2014-01-29T00:00:00.000000000",
          "2014-02-03T00:00:00.000000000",
          "2014-02-08T00:00:00.000000000",
          "2014-02-11T00:00:00.000000000",
          "2014-02-22T00:00:00.000000000",
          "2014-03-01T00:00:00.000000000",
          "2014-03-08T00:00:00.000000000",
          "2014-03-15T00:00:00.000000000",
          "2014-03-22T00:00:00.000000000",
          "2014-03-29T00:00:00.000000000",
          "2014-04-05T00:00:00.000000000",
          "2014-04-13T00:00:00.000000000",
          "2014-04-19T00:00:00.000000000",
          "2014-04-27T00:00:00.000000000",
          "2014-05-04T00:00:00.000000000",
          "2014-05-11T00:00:00.000000000",
          "2014-08-18T00:00:00.000000000",
          "2014-08-23T00:00:00.000000000",
          "2014-08-30T00:00:00.000000000",
          "2014-09-13T00:00:00.000000000",
          "2014-09-21T00:00:00.000000000",
          "2014-09-27T00:00:00.000000000",
          "2014-10-05T00:00:00.000000000",
          "2014-10-18T00:00:00.000000000",
          "2014-10-26T00:00:00.000000000",
          "2014-11-01T00:00:00.000000000",
          "2014-11-08T00:00:00.000000000",
          "2014-11-22T00:00:00.000000000",
          "2014-11-29T00:00:00.000000000",
          "2014-12-03T00:00:00.000000000",
          "2014-12-06T00:00:00.000000000",
          "2014-12-13T00:00:00.000000000",
          "2014-12-22T00:00:00.000000000",
          "2014-12-26T00:00:00.000000000",
          "2014-12-28T00:00:00.000000000",
          "2015-01-01T00:00:00.000000000",
          "2015-01-10T00:00:00.000000000",
          "2015-01-17T00:00:00.000000000",
          "2015-01-31T00:00:00.000000000",
          "2015-02-07T00:00:00.000000000",
          "2015-02-11T00:00:00.000000000",
          "2015-02-21T00:00:00.000000000",
          "2015-03-04T00:00:00.000000000",
          "2015-03-15T00:00:00.000000000",
          "2015-03-22T00:00:00.000000000",
          "2015-04-04T00:00:00.000000000",
          "2015-04-12T00:00:00.000000000",
          "2015-04-18T00:00:00.000000000",
          "2015-04-26T00:00:00.000000000",
          "2015-04-29T00:00:00.000000000",
          "2015-05-03T00:00:00.000000000",
          "2015-05-10T00:00:00.000000000",
          "2015-05-18T00:00:00.000000000",
          "2015-05-24T00:00:00.000000000",
          "2015-08-08T00:00:00.000000000",
          "2015-08-16T00:00:00.000000000",
          "2015-08-23T00:00:00.000000000",
          "2015-08-29T00:00:00.000000000",
          "2015-09-12T00:00:00.000000000",
          "2015-09-19T00:00:00.000000000",
          "2015-09-26T00:00:00.000000000",
          "2015-10-03T00:00:00.000000000",
          "2015-10-17T00:00:00.000000000",
          "2015-10-24T00:00:00.000000000",
          "2015-10-31T00:00:00.000000000",
          "2015-11-07T00:00:00.000000000",
          "2015-11-21T00:00:00.000000000",
          "2015-11-29T00:00:00.000000000",
          "2015-12-05T00:00:00.000000000",
          "2015-12-14T00:00:00.000000000",
          "2015-12-19T00:00:00.000000000",
          "2015-12-26T00:00:00.000000000",
          "2015-12-28T00:00:00.000000000",
          "2016-01-03T00:00:00.000000000",
          "2016-01-13T00:00:00.000000000",
          "2016-01-16T00:00:00.000000000",
          "2016-01-24T00:00:00.000000000",
          "2016-02-03T00:00:00.000000000",
          "2016-02-07T00:00:00.000000000",
          "2016-02-13T00:00:00.000000000",
          "2016-02-27T00:00:00.000000000",
          "2016-03-01T00:00:00.000000000",
          "2016-03-05T00:00:00.000000000",
          "2016-03-19T00:00:00.000000000",
          "2016-04-02T00:00:00.000000000",
          "2016-04-09T00:00:00.000000000",
          "2016-04-16T00:00:00.000000000",
          "2016-04-23T00:00:00.000000000",
          "2016-05-02T00:00:00.000000000",
          "2016-05-07T00:00:00.000000000",
          "2016-05-11T00:00:00.000000000",
          "2016-05-15T00:00:00.000000000",
          "2016-08-15T00:00:00.000000000",
          "2016-08-20T00:00:00.000000000",
          "2016-08-27T00:00:00.000000000",
          "2016-09-11T00:00:00.000000000",
          "2016-09-16T00:00:00.000000000",
          "2016-09-24T00:00:00.000000000",
          "2016-10-01T00:00:00.000000000",
          "2016-10-15T00:00:00.000000000",
          "2016-10-23T00:00:00.000000000",
          "2016-10-30T00:00:00.000000000",
          "2016-11-05T00:00:00.000000000",
          "2016-11-20T00:00:00.000000000",
          "2016-11-26T00:00:00.000000000",
          "2016-12-03T00:00:00.000000000",
          "2016-12-11T00:00:00.000000000",
          "2016-12-14T00:00:00.000000000",
          "2016-12-17T00:00:00.000000000",
          "2016-12-26T00:00:00.000000000",
          "2016-12-31T00:00:00.000000000",
          "2017-01-04T00:00:00.000000000",
          "2017-01-14T00:00:00.000000000",
          "2017-01-22T00:00:00.000000000",
          "2017-01-31T00:00:00.000000000",
          "2017-02-04T00:00:00.000000000",
          "2017-02-12T00:00:00.000000000",
          "2017-02-25T00:00:00.000000000",
          "2017-03-06T00:00:00.000000000",
          "2017-03-18T00:00:00.000000000",
          "2017-04-01T00:00:00.000000000",
          "2017-04-05T00:00:00.000000000",
          "2017-04-08T00:00:00.000000000",
          "2017-04-16T00:00:00.000000000",
          "2017-04-25T00:00:00.000000000",
          "2017-04-30T00:00:00.000000000",
          "2017-05-08T00:00:00.000000000",
          "2017-05-12T00:00:00.000000000",
          "2017-05-15T00:00:00.000000000",
          "2017-05-21T00:00:00.000000000",
          "2017-08-12T00:00:00.000000000",
          "2017-08-20T00:00:00.000000000",
          "2017-08-27T00:00:00.000000000",
          "2017-09-09T00:00:00.000000000",
          "2017-09-17T00:00:00.000000000",
          "2017-09-23T00:00:00.000000000",
          "2017-09-30T00:00:00.000000000",
          "2017-10-14T00:00:00.000000000",
          "2017-10-21T00:00:00.000000000",
          "2017-10-28T00:00:00.000000000",
          "2017-11-05T00:00:00.000000000",
          "2017-11-18T00:00:00.000000000",
          "2017-11-25T00:00:00.000000000",
          "2017-11-29T00:00:00.000000000",
          "2017-12-02T00:00:00.000000000",
          "2017-12-09T00:00:00.000000000",
          "2017-12-12T00:00:00.000000000",
          "2017-12-16T00:00:00.000000000",
          "2017-12-23T00:00:00.000000000",
          "2017-12-26T00:00:00.000000000",
          "2017-12-30T00:00:00.000000000",
          "2018-01-03T00:00:00.000000000",
          "2018-01-13T00:00:00.000000000",
          "2018-01-20T00:00:00.000000000",
          "2018-01-31T00:00:00.000000000",
          "2018-02-05T00:00:00.000000000",
          "2018-02-12T00:00:00.000000000",
          "2018-02-25T00:00:00.000000000",
          "2018-03-04T00:00:00.000000000",
          "2018-03-10T00:00:00.000000000",
          "2018-04-01T00:00:00.000000000",
          "2018-04-08T00:00:00.000000000",
          "2018-04-14T00:00:00.000000000",
          "2018-04-19T00:00:00.000000000",
          "2018-04-28T00:00:00.000000000",
          "2018-05-06T00:00:00.000000000",
          "2018-05-09T00:00:00.000000000",
          "2018-05-13T00:00:00.000000000",
          "2018-08-11T00:00:00.000000000",
          "2018-08-18T00:00:00.000000000",
          "2018-08-26T00:00:00.000000000",
          "2018-09-01T00:00:00.000000000",
          "2018-09-15T00:00:00.000000000",
          "2018-09-23T00:00:00.000000000",
          "2018-09-29T00:00:00.000000000",
          "2018-10-07T00:00:00.000000000",
          "2018-10-20T00:00:00.000000000",
          "2018-10-28T00:00:00.000000000",
          "2018-11-04T00:00:00.000000000",
          "2018-11-11T00:00:00.000000000",
          "2018-11-24T00:00:00.000000000",
          "2018-12-02T00:00:00.000000000",
          "2018-12-05T00:00:00.000000000",
          "2018-12-08T00:00:00.000000000",
          "2018-12-16T00:00:00.000000000",
          "2018-12-22T00:00:00.000000000",
          "2018-12-26T00:00:00.000000000",
          "2018-12-30T00:00:00.000000000",
          "2019-01-02T00:00:00.000000000",
          "2019-01-12T00:00:00.000000000",
          "2019-01-19T00:00:00.000000000",
          "2019-01-30T00:00:00.000000000",
          "2019-02-02T00:00:00.000000000",
          "2019-02-10T00:00:00.000000000",
          "2019-02-27T00:00:00.000000000",
          "2019-03-03T00:00:00.000000000",
          "2019-03-10T00:00:00.000000000",
          "2019-03-17T00:00:00.000000000",
          "2019-03-31T00:00:00.000000000",
          "2019-04-03T00:00:00.000000000",
          "2019-04-08T00:00:00.000000000",
          "2019-04-14T00:00:00.000000000",
          "2019-04-22T00:00:00.000000000",
          "2019-04-28T00:00:00.000000000",
          "2019-05-05T00:00:00.000000000",
          "2019-05-12T00:00:00.000000000",
          "2019-08-11T00:00:00.000000000",
          "2019-08-18T00:00:00.000000000",
          "2019-08-24T00:00:00.000000000",
          "2019-08-31T00:00:00.000000000",
          "2019-09-14T00:00:00.000000000",
          "2019-09-22T00:00:00.000000000",
          "2019-09-28T00:00:00.000000000",
          "2019-10-06T00:00:00.000000000",
          "2019-10-19T00:00:00.000000000",
          "2019-10-26T00:00:00.000000000",
          "2019-11-02T00:00:00.000000000",
          "2019-11-09T00:00:00.000000000",
          "2019-11-23T00:00:00.000000000",
          "2019-11-30T00:00:00.000000000",
          "2019-12-04T00:00:00.000000000",
          "2019-12-07T00:00:00.000000000",
          "2019-12-14T00:00:00.000000000",
          "2019-12-22T00:00:00.000000000",
          "2019-12-26T00:00:00.000000000",
          "2019-12-29T00:00:00.000000000",
          "2020-01-01T00:00:00.000000000",
          "2020-01-11T00:00:00.000000000",
          "2020-01-18T00:00:00.000000000",
          "2020-01-21T00:00:00.000000000",
          "2020-02-01T00:00:00.000000000",
          "2020-02-17T00:00:00.000000000",
          "2020-02-22T00:00:00.000000000",
          "2020-02-29T00:00:00.000000000",
          "2020-03-08T00:00:00.000000000",
          "2020-06-21T00:00:00.000000000",
          "2020-06-25T00:00:00.000000000",
          "2020-07-01T00:00:00.000000000",
          "2020-07-04T00:00:00.000000000",
          "2020-07-07T00:00:00.000000000",
          "2020-07-11T00:00:00.000000000",
          "2020-07-14T00:00:00.000000000",
          "2020-07-22T00:00:00.000000000",
          "2020-07-26T00:00:00.000000000",
          "2020-09-14T00:00:00.000000000",
          "2020-09-20T00:00:00.000000000",
          "2020-09-26T00:00:00.000000000",
          "2020-10-03T00:00:00.000000000",
          "2020-10-17T00:00:00.000000000",
          "2020-10-24T00:00:00.000000000",
          "2020-10-31T00:00:00.000000000",
          "2020-11-07T00:00:00.000000000",
          "2020-11-21T00:00:00.000000000",
          "2020-11-29T00:00:00.000000000",
          "2020-12-05T00:00:00.000000000",
          "2020-12-12T00:00:00.000000000",
          "2020-12-15T00:00:00.000000000",
          "2020-12-21T00:00:00.000000000",
          "2020-12-26T00:00:00.000000000",
          "2020-12-28T00:00:00.000000000",
          "2021-01-03T00:00:00.000000000",
          "2021-01-16T00:00:00.000000000",
          "2021-01-19T00:00:00.000000000",
          "2021-01-27T00:00:00.000000000",
          "2021-01-31T00:00:00.000000000",
          "2021-02-04T00:00:00.000000000",
          "2021-02-07T00:00:00.000000000",
          "2021-02-15T00:00:00.000000000",
          "2021-02-20T00:00:00.000000000",
          "2021-02-28T00:00:00.000000000",
          "2021-03-04T00:00:00.000000000",
          "2021-03-08T00:00:00.000000000",
          "2021-03-13T00:00:00.000000000",
          "2021-04-03T00:00:00.000000000",
          "2021-04-10T00:00:00.000000000",
          "2021-04-20T00:00:00.000000000",
          "2021-04-24T00:00:00.000000000",
          "2021-05-01T00:00:00.000000000",
          "2021-05-08T00:00:00.000000000",
          "2021-05-12T00:00:00.000000000",
          "2021-05-18T00:00:00.000000000",
          "2021-05-23T00:00:00.000000000",
          "2021-08-14T00:00:00.000000000",
          "2021-08-22T00:00:00.000000000",
          "2021-08-28T00:00:00.000000000",
          "2021-09-11T00:00:00.000000000",
          "2021-09-19T00:00:00.000000000",
          "2021-09-25T00:00:00.000000000",
          "2021-10-02T00:00:00.000000000",
          "2021-10-16T00:00:00.000000000",
          "2021-10-23T00:00:00.000000000",
          "2021-10-30T00:00:00.000000000",
          "2021-11-06T00:00:00.000000000",
          "2021-11-20T00:00:00.000000000",
          "2021-11-28T00:00:00.000000000",
          "2021-12-01T00:00:00.000000000",
          "2021-12-04T00:00:00.000000000",
          "2021-12-11T00:00:00.000000000",
          "2021-12-16T00:00:00.000000000",
          "2021-12-19T00:00:00.000000000",
          "2021-12-26T00:00:00.000000000",
          "2021-12-29T00:00:00.000000000",
          "2022-01-02T00:00:00.000000000",
          "2022-01-15T00:00:00.000000000",
          "2022-01-18T00:00:00.000000000",
          "2022-01-23T00:00:00.000000000",
          "2022-02-19T00:00:00.000000000",
          "2022-03-05T00:00:00.000000000",
          "2022-03-10T00:00:00.000000000",
          "2022-03-13T00:00:00.000000000",
          "2022-04-02T00:00:00.000000000",
          "2022-04-09T00:00:00.000000000",
          "2022-04-20T00:00:00.000000000",
          "2022-04-24T00:00:00.000000000",
          "2022-04-28T00:00:00.000000000",
          "2022-05-01T00:00:00.000000000",
          "2022-05-07T00:00:00.000000000",
          "2022-05-11T00:00:00.000000000",
          "2022-05-19T00:00:00.000000000",
          "2022-05-22T00:00:00.000000000",
          "2022-08-06T00:00:00.000000000",
          "2022-08-14T00:00:00.000000000",
          "2022-08-21T00:00:00.000000000",
          "2022-08-27T00:00:00.000000000",
          "2022-08-30T00:00:00.000000000",
          "2022-09-03T00:00:00.000000000",
          "2022-10-01T00:00:00.000000000",
          "2022-10-08T00:00:00.000000000",
          "2022-10-16T00:00:00.000000000",
          "2022-10-19T00:00:00.000000000",
          "2022-10-22T00:00:00.000000000",
          "2022-10-29T00:00:00.000000000",
          "2022-11-06T00:00:00.000000000",
          "2022-11-12T00:00:00.000000000",
          "2022-12-27T00:00:00.000000000",
          "2023-01-01T00:00:00.000000000",
          "2023-01-05T00:00:00.000000000",
          "2023-01-12T00:00:00.000000000",
          "2023-01-15T00:00:00.000000000",
          "2023-01-21T00:00:00.000000000",
          "2023-02-03T00:00:00.000000000",
          "2023-02-11T00:00:00.000000000",
          "2023-02-18T00:00:00.000000000",
          "2023-02-26T00:00:00.000000000",
          "2023-03-04T00:00:00.000000000",
          "2023-03-11T00:00:00.000000000",
          "2023-03-18T00:00:00.000000000",
          "2023-04-01T00:00:00.000000000",
          "2023-04-04T00:00:00.000000000",
          "2023-04-08T00:00:00.000000000",
          "2023-04-15T00:00:00.000000000",
          "2023-04-26T00:00:00.000000000",
          "2023-05-02T00:00:00.000000000",
          "2023-05-06T00:00:00.000000000",
          "2023-05-13T00:00:00.000000000",
          "2023-05-21T00:00:00.000000000",
          "2023-05-25T00:00:00.000000000",
          "2023-05-28T00:00:00.000000000",
          "2023-08-13T00:00:00.000000000",
          "2023-08-20T00:00:00.000000000",
          "2023-08-25T00:00:00.000000000",
          "2023-09-02T00:00:00.000000000",
          "2023-09-17T00:00:00.000000000",
          "2023-09-24T00:00:00.000000000",
          "2023-10-02T00:00:00.000000000",
          "2023-10-07T00:00:00.000000000",
          "2023-10-21T00:00:00.000000000",
          "2023-10-28T00:00:00.000000000",
          "2023-11-06T00:00:00.000000000",
          "2023-11-12T00:00:00.000000000",
          "2023-11-25T00:00:00.000000000",
          "2023-12-03T00:00:00.000000000",
          "2023-12-06T00:00:00.000000000",
          "2023-12-10T00:00:00.000000000",
          "2023-12-16T00:00:00.000000000",
          "2023-12-24T00:00:00.000000000",
          "2023-12-27T00:00:00.000000000",
          "2023-12-30T00:00:00.000000000",
          "2024-01-13T00:00:00.000000000",
          "2024-01-31T00:00:00.000000000",
          "2024-02-04T00:00:00.000000000",
          "2024-02-12T00:00:00.000000000",
          "2024-02-17T00:00:00.000000000",
          "2024-03-02T00:00:00.000000000",
          "2024-03-11T00:00:00.000000000",
          "2024-03-30T00:00:00.000000000",
          "2024-04-04T00:00:00.000000000",
          "2024-04-07T00:00:00.000000000",
          "2024-04-15T00:00:00.000000000",
          "2024-04-23T00:00:00.000000000",
          "2024-04-27T00:00:00.000000000",
          "2024-05-02T00:00:00.000000000",
          "2024-05-05T00:00:00.000000000",
          "2024-05-11T00:00:00.000000000",
          "2024-05-15T00:00:00.000000000",
          "2024-05-19T00:00:00.000000000",
          "2024-08-18T00:00:00.000000000",
          "2024-08-25T00:00:00.000000000",
          "2024-09-01T00:00:00.000000000",
          "2024-09-14T00:00:00.000000000",
          "2024-09-21T00:00:00.000000000",
          "2024-09-28T00:00:00.000000000",
          "2024-10-06T00:00:00.000000000",
          "2024-10-20T00:00:00.000000000",
          "2024-10-27T00:00:00.000000000",
          "2024-11-03T00:00:00.000000000",
          "2024-11-10T00:00:00.000000000",
          "2024-11-23T00:00:00.000000000",
          "2024-12-01T00:00:00.000000000",
          "2024-12-04T00:00:00.000000000",
          "2024-12-08T00:00:00.000000000",
          "2024-12-15T00:00:00.000000000",
          "2024-12-22T00:00:00.000000000",
          "2024-12-26T00:00:00.000000000",
          "2024-12-30T00:00:00.000000000",
          "2025-01-04T00:00:00.000000000",
          "2025-01-14T00:00:00.000000000",
          "2025-01-20T00:00:00.000000000",
          "2025-01-25T00:00:00.000000000",
          "2025-02-03T00:00:00.000000000",
          "2025-02-14T00:00:00.000000000",
          "2025-02-22T00:00:00.000000000",
          "2025-02-25T00:00:00.000000000",
          "2025-03-09T00:00:00.000000000",
          "2025-03-16T00:00:00.000000000",
          "2025-04-03T00:00:00.000000000",
          "2025-04-06T00:00:00.000000000",
          "2025-04-13T00:00:00.000000000",
          "2025-04-20T00:00:00.000000000",
          "2025-04-26T00:00:00.000000000",
          "2025-05-04T00:00:00.000000000",
          "2025-05-11T00:00:00.000000000",
          "2025-05-16T00:00:00.000000000",
          "2025-05-25T00:00:00.000000000"
         ],
         "y": {
          "bdata": "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",
          "dtype": "f8"
         }
        },
        {
         "line": {
          "color": "green"
         },
         "mode": "lines",
         "name": "Man City",
         "type": "scatter",
         "x": [
          "1993-08-14T00:00:00.000000000",
          "1993-08-17T00:00:00.000000000",
          "1993-08-21T00:00:00.000000000",
          "1993-08-24T00:00:00.000000000",
          "1993-08-27T00:00:00.000000000",
          "1993-09-01T00:00:00.000000000",
          "1993-09-11T00:00:00.000000000",
          "1993-09-20T00:00:00.000000000",
          "1993-09-25T00:00:00.000000000",
          "1993-10-04T00:00:00.000000000",
          "1993-10-16T00:00:00.000000000",
          "1993-10-23T00:00:00.000000000",
          "1993-11-01T00:00:00.000000000",
          "1993-11-07T00:00:00.000000000",
          "1993-11-20T00:00:00.000000000",
          "1993-11-22T00:00:00.000000000",
          "1993-11-27T00:00:00.000000000",
          "1993-12-04T00:00:00.000000000",
          "1993-12-08T00:00:00.000000000",
          "1993-12-11T00:00:00.000000000",
          "1993-12-18T00:00:00.000000000",
          "1993-12-28T00:00:00.000000000",
          "1994-01-01T00:00:00.000000000",
          "1994-01-15T00:00:00.000000000",
          "1994-01-22T00:00:00.000000000",
          "1994-02-05T00:00:00.000000000",
          "1994-02-12T00:00:00.000000000",
          "1994-02-19T00:00:00.000000000",
          "1994-02-22T00:00:00.000000000",
          "1994-02-26T00:00:00.000000000",
          "1994-03-05T00:00:00.000000000",
          "1994-03-12T00:00:00.000000000",
          "1994-03-19T00:00:00.000000000",
          "1994-03-26T00:00:00.000000000",
          "1994-03-29T00:00:00.000000000",
          "1994-08-20T00:00:00.000000000",
          "1994-08-24T00:00:00.000000000",
          "1994-08-27T00:00:00.000000000",
          "1994-08-31T00:00:00.000000000",
          "1994-09-10T00:00:00.000000000",
          "1994-09-17T00:00:00.000000000",
          "1994-09-24T00:00:00.000000000",
          "1994-10-01T00:00:00.000000000",
          "1994-10-08T00:00:00.000000000",
          "1994-10-15T00:00:00.000000000",
          "1994-10-22T00:00:00.000000000",
          "1994-10-29T00:00:00.000000000",
          "1994-11-05T00:00:00.000000000",
          "1994-11-10T00:00:00.000000000",
          "1994-11-20T00:00:00.000000000",
          "1994-11-26T00:00:00.000000000",
          "1994-12-03T00:00:00.000000000",
          "1994-12-12T00:00:00.000000000",
          "1994-12-17T00:00:00.000000000",
          "1994-12-26T00:00:00.000000000",
          "1994-12-28T00:00:00.000000000",
          "1994-12-31T00:00:00.000000000",
          "1995-01-02T00:00:00.000000000",
          "1995-01-14T00:00:00.000000000",
          "1995-01-25T00:00:00.000000000",
          "1995-02-04T00:00:00.000000000",
          "1995-02-11T00:00:00.000000000",
          "1995-02-22T00:00:00.000000000",
          "1995-02-25T00:00:00.000000000",
          "1995-03-04T00:00:00.000000000",
          "1995-03-08T00:00:00.000000000",
          "1995-03-15T00:00:00.000000000",
          "1995-03-18T00:00:00.000000000",
          "1995-03-21T00:00:00.000000000",
          "1995-04-01T00:00:00.000000000",
          "1995-08-19T00:00:00.000000000",
          "1995-08-23T00:00:00.000000000",
          "1995-08-26T00:00:00.000000000",
          "1995-08-30T00:00:00.000000000",
          "1995-09-10T00:00:00.000000000",
          "1995-09-16T00:00:00.000000000",
          "1995-09-23T00:00:00.000000000",
          "1995-09-30T00:00:00.000000000",
          "1995-10-14T00:00:00.000000000",
          "1995-10-21T00:00:00.000000000",
          "1995-10-28T00:00:00.000000000",
          "1995-11-04T00:00:00.000000000",
          "1995-11-18T00:00:00.000000000",
          "1995-11-22T00:00:00.000000000",
          "1995-11-25T00:00:00.000000000",
          "1995-12-02T00:00:00.000000000",
          "1995-12-09T00:00:00.000000000",
          "1995-12-18T00:00:00.000000000",
          "1995-12-23T00:00:00.000000000",
          "1995-12-26T00:00:00.000000000",
          "1996-01-01T00:00:00.000000000",
          "1996-01-13T00:00:00.000000000",
          "1996-01-20T00:00:00.000000000",
          "1996-01-31T00:00:00.000000000",
          "1996-02-03T00:00:00.000000000",
          "1996-02-10T00:00:00.000000000",
          "1996-02-24T00:00:00.000000000",
          "1996-03-02T00:00:00.000000000",
          "1996-03-05T00:00:00.000000000",
          "1996-03-12T00:00:00.000000000",
          "1996-03-16T00:00:00.000000000",
          "1996-03-23T00:00:00.000000000",
          "1996-03-30T00:00:00.000000000",
          "1996-04-06T00:00:00.000000000",
          "1996-04-08T00:00:00.000000000",
          "1996-04-13T00:00:00.000000000",
          "1996-04-27T00:00:00.000000000",
          "1996-05-04T00:00:00.000000000",
          "2000-08-19T00:00:00.000000000",
          "2000-08-23T00:00:00.000000000",
          "2000-08-26T00:00:00.000000000",
          "2000-09-05T00:00:00.000000000",
          "2000-09-09T00:00:00.000000000",
          "2000-09-17T00:00:00.000000000",
          "2000-09-23T00:00:00.000000000",
          "2000-09-30T00:00:00.000000000",
          "2000-10-14T00:00:00.000000000",
          "2000-10-23T00:00:00.000000000",
          "2000-10-28T00:00:00.000000000",
          "2000-11-04T00:00:00.000000000",
          "2000-11-11T00:00:00.000000000",
          "2000-11-18T00:00:00.000000000",
          "2000-11-25T00:00:00.000000000",
          "2000-12-03T00:00:00.000000000",
          "2000-12-09T00:00:00.000000000",
          "2000-12-16T00:00:00.000000000",
          "2000-12-23T00:00:00.000000000",
          "2000-12-26T00:00:00.000000000",
          "2000-12-30T00:00:00.000000000",
          "2001-01-01T00:00:00.000000000",
          "2001-01-13T00:00:00.000000000",
          "2001-01-20T00:00:00.000000000",
          "2001-01-31T00:00:00.000000000",
          "2001-02-03T00:00:00.000000000",
          "2001-02-10T00:00:00.000000000",
          "2001-02-24T00:00:00.000000000",
          "2001-03-03T00:00:00.000000000",
          "2001-03-17T00:00:00.000000000",
          "2001-03-31T00:00:00.000000000",
          "2001-04-08T00:00:00.000000000",
          "2001-04-11T00:00:00.000000000",
          "2001-04-14T00:00:00.000000000",
          "2001-04-21T00:00:00.000000000",
          "2001-04-28T00:00:00.000000000",
          "2001-05-07T00:00:00.000000000",
          "2001-05-19T00:00:00.000000000",
          "2002-08-17T00:00:00.000000000",
          "2002-08-24T00:00:00.000000000",
          "2002-08-28T00:00:00.000000000",
          "2002-08-31T00:00:00.000000000",
          "2002-09-10T00:00:00.000000000",
          "2002-09-15T00:00:00.000000000",
          "2002-09-21T00:00:00.000000000",
          "2002-09-28T00:00:00.000000000",
          "2002-10-05T00:00:00.000000000",
          "2002-10-19T00:00:00.000000000",
          "2002-10-26T00:00:00.000000000",
          "2002-11-02T00:00:00.000000000",
          "2002-11-09T00:00:00.000000000",
          "2002-11-16T00:00:00.000000000",
          "2002-11-23T00:00:00.000000000",
          "2002-11-30T00:00:00.000000000",
          "2002-12-09T00:00:00.000000000",
          "2002-12-14T00:00:00.000000000",
          "2002-12-23T00:00:00.000000000",
          "2002-12-26T00:00:00.000000000",
          "2002-12-28T00:00:00.000000000",
          "2003-01-01T00:00:00.000000000",
          "2003-01-11T00:00:00.000000000",
          "2003-01-18T00:00:00.000000000",
          "2003-01-29T00:00:00.000000000",
          "2003-02-01T00:00:00.000000000",
          "2003-02-09T00:00:00.000000000",
          "2003-02-22T00:00:00.000000000",
          "2003-03-01T00:00:00.000000000",
          "2003-03-16T00:00:00.000000000",
          "2003-03-22T00:00:00.000000000",
          "2003-04-05T00:00:00.000000000",
          "2003-04-12T00:00:00.000000000",
          "2003-04-18T00:00:00.000000000",
          "2003-04-21T00:00:00.000000000",
          "2003-04-27T00:00:00.000000000",
          "2003-05-03T00:00:00.000000000",
          "2003-05-11T00:00:00.000000000",
          "2003-08-17T00:00:00.000000000",
          "2003-08-23T00:00:00.000000000",
          "2003-08-25T00:00:00.000000000",
          "2003-08-31T00:00:00.000000000",
          "2003-09-14T00:00:00.000000000",
          "2003-09-20T00:00:00.000000000",
          "2003-09-28T00:00:00.000000000",
          "2003-10-04T00:00:00.000000000",
          "2003-10-18T00:00:00.000000000",
          "2003-10-25T00:00:00.000000000",
          "2003-11-01T00:00:00.000000000",
          "2003-11-09T00:00:00.000000000",
          "2003-11-22T00:00:00.000000000",
          "2003-11-30T00:00:00.000000000",
          "2003-12-07T00:00:00.000000000",
          "2003-12-13T00:00:00.000000000",
          "2003-12-22T00:00:00.000000000",
          "2003-12-26T00:00:00.000000000",
          "2003-12-28T00:00:00.000000000",
          "2004-01-07T00:00:00.000000000",
          "2004-01-10T00:00:00.000000000",
          "2004-01-17T00:00:00.000000000",
          "2004-02-01T00:00:00.000000000",
          "2004-02-08T00:00:00.000000000",
          "2004-02-11T00:00:00.000000000",
          "2004-02-21T00:00:00.000000000",
          "2004-02-28T00:00:00.000000000",
          "2004-03-14T00:00:00.000000000",
          "2004-03-22T00:00:00.000000000",
          "2004-03-27T00:00:00.000000000",
          "2004-04-04T00:00:00.000000000",
          "2004-04-10T00:00:00.000000000",
          "2004-04-12T00:00:00.000000000",
          "2004-04-17T00:00:00.000000000",
          "2004-04-24T00:00:00.000000000",
          "2004-05-01T00:00:00.000000000",
          "2004-05-08T00:00:00.000000000",
          "2004-05-15T00:00:00.000000000",
          "2004-08-14T00:00:00.000000000",
          "2004-08-21T00:00:00.000000000",
          "2004-08-24T00:00:00.000000000",
          "2004-08-28T00:00:00.000000000",
          "2004-09-11T00:00:00.000000000",
          "2004-09-18T00:00:00.000000000",
          "2004-09-25T00:00:00.000000000",
          "2004-10-02T00:00:00.000000000",
          "2004-10-16T00:00:00.000000000",
          "2004-10-24T00:00:00.000000000",
          "2004-11-01T00:00:00.000000000",
          "2004-11-07T00:00:00.000000000",
          "2004-11-13T00:00:00.000000000",
          "2004-11-20T00:00:00.000000000",
          "2004-11-27T00:00:00.000000000",
          "2004-12-06T00:00:00.000000000",
          "2004-12-11T00:00:00.000000000",
          "2004-12-18T00:00:00.000000000",
          "2004-12-26T00:00:00.000000000",
          "2004-12-28T00:00:00.000000000",
          "2005-01-01T00:00:00.000000000",
          "2005-01-04T00:00:00.000000000",
          "2005-01-15T00:00:00.000000000",
          "2005-01-22T00:00:00.000000000",
          "2005-02-02T00:00:00.000000000",
          "2005-02-06T00:00:00.000000000",
          "2005-02-13T00:00:00.000000000",
          "2005-02-28T00:00:00.000000000",
          "2005-03-07T00:00:00.000000000",
          "2005-03-19T00:00:00.000000000",
          "2005-04-02T00:00:00.000000000",
          "2005-04-09T00:00:00.000000000",
          "2005-04-16T00:00:00.000000000",
          "2005-04-20T00:00:00.000000000",
          "2005-04-23T00:00:00.000000000",
          "2005-04-30T00:00:00.000000000",
          "2005-05-07T00:00:00.000000000",
          "2005-05-15T00:00:00.000000000",
          "2005-08-13T00:00:00.000000000",
          "2005-08-20T00:00:00.000000000",
          "2005-08-23T00:00:00.000000000",
          "2005-08-27T00:00:00.000000000",
          "2005-09-10T00:00:00.000000000",
          "2005-09-18T00:00:00.000000000",
          "2005-09-24T00:00:00.000000000",
          "2005-10-02T00:00:00.000000000",
          "2005-10-16T00:00:00.000000000",
          "2005-10-22T00:00:00.000000000",
          "2005-10-31T00:00:00.000000000",
          "2005-11-05T00:00:00.000000000",
          "2005-11-19T00:00:00.000000000",
          "2005-11-26T00:00:00.000000000",
          "2005-12-04T00:00:00.000000000",
          "2005-12-10T00:00:00.000000000",
          "2005-12-17T00:00:00.000000000",
          "2005-12-26T00:00:00.000000000",
          "2005-12-28T00:00:00.000000000",
          "2005-12-31T00:00:00.000000000",
          "2006-01-04T00:00:00.000000000",
          "2006-01-14T00:00:00.000000000",
          "2006-01-21T00:00:00.000000000",
          "2006-02-01T00:00:00.000000000",
          "2006-02-04T00:00:00.000000000",
          "2006-02-12T00:00:00.000000000",
          "2006-02-26T00:00:00.000000000",
          "2006-03-05T00:00:00.000000000",
          "2006-03-11T00:00:00.000000000",
          "2006-03-18T00:00:00.000000000",
          "2006-03-25T00:00:00.000000000",
          "2006-04-02T00:00:00.000000000",
          "2006-04-08T00:00:00.000000000",
          "2006-04-15T00:00:00.000000000",
          "2006-04-25T00:00:00.000000000",
          "2006-04-29T00:00:00.000000000",
          "2006-05-04T00:00:00.000000000",
          "2006-05-07T00:00:00.000000000",
          "2006-08-20T00:00:00.000000000",
          "2006-08-23T00:00:00.000000000",
          "2006-08-26T00:00:00.000000000",
          "2006-09-11T00:00:00.000000000",
          "2006-09-17T00:00:00.000000000",
          "2006-09-23T00:00:00.000000000",
          "2006-09-30T00:00:00.000000000",
          "2006-10-14T00:00:00.000000000",
          "2006-10-21T00:00:00.000000000",
          "2006-10-30T00:00:00.000000000",
          "2006-11-04T00:00:00.000000000",
          "2006-11-11T00:00:00.000000000",
          "2006-11-18T00:00:00.000000000",
          "2006-11-25T00:00:00.000000000",
          "2006-11-29T00:00:00.000000000",
          "2006-12-04T00:00:00.000000000",
          "2006-12-09T00:00:00.000000000",
          "2006-12-17T00:00:00.000000000",
          "2006-12-23T00:00:00.000000000",
          "2006-12-26T00:00:00.000000000",
          "2006-12-30T00:00:00.000000000",
          "2007-01-01T00:00:00.000000000",
          "2007-01-13T00:00:00.000000000",
          "2007-01-20T00:00:00.000000000",
          "2007-02-03T00:00:00.000000000",
          "2007-02-10T00:00:00.000000000",
          "2007-03-03T00:00:00.000000000",
          "2007-03-14T00:00:00.000000000",
          "2007-03-17T00:00:00.000000000",
          "2007-03-31T00:00:00.000000000",
          "2007-04-06T00:00:00.000000000",
          "2007-04-09T00:00:00.000000000",
          "2007-04-14T00:00:00.000000000",
          "2007-04-17T00:00:00.000000000",
          "2007-04-21T00:00:00.000000000",
          "2007-04-28T00:00:00.000000000",
          "2007-05-05T00:00:00.000000000",
          "2007-05-13T00:00:00.000000000",
          "2007-08-11T00:00:00.000000000",
          "2007-08-15T00:00:00.000000000",
          "2007-08-19T00:00:00.000000000",
          "2007-08-25T00:00:00.000000000",
          "2007-09-02T00:00:00.000000000",
          "2007-09-16T00:00:00.000000000",
          "2007-09-22T00:00:00.000000000",
          "2007-09-29T00:00:00.000000000",
          "2007-10-07T00:00:00.000000000",
          "2007-10-20T00:00:00.000000000",
          "2007-10-27T00:00:00.000000000",
          "2007-11-05T00:00:00.000000000",
          "2007-11-11T00:00:00.000000000",
          "2007-11-24T00:00:00.000000000",
          "2007-12-01T00:00:00.000000000",
          "2007-12-09T00:00:00.000000000",
          "2007-12-15T00:00:00.000000000",
          "2007-12-22T00:00:00.000000000",
          "2007-12-27T00:00:00.000000000",
          "2007-12-30T00:00:00.000000000",
          "2008-01-02T00:00:00.000000000",
          "2008-01-12T00:00:00.000000000",
          "2008-01-20T00:00:00.000000000",
          "2008-01-30T00:00:00.000000000",
          "2008-02-02T00:00:00.000000000",
          "2008-02-10T00:00:00.000000000",
          "2008-02-25T00:00:00.000000000",
          "2008-03-01T00:00:00.000000000",
          "2008-03-08T00:00:00.000000000",
          "2008-03-16T00:00:00.000000000",
          "2008-03-22T00:00:00.000000000",
          "2008-03-29T00:00:00.000000000",
          "2008-04-05T00:00:00.000000000",
          "2008-04-12T00:00:00.000000000",
          "2008-04-20T00:00:00.000000000",
          "2008-04-26T00:00:00.000000000",
          "2008-05-04T00:00:00.000000000",
          "2008-05-11T00:00:00.000000000",
          "2008-08-17T00:00:00.000000000",
          "2008-08-24T00:00:00.000000000",
          "2008-08-31T00:00:00.000000000",
          "2008-09-13T00:00:00.000000000",
          "2008-09-21T00:00:00.000000000",
          "2008-09-28T00:00:00.000000000",
          "2008-10-05T00:00:00.000000000",
          "2008-10-20T00:00:00.000000000",
          "2008-10-26T00:00:00.000000000",
          "2008-10-29T00:00:00.000000000",
          "2008-11-02T00:00:00.000000000",
          "2008-11-09T00:00:00.000000000",
          "2008-11-16T00:00:00.000000000",
          "2008-11-22T00:00:00.000000000",
          "2008-11-30T00:00:00.000000000",
          "2008-12-06T00:00:00.000000000",
          "2008-12-13T00:00:00.000000000",
          "2008-12-21T00:00:00.000000000",
          "2008-12-26T00:00:00.000000000",
          "2008-12-28T00:00:00.000000000",
          "2009-01-17T00:00:00.000000000",
          "2009-01-28T00:00:00.000000000",
          "2009-01-31T00:00:00.000000000",
          "2009-02-07T00:00:00.000000000",
          "2009-02-14T00:00:00.000000000",
          "2009-02-22T00:00:00.000000000",
          "2009-03-01T00:00:00.000000000",
          "2009-03-04T00:00:00.000000000",
          "2009-03-15T00:00:00.000000000",
          "2009-03-22T00:00:00.000000000",
          "2009-04-04T00:00:00.000000000",
          "2009-04-12T00:00:00.000000000",
          "2009-04-19T00:00:00.000000000",
          "2009-04-25T00:00:00.000000000",
          "2009-05-02T00:00:00.000000000",
          "2009-05-10T00:00:00.000000000",
          "2009-05-16T00:00:00.000000000",
          "2009-05-24T00:00:00.000000000",
          "2009-08-15T00:00:00.000000000",
          "2009-08-22T00:00:00.000000000",
          "2009-08-30T00:00:00.000000000",
          "2009-09-12T00:00:00.000000000",
          "2009-09-20T00:00:00.000000000",
          "2009-09-28T00:00:00.000000000",
          "2009-10-05T00:00:00.000000000",
          "2009-10-18T00:00:00.000000000",
          "2009-10-25T00:00:00.000000000",
          "2009-11-01T00:00:00.000000000",
          "2009-11-07T00:00:00.000000000",
          "2009-11-21T00:00:00.000000000",
          "2009-11-28T00:00:00.000000000",
          "2009-12-05T00:00:00.000000000",
          "2009-12-12T00:00:00.000000000",
          "2009-12-16T00:00:00.000000000",
          "2009-12-19T00:00:00.000000000",
          "2009-12-26T00:00:00.000000000",
          "2009-12-28T00:00:00.000000000",
          "2010-01-11T00:00:00.000000000",
          "2010-01-16T00:00:00.000000000",
          "2010-01-31T00:00:00.000000000",
          "2010-02-06T00:00:00.000000000",
          "2010-02-09T00:00:00.000000000",
          "2010-02-16T00:00:00.000000000",
          "2010-02-21T00:00:00.000000000",
          "2010-02-27T00:00:00.000000000",
          "2010-03-14T00:00:00.000000000",
          "2010-03-21T00:00:00.000000000",
          "2010-03-24T00:00:00.000000000",
          "2010-03-29T00:00:00.000000000",
          "2010-04-03T00:00:00.000000000",
          "2010-04-11T00:00:00.000000000",
          "2010-04-17T00:00:00.000000000",
          "2010-04-24T00:00:00.000000000",
          "2010-05-01T00:00:00.000000000",
          "2010-05-05T00:00:00.000000000",
          "2010-05-09T00:00:00.000000000",
          "2010-08-14T00:00:00.000000000",
          "2010-08-23T00:00:00.000000000",
          "2010-08-29T00:00:00.000000000",
          "2010-09-11T00:00:00.000000000",
          "2010-09-19T00:00:00.000000000",
          "2010-09-25T00:00:00.000000000",
          "2010-10-03T00:00:00.000000000",
          "2010-10-17T00:00:00.000000000",
          "2010-10-24T00:00:00.000000000",
          "2010-10-30T00:00:00.000000000",
          "2010-11-07T00:00:00.000000000",
          "2010-11-10T00:00:00.000000000",
          "2010-11-13T00:00:00.000000000",
          "2010-11-21T00:00:00.000000000",
          "2010-11-27T00:00:00.000000000",
          "2010-12-04T00:00:00.000000000",
          "2010-12-11T00:00:00.000000000",
          "2010-12-20T00:00:00.000000000",
          "2010-12-26T00:00:00.000000000",
          "2010-12-28T00:00:00.000000000",
          "2011-01-01T00:00:00.000000000",
          "2011-01-05T00:00:00.000000000",
          "2011-01-15T00:00:00.000000000",
          "2011-01-22T00:00:00.000000000",
          "2011-02-02T00:00:00.000000000",
          "2011-02-05T00:00:00.000000000",
          "2011-02-12T00:00:00.000000000",
          "2011-02-27T00:00:00.000000000",
          "2011-03-05T00:00:00.000000000",
          "2011-03-20T00:00:00.000000000",
          "2011-04-03T00:00:00.000000000",
          "2011-04-11T00:00:00.000000000",
          "2011-04-25T00:00:00.000000000",
          "2011-05-01T00:00:00.000000000",
          "2011-05-07T00:00:00.000000000",
          "2011-05-10T00:00:00.000000000",
          "2011-05-17T00:00:00.000000000",
          "2011-05-22T00:00:00.000000000",
          "2011-08-15T00:00:00.000000000",
          "2011-08-21T00:00:00.000000000",
          "2011-08-28T00:00:00.000000000",
          "2011-09-10T00:00:00.000000000",
          "2011-09-18T00:00:00.000000000",
          "2011-09-24T00:00:00.000000000",
          "2011-10-01T00:00:00.000000000",
          "2011-10-15T00:00:00.000000000",
          "2011-10-23T00:00:00.000000000",
          "2011-10-29T00:00:00.000000000",
          "2011-11-05T00:00:00.000000000",
          "2011-11-19T00:00:00.000000000",
          "2011-11-27T00:00:00.000000000",
          "2011-12-03T00:00:00.000000000",
          "2011-12-12T00:00:00.000000000",
          "2011-12-18T00:00:00.000000000",
          "2011-12-21T00:00:00.000000000",
          "2011-12-26T00:00:00.000000000",
          "2012-01-01T00:00:00.000000000",
          "2012-01-03T00:00:00.000000000",
          "2012-01-16T00:00:00.000000000",
          "2012-01-22T00:00:00.000000000",
          "2012-01-31T00:00:00.000000000",
          "2012-02-04T00:00:00.000000000",
          "2012-02-12T00:00:00.000000000",
          "2012-02-25T00:00:00.000000000",
          "2012-03-03T00:00:00.000000000",
          "2012-03-11T00:00:00.000000000",
          "2012-03-21T00:00:00.000000000",
          "2012-03-24T00:00:00.000000000",
          "2012-03-31T00:00:00.000000000",
          "2012-04-08T00:00:00.000000000",
          "2012-04-11T00:00:00.000000000",
          "2012-04-14T00:00:00.000000000",
          "2012-04-22T00:00:00.000000000",
          "2012-04-30T00:00:00.000000000",
          "2012-05-06T00:00:00.000000000",
          "2012-05-13T00:00:00.000000000",
          "2012-08-19T00:00:00.000000000",
          "2012-08-26T00:00:00.000000000",
          "2012-09-01T00:00:00.000000000",
          "2012-09-15T00:00:00.000000000",
          "2012-09-23T00:00:00.000000000",
          "2012-09-29T00:00:00.000000000",
          "2012-10-06T00:00:00.000000000",
          "2012-10-20T00:00:00.000000000",
          "2012-10-27T00:00:00.000000000",
          "2012-11-03T00:00:00.000000000",
          "2012-11-11T00:00:00.000000000",
          "2012-11-17T00:00:00.000000000",
          "2012-11-25T00:00:00.000000000",
          "2012-11-28T00:00:00.000000000",
          "2012-12-01T00:00:00.000000000",
          "2012-12-09T00:00:00.000000000",
          "2012-12-15T00:00:00.000000000",
          "2012-12-22T00:00:00.000000000",
          "2012-12-26T00:00:00.000000000",
          "2012-12-29T00:00:00.000000000",
          "2013-01-01T00:00:00.000000000",
          "2013-01-13T00:00:00.000000000",
          "2013-01-19T00:00:00.000000000",
          "2013-01-29T00:00:00.000000000",
          "2013-02-03T00:00:00.000000000",
          "2013-02-09T00:00:00.000000000",
          "2013-02-24T00:00:00.000000000",
          "2013-03-04T00:00:00.000000000",
          "2013-03-16T00:00:00.000000000",
          "2013-03-30T00:00:00.000000000",
          "2013-04-08T00:00:00.000000000",
          "2013-04-17T00:00:00.000000000",
          "2013-04-21T00:00:00.000000000",
          "2013-04-27T00:00:00.000000000",
          "2013-05-04T00:00:00.000000000",
          "2013-05-07T00:00:00.000000000",
          "2013-05-14T00:00:00.000000000",
          "2013-05-19T00:00:00.000000000",
          "2013-08-19T00:00:00.000000000",
          "2013-08-25T00:00:00.000000000",
          "2013-08-31T00:00:00.000000000",
          "2013-09-14T00:00:00.000000000",
          "2013-09-22T00:00:00.000000000",
          "2013-09-28T00:00:00.000000000",
          "2013-10-05T00:00:00.000000000",
          "2013-10-19T00:00:00.000000000",
          "2013-10-27T00:00:00.000000000",
          "2013-11-02T00:00:00.000000000",
          "2013-11-10T00:00:00.000000000",
          "2013-11-24T00:00:00.000000000",
          "2013-12-01T00:00:00.000000000",
          "2013-12-04T00:00:00.000000000",
          "2013-12-07T00:00:00.000000000",
          "2013-12-14T00:00:00.000000000",
          "2013-12-21T00:00:00.000000000",
          "2013-12-26T00:00:00.000000000",
          "2013-12-28T00:00:00.000000000",
          "2014-01-01T00:00:00.000000000",
          "2014-01-12T00:00:00.000000000",
          "2014-01-18T00:00:00.000000000",
          "2014-01-29T00:00:00.000000000",
          "2014-02-03T00:00:00.000000000",
          "2014-02-08T00:00:00.000000000",
          "2014-02-22T00:00:00.000000000",
          "2014-03-15T00:00:00.000000000",
          "2014-03-22T00:00:00.000000000",
          "2014-03-25T00:00:00.000000000",
          "2014-03-29T00:00:00.000000000",
          "2014-04-05T00:00:00.000000000",
          "2014-04-13T00:00:00.000000000",
          "2014-04-16T00:00:00.000000000",
          "2014-04-21T00:00:00.000000000",
          "2014-04-27T00:00:00.000000000",
          "2014-05-03T00:00:00.000000000",
          "2014-05-07T00:00:00.000000000",
          "2014-05-11T00:00:00.000000000",
          "2014-08-17T00:00:00.000000000",
          "2014-08-25T00:00:00.000000000",
          "2014-08-30T00:00:00.000000000",
          "2014-09-13T00:00:00.000000000",
          "2014-09-21T00:00:00.000000000",
          "2014-09-27T00:00:00.000000000",
          "2014-10-04T00:00:00.000000000",
          "2014-10-18T00:00:00.000000000",
          "2014-10-25T00:00:00.000000000",
          "2014-11-02T00:00:00.000000000",
          "2014-11-08T00:00:00.000000000",
          "2014-11-22T00:00:00.000000000",
          "2014-11-30T00:00:00.000000000",
          "2014-12-03T00:00:00.000000000",
          "2014-12-06T00:00:00.000000000",
          "2014-12-13T00:00:00.000000000",
          "2014-12-20T00:00:00.000000000",
          "2014-12-26T00:00:00.000000000",
          "2014-12-28T00:00:00.000000000",
          "2015-01-01T00:00:00.000000000",
          "2015-01-10T00:00:00.000000000",
          "2015-01-18T00:00:00.000000000",
          "2015-01-31T00:00:00.000000000",
          "2015-02-07T00:00:00.000000000",
          "2015-02-11T00:00:00.000000000",
          "2015-02-21T00:00:00.000000000",
          "2015-03-01T00:00:00.000000000",
          "2015-03-04T00:00:00.000000000",
          "2015-03-14T00:00:00.000000000",
          "2015-03-21T00:00:00.000000000",
          "2015-04-06T00:00:00.000000000",
          "2015-04-12T00:00:00.000000000",
          "2015-04-19T00:00:00.000000000",
          "2015-04-25T00:00:00.000000000",
          "2015-05-03T00:00:00.000000000",
          "2015-05-10T00:00:00.000000000",
          "2015-05-17T00:00:00.000000000",
          "2015-05-24T00:00:00.000000000",
          "2015-08-10T00:00:00.000000000",
          "2015-08-16T00:00:00.000000000",
          "2015-08-23T00:00:00.000000000",
          "2015-08-29T00:00:00.000000000",
          "2015-09-12T00:00:00.000000000",
          "2015-09-19T00:00:00.000000000",
          "2015-09-26T00:00:00.000000000",
          "2015-10-03T00:00:00.000000000",
          "2015-10-17T00:00:00.000000000",
          "2015-10-25T00:00:00.000000000",
          "2015-10-31T00:00:00.000000000",
          "2015-11-08T00:00:00.000000000",
          "2015-11-21T00:00:00.000000000",
          "2015-11-28T00:00:00.000000000",
          "2015-12-05T00:00:00.000000000",
          "2015-12-12T00:00:00.000000000",
          "2015-12-21T00:00:00.000000000",
          "2015-12-26T00:00:00.000000000",
          "2015-12-29T00:00:00.000000000",
          "2016-01-02T00:00:00.000000000",
          "2016-01-13T00:00:00.000000000",
          "2016-01-16T00:00:00.000000000",
          "2016-01-23T00:00:00.000000000",
          "2016-02-02T00:00:00.000000000",
          "2016-02-06T00:00:00.000000000",
          "2016-02-14T00:00:00.000000000",
          "2016-03-02T00:00:00.000000000",
          "2016-03-05T00:00:00.000000000",
          "2016-03-12T00:00:00.000000000",
          "2016-03-20T00:00:00.000000000",
          "2016-04-02T00:00:00.000000000",
          "2016-04-09T00:00:00.000000000",
          "2016-04-16T00:00:00.000000000",
          "2016-04-19T00:00:00.000000000",
          "2016-04-23T00:00:00.000000000",
          "2016-05-01T00:00:00.000000000",
          "2016-05-08T00:00:00.000000000",
          "2016-05-15T00:00:00.000000000",
          "2016-08-13T00:00:00.000000000",
          "2016-08-20T00:00:00.000000000",
          "2016-08-28T00:00:00.000000000",
          "2016-09-10T00:00:00.000000000",
          "2016-09-17T00:00:00.000000000",
          "2016-09-24T00:00:00.000000000",
          "2016-10-02T00:00:00.000000000",
          "2016-10-15T00:00:00.000000000",
          "2016-10-23T00:00:00.000000000",
          "2016-10-29T00:00:00.000000000",
          "2016-11-05T00:00:00.000000000",
          "2016-11-19T00:00:00.000000000",
          "2016-11-26T00:00:00.000000000",
          "2016-12-03T00:00:00.000000000",
          "2016-12-10T00:00:00.000000000",
          "2016-12-14T00:00:00.000000000",
          "2016-12-18T00:00:00.000000000",
          "2016-12-26T00:00:00.000000000",
          "2016-12-31T00:00:00.000000000",
          "2017-01-02T00:00:00.000000000",
          "2017-01-15T00:00:00.000000000",
          "2017-01-21T00:00:00.000000000",
          "2017-02-01T00:00:00.000000000",
          "2017-02-05T00:00:00.000000000",
          "2017-02-13T00:00:00.000000000",
          "2017-03-05T00:00:00.000000000",
          "2017-03-08T00:00:00.000000000",
          "2017-03-19T00:00:00.000000000",
          "2017-04-02T00:00:00.000000000",
          "2017-04-05T00:00:00.000000000",
          "2017-04-08T00:00:00.000000000",
          "2017-04-15T00:00:00.000000000",
          "2017-04-27T00:00:00.000000000",
          "2017-04-30T00:00:00.000000000",
          "2017-05-06T00:00:00.000000000",
          "2017-05-13T00:00:00.000000000",
          "2017-05-16T00:00:00.000000000",
          "2017-05-21T00:00:00.000000000",
          "2017-08-12T00:00:00.000000000",
          "2017-08-21T00:00:00.000000000",
          "2017-08-26T00:00:00.000000000",
          "2017-09-09T00:00:00.000000000",
          "2017-09-16T00:00:00.000000000",
          "2017-09-23T00:00:00.000000000",
          "2017-09-30T00:00:00.000000000",
          "2017-10-14T00:00:00.000000000",
          "2017-10-21T00:00:00.000000000",
          "2017-10-28T00:00:00.000000000",
          "2017-11-05T00:00:00.000000000",
          "2017-11-18T00:00:00.000000000",
          "2017-11-26T00:00:00.000000000",
          "2017-11-29T00:00:00.000000000",
          "2017-12-03T00:00:00.000000000",
          "2017-12-10T00:00:00.000000000",
          "2017-12-13T00:00:00.000000000",
          "2017-12-16T00:00:00.000000000",
          "2017-12-23T00:00:00.000000000",
          "2017-12-27T00:00:00.000000000",
          "2017-12-31T00:00:00.000000000",
          "2018-01-02T00:00:00.000000000",
          "2018-01-14T00:00:00.000000000",
          "2018-01-20T00:00:00.000000000",
          "2018-01-31T00:00:00.000000000",
          "2018-02-03T00:00:00.000000000",
          "2018-02-10T00:00:00.000000000",
          "2018-03-01T00:00:00.000000000",
          "2018-03-04T00:00:00.000000000",
          "2018-03-12T00:00:00.000000000",
          "2018-03-31T00:00:00.000000000",
          "2018-04-07T00:00:00.000000000",
          "2018-04-14T00:00:00.000000000",
          "2018-04-22T00:00:00.000000000",
          "2018-04-29T00:00:00.000000000",
          "2018-05-06T00:00:00.000000000",
          "2018-05-09T00:00:00.000000000",
          "2018-05-13T00:00:00.000000000",
          "2018-08-12T00:00:00.000000000",
          "2018-08-19T00:00:00.000000000",
          "2018-08-25T00:00:00.000000000",
          "2018-09-01T00:00:00.000000000",
          "2018-09-15T00:00:00.000000000",
          "2018-09-22T00:00:00.000000000",
          "2018-09-29T00:00:00.000000000",
          "2018-10-07T00:00:00.000000000",
          "2018-10-20T00:00:00.000000000",
          "2018-10-29T00:00:00.000000000",
          "2018-11-04T00:00:00.000000000",
          "2018-11-11T00:00:00.000000000",
          "2018-11-24T00:00:00.000000000",
          "2018-12-01T00:00:00.000000000",
          "2018-12-04T00:00:00.000000000",
          "2018-12-08T00:00:00.000000000",
          "2018-12-15T00:00:00.000000000",
          "2018-12-22T00:00:00.000000000",
          "2018-12-26T00:00:00.000000000",
          "2018-12-30T00:00:00.000000000",
          "2019-01-03T00:00:00.000000000",
          "2019-01-14T00:00:00.000000000",
          "2019-01-20T00:00:00.000000000",
          "2019-01-29T00:00:00.000000000",
          "2019-02-03T00:00:00.000000000",
          "2019-02-06T00:00:00.000000000",
          "2019-02-10T00:00:00.000000000",
          "2019-02-27T00:00:00.000000000",
          "2019-03-02T00:00:00.000000000",
          "2019-03-09T00:00:00.000000000",
          "2019-03-30T00:00:00.000000000",
          "2019-04-03T00:00:00.000000000",
          "2019-04-14T00:00:00.000000000",
          "2019-04-20T00:00:00.000000000",
          "2019-04-24T00:00:00.000000000",
          "2019-04-28T00:00:00.000000000",
          "2019-05-06T00:00:00.000000000",
          "2019-05-12T00:00:00.000000000",
          "2019-08-10T00:00:00.000000000",
          "2019-08-17T00:00:00.000000000",
          "2019-08-25T00:00:00.000000000",
          "2019-08-31T00:00:00.000000000",
          "2019-09-14T00:00:00.000000000",
          "2019-09-21T00:00:00.000000000",
          "2019-09-28T00:00:00.000000000",
          "2019-10-06T00:00:00.000000000",
          "2019-10-19T00:00:00.000000000",
          "2019-10-26T00:00:00.000000000",
          "2019-11-02T00:00:00.000000000",
          "2019-11-10T00:00:00.000000000",
          "2019-11-23T00:00:00.000000000",
          "2019-11-30T00:00:00.000000000",
          "2019-12-03T00:00:00.000000000",
          "2019-12-07T00:00:00.000000000",
          "2019-12-15T00:00:00.000000000",
          "2019-12-21T00:00:00.000000000",
          "2019-12-27T00:00:00.000000000",
          "2019-12-29T00:00:00.000000000",
          "2020-01-01T00:00:00.000000000",
          "2020-01-12T00:00:00.000000000",
          "2020-01-18T00:00:00.000000000",
          "2020-01-21T00:00:00.000000000",
          "2020-02-02T00:00:00.000000000",
          "2020-02-19T00:00:00.000000000",
          "2020-02-22T00:00:00.000000000",
          "2020-03-08T00:00:00.000000000",
          "2020-06-17T00:00:00.000000000",
          "2020-06-22T00:00:00.000000000",
          "2020-06-25T00:00:00.000000000",
          "2020-07-02T00:00:00.000000000",
          "2020-07-05T00:00:00.000000000",
          "2020-07-08T00:00:00.000000000",
          "2020-07-11T00:00:00.000000000",
          "2020-07-15T00:00:00.000000000",
          "2020-07-21T00:00:00.000000000",
          "2020-07-26T00:00:00.000000000",
          "2020-09-21T00:00:00.000000000",
          "2020-09-27T00:00:00.000000000",
          "2020-10-03T00:00:00.000000000",
          "2020-10-17T00:00:00.000000000",
          "2020-10-24T00:00:00.000000000",
          "2020-10-31T00:00:00.000000000",
          "2020-11-08T00:00:00.000000000",
          "2020-11-21T00:00:00.000000000",
          "2020-11-28T00:00:00.000000000",
          "2020-12-05T00:00:00.000000000",
          "2020-12-12T00:00:00.000000000",
          "2020-12-15T00:00:00.000000000",
          "2020-12-19T00:00:00.000000000",
          "2020-12-26T00:00:00.000000000",
          "2021-01-03T00:00:00.000000000",
          "2021-01-13T00:00:00.000000000",
          "2021-01-17T00:00:00.000000000",
          "2021-01-20T00:00:00.000000000",
          "2021-01-26T00:00:00.000000000",
          "2021-01-30T00:00:00.000000000",
          "2021-02-03T00:00:00.000000000",
          "2021-02-07T00:00:00.000000000",
          "2021-02-13T00:00:00.000000000",
          "2021-02-17T00:00:00.000000000",
          "2021-02-21T00:00:00.000000000",
          "2021-02-27T00:00:00.000000000",
          "2021-03-02T00:00:00.000000000",
          "2021-03-07T00:00:00.000000000",
          "2021-03-10T00:00:00.000000000",
          "2021-03-13T00:00:00.000000000",
          "2021-04-03T00:00:00.000000000",
          "2021-04-10T00:00:00.000000000",
          "2021-04-21T00:00:00.000000000",
          "2021-05-01T00:00:00.000000000",
          "2021-05-08T00:00:00.000000000",
          "2021-05-14T00:00:00.000000000",
          "2021-05-18T00:00:00.000000000",
          "2021-05-23T00:00:00.000000000",
          "2021-08-15T00:00:00.000000000",
          "2021-08-21T00:00:00.000000000",
          "2021-08-28T00:00:00.000000000",
          "2021-09-11T00:00:00.000000000",
          "2021-09-18T00:00:00.000000000",
          "2021-09-25T00:00:00.000000000",
          "2021-10-03T00:00:00.000000000",
          "2021-10-16T00:00:00.000000000",
          "2021-10-23T00:00:00.000000000",
          "2021-10-30T00:00:00.000000000",
          "2021-11-06T00:00:00.000000000",
          "2021-11-21T00:00:00.000000000",
          "2021-11-28T00:00:00.000000000",
          "2021-12-01T00:00:00.000000000",
          "2021-12-04T00:00:00.000000000",
          "2021-12-11T00:00:00.000000000",
          "2021-12-14T00:00:00.000000000",
          "2021-12-19T00:00:00.000000000",
          "2021-12-26T00:00:00.000000000",
          "2021-12-29T00:00:00.000000000",
          "2022-01-01T00:00:00.000000000",
          "2022-01-15T00:00:00.000000000",
          "2022-01-22T00:00:00.000000000",
          "2022-02-09T00:00:00.000000000",
          "2022-02-12T00:00:00.000000000",
          "2022-02-19T00:00:00.000000000",
          "2022-02-26T00:00:00.000000000",
          "2022-03-06T00:00:00.000000000",
          "2022-03-14T00:00:00.000000000",
          "2022-04-02T00:00:00.000000000",
          "2022-04-10T00:00:00.000000000",
          "2022-04-20T00:00:00.000000000",
          "2022-04-23T00:00:00.000000000",
          "2022-04-30T00:00:00.000000000",
          "2022-05-08T00:00:00.000000000",
          "2022-05-11T00:00:00.000000000",
          "2022-05-15T00:00:00.000000000",
          "2022-05-22T00:00:00.000000000",
          "2022-08-07T00:00:00.000000000",
          "2022-08-13T00:00:00.000000000",
          "2022-08-21T00:00:00.000000000",
          "2022-08-27T00:00:00.000000000",
          "2022-08-31T00:00:00.000000000",
          "2022-09-03T00:00:00.000000000",
          "2022-09-17T00:00:00.000000000",
          "2022-10-02T00:00:00.000000000",
          "2022-10-08T00:00:00.000000000",
          "2022-10-16T00:00:00.000000000",
          "2022-10-22T00:00:00.000000000",
          "2022-10-29T00:00:00.000000000",
          "2022-11-05T00:00:00.000000000",
          "2022-11-12T00:00:00.000000000",
          "2022-12-28T00:00:00.000000000",
          "2022-12-31T00:00:00.000000000",
          "2023-01-05T00:00:00.000000000",
          "2023-01-14T00:00:00.000000000",
          "2023-01-19T00:00:00.000000000",
          "2023-01-22T00:00:00.000000000",
          "2023-02-05T00:00:00.000000000",
          "2023-02-12T00:00:00.000000000",
          "2023-02-15T00:00:00.000000000",
          "2023-02-18T00:00:00.000000000",
          "2023-02-25T00:00:00.000000000",
          "2023-03-04T00:00:00.000000000",
          "2023-03-11T00:00:00.000000000",
          "2023-04-01T00:00:00.000000000",
          "2023-04-08T00:00:00.000000000",
          "2023-04-15T00:00:00.000000000",
          "2023-04-26T00:00:00.000000000",
          "2023-04-30T00:00:00.000000000",
          "2023-05-03T00:00:00.000000000",
          "2023-05-06T00:00:00.000000000",
          "2023-05-14T00:00:00.000000000",
          "2023-05-21T00:00:00.000000000",
          "2023-05-24T00:00:00.000000000",
          "2023-05-28T00:00:00.000000000",
          "2023-08-11T00:00:00.000000000",
          "2023-08-19T00:00:00.000000000",
          "2023-08-27T00:00:00.000000000",
          "2023-09-02T00:00:00.000000000",
          "2023-09-16T00:00:00.000000000",
          "2023-09-23T00:00:00.000000000",
          "2023-09-30T00:00:00.000000000",
          "2023-10-08T00:00:00.000000000",
          "2023-10-21T00:00:00.000000000",
          "2023-10-29T00:00:00.000000000",
          "2023-11-04T00:00:00.000000000",
          "2023-11-12T00:00:00.000000000",
          "2023-11-25T00:00:00.000000000",
          "2023-12-03T00:00:00.000000000",
          "2023-12-06T00:00:00.000000000",
          "2023-12-10T00:00:00.000000000",
          "2023-12-16T00:00:00.000000000",
          "2023-12-27T00:00:00.000000000",
          "2023-12-30T00:00:00.000000000",
          "2024-01-13T00:00:00.000000000",
          "2024-01-31T00:00:00.000000000",
          "2024-02-05T00:00:00.000000000",
          "2024-02-10T00:00:00.000000000",
          "2024-02-17T00:00:00.000000000",
          "2024-02-20T00:00:00.000000000",
          "2024-02-24T00:00:00.000000000",
          "2024-03-03T00:00:00.000000000",
          "2024-03-10T00:00:00.000000000",
          "2024-03-31T00:00:00.000000000",
          "2024-04-03T00:00:00.000000000",
          "2024-04-06T00:00:00.000000000",
          "2024-04-13T00:00:00.000000000",
          "2024-04-25T00:00:00.000000000",
          "2024-04-28T00:00:00.000000000",
          "2024-05-04T00:00:00.000000000",
          "2024-05-11T00:00:00.000000000",
          "2024-05-14T00:00:00.000000000",
          "2024-05-19T00:00:00.000000000",
          "2024-08-18T00:00:00.000000000",
          "2024-08-24T00:00:00.000000000",
          "2024-08-31T00:00:00.000000000",
          "2024-09-14T00:00:00.000000000",
          "2024-09-22T00:00:00.000000000",
          "2024-09-28T00:00:00.000000000",
          "2024-10-05T00:00:00.000000000",
          "2024-10-20T00:00:00.000000000",
          "2024-10-26T00:00:00.000000000",
          "2024-11-02T00:00:00.000000000",
          "2024-11-09T00:00:00.000000000",
          "2024-11-23T00:00:00.000000000",
          "2024-12-01T00:00:00.000000000",
          "2024-12-04T00:00:00.000000000",
          "2024-12-07T00:00:00.000000000",
          "2024-12-15T00:00:00.000000000",
          "2024-12-21T00:00:00.000000000",
          "2024-12-26T00:00:00.000000000",
          "2024-12-29T00:00:00.000000000",
          "2025-01-04T00:00:00.000000000",
          "2025-01-14T00:00:00.000000000",
          "2025-01-19T00:00:00.000000000",
          "2025-01-25T00:00:00.000000000",
          "2025-02-02T00:00:00.000000000",
          "2025-02-15T00:00:00.000000000",
          "2025-02-23T00:00:00.000000000",
          "2025-02-26T00:00:00.000000000",
          "2025-03-08T00:00:00.000000000",
          "2025-03-15T00:00:00.000000000",
          "2025-04-02T00:00:00.000000000",
          "2025-04-06T00:00:00.000000000",
          "2025-04-12T00:00:00.000000000",
          "2025-04-19T00:00:00.000000000",
          "2025-04-22T00:00:00.000000000",
          "2025-05-02T00:00:00.000000000",
          "2025-05-10T00:00:00.000000000",
          "2025-05-20T00:00:00.000000000",
          "2025-05-25T00:00:00.000000000"
         ],
         "y": {
          "bdata": "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",
          "dtype": "f8"
         }
        }
       ],
       "layout": {
        "template": {
         "data": {
          "bar": [
           {
            "error_x": {
             "color": "#2a3f5f"
            },
            "error_y": {
             "color": "#2a3f5f"
            },
            "marker": {
             "line": {
              "color": "#E5ECF6",
              "width": 0.5
             },
             "pattern": {
              "fillmode": "overlay",
              "size": 10,
              "solidity": 0.2
             }
            },
            "type": "bar"
           }
          ],
          "barpolar": [
           {
            "marker": {
             "line": {
              "color": "#E5ECF6",
              "width": 0.5
             },
             "pattern": {
              "fillmode": "overlay",
              "size": 10,
              "solidity": 0.2
             }
            },
            "type": "barpolar"
           }
          ],
          "carpet": [
           {
            "aaxis": {
             "endlinecolor": "#2a3f5f",
             "gridcolor": "white",
             "linecolor": "white",
             "minorgridcolor": "white",
             "startlinecolor": "#2a3f5f"
            },
            "baxis": {
             "endlinecolor": "#2a3f5f",
             "gridcolor": "white",
             "linecolor": "white",
             "minorgridcolor": "white",
             "startlinecolor": "#2a3f5f"
            },
            "type": "carpet"
           }
          ],
          "choropleth": [
           {
            "colorbar": {
             "outlinewidth": 0,
             "ticks": ""
            },
            "type": "choropleth"
           }
          ],
          "contour": [
           {
            "colorbar": {
             "outlinewidth": 0,
             "ticks": ""
            },
            "colorscale": [
             [
              0,
              "#0d0887"
             ],
             [
              0.1111111111111111,
              "#46039f"
             ],
             [
              0.2222222222222222,
              "#7201a8"
             ],
             [
              0.3333333333333333,
              "#9c179e"
             ],
             [
              0.4444444444444444,
              "#bd3786"
             ],
             [
              0.5555555555555556,
              "#d8576b"
             ],
             [
              0.6666666666666666,
              "#ed7953"
             ],
             [
              0.7777777777777778,
              "#fb9f3a"
             ],
             [
              0.8888888888888888,
              "#fdca26"
             ],
             [
              1,
              "#f0f921"
             ]
            ],
            "type": "contour"
           }
          ],
          "contourcarpet": [
           {
            "colorbar": {
             "outlinewidth": 0,
             "ticks": ""
            },
            "type": "contourcarpet"
           }
          ],
          "heatmap": [
           {
            "colorbar": {
             "outlinewidth": 0,
             "ticks": ""
            },
            "colorscale": [
             [
              0,
              "#0d0887"
             ],
             [
              0.1111111111111111,
              "#46039f"
             ],
             [
              0.2222222222222222,
              "#7201a8"
             ],
             [
              0.3333333333333333,
              "#9c179e"
             ],
             [
              0.4444444444444444,
              "#bd3786"
             ],
             [
              0.5555555555555556,
              "#d8576b"
             ],
             [
              0.6666666666666666,
              "#ed7953"
             ],
             [
              0.7777777777777778,
              "#fb9f3a"
             ],
             [
              0.8888888888888888,
              "#fdca26"
             ],
             [
              1,
              "#f0f921"
             ]
            ],
            "type": "heatmap"
           }
          ],
          "histogram": [
           {
            "marker": {
             "pattern": {
              "fillmode": "overlay",
              "size": 10,
              "solidity": 0.2
             }
            },
            "type": "histogram"
           }
          ],
          "histogram2d": [
           {
            "colorbar": {
             "outlinewidth": 0,
             "ticks": ""
            },
            "colorscale": [
             [
              0,
              "#0d0887"
             ],
             [
              0.1111111111111111,
              "#46039f"
             ],
             [
              0.2222222222222222,
              "#7201a8"
             ],
             [
              0.3333333333333333,
              "#9c179e"
             ],
             [
              0.4444444444444444,
              "#bd3786"
             ],
             [
              0.5555555555555556,
              "#d8576b"
             ],
             [
              0.6666666666666666,
              "#ed7953"
             ],
             [
              0.7777777777777778,
              "#fb9f3a"
             ],
             [
              0.8888888888888888,
              "#fdca26"
             ],
             [
              1,
              "#f0f921"
             ]
            ],
            "type": "histogram2d"
           }
          ],
          "histogram2dcontour": [
           {
            "colorbar": {
             "outlinewidth": 0,
             "ticks": ""
            },
            "colorscale": [
             [
              0,
              "#0d0887"
             ],
             [
              0.1111111111111111,
              "#46039f"
             ],
             [
              0.2222222222222222,
              "#7201a8"
             ],
             [
              0.3333333333333333,
              "#9c179e"
             ],
             [
              0.4444444444444444,
              "#bd3786"
             ],
             [
              0.5555555555555556,
              "#d8576b"
             ],
             [
              0.6666666666666666,
              "#ed7953"
             ],
             [
              0.7777777777777778,
              "#fb9f3a"
             ],
             [
              0.8888888888888888,
              "#fdca26"
             ],
             [
              1,
              "#f0f921"
             ]
            ],
            "type": "histogram2dcontour"
           }
          ],
          "mesh3d": [
           {
            "colorbar": {
             "outlinewidth": 0,
             "ticks": ""
            },
            "type": "mesh3d"
           }
          ],
          "parcoords": [
           {
            "line": {
             "colorbar": {
              "outlinewidth": 0,
              "ticks": ""
             }
            },
            "type": "parcoords"
           }
          ],
          "pie": [
           {
            "automargin": true,
            "type": "pie"
           }
          ],
          "scatter": [
           {
            "fillpattern": {
             "fillmode": "overlay",
             "size": 10,
             "solidity": 0.2
            },
            "type": "scatter"
           }
          ],
          "scatter3d": [
           {
            "line": {
             "colorbar": {
              "outlinewidth": 0,
              "ticks": ""
             }
            },
            "marker": {
             "colorbar": {
              "outlinewidth": 0,
              "ticks": ""
             }
            },
            "type": "scatter3d"
           }
          ],
          "scattercarpet": [
           {
            "marker": {
             "colorbar": {
              "outlinewidth": 0,
              "ticks": ""
             }
            },
            "type": "scattercarpet"
           }
          ],
          "scattergeo": [
           {
            "marker": {
             "colorbar": {
              "outlinewidth": 0,
              "ticks": ""
             }
            },
            "type": "scattergeo"
           }
          ],
          "scattergl": [
           {
            "marker": {
             "colorbar": {
              "outlinewidth": 0,
              "ticks": ""
             }
            },
            "type": "scattergl"
           }
          ],
          "scattermap": [
           {
            "marker": {
             "colorbar": {
              "outlinewidth": 0,
              "ticks": ""
             }
            },
            "type": "scattermap"
           }
          ],
          "scattermapbox": [
           {
            "marker": {
             "colorbar": {
              "outlinewidth": 0,
              "ticks": ""
             }
            },
            "type": "scattermapbox"
           }
          ],
          "scatterpolar": [
           {
            "marker": {
             "colorbar": {
              "outlinewidth": 0,
              "ticks": ""
             }
            },
            "type": "scatterpolar"
           }
          ],
          "scatterpolargl": [
           {
            "marker": {
             "colorbar": {
              "outlinewidth": 0,
              "ticks": ""
             }
            },
            "type": "scatterpolargl"
           }
          ],
          "scatterternary": [
           {
            "marker": {
             "colorbar": {
              "outlinewidth": 0,
              "ticks": ""
             }
            },
            "type": "scatterternary"
           }
          ],
          "surface": [
           {
            "colorbar": {
             "outlinewidth": 0,
             "ticks": ""
            },
            "colorscale": [
             [
              0,
              "#0d0887"
             ],
             [
              0.1111111111111111,
              "#46039f"
             ],
             [
              0.2222222222222222,
              "#7201a8"
             ],
             [
              0.3333333333333333,
              "#9c179e"
             ],
             [
              0.4444444444444444,
              "#bd3786"
             ],
             [
              0.5555555555555556,
              "#d8576b"
             ],
             [
              0.6666666666666666,
              "#ed7953"
             ],
             [
              0.7777777777777778,
              "#fb9f3a"
             ],
             [
              0.8888888888888888,
              "#fdca26"
             ],
             [
              1,
              "#f0f921"
             ]
            ],
            "type": "surface"
           }
          ],
          "table": [
           {
            "cells": {
             "fill": {
              "color": "#EBF0F8"
             },
             "line": {
              "color": "white"
             }
            },
            "header": {
             "fill": {
              "color": "#C8D4E3"
             },
             "line": {
              "color": "white"
             }
            },
            "type": "table"
           }
          ]
         },
         "layout": {
          "annotationdefaults": {
           "arrowcolor": "#2a3f5f",
           "arrowhead": 0,
           "arrowwidth": 1
          },
          "autotypenumbers": "strict",
          "coloraxis": {
           "colorbar": {
            "outlinewidth": 0,
            "ticks": ""
           }
          },
          "colorscale": {
           "diverging": [
            [
             0,
             "#8e0152"
            ],
            [
             0.1,
             "#c51b7d"
            ],
            [
             0.2,
             "#de77ae"
            ],
            [
             0.3,
             "#f1b6da"
            ],
            [
             0.4,
             "#fde0ef"
            ],
            [
             0.5,
             "#f7f7f7"
            ],
            [
             0.6,
             "#e6f5d0"
            ],
            [
             0.7,
             "#b8e186"
            ],
            [
             0.8,
             "#7fbc41"
            ],
            [
             0.9,
             "#4d9221"
            ],
            [
             1,
             "#276419"
            ]
           ],
           "sequential": [
            [
             0,
             "#0d0887"
            ],
            [
             0.1111111111111111,
             "#46039f"
            ],
            [
             0.2222222222222222,
             "#7201a8"
            ],
            [
             0.3333333333333333,
             "#9c179e"
            ],
            [
             0.4444444444444444,
             "#bd3786"
            ],
            [
             0.5555555555555556,
             "#d8576b"
            ],
            [
             0.6666666666666666,
             "#ed7953"
            ],
            [
             0.7777777777777778,
             "#fb9f3a"
            ],
            [
             0.8888888888888888,
             "#fdca26"
            ],
            [
             1,
             "#f0f921"
            ]
           ],
           "sequentialminus": [
            [
             0,
             "#0d0887"
            ],
            [
             0.1111111111111111,
             "#46039f"
            ],
            [
             0.2222222222222222,
             "#7201a8"
            ],
            [
             0.3333333333333333,
             "#9c179e"
            ],
            [
             0.4444444444444444,
             "#bd3786"
            ],
            [
             0.5555555555555556,
             "#d8576b"
            ],
            [
             0.6666666666666666,
             "#ed7953"
            ],
            [
             0.7777777777777778,
             "#fb9f3a"
            ],
            [
             0.8888888888888888,
             "#fdca26"
            ],
            [
             1,
             "#f0f921"
            ]
           ]
          },
          "colorway": [
           "#636efa",
           "#EF553B",
           "#00cc96",
           "#ab63fa",
           "#FFA15A",
           "#19d3f3",
           "#FF6692",
           "#B6E880",
           "#FF97FF",
           "#FECB52"
          ],
          "font": {
           "color": "#2a3f5f"
          },
          "geo": {
           "bgcolor": "white",
           "lakecolor": "white",
           "landcolor": "#E5ECF6",
           "showlakes": true,
           "showland": true,
           "subunitcolor": "white"
          },
          "hoverlabel": {
           "align": "left"
          },
          "hovermode": "closest",
          "mapbox": {
           "style": "light"
          },
          "paper_bgcolor": "white",
          "plot_bgcolor": "#E5ECF6",
          "polar": {
           "angularaxis": {
            "gridcolor": "white",
            "linecolor": "white",
            "ticks": ""
           },
           "bgcolor": "#E5ECF6",
           "radialaxis": {
            "gridcolor": "white",
            "linecolor": "white",
            "ticks": ""
           }
          },
          "scene": {
           "xaxis": {
            "backgroundcolor": "#E5ECF6",
            "gridcolor": "white",
            "gridwidth": 2,
            "linecolor": "white",
            "showbackground": true,
            "ticks": "",
            "zerolinecolor": "white"
           },
           "yaxis": {
            "backgroundcolor": "#E5ECF6",
            "gridcolor": "white",
            "gridwidth": 2,
            "linecolor": "white",
            "showbackground": true,
            "ticks": "",
            "zerolinecolor": "white"
           },
           "zaxis": {
            "backgroundcolor": "#E5ECF6",
            "gridcolor": "white",
            "gridwidth": 2,
            "linecolor": "white",
            "showbackground": true,
            "ticks": "",
            "zerolinecolor": "white"
           }
          },
          "shapedefaults": {
           "line": {
            "color": "#2a3f5f"
           }
          },
          "ternary": {
           "aaxis": {
            "gridcolor": "white",
            "linecolor": "white",
            "ticks": ""
           },
           "baxis": {
            "gridcolor": "white",
            "linecolor": "white",
            "ticks": ""
           },
           "bgcolor": "#E5ECF6",
           "caxis": {
            "gridcolor": "white",
            "linecolor": "white",
            "ticks": ""
           }
          },
          "title": {
           "x": 0.05
          },
          "xaxis": {
           "automargin": true,
           "gridcolor": "white",
           "linecolor": "white",
           "ticks": "",
           "title": {
            "standoff": 15
           },
           "zerolinecolor": "white",
           "zerolinewidth": 2
          },
          "yaxis": {
           "automargin": true,
           "gridcolor": "white",
           "linecolor": "white",
           "ticks": "",
           "title": {
            "standoff": 15
           },
           "zerolinecolor": "white",
           "zerolinewidth": 2
          }
         }
        }
       }
      }
     },
     "metadata": {},
     "output_type": "display_data"
    }
   ],
   "source": [
    "plotly_chart_maker('Arsenal', 'Chelsea', 'Man City')"
   ]
  },
  {
   "cell_type": "code",
   "execution_count": 11,
   "id": "edbaeb89",
   "metadata": {},
   "outputs": [],
   "source": [
    "def plotly_express_chart_maker(*teams):\n",
    "    if len(teams) >=5:\n",
    "        return \"Too many teams to visulize clearly. Try 4 teams or fewer\"\n",
    "        \n",
    "\n",
    "    teams_elo_history = elo_ratings_history_df.loc[elo_ratings_history_df['Team'].isin(teams)]\n",
    "    fig = px.line(\n",
    "        teams_elo_history,\n",
    "        x = 'Date',\n",
    "        y = 'Elo-rating after match',\n",
    "        color = 'Team',\n",
    "        title = f'Elo Rating History of {', '.join(teams)}'\n",
    "        )\n",
    "    fig.show()"
   ]
  },
  {
   "cell_type": "code",
   "execution_count": 12,
   "id": "c220f4b6",
   "metadata": {},
   "outputs": [
    {
     "data": {
      "application/vnd.plotly.v1+json": {
       "config": {
        "plotlyServerURL": "https://plot.ly"
       },
       "data": [
        {
         "hovertemplate": "Team=Chelsea<br>Date=%{x}<br>Elo-rating after match=%{y}<extra></extra>",
         "legendgroup": "Chelsea",
         "line": {
          "color": "#636efa",
          "dash": "solid"
         },
         "marker": {
          "symbol": "circle"
         },
         "mode": "lines",
         "name": "Chelsea",
         "showlegend": true,
         "type": "scattergl",
         "x": [
          "1993-08-14T00:00:00.000000000",
          "1993-08-17T00:00:00.000000000",
          "1993-08-21T00:00:00.000000000",
          "1993-08-25T00:00:00.000000000",
          "1993-08-28T00:00:00.000000000",
          "1993-09-01T00:00:00.000000000",
          "1993-09-11T00:00:00.000000000",
          "1993-09-18T00:00:00.000000000",
          "1993-09-25T00:00:00.000000000",
          "1993-10-02T00:00:00.000000000",
          "1993-10-16T00:00:00.000000000",
          "1993-10-23T00:00:00.000000000",
          "1993-10-30T00:00:00.000000000",
          "1993-11-06T00:00:00.000000000",
          "1993-11-20T00:00:00.000000000",
          "1993-11-22T00:00:00.000000000",
          "1993-11-27T00:00:00.000000000",
          "1993-12-05T00:00:00.000000000",
          "1993-12-11T00:00:00.000000000",
          "1993-12-27T00:00:00.000000000",
          "1993-12-28T00:00:00.000000000",
          "1994-01-01T00:00:00.000000000",
          "1994-01-03T00:00:00.000000000",
          "1994-01-15T00:00:00.000000000",
          "1994-01-22T00:00:00.000000000",
          "1994-02-05T00:00:00.000000000",
          "1994-02-12T00:00:00.000000000",
          "1994-02-27T00:00:00.000000000",
          "1994-03-05T00:00:00.000000000",
          "1994-03-16T00:00:00.000000000",
          "1994-03-19T00:00:00.000000000",
          "1994-03-26T00:00:00.000000000",
          "1994-03-30T00:00:00.000000000",
          "1994-04-02T00:00:00.000000000",
          "1994-08-20T00:00:00.000000000",
          "1994-08-27T00:00:00.000000000",
          "1994-08-31T00:00:00.000000000",
          "1994-09-10T00:00:00.000000000",
          "1994-09-18T00:00:00.000000000",
          "1994-09-24T00:00:00.000000000",
          "1994-10-02T00:00:00.000000000",
          "1994-10-08T00:00:00.000000000",
          "1994-10-15T00:00:00.000000000",
          "1994-10-23T00:00:00.000000000",
          "1994-10-29T00:00:00.000000000",
          "1994-11-06T00:00:00.000000000",
          "1994-11-09T00:00:00.000000000",
          "1994-11-19T00:00:00.000000000",
          "1994-11-23T00:00:00.000000000",
          "1994-11-26T00:00:00.000000000",
          "1994-12-03T00:00:00.000000000",
          "1994-12-10T00:00:00.000000000",
          "1994-12-18T00:00:00.000000000",
          "1994-12-26T00:00:00.000000000",
          "1994-12-28T00:00:00.000000000",
          "1994-12-31T00:00:00.000000000",
          "1995-01-14T00:00:00.000000000",
          "1995-01-21T00:00:00.000000000",
          "1995-01-25T00:00:00.000000000",
          "1995-02-04T00:00:00.000000000",
          "1995-02-11T00:00:00.000000000",
          "1995-02-25T00:00:00.000000000",
          "1995-03-05T00:00:00.000000000",
          "1995-03-08T00:00:00.000000000",
          "1995-03-11T00:00:00.000000000",
          "1995-03-18T00:00:00.000000000",
          "1995-03-22T00:00:00.000000000",
          "1995-04-01T00:00:00.000000000",
          "1995-08-19T00:00:00.000000000",
          "1995-08-23T00:00:00.000000000",
          "1995-08-26T00:00:00.000000000",
          "1995-08-30T00:00:00.000000000",
          "1995-09-11T00:00:00.000000000",
          "1995-09-16T00:00:00.000000000",
          "1995-09-24T00:00:00.000000000",
          "1995-09-30T00:00:00.000000000",
          "1995-10-14T00:00:00.000000000",
          "1995-10-21T00:00:00.000000000",
          "1995-10-28T00:00:00.000000000",
          "1995-11-04T00:00:00.000000000",
          "1995-11-18T00:00:00.000000000",
          "1995-11-22T00:00:00.000000000",
          "1995-11-25T00:00:00.000000000",
          "1995-12-02T00:00:00.000000000",
          "1995-12-09T00:00:00.000000000",
          "1995-12-16T00:00:00.000000000",
          "1995-12-23T00:00:00.000000000",
          "1995-12-26T00:00:00.000000000",
          "1995-12-30T00:00:00.000000000",
          "1996-01-02T00:00:00.000000000",
          "1996-01-13T00:00:00.000000000",
          "1996-01-20T00:00:00.000000000",
          "1996-02-04T00:00:00.000000000",
          "1996-02-10T00:00:00.000000000",
          "1996-02-17T00:00:00.000000000",
          "1996-02-24T00:00:00.000000000",
          "1996-03-02T00:00:00.000000000",
          "1996-03-12T00:00:00.000000000",
          "1996-03-16T00:00:00.000000000",
          "1996-03-23T00:00:00.000000000",
          "1996-04-06T00:00:00.000000000",
          "1996-04-08T00:00:00.000000000",
          "1996-04-13T00:00:00.000000000",
          "1996-04-17T00:00:00.000000000",
          "1996-04-27T00:00:00.000000000",
          "1996-05-04T00:00:00.000000000",
          "1996-08-18T00:00:00.000000000",
          "1996-08-21T00:00:00.000000000",
          "1996-08-24T00:00:00.000000000",
          "1996-09-04T00:00:00.000000000",
          "1996-09-07T00:00:00.000000000",
          "1996-09-15T00:00:00.000000000",
          "1996-09-21T00:00:00.000000000",
          "1996-09-28T00:00:00.000000000",
          "1996-10-12T00:00:00.000000000",
          "1996-10-19T00:00:00.000000000",
          "1996-10-26T00:00:00.000000000",
          "1996-11-02T00:00:00.000000000",
          "1996-11-16T00:00:00.000000000",
          "1996-11-23T00:00:00.000000000",
          "1996-12-01T00:00:00.000000000",
          "1996-12-07T00:00:00.000000000",
          "1996-12-15T00:00:00.000000000",
          "1996-12-21T00:00:00.000000000",
          "1996-12-26T00:00:00.000000000",
          "1996-12-28T00:00:00.000000000",
          "1997-01-01T00:00:00.000000000",
          "1997-01-11T00:00:00.000000000",
          "1997-01-18T00:00:00.000000000",
          "1997-02-01T00:00:00.000000000",
          "1997-02-22T00:00:00.000000000",
          "1997-03-01T00:00:00.000000000",
          "1997-03-05T00:00:00.000000000",
          "1997-03-12T00:00:00.000000000",
          "1997-03-16T00:00:00.000000000",
          "1997-03-19T00:00:00.000000000",
          "1997-03-22T00:00:00.000000000",
          "1997-04-05T00:00:00.000000000",
          "1997-04-09T00:00:00.000000000",
          "1997-04-16T00:00:00.000000000",
          "1997-04-19T00:00:00.000000000",
          "1997-04-22T00:00:00.000000000",
          "1997-05-03T00:00:00.000000000",
          "1997-05-11T00:00:00.000000000",
          "1997-08-09T00:00:00.000000000",
          "1997-08-24T00:00:00.000000000",
          "1997-08-27T00:00:00.000000000",
          "1997-08-30T00:00:00.000000000",
          "1997-09-13T00:00:00.000000000",
          "1997-09-21T00:00:00.000000000",
          "1997-09-24T00:00:00.000000000",
          "1997-09-27T00:00:00.000000000",
          "1997-10-05T00:00:00.000000000",
          "1997-10-18T00:00:00.000000000",
          "1997-10-26T00:00:00.000000000",
          "1997-11-01T00:00:00.000000000",
          "1997-11-09T00:00:00.000000000",
          "1997-11-22T00:00:00.000000000",
          "1997-11-26T00:00:00.000000000",
          "1997-11-29T00:00:00.000000000",
          "1997-12-06T00:00:00.000000000",
          "1997-12-13T00:00:00.000000000",
          "1997-12-20T00:00:00.000000000",
          "1997-12-26T00:00:00.000000000",
          "1997-12-29T00:00:00.000000000",
          "1998-01-10T00:00:00.000000000",
          "1998-01-18T00:00:00.000000000",
          "1998-01-31T00:00:00.000000000",
          "1998-02-08T00:00:00.000000000",
          "1998-02-21T00:00:00.000000000",
          "1998-02-28T00:00:00.000000000",
          "1998-03-08T00:00:00.000000000",
          "1998-03-11T00:00:00.000000000",
          "1998-03-14T00:00:00.000000000",
          "1998-04-05T00:00:00.000000000",
          "1998-04-08T00:00:00.000000000",
          "1998-04-11T00:00:00.000000000",
          "1998-04-19T00:00:00.000000000",
          "1998-04-25T00:00:00.000000000",
          "1998-04-29T00:00:00.000000000",
          "1998-05-02T00:00:00.000000000",
          "1998-05-10T00:00:00.000000000",
          "1998-08-15T00:00:00.000000000",
          "1998-08-22T00:00:00.000000000",
          "1998-09-09T00:00:00.000000000",
          "1998-09-12T00:00:00.000000000",
          "1998-09-21T00:00:00.000000000",
          "1998-09-26T00:00:00.000000000",
          "1998-10-04T00:00:00.000000000",
          "1998-10-17T00:00:00.000000000",
          "1998-10-25T00:00:00.000000000",
          "1998-11-08T00:00:00.000000000",
          "1998-11-14T00:00:00.000000000",
          "1998-11-21T00:00:00.000000000",
          "1998-11-28T00:00:00.000000000",
          "1998-12-05T00:00:00.000000000",
          "1998-12-09T00:00:00.000000000",
          "1998-12-12T00:00:00.000000000",
          "1998-12-16T00:00:00.000000000",
          "1998-12-19T00:00:00.000000000",
          "1998-12-26T00:00:00.000000000",
          "1998-12-29T00:00:00.000000000",
          "1999-01-09T00:00:00.000000000",
          "1999-01-16T00:00:00.000000000",
          "1999-01-31T00:00:00.000000000",
          "1999-02-06T00:00:00.000000000",
          "1999-02-17T00:00:00.000000000",
          "1999-02-20T00:00:00.000000000",
          "1999-02-27T00:00:00.000000000",
          "1999-03-13T00:00:00.000000000",
          "1999-03-21T00:00:00.000000000",
          "1999-04-03T00:00:00.000000000",
          "1999-04-11T00:00:00.000000000",
          "1999-04-14T00:00:00.000000000",
          "1999-04-18T00:00:00.000000000",
          "1999-04-25T00:00:00.000000000",
          "1999-05-01T00:00:00.000000000",
          "1999-05-05T00:00:00.000000000",
          "1999-05-10T00:00:00.000000000",
          "1999-05-16T00:00:00.000000000",
          "1999-08-07T00:00:00.000000000",
          "1999-08-14T00:00:00.000000000",
          "1999-08-21T00:00:00.000000000",
          "1999-08-28T00:00:00.000000000",
          "1999-09-11T00:00:00.000000000",
          "1999-09-18T00:00:00.000000000",
          "1999-09-25T00:00:00.000000000",
          "1999-10-03T00:00:00.000000000",
          "1999-10-16T00:00:00.000000000",
          "1999-10-23T00:00:00.000000000",
          "1999-10-30T00:00:00.000000000",
          "1999-11-07T00:00:00.000000000",
          "1999-11-20T00:00:00.000000000",
          "1999-11-28T00:00:00.000000000",
          "1999-12-04T00:00:00.000000000",
          "1999-12-19T00:00:00.000000000",
          "1999-12-26T00:00:00.000000000",
          "1999-12-29T00:00:00.000000000",
          "2000-01-04T00:00:00.000000000",
          "2000-01-08T00:00:00.000000000",
          "2000-01-12T00:00:00.000000000",
          "2000-01-15T00:00:00.000000000",
          "2000-01-22T00:00:00.000000000",
          "2000-02-05T00:00:00.000000000",
          "2000-02-12T00:00:00.000000000",
          "2000-02-26T00:00:00.000000000",
          "2000-03-04T00:00:00.000000000",
          "2000-03-11T00:00:00.000000000",
          "2000-03-18T00:00:00.000000000",
          "2000-03-25T00:00:00.000000000",
          "2000-04-01T00:00:00.000000000",
          "2000-04-12T00:00:00.000000000",
          "2000-04-15T00:00:00.000000000",
          "2000-04-22T00:00:00.000000000",
          "2000-04-24T00:00:00.000000000",
          "2000-04-29T00:00:00.000000000",
          "2000-05-06T00:00:00.000000000",
          "2000-05-14T00:00:00.000000000",
          "2000-08-19T00:00:00.000000000",
          "2000-08-22T00:00:00.000000000",
          "2000-08-27T00:00:00.000000000",
          "2000-09-06T00:00:00.000000000",
          "2000-09-09T00:00:00.000000000",
          "2000-09-17T00:00:00.000000000",
          "2000-09-23T00:00:00.000000000",
          "2000-10-01T00:00:00.000000000",
          "2000-10-14T00:00:00.000000000",
          "2000-10-21T00:00:00.000000000",
          "2000-10-28T00:00:00.000000000",
          "2000-11-04T00:00:00.000000000",
          "2000-11-12T00:00:00.000000000",
          "2000-11-18T00:00:00.000000000",
          "2000-11-25T00:00:00.000000000",
          "2000-12-03T00:00:00.000000000",
          "2000-12-09T00:00:00.000000000",
          "2000-12-16T00:00:00.000000000",
          "2000-12-23T00:00:00.000000000",
          "2000-12-26T00:00:00.000000000",
          "2001-01-01T00:00:00.000000000",
          "2001-01-13T00:00:00.000000000",
          "2001-01-20T00:00:00.000000000",
          "2001-01-31T00:00:00.000000000",
          "2001-02-03T00:00:00.000000000",
          "2001-02-10T00:00:00.000000000",
          "2001-03-03T00:00:00.000000000",
          "2001-03-07T00:00:00.000000000",
          "2001-03-17T00:00:00.000000000",
          "2001-03-31T00:00:00.000000000",
          "2001-04-07T00:00:00.000000000",
          "2001-04-14T00:00:00.000000000",
          "2001-04-17T00:00:00.000000000",
          "2001-04-21T00:00:00.000000000",
          "2001-04-28T00:00:00.000000000",
          "2001-05-05T00:00:00.000000000",
          "2001-05-08T00:00:00.000000000",
          "2001-05-19T00:00:00.000000000",
          "2001-08-19T00:00:00.000000000",
          "2001-08-25T00:00:00.000000000",
          "2001-09-08T00:00:00.000000000",
          "2001-09-16T00:00:00.000000000",
          "2001-09-23T00:00:00.000000000",
          "2001-09-30T00:00:00.000000000",
          "2001-10-13T00:00:00.000000000",
          "2001-10-21T00:00:00.000000000",
          "2001-10-24T00:00:00.000000000",
          "2001-10-28T00:00:00.000000000",
          "2001-11-04T00:00:00.000000000",
          "2001-11-18T00:00:00.000000000",
          "2001-11-24T00:00:00.000000000",
          "2001-12-01T00:00:00.000000000",
          "2001-12-05T00:00:00.000000000",
          "2001-12-09T00:00:00.000000000",
          "2001-12-16T00:00:00.000000000",
          "2001-12-23T00:00:00.000000000",
          "2001-12-26T00:00:00.000000000",
          "2001-12-29T00:00:00.000000000",
          "2002-01-01T00:00:00.000000000",
          "2002-01-12T00:00:00.000000000",
          "2002-01-20T00:00:00.000000000",
          "2002-01-30T00:00:00.000000000",
          "2002-02-02T00:00:00.000000000",
          "2002-02-09T00:00:00.000000000",
          "2002-03-02T00:00:00.000000000",
          "2002-03-06T00:00:00.000000000",
          "2002-03-13T00:00:00.000000000",
          "2002-03-16T00:00:00.000000000",
          "2002-03-24T00:00:00.000000000",
          "2002-03-30T00:00:00.000000000",
          "2002-04-01T00:00:00.000000000",
          "2002-04-06T00:00:00.000000000",
          "2002-04-10T00:00:00.000000000",
          "2002-04-20T00:00:00.000000000",
          "2002-04-27T00:00:00.000000000",
          "2002-05-11T00:00:00.000000000",
          "2002-08-17T00:00:00.000000000",
          "2002-08-23T00:00:00.000000000",
          "2002-08-28T00:00:00.000000000",
          "2002-09-01T00:00:00.000000000",
          "2002-09-11T00:00:00.000000000",
          "2002-09-14T00:00:00.000000000",
          "2002-09-23T00:00:00.000000000",
          "2002-09-28T00:00:00.000000000",
          "2002-10-06T00:00:00.000000000",
          "2002-10-19T00:00:00.000000000",
          "2002-10-26T00:00:00.000000000",
          "2002-11-03T00:00:00.000000000",
          "2002-11-09T00:00:00.000000000",
          "2002-11-16T00:00:00.000000000",
          "2002-11-23T00:00:00.000000000",
          "2002-11-30T00:00:00.000000000",
          "2002-12-07T00:00:00.000000000",
          "2002-12-14T00:00:00.000000000",
          "2002-12-21T00:00:00.000000000",
          "2002-12-26T00:00:00.000000000",
          "2002-12-28T00:00:00.000000000",
          "2003-01-01T00:00:00.000000000",
          "2003-01-11T00:00:00.000000000",
          "2003-01-18T00:00:00.000000000",
          "2003-01-28T00:00:00.000000000",
          "2003-02-01T00:00:00.000000000",
          "2003-02-08T00:00:00.000000000",
          "2003-02-22T00:00:00.000000000",
          "2003-03-01T00:00:00.000000000",
          "2003-03-16T00:00:00.000000000",
          "2003-03-22T00:00:00.000000000",
          "2003-04-05T00:00:00.000000000",
          "2003-04-12T00:00:00.000000000",
          "2003-04-19T00:00:00.000000000",
          "2003-04-21T00:00:00.000000000",
          "2003-04-26T00:00:00.000000000",
          "2003-05-03T00:00:00.000000000",
          "2003-05-11T00:00:00.000000000",
          "2003-08-17T00:00:00.000000000",
          "2003-08-23T00:00:00.000000000",
          "2003-08-30T00:00:00.000000000",
          "2003-09-13T00:00:00.000000000",
          "2003-09-20T00:00:00.000000000",
          "2003-09-27T00:00:00.000000000",
          "2003-10-05T00:00:00.000000000",
          "2003-10-14T00:00:00.000000000",
          "2003-10-18T00:00:00.000000000",
          "2003-10-25T00:00:00.000000000",
          "2003-11-01T00:00:00.000000000",
          "2003-11-09T00:00:00.000000000",
          "2003-11-22T00:00:00.000000000",
          "2003-11-30T00:00:00.000000000",
          "2003-12-06T00:00:00.000000000",
          "2003-12-13T00:00:00.000000000",
          "2003-12-20T00:00:00.000000000",
          "2003-12-26T00:00:00.000000000",
          "2003-12-28T00:00:00.000000000",
          "2004-01-07T00:00:00.000000000",
          "2004-01-11T00:00:00.000000000",
          "2004-01-18T00:00:00.000000000",
          "2004-02-01T00:00:00.000000000",
          "2004-02-08T00:00:00.000000000",
          "2004-02-11T00:00:00.000000000",
          "2004-02-21T00:00:00.000000000",
          "2004-02-28T00:00:00.000000000",
          "2004-03-13T00:00:00.000000000",
          "2004-03-20T00:00:00.000000000",
          "2004-03-27T00:00:00.000000000",
          "2004-04-03T00:00:00.000000000",
          "2004-04-10T00:00:00.000000000",
          "2004-04-12T00:00:00.000000000",
          "2004-04-17T00:00:00.000000000",
          "2004-04-25T00:00:00.000000000",
          "2004-05-01T00:00:00.000000000",
          "2004-05-08T00:00:00.000000000",
          "2004-05-15T00:00:00.000000000",
          "2004-08-15T00:00:00.000000000",
          "2004-08-21T00:00:00.000000000",
          "2004-08-24T00:00:00.000000000",
          "2004-08-28T00:00:00.000000000",
          "2004-09-11T00:00:00.000000000",
          "2004-09-19T00:00:00.000000000",
          "2004-09-25T00:00:00.000000000",
          "2004-10-03T00:00:00.000000000",
          "2004-10-16T00:00:00.000000000",
          "2004-10-23T00:00:00.000000000",
          "2004-10-30T00:00:00.000000000",
          "2004-11-06T00:00:00.000000000",
          "2004-11-13T00:00:00.000000000",
          "2004-11-20T00:00:00.000000000",
          "2004-11-27T00:00:00.000000000",
          "2004-12-04T00:00:00.000000000",
          "2004-12-12T00:00:00.000000000",
          "2004-12-18T00:00:00.000000000",
          "2004-12-26T00:00:00.000000000",
          "2004-12-28T00:00:00.000000000",
          "2005-01-01T00:00:00.000000000",
          "2005-01-04T00:00:00.000000000",
          "2005-01-15T00:00:00.000000000",
          "2005-01-22T00:00:00.000000000",
          "2005-02-02T00:00:00.000000000",
          "2005-02-06T00:00:00.000000000",
          "2005-02-12T00:00:00.000000000",
          "2005-03-05T00:00:00.000000000",
          "2005-03-15T00:00:00.000000000",
          "2005-03-19T00:00:00.000000000",
          "2005-04-02T00:00:00.000000000",
          "2005-04-09T00:00:00.000000000",
          "2005-04-20T00:00:00.000000000",
          "2005-04-23T00:00:00.000000000",
          "2005-04-30T00:00:00.000000000",
          "2005-05-07T00:00:00.000000000",
          "2005-05-10T00:00:00.000000000",
          "2005-05-15T00:00:00.000000000",
          "2005-08-14T00:00:00.000000000",
          "2005-08-21T00:00:00.000000000",
          "2005-08-24T00:00:00.000000000",
          "2005-08-27T00:00:00.000000000",
          "2005-09-10T00:00:00.000000000",
          "2005-09-17T00:00:00.000000000",
          "2005-09-24T00:00:00.000000000",
          "2005-10-02T00:00:00.000000000",
          "2005-10-15T00:00:00.000000000",
          "2005-10-23T00:00:00.000000000",
          "2005-10-29T00:00:00.000000000",
          "2005-11-06T00:00:00.000000000",
          "2005-11-19T00:00:00.000000000",
          "2005-11-26T00:00:00.000000000",
          "2005-12-03T00:00:00.000000000",
          "2005-12-10T00:00:00.000000000",
          "2005-12-18T00:00:00.000000000",
          "2005-12-26T00:00:00.000000000",
          "2005-12-28T00:00:00.000000000",
          "2005-12-31T00:00:00.000000000",
          "2006-01-02T00:00:00.000000000",
          "2006-01-15T00:00:00.000000000",
          "2006-01-22T00:00:00.000000000",
          "2006-02-01T00:00:00.000000000",
          "2006-02-05T00:00:00.000000000",
          "2006-02-11T00:00:00.000000000",
          "2006-02-25T00:00:00.000000000",
          "2006-03-04T00:00:00.000000000",
          "2006-03-11T00:00:00.000000000",
          "2006-03-19T00:00:00.000000000",
          "2006-03-25T00:00:00.000000000",
          "2006-04-01T00:00:00.000000000",
          "2006-04-09T00:00:00.000000000",
          "2006-04-15T00:00:00.000000000",
          "2006-04-17T00:00:00.000000000",
          "2006-04-29T00:00:00.000000000",
          "2006-05-02T00:00:00.000000000",
          "2006-05-07T00:00:00.000000000",
          "2006-08-20T00:00:00.000000000",
          "2006-08-23T00:00:00.000000000",
          "2006-08-27T00:00:00.000000000",
          "2006-09-09T00:00:00.000000000",
          "2006-09-17T00:00:00.000000000",
          "2006-09-23T00:00:00.000000000",
          "2006-09-30T00:00:00.000000000",
          "2006-10-14T00:00:00.000000000",
          "2006-10-21T00:00:00.000000000",
          "2006-10-28T00:00:00.000000000",
          "2006-11-05T00:00:00.000000000",
          "2006-11-11T00:00:00.000000000",
          "2006-11-18T00:00:00.000000000",
          "2006-11-26T00:00:00.000000000",
          "2006-11-29T00:00:00.000000000",
          "2006-12-10T00:00:00.000000000",
          "2006-12-13T00:00:00.000000000",
          "2006-12-17T00:00:00.000000000",
          "2006-12-23T00:00:00.000000000",
          "2006-12-26T00:00:00.000000000",
          "2006-12-30T00:00:00.000000000",
          "2007-01-02T00:00:00.000000000",
          "2007-01-13T00:00:00.000000000",
          "2007-01-20T00:00:00.000000000",
          "2007-01-31T00:00:00.000000000",
          "2007-02-03T00:00:00.000000000",
          "2007-02-10T00:00:00.000000000",
          "2007-03-03T00:00:00.000000000",
          "2007-03-14T00:00:00.000000000",
          "2007-03-17T00:00:00.000000000",
          "2007-03-31T00:00:00.000000000",
          "2007-04-07T00:00:00.000000000",
          "2007-04-18T00:00:00.000000000",
          "2007-04-22T00:00:00.000000000",
          "2007-04-28T00:00:00.000000000",
          "2007-05-06T00:00:00.000000000",
          "2007-05-09T00:00:00.000000000",
          "2007-05-13T00:00:00.000000000",
          "2007-08-12T00:00:00.000000000",
          "2007-08-15T00:00:00.000000000",
          "2007-08-19T00:00:00.000000000",
          "2007-08-25T00:00:00.000000000",
          "2007-09-02T00:00:00.000000000",
          "2007-09-15T00:00:00.000000000",
          "2007-09-23T00:00:00.000000000",
          "2007-09-29T00:00:00.000000000",
          "2007-10-07T00:00:00.000000000",
          "2007-10-20T00:00:00.000000000",
          "2007-10-27T00:00:00.000000000",
          "2007-11-03T00:00:00.000000000",
          "2007-11-11T00:00:00.000000000",
          "2007-11-24T00:00:00.000000000",
          "2007-12-01T00:00:00.000000000",
          "2007-12-08T00:00:00.000000000",
          "2007-12-16T00:00:00.000000000",
          "2007-12-23T00:00:00.000000000",
          "2007-12-26T00:00:00.000000000",
          "2007-12-29T00:00:00.000000000",
          "2008-01-01T00:00:00.000000000",
          "2008-01-12T00:00:00.000000000",
          "2008-01-19T00:00:00.000000000",
          "2008-01-30T00:00:00.000000000",
          "2008-02-02T00:00:00.000000000",
          "2008-02-10T00:00:00.000000000",
          "2008-03-01T00:00:00.000000000",
          "2008-03-12T00:00:00.000000000",
          "2008-03-15T00:00:00.000000000",
          "2008-03-19T00:00:00.000000000",
          "2008-03-23T00:00:00.000000000",
          "2008-03-30T00:00:00.000000000",
          "2008-04-05T00:00:00.000000000",
          "2008-04-14T00:00:00.000000000",
          "2008-04-17T00:00:00.000000000",
          "2008-04-26T00:00:00.000000000",
          "2008-05-05T00:00:00.000000000",
          "2008-05-11T00:00:00.000000000",
          "2008-08-17T00:00:00.000000000",
          "2008-08-24T00:00:00.000000000",
          "2008-08-31T00:00:00.000000000",
          "2008-09-13T00:00:00.000000000",
          "2008-09-21T00:00:00.000000000",
          "2008-09-27T00:00:00.000000000",
          "2008-10-05T00:00:00.000000000",
          "2008-10-18T00:00:00.000000000",
          "2008-10-26T00:00:00.000000000",
          "2008-10-29T00:00:00.000000000",
          "2008-11-01T00:00:00.000000000",
          "2008-11-09T00:00:00.000000000",
          "2008-11-15T00:00:00.000000000",
          "2008-11-22T00:00:00.000000000",
          "2008-11-30T00:00:00.000000000",
          "2008-12-06T00:00:00.000000000",
          "2008-12-14T00:00:00.000000000",
          "2008-12-22T00:00:00.000000000",
          "2008-12-26T00:00:00.000000000",
          "2008-12-28T00:00:00.000000000",
          "2009-01-11T00:00:00.000000000",
          "2009-01-17T00:00:00.000000000",
          "2009-01-28T00:00:00.000000000",
          "2009-02-01T00:00:00.000000000",
          "2009-02-07T00:00:00.000000000",
          "2009-02-21T00:00:00.000000000",
          "2009-02-28T00:00:00.000000000",
          "2009-03-03T00:00:00.000000000",
          "2009-03-15T00:00:00.000000000",
          "2009-03-21T00:00:00.000000000",
          "2009-04-04T00:00:00.000000000",
          "2009-04-11T00:00:00.000000000",
          "2009-04-22T00:00:00.000000000",
          "2009-04-25T00:00:00.000000000",
          "2009-05-02T00:00:00.000000000",
          "2009-05-10T00:00:00.000000000",
          "2009-05-17T00:00:00.000000000",
          "2009-05-24T00:00:00.000000000",
          "2009-08-15T00:00:00.000000000",
          "2009-08-18T00:00:00.000000000",
          "2009-08-23T00:00:00.000000000",
          "2009-08-29T00:00:00.000000000",
          "2009-09-12T00:00:00.000000000",
          "2009-09-20T00:00:00.000000000",
          "2009-09-26T00:00:00.000000000",
          "2009-10-04T00:00:00.000000000",
          "2009-10-17T00:00:00.000000000",
          "2009-10-24T00:00:00.000000000",
          "2009-10-31T00:00:00.000000000",
          "2009-11-08T00:00:00.000000000",
          "2009-11-21T00:00:00.000000000",
          "2009-11-29T00:00:00.000000000",
          "2009-12-05T00:00:00.000000000",
          "2009-12-12T00:00:00.000000000",
          "2009-12-16T00:00:00.000000000",
          "2009-12-20T00:00:00.000000000",
          "2009-12-26T00:00:00.000000000",
          "2009-12-28T00:00:00.000000000",
          "2010-01-16T00:00:00.000000000",
          "2010-01-27T00:00:00.000000000",
          "2010-01-30T00:00:00.000000000",
          "2010-02-02T00:00:00.000000000",
          "2010-02-07T00:00:00.000000000",
          "2010-02-10T00:00:00.000000000",
          "2010-02-20T00:00:00.000000000",
          "2010-02-27T00:00:00.000000000",
          "2010-03-13T00:00:00.000000000",
          "2010-03-21T00:00:00.000000000",
          "2010-03-24T00:00:00.000000000",
          "2010-03-27T00:00:00.000000000",
          "2010-04-03T00:00:00.000000000",
          "2010-04-13T00:00:00.000000000",
          "2010-04-17T00:00:00.000000000",
          "2010-04-25T00:00:00.000000000",
          "2010-05-02T00:00:00.000000000",
          "2010-05-09T00:00:00.000000000",
          "2010-08-14T00:00:00.000000000",
          "2010-08-21T00:00:00.000000000",
          "2010-08-28T00:00:00.000000000",
          "2010-09-11T00:00:00.000000000",
          "2010-09-19T00:00:00.000000000",
          "2010-09-25T00:00:00.000000000",
          "2010-10-03T00:00:00.000000000",
          "2010-10-16T00:00:00.000000000",
          "2010-10-23T00:00:00.000000000",
          "2010-10-30T00:00:00.000000000",
          "2010-11-07T00:00:00.000000000",
          "2010-11-10T00:00:00.000000000",
          "2010-11-14T00:00:00.000000000",
          "2010-11-20T00:00:00.000000000",
          "2010-11-28T00:00:00.000000000",
          "2010-12-04T00:00:00.000000000",
          "2010-12-12T00:00:00.000000000",
          "2010-12-27T00:00:00.000000000",
          "2010-12-29T00:00:00.000000000",
          "2011-01-02T00:00:00.000000000",
          "2011-01-05T00:00:00.000000000",
          "2011-01-15T00:00:00.000000000",
          "2011-01-24T00:00:00.000000000",
          "2011-02-01T00:00:00.000000000",
          "2011-02-06T00:00:00.000000000",
          "2011-02-14T00:00:00.000000000",
          "2011-03-01T00:00:00.000000000",
          "2011-03-07T00:00:00.000000000",
          "2011-03-20T00:00:00.000000000",
          "2011-04-02T00:00:00.000000000",
          "2011-04-09T00:00:00.000000000",
          "2011-04-16T00:00:00.000000000",
          "2011-04-20T00:00:00.000000000",
          "2011-04-23T00:00:00.000000000",
          "2011-04-30T00:00:00.000000000",
          "2011-05-08T00:00:00.000000000",
          "2011-05-15T00:00:00.000000000",
          "2011-05-22T00:00:00.000000000",
          "2011-08-14T00:00:00.000000000",
          "2011-08-20T00:00:00.000000000",
          "2011-08-27T00:00:00.000000000",
          "2011-09-10T00:00:00.000000000",
          "2011-09-18T00:00:00.000000000",
          "2011-09-24T00:00:00.000000000",
          "2011-10-02T00:00:00.000000000",
          "2011-10-15T00:00:00.000000000",
          "2011-10-23T00:00:00.000000000",
          "2011-10-29T00:00:00.000000000",
          "2011-11-05T00:00:00.000000000",
          "2011-11-20T00:00:00.000000000",
          "2011-11-26T00:00:00.000000000",
          "2011-12-03T00:00:00.000000000",
          "2011-12-12T00:00:00.000000000",
          "2011-12-17T00:00:00.000000000",
          "2011-12-22T00:00:00.000000000",
          "2011-12-26T00:00:00.000000000",
          "2011-12-31T00:00:00.000000000",
          "2012-01-02T00:00:00.000000000",
          "2012-01-14T00:00:00.000000000",
          "2012-01-21T00:00:00.000000000",
          "2012-01-31T00:00:00.000000000",
          "2012-02-05T00:00:00.000000000",
          "2012-02-11T00:00:00.000000000",
          "2012-02-25T00:00:00.000000000",
          "2012-03-03T00:00:00.000000000",
          "2012-03-10T00:00:00.000000000",
          "2012-03-21T00:00:00.000000000",
          "2012-03-24T00:00:00.000000000",
          "2012-03-31T00:00:00.000000000",
          "2012-04-07T00:00:00.000000000",
          "2012-04-09T00:00:00.000000000",
          "2012-04-21T00:00:00.000000000",
          "2012-04-29T00:00:00.000000000",
          "2012-05-02T00:00:00.000000000",
          "2012-05-08T00:00:00.000000000",
          "2012-05-13T00:00:00.000000000",
          "2012-08-19T00:00:00.000000000",
          "2012-08-22T00:00:00.000000000",
          "2012-08-25T00:00:00.000000000",
          "2012-09-15T00:00:00.000000000",
          "2012-09-22T00:00:00.000000000",
          "2012-09-29T00:00:00.000000000",
          "2012-10-06T00:00:00.000000000",
          "2012-10-20T00:00:00.000000000",
          "2012-10-28T00:00:00.000000000",
          "2012-11-03T00:00:00.000000000",
          "2012-11-11T00:00:00.000000000",
          "2012-11-17T00:00:00.000000000",
          "2012-11-25T00:00:00.000000000",
          "2012-11-28T00:00:00.000000000",
          "2012-12-01T00:00:00.000000000",
          "2012-12-08T00:00:00.000000000",
          "2012-12-23T00:00:00.000000000",
          "2012-12-26T00:00:00.000000000",
          "2012-12-30T00:00:00.000000000",
          "2013-01-02T00:00:00.000000000",
          "2013-01-12T00:00:00.000000000",
          "2013-01-16T00:00:00.000000000",
          "2013-01-20T00:00:00.000000000",
          "2013-01-30T00:00:00.000000000",
          "2013-02-02T00:00:00.000000000",
          "2013-02-09T00:00:00.000000000",
          "2013-02-24T00:00:00.000000000",
          "2013-03-02T00:00:00.000000000",
          "2013-03-17T00:00:00.000000000",
          "2013-03-30T00:00:00.000000000",
          "2013-04-07T00:00:00.000000000",
          "2013-04-17T00:00:00.000000000",
          "2013-04-21T00:00:00.000000000",
          "2013-04-28T00:00:00.000000000",
          "2013-05-05T00:00:00.000000000",
          "2013-05-08T00:00:00.000000000",
          "2013-05-11T00:00:00.000000000",
          "2013-05-19T00:00:00.000000000",
          "2013-08-18T00:00:00.000000000",
          "2013-08-21T00:00:00.000000000",
          "2013-08-26T00:00:00.000000000",
          "2013-09-14T00:00:00.000000000",
          "2013-09-21T00:00:00.000000000",
          "2013-09-28T00:00:00.000000000",
          "2013-10-06T00:00:00.000000000",
          "2013-10-19T00:00:00.000000000",
          "2013-10-27T00:00:00.000000000",
          "2013-11-02T00:00:00.000000000",
          "2013-11-09T00:00:00.000000000",
          "2013-11-23T00:00:00.000000000",
          "2013-12-01T00:00:00.000000000",
          "2013-12-04T00:00:00.000000000",
          "2013-12-07T00:00:00.000000000",
          "2013-12-14T00:00:00.000000000",
          "2013-12-23T00:00:00.000000000",
          "2013-12-26T00:00:00.000000000",
          "2013-12-29T00:00:00.000000000",
          "2014-01-01T00:00:00.000000000",
          "2014-01-11T00:00:00.000000000",
          "2014-01-19T00:00:00.000000000",
          "2014-01-29T00:00:00.000000000",
          "2014-02-03T00:00:00.000000000",
          "2014-02-08T00:00:00.000000000",
          "2014-02-11T00:00:00.000000000",
          "2014-02-22T00:00:00.000000000",
          "2014-03-01T00:00:00.000000000",
          "2014-03-08T00:00:00.000000000",
          "2014-03-15T00:00:00.000000000",
          "2014-03-22T00:00:00.000000000",
          "2014-03-29T00:00:00.000000000",
          "2014-04-05T00:00:00.000000000",
          "2014-04-13T00:00:00.000000000",
          "2014-04-19T00:00:00.000000000",
          "2014-04-27T00:00:00.000000000",
          "2014-05-04T00:00:00.000000000",
          "2014-05-11T00:00:00.000000000",
          "2014-08-18T00:00:00.000000000",
          "2014-08-23T00:00:00.000000000",
          "2014-08-30T00:00:00.000000000",
          "2014-09-13T00:00:00.000000000",
          "2014-09-21T00:00:00.000000000",
          "2014-09-27T00:00:00.000000000",
          "2014-10-05T00:00:00.000000000",
          "2014-10-18T00:00:00.000000000",
          "2014-10-26T00:00:00.000000000",
          "2014-11-01T00:00:00.000000000",
          "2014-11-08T00:00:00.000000000",
          "2014-11-22T00:00:00.000000000",
          "2014-11-29T00:00:00.000000000",
          "2014-12-03T00:00:00.000000000",
          "2014-12-06T00:00:00.000000000",
          "2014-12-13T00:00:00.000000000",
          "2014-12-22T00:00:00.000000000",
          "2014-12-26T00:00:00.000000000",
          "2014-12-28T00:00:00.000000000",
          "2015-01-01T00:00:00.000000000",
          "2015-01-10T00:00:00.000000000",
          "2015-01-17T00:00:00.000000000",
          "2015-01-31T00:00:00.000000000",
          "2015-02-07T00:00:00.000000000",
          "2015-02-11T00:00:00.000000000",
          "2015-02-21T00:00:00.000000000",
          "2015-03-04T00:00:00.000000000",
          "2015-03-15T00:00:00.000000000",
          "2015-03-22T00:00:00.000000000",
          "2015-04-04T00:00:00.000000000",
          "2015-04-12T00:00:00.000000000",
          "2015-04-18T00:00:00.000000000",
          "2015-04-26T00:00:00.000000000",
          "2015-04-29T00:00:00.000000000",
          "2015-05-03T00:00:00.000000000",
          "2015-05-10T00:00:00.000000000",
          "2015-05-18T00:00:00.000000000",
          "2015-05-24T00:00:00.000000000",
          "2015-08-08T00:00:00.000000000",
          "2015-08-16T00:00:00.000000000",
          "2015-08-23T00:00:00.000000000",
          "2015-08-29T00:00:00.000000000",
          "2015-09-12T00:00:00.000000000",
          "2015-09-19T00:00:00.000000000",
          "2015-09-26T00:00:00.000000000",
          "2015-10-03T00:00:00.000000000",
          "2015-10-17T00:00:00.000000000",
          "2015-10-24T00:00:00.000000000",
          "2015-10-31T00:00:00.000000000",
          "2015-11-07T00:00:00.000000000",
          "2015-11-21T00:00:00.000000000",
          "2015-11-29T00:00:00.000000000",
          "2015-12-05T00:00:00.000000000",
          "2015-12-14T00:00:00.000000000",
          "2015-12-19T00:00:00.000000000",
          "2015-12-26T00:00:00.000000000",
          "2015-12-28T00:00:00.000000000",
          "2016-01-03T00:00:00.000000000",
          "2016-01-13T00:00:00.000000000",
          "2016-01-16T00:00:00.000000000",
          "2016-01-24T00:00:00.000000000",
          "2016-02-03T00:00:00.000000000",
          "2016-02-07T00:00:00.000000000",
          "2016-02-13T00:00:00.000000000",
          "2016-02-27T00:00:00.000000000",
          "2016-03-01T00:00:00.000000000",
          "2016-03-05T00:00:00.000000000",
          "2016-03-19T00:00:00.000000000",
          "2016-04-02T00:00:00.000000000",
          "2016-04-09T00:00:00.000000000",
          "2016-04-16T00:00:00.000000000",
          "2016-04-23T00:00:00.000000000",
          "2016-05-02T00:00:00.000000000",
          "2016-05-07T00:00:00.000000000",
          "2016-05-11T00:00:00.000000000",
          "2016-05-15T00:00:00.000000000",
          "2016-08-15T00:00:00.000000000",
          "2016-08-20T00:00:00.000000000",
          "2016-08-27T00:00:00.000000000",
          "2016-09-11T00:00:00.000000000",
          "2016-09-16T00:00:00.000000000",
          "2016-09-24T00:00:00.000000000",
          "2016-10-01T00:00:00.000000000",
          "2016-10-15T00:00:00.000000000",
          "2016-10-23T00:00:00.000000000",
          "2016-10-30T00:00:00.000000000",
          "2016-11-05T00:00:00.000000000",
          "2016-11-20T00:00:00.000000000",
          "2016-11-26T00:00:00.000000000",
          "2016-12-03T00:00:00.000000000",
          "2016-12-11T00:00:00.000000000",
          "2016-12-14T00:00:00.000000000",
          "2016-12-17T00:00:00.000000000",
          "2016-12-26T00:00:00.000000000",
          "2016-12-31T00:00:00.000000000",
          "2017-01-04T00:00:00.000000000",
          "2017-01-14T00:00:00.000000000",
          "2017-01-22T00:00:00.000000000",
          "2017-01-31T00:00:00.000000000",
          "2017-02-04T00:00:00.000000000",
          "2017-02-12T00:00:00.000000000",
          "2017-02-25T00:00:00.000000000",
          "2017-03-06T00:00:00.000000000",
          "2017-03-18T00:00:00.000000000",
          "2017-04-01T00:00:00.000000000",
          "2017-04-05T00:00:00.000000000",
          "2017-04-08T00:00:00.000000000",
          "2017-04-16T00:00:00.000000000",
          "2017-04-25T00:00:00.000000000",
          "2017-04-30T00:00:00.000000000",
          "2017-05-08T00:00:00.000000000",
          "2017-05-12T00:00:00.000000000",
          "2017-05-15T00:00:00.000000000",
          "2017-05-21T00:00:00.000000000",
          "2017-08-12T00:00:00.000000000",
          "2017-08-20T00:00:00.000000000",
          "2017-08-27T00:00:00.000000000",
          "2017-09-09T00:00:00.000000000",
          "2017-09-17T00:00:00.000000000",
          "2017-09-23T00:00:00.000000000",
          "2017-09-30T00:00:00.000000000",
          "2017-10-14T00:00:00.000000000",
          "2017-10-21T00:00:00.000000000",
          "2017-10-28T00:00:00.000000000",
          "2017-11-05T00:00:00.000000000",
          "2017-11-18T00:00:00.000000000",
          "2017-11-25T00:00:00.000000000",
          "2017-11-29T00:00:00.000000000",
          "2017-12-02T00:00:00.000000000",
          "2017-12-09T00:00:00.000000000",
          "2017-12-12T00:00:00.000000000",
          "2017-12-16T00:00:00.000000000",
          "2017-12-23T00:00:00.000000000",
          "2017-12-26T00:00:00.000000000",
          "2017-12-30T00:00:00.000000000",
          "2018-01-03T00:00:00.000000000",
          "2018-01-13T00:00:00.000000000",
          "2018-01-20T00:00:00.000000000",
          "2018-01-31T00:00:00.000000000",
          "2018-02-05T00:00:00.000000000",
          "2018-02-12T00:00:00.000000000",
          "2018-02-25T00:00:00.000000000",
          "2018-03-04T00:00:00.000000000",
          "2018-03-10T00:00:00.000000000",
          "2018-04-01T00:00:00.000000000",
          "2018-04-08T00:00:00.000000000",
          "2018-04-14T00:00:00.000000000",
          "2018-04-19T00:00:00.000000000",
          "2018-04-28T00:00:00.000000000",
          "2018-05-06T00:00:00.000000000",
          "2018-05-09T00:00:00.000000000",
          "2018-05-13T00:00:00.000000000",
          "2018-08-11T00:00:00.000000000",
          "2018-08-18T00:00:00.000000000",
          "2018-08-26T00:00:00.000000000",
          "2018-09-01T00:00:00.000000000",
          "2018-09-15T00:00:00.000000000",
          "2018-09-23T00:00:00.000000000",
          "2018-09-29T00:00:00.000000000",
          "2018-10-07T00:00:00.000000000",
          "2018-10-20T00:00:00.000000000",
          "2018-10-28T00:00:00.000000000",
          "2018-11-04T00:00:00.000000000",
          "2018-11-11T00:00:00.000000000",
          "2018-11-24T00:00:00.000000000",
          "2018-12-02T00:00:00.000000000",
          "2018-12-05T00:00:00.000000000",
          "2018-12-08T00:00:00.000000000",
          "2018-12-16T00:00:00.000000000",
          "2018-12-22T00:00:00.000000000",
          "2018-12-26T00:00:00.000000000",
          "2018-12-30T00:00:00.000000000",
          "2019-01-02T00:00:00.000000000",
          "2019-01-12T00:00:00.000000000",
          "2019-01-19T00:00:00.000000000",
          "2019-01-30T00:00:00.000000000",
          "2019-02-02T00:00:00.000000000",
          "2019-02-10T00:00:00.000000000",
          "2019-02-27T00:00:00.000000000",
          "2019-03-03T00:00:00.000000000",
          "2019-03-10T00:00:00.000000000",
          "2019-03-17T00:00:00.000000000",
          "2019-03-31T00:00:00.000000000",
          "2019-04-03T00:00:00.000000000",
          "2019-04-08T00:00:00.000000000",
          "2019-04-14T00:00:00.000000000",
          "2019-04-22T00:00:00.000000000",
          "2019-04-28T00:00:00.000000000",
          "2019-05-05T00:00:00.000000000",
          "2019-05-12T00:00:00.000000000",
          "2019-08-11T00:00:00.000000000",
          "2019-08-18T00:00:00.000000000",
          "2019-08-24T00:00:00.000000000",
          "2019-08-31T00:00:00.000000000",
          "2019-09-14T00:00:00.000000000",
          "2019-09-22T00:00:00.000000000",
          "2019-09-28T00:00:00.000000000",
          "2019-10-06T00:00:00.000000000",
          "2019-10-19T00:00:00.000000000",
          "2019-10-26T00:00:00.000000000",
          "2019-11-02T00:00:00.000000000",
          "2019-11-09T00:00:00.000000000",
          "2019-11-23T00:00:00.000000000",
          "2019-11-30T00:00:00.000000000",
          "2019-12-04T00:00:00.000000000",
          "2019-12-07T00:00:00.000000000",
          "2019-12-14T00:00:00.000000000",
          "2019-12-22T00:00:00.000000000",
          "2019-12-26T00:00:00.000000000",
          "2019-12-29T00:00:00.000000000",
          "2020-01-01T00:00:00.000000000",
          "2020-01-11T00:00:00.000000000",
          "2020-01-18T00:00:00.000000000",
          "2020-01-21T00:00:00.000000000",
          "2020-02-01T00:00:00.000000000",
          "2020-02-17T00:00:00.000000000",
          "2020-02-22T00:00:00.000000000",
          "2020-02-29T00:00:00.000000000",
          "2020-03-08T00:00:00.000000000",
          "2020-06-21T00:00:00.000000000",
          "2020-06-25T00:00:00.000000000",
          "2020-07-01T00:00:00.000000000",
          "2020-07-04T00:00:00.000000000",
          "2020-07-07T00:00:00.000000000",
          "2020-07-11T00:00:00.000000000",
          "2020-07-14T00:00:00.000000000",
          "2020-07-22T00:00:00.000000000",
          "2020-07-26T00:00:00.000000000",
          "2020-09-14T00:00:00.000000000",
          "2020-09-20T00:00:00.000000000",
          "2020-09-26T00:00:00.000000000",
          "2020-10-03T00:00:00.000000000",
          "2020-10-17T00:00:00.000000000",
          "2020-10-24T00:00:00.000000000",
          "2020-10-31T00:00:00.000000000",
          "2020-11-07T00:00:00.000000000",
          "2020-11-21T00:00:00.000000000",
          "2020-11-29T00:00:00.000000000",
          "2020-12-05T00:00:00.000000000",
          "2020-12-12T00:00:00.000000000",
          "2020-12-15T00:00:00.000000000",
          "2020-12-21T00:00:00.000000000",
          "2020-12-26T00:00:00.000000000",
          "2020-12-28T00:00:00.000000000",
          "2021-01-03T00:00:00.000000000",
          "2021-01-16T00:00:00.000000000",
          "2021-01-19T00:00:00.000000000",
          "2021-01-27T00:00:00.000000000",
          "2021-01-31T00:00:00.000000000",
          "2021-02-04T00:00:00.000000000",
          "2021-02-07T00:00:00.000000000",
          "2021-02-15T00:00:00.000000000",
          "2021-02-20T00:00:00.000000000",
          "2021-02-28T00:00:00.000000000",
          "2021-03-04T00:00:00.000000000",
          "2021-03-08T00:00:00.000000000",
          "2021-03-13T00:00:00.000000000",
          "2021-04-03T00:00:00.000000000",
          "2021-04-10T00:00:00.000000000",
          "2021-04-20T00:00:00.000000000",
          "2021-04-24T00:00:00.000000000",
          "2021-05-01T00:00:00.000000000",
          "2021-05-08T00:00:00.000000000",
          "2021-05-12T00:00:00.000000000",
          "2021-05-18T00:00:00.000000000",
          "2021-05-23T00:00:00.000000000",
          "2021-08-14T00:00:00.000000000",
          "2021-08-22T00:00:00.000000000",
          "2021-08-28T00:00:00.000000000",
          "2021-09-11T00:00:00.000000000",
          "2021-09-19T00:00:00.000000000",
          "2021-09-25T00:00:00.000000000",
          "2021-10-02T00:00:00.000000000",
          "2021-10-16T00:00:00.000000000",
          "2021-10-23T00:00:00.000000000",
          "2021-10-30T00:00:00.000000000",
          "2021-11-06T00:00:00.000000000",
          "2021-11-20T00:00:00.000000000",
          "2021-11-28T00:00:00.000000000",
          "2021-12-01T00:00:00.000000000",
          "2021-12-04T00:00:00.000000000",
          "2021-12-11T00:00:00.000000000",
          "2021-12-16T00:00:00.000000000",
          "2021-12-19T00:00:00.000000000",
          "2021-12-26T00:00:00.000000000",
          "2021-12-29T00:00:00.000000000",
          "2022-01-02T00:00:00.000000000",
          "2022-01-15T00:00:00.000000000",
          "2022-01-18T00:00:00.000000000",
          "2022-01-23T00:00:00.000000000",
          "2022-02-19T00:00:00.000000000",
          "2022-03-05T00:00:00.000000000",
          "2022-03-10T00:00:00.000000000",
          "2022-03-13T00:00:00.000000000",
          "2022-04-02T00:00:00.000000000",
          "2022-04-09T00:00:00.000000000",
          "2022-04-20T00:00:00.000000000",
          "2022-04-24T00:00:00.000000000",
          "2022-04-28T00:00:00.000000000",
          "2022-05-01T00:00:00.000000000",
          "2022-05-07T00:00:00.000000000",
          "2022-05-11T00:00:00.000000000",
          "2022-05-19T00:00:00.000000000",
          "2022-05-22T00:00:00.000000000",
          "2022-08-06T00:00:00.000000000",
          "2022-08-14T00:00:00.000000000",
          "2022-08-21T00:00:00.000000000",
          "2022-08-27T00:00:00.000000000",
          "2022-08-30T00:00:00.000000000",
          "2022-09-03T00:00:00.000000000",
          "2022-10-01T00:00:00.000000000",
          "2022-10-08T00:00:00.000000000",
          "2022-10-16T00:00:00.000000000",
          "2022-10-19T00:00:00.000000000",
          "2022-10-22T00:00:00.000000000",
          "2022-10-29T00:00:00.000000000",
          "2022-11-06T00:00:00.000000000",
          "2022-11-12T00:00:00.000000000",
          "2022-12-27T00:00:00.000000000",
          "2023-01-01T00:00:00.000000000",
          "2023-01-05T00:00:00.000000000",
          "2023-01-12T00:00:00.000000000",
          "2023-01-15T00:00:00.000000000",
          "2023-01-21T00:00:00.000000000",
          "2023-02-03T00:00:00.000000000",
          "2023-02-11T00:00:00.000000000",
          "2023-02-18T00:00:00.000000000",
          "2023-02-26T00:00:00.000000000",
          "2023-03-04T00:00:00.000000000",
          "2023-03-11T00:00:00.000000000",
          "2023-03-18T00:00:00.000000000",
          "2023-04-01T00:00:00.000000000",
          "2023-04-04T00:00:00.000000000",
          "2023-04-08T00:00:00.000000000",
          "2023-04-15T00:00:00.000000000",
          "2023-04-26T00:00:00.000000000",
          "2023-05-02T00:00:00.000000000",
          "2023-05-06T00:00:00.000000000",
          "2023-05-13T00:00:00.000000000",
          "2023-05-21T00:00:00.000000000",
          "2023-05-25T00:00:00.000000000",
          "2023-05-28T00:00:00.000000000",
          "2023-08-13T00:00:00.000000000",
          "2023-08-20T00:00:00.000000000",
          "2023-08-25T00:00:00.000000000",
          "2023-09-02T00:00:00.000000000",
          "2023-09-17T00:00:00.000000000",
          "2023-09-24T00:00:00.000000000",
          "2023-10-02T00:00:00.000000000",
          "2023-10-07T00:00:00.000000000",
          "2023-10-21T00:00:00.000000000",
          "2023-10-28T00:00:00.000000000",
          "2023-11-06T00:00:00.000000000",
          "2023-11-12T00:00:00.000000000",
          "2023-11-25T00:00:00.000000000",
          "2023-12-03T00:00:00.000000000",
          "2023-12-06T00:00:00.000000000",
          "2023-12-10T00:00:00.000000000",
          "2023-12-16T00:00:00.000000000",
          "2023-12-24T00:00:00.000000000",
          "2023-12-27T00:00:00.000000000",
          "2023-12-30T00:00:00.000000000",
          "2024-01-13T00:00:00.000000000",
          "2024-01-31T00:00:00.000000000",
          "2024-02-04T00:00:00.000000000",
          "2024-02-12T00:00:00.000000000",
          "2024-02-17T00:00:00.000000000",
          "2024-03-02T00:00:00.000000000",
          "2024-03-11T00:00:00.000000000",
          "2024-03-30T00:00:00.000000000",
          "2024-04-04T00:00:00.000000000",
          "2024-04-07T00:00:00.000000000",
          "2024-04-15T00:00:00.000000000",
          "2024-04-23T00:00:00.000000000",
          "2024-04-27T00:00:00.000000000",
          "2024-05-02T00:00:00.000000000",
          "2024-05-05T00:00:00.000000000",
          "2024-05-11T00:00:00.000000000",
          "2024-05-15T00:00:00.000000000",
          "2024-05-19T00:00:00.000000000",
          "2024-08-18T00:00:00.000000000",
          "2024-08-25T00:00:00.000000000",
          "2024-09-01T00:00:00.000000000",
          "2024-09-14T00:00:00.000000000",
          "2024-09-21T00:00:00.000000000",
          "2024-09-28T00:00:00.000000000",
          "2024-10-06T00:00:00.000000000",
          "2024-10-20T00:00:00.000000000",
          "2024-10-27T00:00:00.000000000",
          "2024-11-03T00:00:00.000000000",
          "2024-11-10T00:00:00.000000000",
          "2024-11-23T00:00:00.000000000",
          "2024-12-01T00:00:00.000000000",
          "2024-12-04T00:00:00.000000000",
          "2024-12-08T00:00:00.000000000",
          "2024-12-15T00:00:00.000000000",
          "2024-12-22T00:00:00.000000000",
          "2024-12-26T00:00:00.000000000",
          "2024-12-30T00:00:00.000000000",
          "2025-01-04T00:00:00.000000000",
          "2025-01-14T00:00:00.000000000",
          "2025-01-20T00:00:00.000000000",
          "2025-01-25T00:00:00.000000000",
          "2025-02-03T00:00:00.000000000",
          "2025-02-14T00:00:00.000000000",
          "2025-02-22T00:00:00.000000000",
          "2025-02-25T00:00:00.000000000",
          "2025-03-09T00:00:00.000000000",
          "2025-03-16T00:00:00.000000000",
          "2025-04-03T00:00:00.000000000",
          "2025-04-06T00:00:00.000000000",
          "2025-04-13T00:00:00.000000000",
          "2025-04-20T00:00:00.000000000",
          "2025-04-26T00:00:00.000000000",
          "2025-05-04T00:00:00.000000000",
          "2025-05-11T00:00:00.000000000",
          "2025-05-16T00:00:00.000000000",
          "2025-05-25T00:00:00.000000000"
         ],
         "xaxis": "x",
         "y": {
          "bdata": "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",
          "dtype": "f8"
         },
         "yaxis": "y"
        },
        {
         "hovertemplate": "Team=Liverpool<br>Date=%{x}<br>Elo-rating after match=%{y}<extra></extra>",
         "legendgroup": "Liverpool",
         "line": {
          "color": "#EF553B",
          "dash": "solid"
         },
         "marker": {
          "symbol": "circle"
         },
         "mode": "lines",
         "name": "Liverpool",
         "showlegend": true,
         "type": "scattergl",
         "x": [
          "1993-08-14T00:00:00.000000000",
          "1993-08-18T00:00:00.000000000",
          "1993-08-22T00:00:00.000000000",
          "1993-08-25T00:00:00.000000000",
          "1993-08-28T00:00:00.000000000",
          "1993-09-01T00:00:00.000000000",
          "1993-09-12T00:00:00.000000000",
          "1993-09-18T00:00:00.000000000",
          "1993-09-25T00:00:00.000000000",
          "1993-10-02T00:00:00.000000000",
          "1993-10-16T00:00:00.000000000",
          "1993-10-23T00:00:00.000000000",
          "1993-10-30T00:00:00.000000000",
          "1993-11-06T00:00:00.000000000",
          "1993-11-21T00:00:00.000000000",
          "1993-11-28T00:00:00.000000000",
          "1993-12-04T00:00:00.000000000",
          "1993-12-08T00:00:00.000000000",
          "1993-12-11T00:00:00.000000000",
          "1993-12-18T00:00:00.000000000",
          "1993-12-26T00:00:00.000000000",
          "1993-12-28T00:00:00.000000000",
          "1994-01-01T00:00:00.000000000",
          "1994-01-04T00:00:00.000000000",
          "1994-01-15T00:00:00.000000000",
          "1994-01-22T00:00:00.000000000",
          "1994-02-05T00:00:00.000000000",
          "1994-02-14T00:00:00.000000000",
          "1994-02-19T00:00:00.000000000",
          "1994-02-26T00:00:00.000000000",
          "1994-03-05T00:00:00.000000000",
          "1994-03-13T00:00:00.000000000",
          "1994-03-19T00:00:00.000000000",
          "1994-03-26T00:00:00.000000000",
          "1994-03-30T00:00:00.000000000",
          "1994-08-20T00:00:00.000000000",
          "1994-08-28T00:00:00.000000000",
          "1994-08-31T00:00:00.000000000",
          "1994-09-10T00:00:00.000000000",
          "1994-09-17T00:00:00.000000000",
          "1994-09-24T00:00:00.000000000",
          "1994-10-01T00:00:00.000000000",
          "1994-10-08T00:00:00.000000000",
          "1994-10-15T00:00:00.000000000",
          "1994-10-22T00:00:00.000000000",
          "1994-10-29T00:00:00.000000000",
          "1994-10-31T00:00:00.000000000",
          "1994-11-05T00:00:00.000000000",
          "1994-11-09T00:00:00.000000000",
          "1994-11-21T00:00:00.000000000",
          "1994-11-26T00:00:00.000000000",
          "1994-12-03T00:00:00.000000000",
          "1994-12-11T00:00:00.000000000",
          "1994-12-18T00:00:00.000000000",
          "1994-12-26T00:00:00.000000000",
          "1994-12-28T00:00:00.000000000",
          "1994-12-31T00:00:00.000000000",
          "1995-01-02T00:00:00.000000000",
          "1995-01-14T00:00:00.000000000",
          "1995-01-24T00:00:00.000000000",
          "1995-02-04T00:00:00.000000000",
          "1995-02-11T00:00:00.000000000",
          "1995-02-25T00:00:00.000000000",
          "1995-03-04T00:00:00.000000000",
          "1995-03-14T00:00:00.000000000",
          "1995-03-19T00:00:00.000000000",
          "1995-03-22T00:00:00.000000000",
          "1995-08-19T00:00:00.000000000",
          "1995-08-21T00:00:00.000000000",
          "1995-08-26T00:00:00.000000000",
          "1995-08-30T00:00:00.000000000",
          "1995-09-09T00:00:00.000000000",
          "1995-09-16T00:00:00.000000000",
          "1995-09-23T00:00:00.000000000",
          "1995-10-01T00:00:00.000000000",
          "1995-10-14T00:00:00.000000000",
          "1995-10-22T00:00:00.000000000",
          "1995-10-28T00:00:00.000000000",
          "1995-11-04T00:00:00.000000000",
          "1995-11-18T00:00:00.000000000",
          "1995-11-22T00:00:00.000000000",
          "1995-11-25T00:00:00.000000000",
          "1995-12-02T00:00:00.000000000",
          "1995-12-09T00:00:00.000000000",
          "1995-12-17T00:00:00.000000000",
          "1995-12-23T00:00:00.000000000",
          "1995-12-30T00:00:00.000000000",
          "1996-01-01T00:00:00.000000000",
          "1996-01-13T00:00:00.000000000",
          "1996-01-20T00:00:00.000000000",
          "1996-01-31T00:00:00.000000000",
          "1996-02-03T00:00:00.000000000",
          "1996-02-11T00:00:00.000000000",
          "1996-02-24T00:00:00.000000000",
          "1996-03-03T00:00:00.000000000",
          "1996-03-13T00:00:00.000000000",
          "1996-03-16T00:00:00.000000000",
          "1996-03-23T00:00:00.000000000",
          "1996-04-03T00:00:00.000000000",
          "1996-04-06T00:00:00.000000000",
          "1996-04-08T00:00:00.000000000",
          "1996-04-16T00:00:00.000000000",
          "1996-04-27T00:00:00.000000000",
          "1996-05-01T00:00:00.000000000",
          "1996-05-04T00:00:00.000000000",
          "1996-08-17T00:00:00.000000000",
          "1996-08-19T00:00:00.000000000",
          "1996-08-24T00:00:00.000000000",
          "1996-09-04T00:00:00.000000000",
          "1996-09-07T00:00:00.000000000",
          "1996-09-15T00:00:00.000000000",
          "1996-09-21T00:00:00.000000000",
          "1996-09-29T00:00:00.000000000",
          "1996-10-12T00:00:00.000000000",
          "1996-10-27T00:00:00.000000000",
          "1996-11-03T00:00:00.000000000",
          "1996-11-16T00:00:00.000000000",
          "1996-11-20T00:00:00.000000000",
          "1996-11-23T00:00:00.000000000",
          "1996-12-02T00:00:00.000000000",
          "1996-12-07T00:00:00.000000000",
          "1996-12-14T00:00:00.000000000",
          "1996-12-17T00:00:00.000000000",
          "1996-12-23T00:00:00.000000000",
          "1996-12-26T00:00:00.000000000",
          "1996-12-29T00:00:00.000000000",
          "1997-01-01T00:00:00.000000000",
          "1997-01-11T00:00:00.000000000",
          "1997-01-18T00:00:00.000000000",
          "1997-02-01T00:00:00.000000000",
          "1997-02-19T00:00:00.000000000",
          "1997-02-22T00:00:00.000000000",
          "1997-03-02T00:00:00.000000000",
          "1997-03-10T00:00:00.000000000",
          "1997-03-15T00:00:00.000000000",
          "1997-03-24T00:00:00.000000000",
          "1997-04-06T00:00:00.000000000",
          "1997-04-13T00:00:00.000000000",
          "1997-04-16T00:00:00.000000000",
          "1997-04-19T00:00:00.000000000",
          "1997-05-03T00:00:00.000000000",
          "1997-05-06T00:00:00.000000000",
          "1997-05-11T00:00:00.000000000",
          "1997-08-09T00:00:00.000000000",
          "1997-08-13T00:00:00.000000000",
          "1997-08-23T00:00:00.000000000",
          "1997-08-26T00:00:00.000000000",
          "1997-09-13T00:00:00.000000000",
          "1997-09-20T00:00:00.000000000",
          "1997-09-22T00:00:00.000000000",
          "1997-09-27T00:00:00.000000000",
          "1997-10-05T00:00:00.000000000",
          "1997-10-18T00:00:00.000000000",
          "1997-10-25T00:00:00.000000000",
          "1997-11-01T00:00:00.000000000",
          "1997-11-08T00:00:00.000000000",
          "1997-11-22T00:00:00.000000000",
          "1997-11-30T00:00:00.000000000",
          "1997-12-06T00:00:00.000000000",
          "1997-12-13T00:00:00.000000000",
          "1997-12-20T00:00:00.000000000",
          "1997-12-26T00:00:00.000000000",
          "1997-12-28T00:00:00.000000000",
          "1998-01-10T00:00:00.000000000",
          "1998-01-17T00:00:00.000000000",
          "1998-01-20T00:00:00.000000000",
          "1998-01-31T00:00:00.000000000",
          "1998-02-07T00:00:00.000000000",
          "1998-02-14T00:00:00.000000000",
          "1998-02-23T00:00:00.000000000",
          "1998-02-28T00:00:00.000000000",
          "1998-03-07T00:00:00.000000000",
          "1998-03-14T00:00:00.000000000",
          "1998-03-28T00:00:00.000000000",
          "1998-04-10T00:00:00.000000000",
          "1998-04-13T00:00:00.000000000",
          "1998-04-19T00:00:00.000000000",
          "1998-04-25T00:00:00.000000000",
          "1998-05-02T00:00:00.000000000",
          "1998-05-06T00:00:00.000000000",
          "1998-05-10T00:00:00.000000000",
          "1998-08-16T00:00:00.000000000",
          "1998-08-22T00:00:00.000000000",
          "1998-08-30T00:00:00.000000000",
          "1998-09-09T00:00:00.000000000",
          "1998-09-12T00:00:00.000000000",
          "1998-09-19T00:00:00.000000000",
          "1998-09-24T00:00:00.000000000",
          "1998-10-04T00:00:00.000000000",
          "1998-10-17T00:00:00.000000000",
          "1998-10-24T00:00:00.000000000",
          "1998-10-31T00:00:00.000000000",
          "1998-11-07T00:00:00.000000000",
          "1998-11-14T00:00:00.000000000",
          "1998-11-21T00:00:00.000000000",
          "1998-11-29T00:00:00.000000000",
          "1998-12-05T00:00:00.000000000",
          "1998-12-13T00:00:00.000000000",
          "1998-12-19T00:00:00.000000000",
          "1998-12-26T00:00:00.000000000",
          "1998-12-28T00:00:00.000000000",
          "1999-01-09T00:00:00.000000000",
          "1999-01-16T00:00:00.000000000",
          "1999-01-30T00:00:00.000000000",
          "1999-02-06T00:00:00.000000000",
          "1999-02-13T00:00:00.000000000",
          "1999-02-20T00:00:00.000000000",
          "1999-02-27T00:00:00.000000000",
          "1999-03-13T00:00:00.000000000",
          "1999-04-03T00:00:00.000000000",
          "1999-04-05T00:00:00.000000000",
          "1999-04-12T00:00:00.000000000",
          "1999-04-17T00:00:00.000000000",
          "1999-04-21T00:00:00.000000000",
          "1999-04-24T00:00:00.000000000",
          "1999-05-01T00:00:00.000000000",
          "1999-05-05T00:00:00.000000000",
          "1999-05-08T00:00:00.000000000",
          "1999-05-16T00:00:00.000000000",
          "1999-08-07T00:00:00.000000000",
          "1999-08-14T00:00:00.000000000",
          "1999-08-21T00:00:00.000000000",
          "1999-08-23T00:00:00.000000000",
          "1999-08-28T00:00:00.000000000",
          "1999-09-11T00:00:00.000000000",
          "1999-09-18T00:00:00.000000000",
          "1999-09-27T00:00:00.000000000",
          "1999-10-02T00:00:00.000000000",
          "1999-10-16T00:00:00.000000000",
          "1999-10-23T00:00:00.000000000",
          "1999-10-27T00:00:00.000000000",
          "1999-11-01T00:00:00.000000000",
          "1999-11-06T00:00:00.000000000",
          "1999-11-20T00:00:00.000000000",
          "1999-11-27T00:00:00.000000000",
          "1999-12-05T00:00:00.000000000",
          "1999-12-18T00:00:00.000000000",
          "1999-12-26T00:00:00.000000000",
          "1999-12-28T00:00:00.000000000",
          "2000-01-03T00:00:00.000000000",
          "2000-01-15T00:00:00.000000000",
          "2000-01-22T00:00:00.000000000",
          "2000-02-05T00:00:00.000000000",
          "2000-02-13T00:00:00.000000000",
          "2000-03-04T00:00:00.000000000",
          "2000-03-11T00:00:00.000000000",
          "2000-03-15T00:00:00.000000000",
          "2000-03-18T00:00:00.000000000",
          "2000-03-25T00:00:00.000000000",
          "2000-04-01T00:00:00.000000000",
          "2000-04-09T00:00:00.000000000",
          "2000-04-16T00:00:00.000000000",
          "2000-04-21T00:00:00.000000000",
          "2000-04-29T00:00:00.000000000",
          "2000-05-03T00:00:00.000000000",
          "2000-05-07T00:00:00.000000000",
          "2000-05-14T00:00:00.000000000",
          "2000-08-19T00:00:00.000000000",
          "2000-08-21T00:00:00.000000000",
          "2000-08-26T00:00:00.000000000",
          "2000-09-06T00:00:00.000000000",
          "2000-09-09T00:00:00.000000000",
          "2000-09-17T00:00:00.000000000",
          "2000-09-23T00:00:00.000000000",
          "2000-10-01T00:00:00.000000000",
          "2000-10-15T00:00:00.000000000",
          "2000-10-21T00:00:00.000000000",
          "2000-10-29T00:00:00.000000000",
          "2000-11-04T00:00:00.000000000",
          "2000-11-12T00:00:00.000000000",
          "2000-11-19T00:00:00.000000000",
          "2000-11-26T00:00:00.000000000",
          "2000-12-02T00:00:00.000000000",
          "2000-12-10T00:00:00.000000000",
          "2000-12-17T00:00:00.000000000",
          "2000-12-23T00:00:00.000000000",
          "2000-12-26T00:00:00.000000000",
          "2001-01-01T00:00:00.000000000",
          "2001-01-13T00:00:00.000000000",
          "2001-01-20T00:00:00.000000000",
          "2001-01-31T00:00:00.000000000",
          "2001-02-03T00:00:00.000000000",
          "2001-02-10T00:00:00.000000000",
          "2001-03-03T00:00:00.000000000",
          "2001-03-18T00:00:00.000000000",
          "2001-03-31T00:00:00.000000000",
          "2001-04-10T00:00:00.000000000",
          "2001-04-13T00:00:00.000000000",
          "2001-04-16T00:00:00.000000000",
          "2001-04-22T00:00:00.000000000",
          "2001-04-28T00:00:00.000000000",
          "2001-05-01T00:00:00.000000000",
          "2001-05-05T00:00:00.000000000",
          "2001-05-08T00:00:00.000000000",
          "2001-05-19T00:00:00.000000000",
          "2001-08-18T00:00:00.000000000",
          "2001-08-27T00:00:00.000000000",
          "2001-09-08T00:00:00.000000000",
          "2001-09-15T00:00:00.000000000",
          "2001-09-22T00:00:00.000000000",
          "2001-09-30T00:00:00.000000000",
          "2001-10-13T00:00:00.000000000",
          "2001-10-20T00:00:00.000000000",
          "2001-10-27T00:00:00.000000000",
          "2001-11-04T00:00:00.000000000",
          "2001-11-17T00:00:00.000000000",
          "2001-11-25T00:00:00.000000000",
          "2001-12-01T00:00:00.000000000",
          "2001-12-08T00:00:00.000000000",
          "2001-12-12T00:00:00.000000000",
          "2001-12-16T00:00:00.000000000",
          "2001-12-23T00:00:00.000000000",
          "2001-12-26T00:00:00.000000000",
          "2001-12-29T00:00:00.000000000",
          "2002-01-01T00:00:00.000000000",
          "2002-01-09T00:00:00.000000000",
          "2002-01-13T00:00:00.000000000",
          "2002-01-19T00:00:00.000000000",
          "2002-01-22T00:00:00.000000000",
          "2002-01-30T00:00:00.000000000",
          "2002-02-03T00:00:00.000000000",
          "2002-02-09T00:00:00.000000000",
          "2002-02-23T00:00:00.000000000",
          "2002-03-02T00:00:00.000000000",
          "2002-03-06T00:00:00.000000000",
          "2002-03-16T00:00:00.000000000",
          "2002-03-24T00:00:00.000000000",
          "2002-03-30T00:00:00.000000000",
          "2002-04-13T00:00:00.000000000",
          "2002-04-20T00:00:00.000000000",
          "2002-04-27T00:00:00.000000000",
          "2002-05-08T00:00:00.000000000",
          "2002-05-11T00:00:00.000000000",
          "2002-08-18T00:00:00.000000000",
          "2002-08-24T00:00:00.000000000",
          "2002-08-28T00:00:00.000000000",
          "2002-09-02T00:00:00.000000000",
          "2002-09-11T00:00:00.000000000",
          "2002-09-14T00:00:00.000000000",
          "2002-09-21T00:00:00.000000000",
          "2002-09-28T00:00:00.000000000",
          "2002-10-06T00:00:00.000000000",
          "2002-10-19T00:00:00.000000000",
          "2002-10-26T00:00:00.000000000",
          "2002-11-02T00:00:00.000000000",
          "2002-11-09T00:00:00.000000000",
          "2002-11-17T00:00:00.000000000",
          "2002-11-23T00:00:00.000000000",
          "2002-12-01T00:00:00.000000000",
          "2002-12-07T00:00:00.000000000",
          "2002-12-15T00:00:00.000000000",
          "2002-12-22T00:00:00.000000000",
          "2002-12-26T00:00:00.000000000",
          "2002-12-29T00:00:00.000000000",
          "2003-01-01T00:00:00.000000000",
          "2003-01-11T00:00:00.000000000",
          "2003-01-18T00:00:00.000000000",
          "2003-01-29T00:00:00.000000000",
          "2003-02-02T00:00:00.000000000",
          "2003-02-08T00:00:00.000000000",
          "2003-02-23T00:00:00.000000000",
          "2003-03-08T00:00:00.000000000",
          "2003-03-16T00:00:00.000000000",
          "2003-03-23T00:00:00.000000000",
          "2003-04-05T00:00:00.000000000",
          "2003-04-12T00:00:00.000000000",
          "2003-04-19T00:00:00.000000000",
          "2003-04-21T00:00:00.000000000",
          "2003-04-26T00:00:00.000000000",
          "2003-05-03T00:00:00.000000000",
          "2003-05-11T00:00:00.000000000",
          "2003-08-17T00:00:00.000000000",
          "2003-08-24T00:00:00.000000000",
          "2003-08-27T00:00:00.000000000",
          "2003-08-30T00:00:00.000000000",
          "2003-09-13T00:00:00.000000000",
          "2003-09-20T00:00:00.000000000",
          "2003-09-28T00:00:00.000000000",
          "2003-10-04T00:00:00.000000000",
          "2003-10-18T00:00:00.000000000",
          "2003-10-25T00:00:00.000000000",
          "2003-11-02T00:00:00.000000000",
          "2003-11-09T00:00:00.000000000",
          "2003-11-22T00:00:00.000000000",
          "2003-11-30T00:00:00.000000000",
          "2003-12-06T00:00:00.000000000",
          "2003-12-13T00:00:00.000000000",
          "2003-12-26T00:00:00.000000000",
          "2003-12-28T00:00:00.000000000",
          "2004-01-07T00:00:00.000000000",
          "2004-01-10T00:00:00.000000000",
          "2004-01-17T00:00:00.000000000",
          "2004-01-21T00:00:00.000000000",
          "2004-01-31T00:00:00.000000000",
          "2004-02-07T00:00:00.000000000",
          "2004-02-11T00:00:00.000000000",
          "2004-02-29T00:00:00.000000000",
          "2004-03-14T00:00:00.000000000",
          "2004-03-17T00:00:00.000000000",
          "2004-03-20T00:00:00.000000000",
          "2004-03-28T00:00:00.000000000",
          "2004-04-04T00:00:00.000000000",
          "2004-04-09T00:00:00.000000000",
          "2004-04-12T00:00:00.000000000",
          "2004-04-17T00:00:00.000000000",
          "2004-04-24T00:00:00.000000000",
          "2004-05-02T00:00:00.000000000",
          "2004-05-08T00:00:00.000000000",
          "2004-05-15T00:00:00.000000000",
          "2004-08-14T00:00:00.000000000",
          "2004-08-21T00:00:00.000000000",
          "2004-08-29T00:00:00.000000000",
          "2004-09-11T00:00:00.000000000",
          "2004-09-20T00:00:00.000000000",
          "2004-09-25T00:00:00.000000000",
          "2004-10-03T00:00:00.000000000",
          "2004-10-16T00:00:00.000000000",
          "2004-10-23T00:00:00.000000000",
          "2004-10-30T00:00:00.000000000",
          "2004-11-06T00:00:00.000000000",
          "2004-11-13T00:00:00.000000000",
          "2004-11-20T00:00:00.000000000",
          "2004-11-28T00:00:00.000000000",
          "2004-12-04T00:00:00.000000000",
          "2004-12-11T00:00:00.000000000",
          "2004-12-14T00:00:00.000000000",
          "2004-12-19T00:00:00.000000000",
          "2004-12-26T00:00:00.000000000",
          "2004-12-28T00:00:00.000000000",
          "2005-01-01T00:00:00.000000000",
          "2005-01-03T00:00:00.000000000",
          "2005-01-15T00:00:00.000000000",
          "2005-01-22T00:00:00.000000000",
          "2005-02-01T00:00:00.000000000",
          "2005-02-05T00:00:00.000000000",
          "2005-02-12T00:00:00.000000000",
          "2005-03-05T00:00:00.000000000",
          "2005-03-16T00:00:00.000000000",
          "2005-03-20T00:00:00.000000000",
          "2005-04-02T00:00:00.000000000",
          "2005-04-09T00:00:00.000000000",
          "2005-04-16T00:00:00.000000000",
          "2005-04-20T00:00:00.000000000",
          "2005-04-23T00:00:00.000000000",
          "2005-04-30T00:00:00.000000000",
          "2005-05-08T00:00:00.000000000",
          "2005-05-15T00:00:00.000000000",
          "2005-08-13T00:00:00.000000000",
          "2005-08-20T00:00:00.000000000",
          "2005-09-10T00:00:00.000000000",
          "2005-09-18T00:00:00.000000000",
          "2005-09-24T00:00:00.000000000",
          "2005-10-02T00:00:00.000000000",
          "2005-10-15T00:00:00.000000000",
          "2005-10-22T00:00:00.000000000",
          "2005-10-29T00:00:00.000000000",
          "2005-11-05T00:00:00.000000000",
          "2005-11-19T00:00:00.000000000",
          "2005-11-26T00:00:00.000000000",
          "2005-11-30T00:00:00.000000000",
          "2005-12-03T00:00:00.000000000",
          "2005-12-10T00:00:00.000000000",
          "2005-12-26T00:00:00.000000000",
          "2005-12-28T00:00:00.000000000",
          "2005-12-31T00:00:00.000000000",
          "2006-01-02T00:00:00.000000000",
          "2006-01-14T00:00:00.000000000",
          "2006-01-22T00:00:00.000000000",
          "2006-02-01T00:00:00.000000000",
          "2006-02-05T00:00:00.000000000",
          "2006-02-08T00:00:00.000000000",
          "2006-02-11T00:00:00.000000000",
          "2006-02-14T00:00:00.000000000",
          "2006-02-26T00:00:00.000000000",
          "2006-03-04T00:00:00.000000000",
          "2006-03-12T00:00:00.000000000",
          "2006-03-15T00:00:00.000000000",
          "2006-03-19T00:00:00.000000000",
          "2006-03-25T00:00:00.000000000",
          "2006-04-01T00:00:00.000000000",
          "2006-04-09T00:00:00.000000000",
          "2006-04-16T00:00:00.000000000",
          "2006-04-26T00:00:00.000000000",
          "2006-04-29T00:00:00.000000000",
          "2006-05-07T00:00:00.000000000",
          "2006-08-19T00:00:00.000000000",
          "2006-08-26T00:00:00.000000000",
          "2006-09-09T00:00:00.000000000",
          "2006-09-17T00:00:00.000000000",
          "2006-09-20T00:00:00.000000000",
          "2006-09-23T00:00:00.000000000",
          "2006-09-30T00:00:00.000000000",
          "2006-10-14T00:00:00.000000000",
          "2006-10-22T00:00:00.000000000",
          "2006-10-28T00:00:00.000000000",
          "2006-11-04T00:00:00.000000000",
          "2006-11-12T00:00:00.000000000",
          "2006-11-18T00:00:00.000000000",
          "2006-11-25T00:00:00.000000000",
          "2006-11-29T00:00:00.000000000",
          "2006-12-02T00:00:00.000000000",
          "2006-12-09T00:00:00.000000000",
          "2006-12-16T00:00:00.000000000",
          "2006-12-23T00:00:00.000000000",
          "2006-12-26T00:00:00.000000000",
          "2006-12-30T00:00:00.000000000",
          "2007-01-01T00:00:00.000000000",
          "2007-01-13T00:00:00.000000000",
          "2007-01-20T00:00:00.000000000",
          "2007-01-30T00:00:00.000000000",
          "2007-02-03T00:00:00.000000000",
          "2007-02-10T00:00:00.000000000",
          "2007-02-24T00:00:00.000000000",
          "2007-03-03T00:00:00.000000000",
          "2007-03-18T00:00:00.000000000",
          "2007-03-31T00:00:00.000000000",
          "2007-04-07T00:00:00.000000000",
          "2007-04-14T00:00:00.000000000",
          "2007-04-18T00:00:00.000000000",
          "2007-04-21T00:00:00.000000000",
          "2007-04-28T00:00:00.000000000",
          "2007-05-05T00:00:00.000000000",
          "2007-05-13T00:00:00.000000000",
          "2007-08-11T00:00:00.000000000",
          "2007-08-19T00:00:00.000000000",
          "2007-08-25T00:00:00.000000000",
          "2007-09-01T00:00:00.000000000",
          "2007-09-15T00:00:00.000000000",
          "2007-09-22T00:00:00.000000000",
          "2007-09-29T00:00:00.000000000",
          "2007-10-07T00:00:00.000000000",
          "2007-10-20T00:00:00.000000000",
          "2007-10-28T00:00:00.000000000",
          "2007-11-03T00:00:00.000000000",
          "2007-11-10T00:00:00.000000000",
          "2007-11-24T00:00:00.000000000",
          "2007-12-02T00:00:00.000000000",
          "2007-12-08T00:00:00.000000000",
          "2007-12-16T00:00:00.000000000",
          "2007-12-22T00:00:00.000000000",
          "2007-12-26T00:00:00.000000000",
          "2007-12-30T00:00:00.000000000",
          "2008-01-02T00:00:00.000000000",
          "2008-01-12T00:00:00.000000000",
          "2008-01-21T00:00:00.000000000",
          "2008-01-30T00:00:00.000000000",
          "2008-02-02T00:00:00.000000000",
          "2008-02-10T00:00:00.000000000",
          "2008-02-23T00:00:00.000000000",
          "2008-03-02T00:00:00.000000000",
          "2008-03-05T00:00:00.000000000",
          "2008-03-08T00:00:00.000000000",
          "2008-03-15T00:00:00.000000000",
          "2008-03-23T00:00:00.000000000",
          "2008-03-30T00:00:00.000000000",
          "2008-04-05T00:00:00.000000000",
          "2008-04-13T00:00:00.000000000",
          "2008-04-19T00:00:00.000000000",
          "2008-04-26T00:00:00.000000000",
          "2008-05-04T00:00:00.000000000",
          "2008-05-11T00:00:00.000000000",
          "2008-08-16T00:00:00.000000000",
          "2008-08-23T00:00:00.000000000",
          "2008-08-31T00:00:00.000000000",
          "2008-09-13T00:00:00.000000000",
          "2008-09-20T00:00:00.000000000",
          "2008-09-27T00:00:00.000000000",
          "2008-10-05T00:00:00.000000000",
          "2008-10-18T00:00:00.000000000",
          "2008-10-26T00:00:00.000000000",
          "2008-10-29T00:00:00.000000000",
          "2008-11-01T00:00:00.000000000",
          "2008-11-08T00:00:00.000000000",
          "2008-11-15T00:00:00.000000000",
          "2008-11-22T00:00:00.000000000",
          "2008-12-01T00:00:00.000000000",
          "2008-12-06T00:00:00.000000000",
          "2008-12-13T00:00:00.000000000",
          "2008-12-21T00:00:00.000000000",
          "2008-12-26T00:00:00.000000000",
          "2008-12-28T00:00:00.000000000",
          "2009-01-10T00:00:00.000000000",
          "2009-01-19T00:00:00.000000000",
          "2009-01-28T00:00:00.000000000",
          "2009-02-01T00:00:00.000000000",
          "2009-02-07T00:00:00.000000000",
          "2009-02-22T00:00:00.000000000",
          "2009-02-28T00:00:00.000000000",
          "2009-03-03T00:00:00.000000000",
          "2009-03-14T00:00:00.000000000",
          "2009-03-22T00:00:00.000000000",
          "2009-04-04T00:00:00.000000000",
          "2009-04-11T00:00:00.000000000",
          "2009-04-21T00:00:00.000000000",
          "2009-04-25T00:00:00.000000000",
          "2009-05-03T00:00:00.000000000",
          "2009-05-09T00:00:00.000000000",
          "2009-05-17T00:00:00.000000000",
          "2009-05-24T00:00:00.000000000",
          "2009-08-16T00:00:00.000000000",
          "2009-08-19T00:00:00.000000000",
          "2009-08-24T00:00:00.000000000",
          "2009-08-29T00:00:00.000000000",
          "2009-09-12T00:00:00.000000000",
          "2009-09-19T00:00:00.000000000",
          "2009-09-26T00:00:00.000000000",
          "2009-10-04T00:00:00.000000000",
          "2009-10-17T00:00:00.000000000",
          "2009-10-25T00:00:00.000000000",
          "2009-10-31T00:00:00.000000000",
          "2009-11-09T00:00:00.000000000",
          "2009-11-21T00:00:00.000000000",
          "2009-11-29T00:00:00.000000000",
          "2009-12-05T00:00:00.000000000",
          "2009-12-13T00:00:00.000000000",
          "2009-12-16T00:00:00.000000000",
          "2009-12-19T00:00:00.000000000",
          "2009-12-26T00:00:00.000000000",
          "2009-12-29T00:00:00.000000000",
          "2010-01-16T00:00:00.000000000",
          "2010-01-20T00:00:00.000000000",
          "2010-01-26T00:00:00.000000000",
          "2010-01-30T00:00:00.000000000",
          "2010-02-06T00:00:00.000000000",
          "2010-02-10T00:00:00.000000000",
          "2010-02-21T00:00:00.000000000",
          "2010-02-28T00:00:00.000000000",
          "2010-03-08T00:00:00.000000000",
          "2010-03-15T00:00:00.000000000",
          "2010-03-21T00:00:00.000000000",
          "2010-03-28T00:00:00.000000000",
          "2010-04-04T00:00:00.000000000",
          "2010-04-11T00:00:00.000000000",
          "2010-04-19T00:00:00.000000000",
          "2010-04-25T00:00:00.000000000",
          "2010-05-02T00:00:00.000000000",
          "2010-05-09T00:00:00.000000000",
          "2010-08-15T00:00:00.000000000",
          "2010-08-23T00:00:00.000000000",
          "2010-08-29T00:00:00.000000000",
          "2010-09-12T00:00:00.000000000",
          "2010-09-19T00:00:00.000000000",
          "2010-09-25T00:00:00.000000000",
          "2010-10-03T00:00:00.000000000",
          "2010-10-17T00:00:00.000000000",
          "2010-10-24T00:00:00.000000000",
          "2010-10-31T00:00:00.000000000",
          "2010-11-07T00:00:00.000000000",
          "2010-11-10T00:00:00.000000000",
          "2010-11-13T00:00:00.000000000",
          "2010-11-20T00:00:00.000000000",
          "2010-11-28T00:00:00.000000000",
          "2010-12-06T00:00:00.000000000",
          "2010-12-11T00:00:00.000000000",
          "2010-12-29T00:00:00.000000000",
          "2011-01-01T00:00:00.000000000",
          "2011-01-05T00:00:00.000000000",
          "2011-01-12T00:00:00.000000000",
          "2011-01-16T00:00:00.000000000",
          "2011-01-22T00:00:00.000000000",
          "2011-01-26T00:00:00.000000000",
          "2011-02-02T00:00:00.000000000",
          "2011-02-06T00:00:00.000000000",
          "2011-02-12T00:00:00.000000000",
          "2011-02-27T00:00:00.000000000",
          "2011-03-06T00:00:00.000000000",
          "2011-03-20T00:00:00.000000000",
          "2011-04-02T00:00:00.000000000",
          "2011-04-11T00:00:00.000000000",
          "2011-04-17T00:00:00.000000000",
          "2011-04-23T00:00:00.000000000",
          "2011-05-01T00:00:00.000000000",
          "2011-05-09T00:00:00.000000000",
          "2011-05-15T00:00:00.000000000",
          "2011-05-22T00:00:00.000000000",
          "2011-08-13T00:00:00.000000000",
          "2011-08-20T00:00:00.000000000",
          "2011-08-27T00:00:00.000000000",
          "2011-09-10T00:00:00.000000000",
          "2011-09-18T00:00:00.000000000",
          "2011-09-24T00:00:00.000000000",
          "2011-10-01T00:00:00.000000000",
          "2011-10-15T00:00:00.000000000",
          "2011-10-22T00:00:00.000000000",
          "2011-10-29T00:00:00.000000000",
          "2011-11-05T00:00:00.000000000",
          "2011-11-20T00:00:00.000000000",
          "2011-11-27T00:00:00.000000000",
          "2011-12-05T00:00:00.000000000",
          "2011-12-10T00:00:00.000000000",
          "2011-12-18T00:00:00.000000000",
          "2011-12-21T00:00:00.000000000",
          "2011-12-26T00:00:00.000000000",
          "2011-12-30T00:00:00.000000000",
          "2012-01-03T00:00:00.000000000",
          "2012-01-14T00:00:00.000000000",
          "2012-01-21T00:00:00.000000000",
          "2012-01-31T00:00:00.000000000",
          "2012-02-06T00:00:00.000000000",
          "2012-02-11T00:00:00.000000000",
          "2012-03-03T00:00:00.000000000",
          "2012-03-10T00:00:00.000000000",
          "2012-03-13T00:00:00.000000000",
          "2012-03-21T00:00:00.000000000",
          "2012-03-24T00:00:00.000000000",
          "2012-04-01T00:00:00.000000000",
          "2012-04-07T00:00:00.000000000",
          "2012-04-10T00:00:00.000000000",
          "2012-04-22T00:00:00.000000000",
          "2012-04-28T00:00:00.000000000",
          "2012-05-01T00:00:00.000000000",
          "2012-05-08T00:00:00.000000000",
          "2012-05-13T00:00:00.000000000",
          "2012-08-18T00:00:00.000000000",
          "2012-08-26T00:00:00.000000000",
          "2012-09-02T00:00:00.000000000",
          "2012-09-15T00:00:00.000000000",
          "2012-09-23T00:00:00.000000000",
          "2012-09-29T00:00:00.000000000",
          "2012-10-07T00:00:00.000000000",
          "2012-10-20T00:00:00.000000000",
          "2012-10-28T00:00:00.000000000",
          "2012-11-04T00:00:00.000000000",
          "2012-11-11T00:00:00.000000000",
          "2012-11-17T00:00:00.000000000",
          "2012-11-25T00:00:00.000000000",
          "2012-11-28T00:00:00.000000000",
          "2012-12-01T00:00:00.000000000",
          "2012-12-09T00:00:00.000000000",
          "2012-12-15T00:00:00.000000000",
          "2012-12-22T00:00:00.000000000",
          "2012-12-26T00:00:00.000000000",
          "2012-12-30T00:00:00.000000000",
          "2013-01-02T00:00:00.000000000",
          "2013-01-13T00:00:00.000000000",
          "2013-01-19T00:00:00.000000000",
          "2013-01-30T00:00:00.000000000",
          "2013-02-03T00:00:00.000000000",
          "2013-02-11T00:00:00.000000000",
          "2013-02-17T00:00:00.000000000",
          "2013-03-02T00:00:00.000000000",
          "2013-03-10T00:00:00.000000000",
          "2013-03-16T00:00:00.000000000",
          "2013-03-31T00:00:00.000000000",
          "2013-04-07T00:00:00.000000000",
          "2013-04-13T00:00:00.000000000",
          "2013-04-21T00:00:00.000000000",
          "2013-04-27T00:00:00.000000000",
          "2013-05-05T00:00:00.000000000",
          "2013-05-12T00:00:00.000000000",
          "2013-05-19T00:00:00.000000000",
          "2013-08-17T00:00:00.000000000",
          "2013-08-24T00:00:00.000000000",
          "2013-09-01T00:00:00.000000000",
          "2013-09-16T00:00:00.000000000",
          "2013-09-21T00:00:00.000000000",
          "2013-09-29T00:00:00.000000000",
          "2013-10-05T00:00:00.000000000",
          "2013-10-19T00:00:00.000000000",
          "2013-10-26T00:00:00.000000000",
          "2013-11-02T00:00:00.000000000",
          "2013-11-09T00:00:00.000000000",
          "2013-11-23T00:00:00.000000000",
          "2013-12-01T00:00:00.000000000",
          "2013-12-04T00:00:00.000000000",
          "2013-12-07T00:00:00.000000000",
          "2013-12-15T00:00:00.000000000",
          "2013-12-21T00:00:00.000000000",
          "2013-12-26T00:00:00.000000000",
          "2013-12-29T00:00:00.000000000",
          "2014-01-01T00:00:00.000000000",
          "2014-01-12T00:00:00.000000000",
          "2014-01-18T00:00:00.000000000",
          "2014-01-28T00:00:00.000000000",
          "2014-02-02T00:00:00.000000000",
          "2014-02-08T00:00:00.000000000",
          "2014-02-12T00:00:00.000000000",
          "2014-02-23T00:00:00.000000000",
          "2014-03-01T00:00:00.000000000",
          "2014-03-16T00:00:00.000000000",
          "2014-03-22T00:00:00.000000000",
          "2014-03-26T00:00:00.000000000",
          "2014-03-30T00:00:00.000000000",
          "2014-04-06T00:00:00.000000000",
          "2014-04-13T00:00:00.000000000",
          "2014-04-20T00:00:00.000000000",
          "2014-04-27T00:00:00.000000000",
          "2014-05-05T00:00:00.000000000",
          "2014-05-11T00:00:00.000000000",
          "2014-08-17T00:00:00.000000000",
          "2014-08-25T00:00:00.000000000",
          "2014-08-31T00:00:00.000000000",
          "2014-09-13T00:00:00.000000000",
          "2014-09-20T00:00:00.000000000",
          "2014-09-27T00:00:00.000000000",
          "2014-10-04T00:00:00.000000000",
          "2014-10-19T00:00:00.000000000",
          "2014-10-25T00:00:00.000000000",
          "2014-11-01T00:00:00.000000000",
          "2014-11-08T00:00:00.000000000",
          "2014-11-23T00:00:00.000000000",
          "2014-11-29T00:00:00.000000000",
          "2014-12-02T00:00:00.000000000",
          "2014-12-06T00:00:00.000000000",
          "2014-12-14T00:00:00.000000000",
          "2014-12-21T00:00:00.000000000",
          "2014-12-26T00:00:00.000000000",
          "2014-12-29T00:00:00.000000000",
          "2015-01-01T00:00:00.000000000",
          "2015-01-10T00:00:00.000000000",
          "2015-01-17T00:00:00.000000000",
          "2015-01-31T00:00:00.000000000",
          "2015-02-07T00:00:00.000000000",
          "2015-02-10T00:00:00.000000000",
          "2015-02-22T00:00:00.000000000",
          "2015-03-01T00:00:00.000000000",
          "2015-03-04T00:00:00.000000000",
          "2015-03-16T00:00:00.000000000",
          "2015-03-22T00:00:00.000000000",
          "2015-04-04T00:00:00.000000000",
          "2015-04-13T00:00:00.000000000",
          "2015-04-25T00:00:00.000000000",
          "2015-04-28T00:00:00.000000000",
          "2015-05-02T00:00:00.000000000",
          "2015-05-10T00:00:00.000000000",
          "2015-05-16T00:00:00.000000000",
          "2015-05-24T00:00:00.000000000",
          "2015-08-09T00:00:00.000000000",
          "2015-08-17T00:00:00.000000000",
          "2015-08-24T00:00:00.000000000",
          "2015-08-29T00:00:00.000000000",
          "2015-09-12T00:00:00.000000000",
          "2015-09-20T00:00:00.000000000",
          "2015-09-26T00:00:00.000000000",
          "2015-10-04T00:00:00.000000000",
          "2015-10-17T00:00:00.000000000",
          "2015-10-25T00:00:00.000000000",
          "2015-10-31T00:00:00.000000000",
          "2015-11-08T00:00:00.000000000",
          "2015-11-21T00:00:00.000000000",
          "2015-11-29T00:00:00.000000000",
          "2015-12-06T00:00:00.000000000",
          "2015-12-13T00:00:00.000000000",
          "2015-12-20T00:00:00.000000000",
          "2015-12-26T00:00:00.000000000",
          "2015-12-30T00:00:00.000000000",
          "2016-01-02T00:00:00.000000000",
          "2016-01-13T00:00:00.000000000",
          "2016-01-17T00:00:00.000000000",
          "2016-01-23T00:00:00.000000000",
          "2016-02-02T00:00:00.000000000",
          "2016-02-06T00:00:00.000000000",
          "2016-02-14T00:00:00.000000000",
          "2016-03-02T00:00:00.000000000",
          "2016-03-06T00:00:00.000000000",
          "2016-03-20T00:00:00.000000000",
          "2016-04-02T00:00:00.000000000",
          "2016-04-10T00:00:00.000000000",
          "2016-04-17T00:00:00.000000000",
          "2016-04-20T00:00:00.000000000",
          "2016-04-23T00:00:00.000000000",
          "2016-05-01T00:00:00.000000000",
          "2016-05-08T00:00:00.000000000",
          "2016-05-11T00:00:00.000000000",
          "2016-05-15T00:00:00.000000000",
          "2016-08-14T00:00:00.000000000",
          "2016-08-20T00:00:00.000000000",
          "2016-08-27T00:00:00.000000000",
          "2016-09-10T00:00:00.000000000",
          "2016-09-16T00:00:00.000000000",
          "2016-09-24T00:00:00.000000000",
          "2016-10-01T00:00:00.000000000",
          "2016-10-17T00:00:00.000000000",
          "2016-10-22T00:00:00.000000000",
          "2016-10-29T00:00:00.000000000",
          "2016-11-06T00:00:00.000000000",
          "2016-11-19T00:00:00.000000000",
          "2016-11-26T00:00:00.000000000",
          "2016-12-04T00:00:00.000000000",
          "2016-12-11T00:00:00.000000000",
          "2016-12-14T00:00:00.000000000",
          "2016-12-19T00:00:00.000000000",
          "2016-12-27T00:00:00.000000000",
          "2016-12-31T00:00:00.000000000",
          "2017-01-02T00:00:00.000000000",
          "2017-01-15T00:00:00.000000000",
          "2017-01-21T00:00:00.000000000",
          "2017-01-31T00:00:00.000000000",
          "2017-02-04T00:00:00.000000000",
          "2017-02-11T00:00:00.000000000",
          "2017-02-27T00:00:00.000000000",
          "2017-03-04T00:00:00.000000000",
          "2017-03-12T00:00:00.000000000",
          "2017-03-19T00:00:00.000000000",
          "2017-04-01T00:00:00.000000000",
          "2017-04-05T00:00:00.000000000",
          "2017-04-08T00:00:00.000000000",
          "2017-04-16T00:00:00.000000000",
          "2017-04-23T00:00:00.000000000",
          "2017-05-01T00:00:00.000000000",
          "2017-05-07T00:00:00.000000000",
          "2017-05-14T00:00:00.000000000",
          "2017-05-21T00:00:00.000000000",
          "2017-08-12T00:00:00.000000000",
          "2017-08-19T00:00:00.000000000",
          "2017-08-27T00:00:00.000000000",
          "2017-09-09T00:00:00.000000000",
          "2017-09-16T00:00:00.000000000",
          "2017-09-23T00:00:00.000000000",
          "2017-10-01T00:00:00.000000000",
          "2017-10-14T00:00:00.000000000",
          "2017-10-22T00:00:00.000000000",
          "2017-10-28T00:00:00.000000000",
          "2017-11-04T00:00:00.000000000",
          "2017-11-18T00:00:00.000000000",
          "2017-11-25T00:00:00.000000000",
          "2017-11-29T00:00:00.000000000",
          "2017-12-02T00:00:00.000000000",
          "2017-12-10T00:00:00.000000000",
          "2017-12-13T00:00:00.000000000",
          "2017-12-17T00:00:00.000000000",
          "2017-12-22T00:00:00.000000000",
          "2017-12-26T00:00:00.000000000",
          "2017-12-30T00:00:00.000000000",
          "2018-01-01T00:00:00.000000000",
          "2018-01-14T00:00:00.000000000",
          "2018-01-22T00:00:00.000000000",
          "2018-01-30T00:00:00.000000000",
          "2018-02-04T00:00:00.000000000",
          "2018-02-11T00:00:00.000000000",
          "2018-02-24T00:00:00.000000000",
          "2018-03-03T00:00:00.000000000",
          "2018-03-10T00:00:00.000000000",
          "2018-03-17T00:00:00.000000000",
          "2018-03-31T00:00:00.000000000",
          "2018-04-07T00:00:00.000000000",
          "2018-04-14T00:00:00.000000000",
          "2018-04-21T00:00:00.000000000",
          "2018-04-28T00:00:00.000000000",
          "2018-05-06T00:00:00.000000000",
          "2018-05-13T00:00:00.000000000",
          "2018-08-12T00:00:00.000000000",
          "2018-08-20T00:00:00.000000000",
          "2018-08-25T00:00:00.000000000",
          "2018-09-01T00:00:00.000000000",
          "2018-09-15T00:00:00.000000000",
          "2018-09-22T00:00:00.000000000",
          "2018-09-29T00:00:00.000000000",
          "2018-10-07T00:00:00.000000000",
          "2018-10-20T00:00:00.000000000",
          "2018-10-27T00:00:00.000000000",
          "2018-11-03T00:00:00.000000000",
          "2018-11-11T00:00:00.000000000",
          "2018-11-24T00:00:00.000000000",
          "2018-12-02T00:00:00.000000000",
          "2018-12-05T00:00:00.000000000",
          "2018-12-08T00:00:00.000000000",
          "2018-12-16T00:00:00.000000000",
          "2018-12-21T00:00:00.000000000",
          "2018-12-26T00:00:00.000000000",
          "2018-12-29T00:00:00.000000000",
          "2019-01-03T00:00:00.000000000",
          "2019-01-12T00:00:00.000000000",
          "2019-01-19T00:00:00.000000000",
          "2019-01-30T00:00:00.000000000",
          "2019-02-04T00:00:00.000000000",
          "2019-02-09T00:00:00.000000000",
          "2019-02-24T00:00:00.000000000",
          "2019-02-27T00:00:00.000000000",
          "2019-03-03T00:00:00.000000000",
          "2019-03-10T00:00:00.000000000",
          "2019-03-17T00:00:00.000000000",
          "2019-03-31T00:00:00.000000000",
          "2019-04-05T00:00:00.000000000",
          "2019-04-14T00:00:00.000000000",
          "2019-04-21T00:00:00.000000000",
          "2019-04-26T00:00:00.000000000",
          "2019-05-04T00:00:00.000000000",
          "2019-05-12T00:00:00.000000000",
          "2019-08-09T00:00:00.000000000",
          "2019-08-17T00:00:00.000000000",
          "2019-08-24T00:00:00.000000000",
          "2019-08-31T00:00:00.000000000",
          "2019-09-14T00:00:00.000000000",
          "2019-09-22T00:00:00.000000000",
          "2019-09-28T00:00:00.000000000",
          "2019-10-05T00:00:00.000000000",
          "2019-10-20T00:00:00.000000000",
          "2019-10-27T00:00:00.000000000",
          "2019-11-02T00:00:00.000000000",
          "2019-11-10T00:00:00.000000000",
          "2019-11-23T00:00:00.000000000",
          "2019-11-30T00:00:00.000000000",
          "2019-12-04T00:00:00.000000000",
          "2019-12-07T00:00:00.000000000",
          "2019-12-14T00:00:00.000000000",
          "2019-12-26T00:00:00.000000000",
          "2019-12-29T00:00:00.000000000",
          "2020-01-02T00:00:00.000000000",
          "2020-01-11T00:00:00.000000000",
          "2020-01-19T00:00:00.000000000",
          "2020-01-23T00:00:00.000000000",
          "2020-01-29T00:00:00.000000000",
          "2020-02-01T00:00:00.000000000",
          "2020-02-15T00:00:00.000000000",
          "2020-02-24T00:00:00.000000000",
          "2020-02-29T00:00:00.000000000",
          "2020-03-07T00:00:00.000000000",
          "2020-06-21T00:00:00.000000000",
          "2020-06-24T00:00:00.000000000",
          "2020-07-02T00:00:00.000000000",
          "2020-07-05T00:00:00.000000000",
          "2020-07-08T00:00:00.000000000",
          "2020-07-11T00:00:00.000000000",
          "2020-07-15T00:00:00.000000000",
          "2020-07-22T00:00:00.000000000",
          "2020-07-26T00:00:00.000000000",
          "2020-09-12T00:00:00.000000000",
          "2020-09-20T00:00:00.000000000",
          "2020-09-28T00:00:00.000000000",
          "2020-10-04T00:00:00.000000000",
          "2020-10-17T00:00:00.000000000",
          "2020-10-24T00:00:00.000000000",
          "2020-10-31T00:00:00.000000000",
          "2020-11-08T00:00:00.000000000",
          "2020-11-22T00:00:00.000000000",
          "2020-11-28T00:00:00.000000000",
          "2020-12-06T00:00:00.000000000",
          "2020-12-13T00:00:00.000000000",
          "2020-12-16T00:00:00.000000000",
          "2020-12-19T00:00:00.000000000",
          "2020-12-27T00:00:00.000000000",
          "2020-12-30T00:00:00.000000000",
          "2021-01-04T00:00:00.000000000",
          "2021-01-17T00:00:00.000000000",
          "2021-01-21T00:00:00.000000000",
          "2021-01-28T00:00:00.000000000",
          "2021-01-31T00:00:00.000000000",
          "2021-02-03T00:00:00.000000000",
          "2021-02-07T00:00:00.000000000",
          "2021-02-13T00:00:00.000000000",
          "2021-02-20T00:00:00.000000000",
          "2021-02-28T00:00:00.000000000",
          "2021-03-04T00:00:00.000000000",
          "2021-03-07T00:00:00.000000000",
          "2021-03-15T00:00:00.000000000",
          "2021-04-03T00:00:00.000000000",
          "2021-04-10T00:00:00.000000000",
          "2021-04-19T00:00:00.000000000",
          "2021-04-24T00:00:00.000000000",
          "2021-05-08T00:00:00.000000000",
          "2021-05-13T00:00:00.000000000",
          "2021-05-16T00:00:00.000000000",
          "2021-05-19T00:00:00.000000000",
          "2021-05-23T00:00:00.000000000",
          "2021-08-14T00:00:00.000000000",
          "2021-08-21T00:00:00.000000000",
          "2021-08-28T00:00:00.000000000",
          "2021-09-12T00:00:00.000000000",
          "2021-09-18T00:00:00.000000000",
          "2021-09-25T00:00:00.000000000",
          "2021-10-03T00:00:00.000000000",
          "2021-10-16T00:00:00.000000000",
          "2021-10-24T00:00:00.000000000",
          "2021-10-30T00:00:00.000000000",
          "2021-11-07T00:00:00.000000000",
          "2021-11-20T00:00:00.000000000",
          "2021-11-27T00:00:00.000000000",
          "2021-12-01T00:00:00.000000000",
          "2021-12-04T00:00:00.000000000",
          "2021-12-11T00:00:00.000000000",
          "2021-12-16T00:00:00.000000000",
          "2021-12-19T00:00:00.000000000",
          "2021-12-28T00:00:00.000000000",
          "2022-01-02T00:00:00.000000000",
          "2022-01-16T00:00:00.000000000",
          "2022-01-23T00:00:00.000000000",
          "2022-02-10T00:00:00.000000000",
          "2022-02-13T00:00:00.000000000",
          "2022-02-19T00:00:00.000000000",
          "2022-02-23T00:00:00.000000000",
          "2022-03-05T00:00:00.000000000",
          "2022-03-12T00:00:00.000000000",
          "2022-03-16T00:00:00.000000000",
          "2022-04-02T00:00:00.000000000",
          "2022-04-10T00:00:00.000000000",
          "2022-04-19T00:00:00.000000000",
          "2022-04-24T00:00:00.000000000",
          "2022-04-30T00:00:00.000000000",
          "2022-05-07T00:00:00.000000000",
          "2022-05-10T00:00:00.000000000",
          "2022-05-17T00:00:00.000000000",
          "2022-05-22T00:00:00.000000000",
          "2022-08-06T00:00:00.000000000",
          "2022-08-15T00:00:00.000000000",
          "2022-08-22T00:00:00.000000000",
          "2022-08-27T00:00:00.000000000",
          "2022-08-31T00:00:00.000000000",
          "2022-09-03T00:00:00.000000000",
          "2022-10-01T00:00:00.000000000",
          "2022-10-09T00:00:00.000000000",
          "2022-10-16T00:00:00.000000000",
          "2022-10-19T00:00:00.000000000",
          "2022-10-22T00:00:00.000000000",
          "2022-10-29T00:00:00.000000000",
          "2022-11-06T00:00:00.000000000",
          "2022-11-12T00:00:00.000000000",
          "2022-12-26T00:00:00.000000000",
          "2022-12-30T00:00:00.000000000",
          "2023-01-02T00:00:00.000000000",
          "2023-01-14T00:00:00.000000000",
          "2023-01-21T00:00:00.000000000",
          "2023-02-04T00:00:00.000000000",
          "2023-02-13T00:00:00.000000000",
          "2023-02-18T00:00:00.000000000",
          "2023-02-25T00:00:00.000000000",
          "2023-03-01T00:00:00.000000000",
          "2023-03-05T00:00:00.000000000",
          "2023-03-11T00:00:00.000000000",
          "2023-04-01T00:00:00.000000000",
          "2023-04-04T00:00:00.000000000",
          "2023-04-09T00:00:00.000000000",
          "2023-04-17T00:00:00.000000000",
          "2023-04-22T00:00:00.000000000",
          "2023-04-26T00:00:00.000000000",
          "2023-04-30T00:00:00.000000000",
          "2023-05-03T00:00:00.000000000",
          "2023-05-06T00:00:00.000000000",
          "2023-05-15T00:00:00.000000000",
          "2023-05-20T00:00:00.000000000",
          "2023-05-28T00:00:00.000000000",
          "2023-08-13T00:00:00.000000000",
          "2023-08-19T00:00:00.000000000",
          "2023-08-27T00:00:00.000000000",
          "2023-09-03T00:00:00.000000000",
          "2023-09-16T00:00:00.000000000",
          "2023-09-24T00:00:00.000000000",
          "2023-09-30T00:00:00.000000000",
          "2023-10-08T00:00:00.000000000",
          "2023-10-21T00:00:00.000000000",
          "2023-10-29T00:00:00.000000000",
          "2023-11-05T00:00:00.000000000",
          "2023-11-12T00:00:00.000000000",
          "2023-11-25T00:00:00.000000000",
          "2023-12-03T00:00:00.000000000",
          "2023-12-06T00:00:00.000000000",
          "2023-12-09T00:00:00.000000000",
          "2023-12-17T00:00:00.000000000",
          "2023-12-23T00:00:00.000000000",
          "2023-12-26T00:00:00.000000000",
          "2024-01-01T00:00:00.000000000",
          "2024-01-21T00:00:00.000000000",
          "2024-01-31T00:00:00.000000000",
          "2024-02-04T00:00:00.000000000",
          "2024-02-10T00:00:00.000000000",
          "2024-02-17T00:00:00.000000000",
          "2024-02-21T00:00:00.000000000",
          "2024-03-02T00:00:00.000000000",
          "2024-03-10T00:00:00.000000000",
          "2024-03-31T00:00:00.000000000",
          "2024-04-04T00:00:00.000000000",
          "2024-04-07T00:00:00.000000000",
          "2024-04-14T00:00:00.000000000",
          "2024-04-21T00:00:00.000000000",
          "2024-04-24T00:00:00.000000000",
          "2024-04-27T00:00:00.000000000",
          "2024-05-05T00:00:00.000000000",
          "2024-05-13T00:00:00.000000000",
          "2024-05-19T00:00:00.000000000",
          "2024-08-17T00:00:00.000000000",
          "2024-08-25T00:00:00.000000000",
          "2024-09-01T00:00:00.000000000",
          "2024-09-14T00:00:00.000000000",
          "2024-09-21T00:00:00.000000000",
          "2024-09-28T00:00:00.000000000",
          "2024-10-05T00:00:00.000000000",
          "2024-10-20T00:00:00.000000000",
          "2024-10-27T00:00:00.000000000",
          "2024-11-02T00:00:00.000000000",
          "2024-11-09T00:00:00.000000000",
          "2024-11-24T00:00:00.000000000",
          "2024-12-01T00:00:00.000000000",
          "2024-12-04T00:00:00.000000000",
          "2024-12-14T00:00:00.000000000",
          "2024-12-22T00:00:00.000000000",
          "2024-12-26T00:00:00.000000000",
          "2024-12-29T00:00:00.000000000",
          "2025-01-05T00:00:00.000000000",
          "2025-01-14T00:00:00.000000000",
          "2025-01-18T00:00:00.000000000",
          "2025-01-25T00:00:00.000000000",
          "2025-02-01T00:00:00.000000000",
          "2025-02-12T00:00:00.000000000",
          "2025-02-16T00:00:00.000000000",
          "2025-02-19T00:00:00.000000000",
          "2025-02-23T00:00:00.000000000",
          "2025-02-26T00:00:00.000000000",
          "2025-03-08T00:00:00.000000000",
          "2025-04-02T00:00:00.000000000",
          "2025-04-06T00:00:00.000000000",
          "2025-04-13T00:00:00.000000000",
          "2025-04-20T00:00:00.000000000",
          "2025-04-27T00:00:00.000000000",
          "2025-05-04T00:00:00.000000000",
          "2025-05-11T00:00:00.000000000",
          "2025-05-19T00:00:00.000000000",
          "2025-05-25T00:00:00.000000000"
         ],
         "xaxis": "x",
         "y": {
          "bdata": "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",
          "dtype": "f8"
         },
         "yaxis": "y"
        },
        {
         "hovertemplate": "Team=Southampton<br>Date=%{x}<br>Elo-rating after match=%{y}<extra></extra>",
         "legendgroup": "Southampton",
         "line": {
          "color": "#00cc96",
          "dash": "solid"
         },
         "marker": {
          "symbol": "circle"
         },
         "mode": "lines",
         "name": "Southampton",
         "showlegend": true,
         "type": "scattergl",
         "x": [
          "1993-08-14T00:00:00.000000000",
          "1993-08-17T00:00:00.000000000",
          "1993-08-21T00:00:00.000000000",
          "1993-08-25T00:00:00.000000000",
          "1993-08-28T00:00:00.000000000",
          "1993-08-31T00:00:00.000000000",
          "1993-09-11T00:00:00.000000000",
          "1993-09-18T00:00:00.000000000",
          "1993-09-25T00:00:00.000000000",
          "1993-10-02T00:00:00.000000000",
          "1993-10-16T00:00:00.000000000",
          "1993-10-24T00:00:00.000000000",
          "1993-10-30T00:00:00.000000000",
          "1993-11-06T00:00:00.000000000",
          "1993-11-20T00:00:00.000000000",
          "1993-11-24T00:00:00.000000000",
          "1993-11-29T00:00:00.000000000",
          "1993-12-04T00:00:00.000000000",
          "1993-12-08T00:00:00.000000000",
          "1993-12-11T00:00:00.000000000",
          "1993-12-18T00:00:00.000000000",
          "1993-12-27T00:00:00.000000000",
          "1993-12-28T00:00:00.000000000",
          "1994-01-01T00:00:00.000000000",
          "1994-01-15T00:00:00.000000000",
          "1994-01-22T00:00:00.000000000",
          "1994-02-05T00:00:00.000000000",
          "1994-02-14T00:00:00.000000000",
          "1994-02-26T00:00:00.000000000",
          "1994-03-05T00:00:00.000000000",
          "1994-03-12T00:00:00.000000000",
          "1994-03-19T00:00:00.000000000",
          "1994-03-26T00:00:00.000000000",
          "1994-03-30T00:00:00.000000000",
          "1994-04-02T00:00:00.000000000",
          "1994-08-20T00:00:00.000000000",
          "1994-08-24T00:00:00.000000000",
          "1994-08-27T00:00:00.000000000",
          "1994-08-31T00:00:00.000000000",
          "1994-09-12T00:00:00.000000000",
          "1994-09-17T00:00:00.000000000",
          "1994-09-24T00:00:00.000000000",
          "1994-10-01T00:00:00.000000000",
          "1994-10-08T00:00:00.000000000",
          "1994-10-15T00:00:00.000000000",
          "1994-10-22T00:00:00.000000000",
          "1994-10-29T00:00:00.000000000",
          "1994-11-02T00:00:00.000000000",
          "1994-11-05T00:00:00.000000000",
          "1994-11-19T00:00:00.000000000",
          "1994-11-26T00:00:00.000000000",
          "1994-12-03T00:00:00.000000000",
          "1994-12-10T00:00:00.000000000",
          "1994-12-19T00:00:00.000000000",
          "1994-12-26T00:00:00.000000000",
          "1994-12-28T00:00:00.000000000",
          "1994-12-31T00:00:00.000000000",
          "1995-01-02T00:00:00.000000000",
          "1995-01-14T00:00:00.000000000",
          "1995-01-24T00:00:00.000000000",
          "1995-02-04T00:00:00.000000000",
          "1995-02-11T00:00:00.000000000",
          "1995-02-25T00:00:00.000000000",
          "1995-03-04T00:00:00.000000000",
          "1995-03-15T00:00:00.000000000",
          "1995-03-18T00:00:00.000000000",
          "1995-03-22T00:00:00.000000000",
          "1995-04-02T00:00:00.000000000",
          "1995-08-19T00:00:00.000000000",
          "1995-08-26T00:00:00.000000000",
          "1995-08-30T00:00:00.000000000",
          "1995-09-09T00:00:00.000000000",
          "1995-09-12T00:00:00.000000000",
          "1995-09-16T00:00:00.000000000",
          "1995-09-23T00:00:00.000000000",
          "1995-10-02T00:00:00.000000000",
          "1995-10-14T00:00:00.000000000",
          "1995-10-22T00:00:00.000000000",
          "1995-10-28T00:00:00.000000000",
          "1995-11-04T00:00:00.000000000",
          "1995-11-18T00:00:00.000000000",
          "1995-11-20T00:00:00.000000000",
          "1995-11-25T00:00:00.000000000",
          "1995-12-02T00:00:00.000000000",
          "1995-12-09T00:00:00.000000000",
          "1995-12-16T00:00:00.000000000",
          "1995-12-23T00:00:00.000000000",
          "1995-12-26T00:00:00.000000000",
          "1996-01-01T00:00:00.000000000",
          "1996-01-13T00:00:00.000000000",
          "1996-01-20T00:00:00.000000000",
          "1996-01-31T00:00:00.000000000",
          "1996-02-03T00:00:00.000000000",
          "1996-02-24T00:00:00.000000000",
          "1996-03-02T00:00:00.000000000",
          "1996-03-16T00:00:00.000000000",
          "1996-03-20T00:00:00.000000000",
          "1996-03-25T00:00:00.000000000",
          "1996-03-30T00:00:00.000000000",
          "1996-04-03T00:00:00.000000000",
          "1996-04-06T00:00:00.000000000",
          "1996-04-08T00:00:00.000000000",
          "1996-04-13T00:00:00.000000000",
          "1996-04-17T00:00:00.000000000",
          "1996-04-27T00:00:00.000000000",
          "1996-05-04T00:00:00.000000000",
          "1996-08-18T00:00:00.000000000",
          "1996-08-21T00:00:00.000000000",
          "1996-08-24T00:00:00.000000000",
          "1996-09-04T00:00:00.000000000",
          "1996-09-07T00:00:00.000000000",
          "1996-09-14T00:00:00.000000000",
          "1996-09-23T00:00:00.000000000",
          "1996-09-28T00:00:00.000000000",
          "1996-10-13T00:00:00.000000000",
          "1996-10-19T00:00:00.000000000",
          "1996-10-26T00:00:00.000000000",
          "1996-11-02T00:00:00.000000000",
          "1996-11-16T00:00:00.000000000",
          "1996-11-23T00:00:00.000000000",
          "1996-11-30T00:00:00.000000000",
          "1996-12-04T00:00:00.000000000",
          "1996-12-07T00:00:00.000000000",
          "1996-12-21T00:00:00.000000000",
          "1996-12-26T00:00:00.000000000",
          "1996-12-29T00:00:00.000000000",
          "1997-01-11T00:00:00.000000000",
          "1997-01-18T00:00:00.000000000",
          "1997-02-01T00:00:00.000000000",
          "1997-02-22T00:00:00.000000000",
          "1997-02-26T00:00:00.000000000",
          "1997-03-01T00:00:00.000000000",
          "1997-03-05T00:00:00.000000000",
          "1997-03-12T00:00:00.000000000",
          "1997-03-15T00:00:00.000000000",
          "1997-03-19T00:00:00.000000000",
          "1997-03-22T00:00:00.000000000",
          "1997-04-05T00:00:00.000000000",
          "1997-04-09T00:00:00.000000000",
          "1997-04-12T00:00:00.000000000",
          "1997-04-19T00:00:00.000000000",
          "1997-04-22T00:00:00.000000000",
          "1997-05-03T00:00:00.000000000",
          "1997-05-11T00:00:00.000000000",
          "1997-08-09T00:00:00.000000000",
          "1997-08-13T00:00:00.000000000",
          "1997-08-23T00:00:00.000000000",
          "1997-08-27T00:00:00.000000000",
          "1997-08-30T00:00:00.000000000",
          "1997-09-13T00:00:00.000000000",
          "1997-09-20T00:00:00.000000000",
          "1997-09-24T00:00:00.000000000",
          "1997-09-27T00:00:00.000000000",
          "1997-10-04T00:00:00.000000000",
          "1997-10-18T00:00:00.000000000",
          "1997-10-25T00:00:00.000000000",
          "1997-11-02T00:00:00.000000000",
          "1997-11-08T00:00:00.000000000",
          "1997-11-22T00:00:00.000000000",
          "1997-11-29T00:00:00.000000000",
          "1997-12-07T00:00:00.000000000",
          "1997-12-13T00:00:00.000000000",
          "1997-12-20T00:00:00.000000000",
          "1997-12-26T00:00:00.000000000",
          "1997-12-29T00:00:00.000000000",
          "1998-01-10T00:00:00.000000000",
          "1998-01-19T00:00:00.000000000",
          "1998-01-31T00:00:00.000000000",
          "1998-02-07T00:00:00.000000000",
          "1998-02-18T00:00:00.000000000",
          "1998-02-21T00:00:00.000000000",
          "1998-02-28T00:00:00.000000000",
          "1998-03-07T00:00:00.000000000",
          "1998-03-14T00:00:00.000000000",
          "1998-03-28T00:00:00.000000000",
          "1998-04-04T00:00:00.000000000",
          "1998-04-11T00:00:00.000000000",
          "1998-04-14T00:00:00.000000000",
          "1998-04-18T00:00:00.000000000",
          "1998-04-25T00:00:00.000000000",
          "1998-05-02T00:00:00.000000000",
          "1998-05-10T00:00:00.000000000",
          "1998-08-16T00:00:00.000000000",
          "1998-08-22T00:00:00.000000000",
          "1998-08-29T00:00:00.000000000",
          "1998-09-08T00:00:00.000000000",
          "1998-09-12T00:00:00.000000000",
          "1998-09-19T00:00:00.000000000",
          "1998-09-28T00:00:00.000000000",
          "1998-10-03T00:00:00.000000000",
          "1998-10-17T00:00:00.000000000",
          "1998-10-24T00:00:00.000000000",
          "1998-10-31T00:00:00.000000000",
          "1998-11-07T00:00:00.000000000",
          "1998-11-14T00:00:00.000000000",
          "1998-11-21T00:00:00.000000000",
          "1998-11-28T00:00:00.000000000",
          "1998-12-05T00:00:00.000000000",
          "1998-12-12T00:00:00.000000000",
          "1998-12-19T00:00:00.000000000",
          "1998-12-26T00:00:00.000000000",
          "1998-12-28T00:00:00.000000000",
          "1999-01-09T00:00:00.000000000",
          "1999-01-16T00:00:00.000000000",
          "1999-01-30T00:00:00.000000000",
          "1999-02-06T00:00:00.000000000",
          "1999-02-20T00:00:00.000000000",
          "1999-02-27T00:00:00.000000000",
          "1999-03-02T00:00:00.000000000",
          "1999-03-06T00:00:00.000000000",
          "1999-03-14T00:00:00.000000000",
          "1999-03-20T00:00:00.000000000",
          "1999-04-03T00:00:00.000000000",
          "1999-04-05T00:00:00.000000000",
          "1999-04-10T00:00:00.000000000",
          "1999-04-17T00:00:00.000000000",
          "1999-04-24T00:00:00.000000000",
          "1999-05-01T00:00:00.000000000",
          "1999-05-08T00:00:00.000000000",
          "1999-05-16T00:00:00.000000000",
          "1999-08-07T00:00:00.000000000",
          "1999-08-11T00:00:00.000000000",
          "1999-08-15T00:00:00.000000000",
          "1999-08-21T00:00:00.000000000",
          "1999-08-28T00:00:00.000000000",
          "1999-09-11T00:00:00.000000000",
          "1999-09-18T00:00:00.000000000",
          "1999-09-25T00:00:00.000000000",
          "1999-10-04T00:00:00.000000000",
          "1999-10-16T00:00:00.000000000",
          "1999-10-23T00:00:00.000000000",
          "1999-10-30T00:00:00.000000000",
          "1999-11-06T00:00:00.000000000",
          "1999-11-20T00:00:00.000000000",
          "1999-11-28T00:00:00.000000000",
          "1999-12-04T00:00:00.000000000",
          "1999-12-18T00:00:00.000000000",
          "1999-12-26T00:00:00.000000000",
          "1999-12-28T00:00:00.000000000",
          "2000-01-03T00:00:00.000000000",
          "2000-01-16T00:00:00.000000000",
          "2000-01-22T00:00:00.000000000",
          "2000-02-05T00:00:00.000000000",
          "2000-02-12T00:00:00.000000000",
          "2000-02-26T00:00:00.000000000",
          "2000-03-04T00:00:00.000000000",
          "2000-03-08T00:00:00.000000000",
          "2000-03-11T00:00:00.000000000",
          "2000-03-18T00:00:00.000000000",
          "2000-03-25T00:00:00.000000000",
          "2000-04-01T00:00:00.000000000",
          "2000-04-08T00:00:00.000000000",
          "2000-04-15T00:00:00.000000000",
          "2000-04-22T00:00:00.000000000",
          "2000-04-24T00:00:00.000000000",
          "2000-04-29T00:00:00.000000000",
          "2000-05-07T00:00:00.000000000",
          "2000-05-14T00:00:00.000000000",
          "2000-08-19T00:00:00.000000000",
          "2000-08-23T00:00:00.000000000",
          "2000-08-26T00:00:00.000000000",
          "2000-09-06T00:00:00.000000000",
          "2000-09-09T00:00:00.000000000",
          "2000-09-16T00:00:00.000000000",
          "2000-09-23T00:00:00.000000000",
          "2000-09-30T00:00:00.000000000",
          "2000-10-14T00:00:00.000000000",
          "2000-10-23T00:00:00.000000000",
          "2000-10-28T00:00:00.000000000",
          "2000-11-04T00:00:00.000000000",
          "2000-11-11T00:00:00.000000000",
          "2000-11-18T00:00:00.000000000",
          "2000-11-25T00:00:00.000000000",
          "2000-12-02T00:00:00.000000000",
          "2000-12-09T00:00:00.000000000",
          "2000-12-16T00:00:00.000000000",
          "2000-12-22T00:00:00.000000000",
          "2000-12-27T00:00:00.000000000",
          "2000-12-30T00:00:00.000000000",
          "2001-01-01T00:00:00.000000000",
          "2001-01-13T00:00:00.000000000",
          "2001-01-20T00:00:00.000000000",
          "2001-01-31T00:00:00.000000000",
          "2001-02-10T00:00:00.000000000",
          "2001-02-24T00:00:00.000000000",
          "2001-03-03T00:00:00.000000000",
          "2001-03-17T00:00:00.000000000",
          "2001-04-02T00:00:00.000000000",
          "2001-04-07T00:00:00.000000000",
          "2001-04-14T00:00:00.000000000",
          "2001-04-21T00:00:00.000000000",
          "2001-04-28T00:00:00.000000000",
          "2001-05-01T00:00:00.000000000",
          "2001-05-05T00:00:00.000000000",
          "2001-05-13T00:00:00.000000000",
          "2001-05-19T00:00:00.000000000",
          "2001-08-18T00:00:00.000000000",
          "2001-08-25T00:00:00.000000000",
          "2001-09-09T00:00:00.000000000",
          "2001-09-15T00:00:00.000000000",
          "2001-09-24T00:00:00.000000000",
          "2001-09-29T00:00:00.000000000",
          "2001-10-13T00:00:00.000000000",
          "2001-10-20T00:00:00.000000000",
          "2001-10-24T00:00:00.000000000",
          "2001-10-27T00:00:00.000000000",
          "2001-11-03T00:00:00.000000000",
          "2001-11-17T00:00:00.000000000",
          "2001-11-24T00:00:00.000000000",
          "2001-12-02T00:00:00.000000000",
          "2001-12-08T00:00:00.000000000",
          "2001-12-15T00:00:00.000000000",
          "2001-12-22T00:00:00.000000000",
          "2001-12-26T00:00:00.000000000",
          "2001-12-29T00:00:00.000000000",
          "2002-01-01T00:00:00.000000000",
          "2002-01-09T00:00:00.000000000",
          "2002-01-13T00:00:00.000000000",
          "2002-01-19T00:00:00.000000000",
          "2002-01-30T00:00:00.000000000",
          "2002-02-02T00:00:00.000000000",
          "2002-02-09T00:00:00.000000000",
          "2002-02-23T00:00:00.000000000",
          "2002-03-02T00:00:00.000000000",
          "2002-03-06T00:00:00.000000000",
          "2002-03-16T00:00:00.000000000",
          "2002-03-23T00:00:00.000000000",
          "2002-03-30T00:00:00.000000000",
          "2002-04-01T00:00:00.000000000",
          "2002-04-06T00:00:00.000000000",
          "2002-04-13T00:00:00.000000000",
          "2002-04-20T00:00:00.000000000",
          "2002-04-27T00:00:00.000000000",
          "2002-05-11T00:00:00.000000000",
          "2002-08-17T00:00:00.000000000",
          "2002-08-24T00:00:00.000000000",
          "2002-08-28T00:00:00.000000000",
          "2002-08-31T00:00:00.000000000",
          "2002-09-11T00:00:00.000000000",
          "2002-09-14T00:00:00.000000000",
          "2002-09-21T00:00:00.000000000",
          "2002-09-28T00:00:00.000000000",
          "2002-10-05T00:00:00.000000000",
          "2002-10-21T00:00:00.000000000",
          "2002-10-27T00:00:00.000000000",
          "2002-11-02T00:00:00.000000000",
          "2002-11-09T00:00:00.000000000",
          "2002-11-16T00:00:00.000000000",
          "2002-11-23T00:00:00.000000000",
          "2002-12-02T00:00:00.000000000",
          "2002-12-07T00:00:00.000000000",
          "2002-12-14T00:00:00.000000000",
          "2002-12-21T00:00:00.000000000",
          "2002-12-26T00:00:00.000000000",
          "2002-12-28T00:00:00.000000000",
          "2003-01-01T00:00:00.000000000",
          "2003-01-11T00:00:00.000000000",
          "2003-01-18T00:00:00.000000000",
          "2003-01-28T00:00:00.000000000",
          "2003-02-01T00:00:00.000000000",
          "2003-02-08T00:00:00.000000000",
          "2003-02-22T00:00:00.000000000",
          "2003-03-01T00:00:00.000000000",
          "2003-03-15T00:00:00.000000000",
          "2003-03-22T00:00:00.000000000",
          "2003-04-05T00:00:00.000000000",
          "2003-04-19T00:00:00.000000000",
          "2003-04-21T00:00:00.000000000",
          "2003-04-26T00:00:00.000000000",
          "2003-05-03T00:00:00.000000000",
          "2003-05-07T00:00:00.000000000",
          "2003-05-11T00:00:00.000000000",
          "2003-08-16T00:00:00.000000000",
          "2003-08-23T00:00:00.000000000",
          "2003-08-26T00:00:00.000000000",
          "2003-08-31T00:00:00.000000000",
          "2003-09-13T00:00:00.000000000",
          "2003-09-20T00:00:00.000000000",
          "2003-09-27T00:00:00.000000000",
          "2003-10-04T00:00:00.000000000",
          "2003-10-19T00:00:00.000000000",
          "2003-10-25T00:00:00.000000000",
          "2003-11-01T00:00:00.000000000",
          "2003-11-08T00:00:00.000000000",
          "2003-11-22T00:00:00.000000000",
          "2003-11-29T00:00:00.000000000",
          "2003-12-07T00:00:00.000000000",
          "2003-12-13T00:00:00.000000000",
          "2003-12-21T00:00:00.000000000",
          "2003-12-26T00:00:00.000000000",
          "2003-12-29T00:00:00.000000000",
          "2004-01-07T00:00:00.000000000",
          "2004-01-10T00:00:00.000000000",
          "2004-01-17T00:00:00.000000000",
          "2004-01-31T00:00:00.000000000",
          "2004-02-07T00:00:00.000000000",
          "2004-02-10T00:00:00.000000000",
          "2004-02-21T00:00:00.000000000",
          "2004-02-28T00:00:00.000000000",
          "2004-03-14T00:00:00.000000000",
          "2004-03-21T00:00:00.000000000",
          "2004-03-27T00:00:00.000000000",
          "2004-04-03T00:00:00.000000000",
          "2004-04-12T00:00:00.000000000",
          "2004-04-17T00:00:00.000000000",
          "2004-04-24T00:00:00.000000000",
          "2004-05-01T00:00:00.000000000",
          "2004-05-08T00:00:00.000000000",
          "2004-05-12T00:00:00.000000000",
          "2004-05-15T00:00:00.000000000",
          "2004-08-14T00:00:00.000000000",
          "2004-08-21T00:00:00.000000000",
          "2004-08-25T00:00:00.000000000",
          "2004-08-28T00:00:00.000000000",
          "2004-09-13T00:00:00.000000000",
          "2004-09-19T00:00:00.000000000",
          "2004-09-25T00:00:00.000000000",
          "2004-10-02T00:00:00.000000000",
          "2004-10-16T00:00:00.000000000",
          "2004-10-24T00:00:00.000000000",
          "2004-10-30T00:00:00.000000000",
          "2004-11-06T00:00:00.000000000",
          "2004-11-13T00:00:00.000000000",
          "2004-11-20T00:00:00.000000000",
          "2004-11-27T00:00:00.000000000",
          "2004-12-04T00:00:00.000000000",
          "2004-12-11T00:00:00.000000000",
          "2004-12-18T00:00:00.000000000",
          "2004-12-26T00:00:00.000000000",
          "2004-12-28T00:00:00.000000000",
          "2005-01-01T00:00:00.000000000",
          "2005-01-05T00:00:00.000000000",
          "2005-01-15T00:00:00.000000000",
          "2005-01-22T00:00:00.000000000",
          "2005-02-02T00:00:00.000000000",
          "2005-02-06T00:00:00.000000000",
          "2005-02-22T00:00:00.000000000",
          "2005-02-26T00:00:00.000000000",
          "2005-03-05T00:00:00.000000000",
          "2005-03-20T00:00:00.000000000",
          "2005-04-02T00:00:00.000000000",
          "2005-04-09T00:00:00.000000000",
          "2005-04-16T00:00:00.000000000",
          "2005-04-19T00:00:00.000000000",
          "2005-04-24T00:00:00.000000000",
          "2005-04-30T00:00:00.000000000",
          "2005-05-07T00:00:00.000000000",
          "2005-05-15T00:00:00.000000000",
          "2012-08-19T00:00:00.000000000",
          "2012-08-25T00:00:00.000000000",
          "2012-09-02T00:00:00.000000000",
          "2012-09-15T00:00:00.000000000",
          "2012-09-22T00:00:00.000000000",
          "2012-09-29T00:00:00.000000000",
          "2012-10-07T00:00:00.000000000",
          "2012-10-20T00:00:00.000000000",
          "2012-10-28T00:00:00.000000000",
          "2012-11-05T00:00:00.000000000",
          "2012-11-10T00:00:00.000000000",
          "2012-11-17T00:00:00.000000000",
          "2012-11-25T00:00:00.000000000",
          "2012-11-28T00:00:00.000000000",
          "2012-12-01T00:00:00.000000000",
          "2012-12-08T00:00:00.000000000",
          "2012-12-22T00:00:00.000000000",
          "2012-12-26T00:00:00.000000000",
          "2012-12-29T00:00:00.000000000",
          "2013-01-01T00:00:00.000000000",
          "2013-01-12T00:00:00.000000000",
          "2013-01-16T00:00:00.000000000",
          "2013-01-21T00:00:00.000000000",
          "2013-01-30T00:00:00.000000000",
          "2013-02-02T00:00:00.000000000",
          "2013-02-09T00:00:00.000000000",
          "2013-02-24T00:00:00.000000000",
          "2013-03-02T00:00:00.000000000",
          "2013-03-09T00:00:00.000000000",
          "2013-03-16T00:00:00.000000000",
          "2013-03-30T00:00:00.000000000",
          "2013-04-06T00:00:00.000000000",
          "2013-04-13T00:00:00.000000000",
          "2013-04-20T00:00:00.000000000",
          "2013-04-27T00:00:00.000000000",
          "2013-05-04T00:00:00.000000000",
          "2013-05-12T00:00:00.000000000",
          "2013-05-19T00:00:00.000000000",
          "2013-08-17T00:00:00.000000000",
          "2013-08-24T00:00:00.000000000",
          "2013-08-31T00:00:00.000000000",
          "2013-09-15T00:00:00.000000000",
          "2013-09-21T00:00:00.000000000",
          "2013-09-28T00:00:00.000000000",
          "2013-10-06T00:00:00.000000000",
          "2013-10-19T00:00:00.000000000",
          "2013-10-26T00:00:00.000000000",
          "2013-11-02T00:00:00.000000000",
          "2013-11-09T00:00:00.000000000",
          "2013-11-23T00:00:00.000000000",
          "2013-12-01T00:00:00.000000000",
          "2013-12-04T00:00:00.000000000",
          "2013-12-07T00:00:00.000000000",
          "2013-12-14T00:00:00.000000000",
          "2013-12-22T00:00:00.000000000",
          "2013-12-26T00:00:00.000000000",
          "2013-12-29T00:00:00.000000000",
          "2014-01-01T00:00:00.000000000",
          "2014-01-11T00:00:00.000000000",
          "2014-01-18T00:00:00.000000000",
          "2014-01-28T00:00:00.000000000",
          "2014-02-01T00:00:00.000000000",
          "2014-02-08T00:00:00.000000000",
          "2014-02-11T00:00:00.000000000",
          "2014-02-22T00:00:00.000000000",
          "2014-03-01T00:00:00.000000000",
          "2014-03-08T00:00:00.000000000",
          "2014-03-15T00:00:00.000000000",
          "2014-03-23T00:00:00.000000000",
          "2014-03-29T00:00:00.000000000",
          "2014-04-05T00:00:00.000000000",
          "2014-04-12T00:00:00.000000000",
          "2014-04-19T00:00:00.000000000",
          "2014-04-26T00:00:00.000000000",
          "2014-05-03T00:00:00.000000000",
          "2014-05-11T00:00:00.000000000",
          "2014-08-17T00:00:00.000000000",
          "2014-08-23T00:00:00.000000000",
          "2014-08-30T00:00:00.000000000",
          "2014-09-13T00:00:00.000000000",
          "2014-09-20T00:00:00.000000000",
          "2014-09-27T00:00:00.000000000",
          "2014-10-05T00:00:00.000000000",
          "2014-10-18T00:00:00.000000000",
          "2014-10-25T00:00:00.000000000",
          "2014-11-01T00:00:00.000000000",
          "2014-11-08T00:00:00.000000000",
          "2014-11-24T00:00:00.000000000",
          "2014-11-30T00:00:00.000000000",
          "2014-12-03T00:00:00.000000000",
          "2014-12-08T00:00:00.000000000",
          "2014-12-13T00:00:00.000000000",
          "2014-12-20T00:00:00.000000000",
          "2014-12-26T00:00:00.000000000",
          "2014-12-28T00:00:00.000000000",
          "2015-01-01T00:00:00.000000000",
          "2015-01-11T00:00:00.000000000",
          "2015-01-17T00:00:00.000000000",
          "2015-02-01T00:00:00.000000000",
          "2015-02-07T00:00:00.000000000",
          "2015-02-11T00:00:00.000000000",
          "2015-02-22T00:00:00.000000000",
          "2015-02-28T00:00:00.000000000",
          "2015-03-03T00:00:00.000000000",
          "2015-03-15T00:00:00.000000000",
          "2015-03-21T00:00:00.000000000",
          "2015-04-04T00:00:00.000000000",
          "2015-04-11T00:00:00.000000000",
          "2015-04-18T00:00:00.000000000",
          "2015-04-25T00:00:00.000000000",
          "2015-05-02T00:00:00.000000000",
          "2015-05-09T00:00:00.000000000",
          "2015-05-16T00:00:00.000000000",
          "2015-05-24T00:00:00.000000000",
          "2015-08-09T00:00:00.000000000",
          "2015-08-15T00:00:00.000000000",
          "2015-08-23T00:00:00.000000000",
          "2015-08-30T00:00:00.000000000",
          "2015-09-12T00:00:00.000000000",
          "2015-09-20T00:00:00.000000000",
          "2015-09-26T00:00:00.000000000",
          "2015-10-03T00:00:00.000000000",
          "2015-10-17T00:00:00.000000000",
          "2015-10-25T00:00:00.000000000",
          "2015-11-01T00:00:00.000000000",
          "2015-11-07T00:00:00.000000000",
          "2015-11-21T00:00:00.000000000",
          "2015-11-28T00:00:00.000000000",
          "2015-12-05T00:00:00.000000000",
          "2015-12-12T00:00:00.000000000",
          "2015-12-19T00:00:00.000000000",
          "2015-12-26T00:00:00.000000000",
          "2015-12-28T00:00:00.000000000",
          "2016-01-02T00:00:00.000000000",
          "2016-01-13T00:00:00.000000000",
          "2016-01-16T00:00:00.000000000",
          "2016-01-23T00:00:00.000000000",
          "2016-02-02T00:00:00.000000000",
          "2016-02-06T00:00:00.000000000",
          "2016-02-13T00:00:00.000000000",
          "2016-02-27T00:00:00.000000000",
          "2016-03-01T00:00:00.000000000",
          "2016-03-05T00:00:00.000000000",
          "2016-03-12T00:00:00.000000000",
          "2016-03-20T00:00:00.000000000",
          "2016-04-03T00:00:00.000000000",
          "2016-04-09T00:00:00.000000000",
          "2016-04-16T00:00:00.000000000",
          "2016-04-23T00:00:00.000000000",
          "2016-05-01T00:00:00.000000000",
          "2016-05-08T00:00:00.000000000",
          "2016-05-15T00:00:00.000000000",
          "2016-08-13T00:00:00.000000000",
          "2016-08-19T00:00:00.000000000",
          "2016-08-27T00:00:00.000000000",
          "2016-09-10T00:00:00.000000000",
          "2016-09-18T00:00:00.000000000",
          "2016-09-25T00:00:00.000000000",
          "2016-10-02T00:00:00.000000000",
          "2016-10-16T00:00:00.000000000",
          "2016-10-23T00:00:00.000000000",
          "2016-10-30T00:00:00.000000000",
          "2016-11-06T00:00:00.000000000",
          "2016-11-19T00:00:00.000000000",
          "2016-11-27T00:00:00.000000000",
          "2016-12-03T00:00:00.000000000",
          "2016-12-11T00:00:00.000000000",
          "2016-12-14T00:00:00.000000000",
          "2016-12-18T00:00:00.000000000",
          "2016-12-28T00:00:00.000000000",
          "2016-12-31T00:00:00.000000000",
          "2017-01-02T00:00:00.000000000",
          "2017-01-14T00:00:00.000000000",
          "2017-01-22T00:00:00.000000000",
          "2017-01-31T00:00:00.000000000",
          "2017-02-04T00:00:00.000000000",
          "2017-02-11T00:00:00.000000000",
          "2017-03-04T00:00:00.000000000",
          "2017-03-19T00:00:00.000000000",
          "2017-04-01T00:00:00.000000000",
          "2017-04-05T00:00:00.000000000",
          "2017-04-08T00:00:00.000000000",
          "2017-04-15T00:00:00.000000000",
          "2017-04-25T00:00:00.000000000",
          "2017-04-29T00:00:00.000000000",
          "2017-05-07T00:00:00.000000000",
          "2017-05-10T00:00:00.000000000",
          "2017-05-13T00:00:00.000000000",
          "2017-05-17T00:00:00.000000000",
          "2017-05-21T00:00:00.000000000",
          "2017-08-12T00:00:00.000000000",
          "2017-08-19T00:00:00.000000000",
          "2017-08-26T00:00:00.000000000",
          "2017-09-09T00:00:00.000000000",
          "2017-09-16T00:00:00.000000000",
          "2017-09-23T00:00:00.000000000",
          "2017-09-30T00:00:00.000000000",
          "2017-10-15T00:00:00.000000000",
          "2017-10-21T00:00:00.000000000",
          "2017-10-29T00:00:00.000000000",
          "2017-11-04T00:00:00.000000000",
          "2017-11-18T00:00:00.000000000",
          "2017-11-26T00:00:00.000000000",
          "2017-11-29T00:00:00.000000000",
          "2017-12-03T00:00:00.000000000",
          "2017-12-10T00:00:00.000000000",
          "2017-12-13T00:00:00.000000000",
          "2017-12-16T00:00:00.000000000",
          "2017-12-23T00:00:00.000000000",
          "2017-12-26T00:00:00.000000000",
          "2017-12-30T00:00:00.000000000",
          "2018-01-02T00:00:00.000000000",
          "2018-01-13T00:00:00.000000000",
          "2018-01-21T00:00:00.000000000",
          "2018-01-31T00:00:00.000000000",
          "2018-02-03T00:00:00.000000000",
          "2018-02-11T00:00:00.000000000",
          "2018-02-24T00:00:00.000000000",
          "2018-03-03T00:00:00.000000000",
          "2018-03-10T00:00:00.000000000",
          "2018-03-31T00:00:00.000000000",
          "2018-04-08T00:00:00.000000000",
          "2018-04-14T00:00:00.000000000",
          "2018-04-19T00:00:00.000000000",
          "2018-04-28T00:00:00.000000000",
          "2018-05-05T00:00:00.000000000",
          "2018-05-08T00:00:00.000000000",
          "2018-05-13T00:00:00.000000000",
          "2018-08-12T00:00:00.000000000",
          "2018-08-18T00:00:00.000000000",
          "2018-08-25T00:00:00.000000000",
          "2018-09-01T00:00:00.000000000",
          "2018-09-17T00:00:00.000000000",
          "2018-09-22T00:00:00.000000000",
          "2018-09-29T00:00:00.000000000",
          "2018-10-07T00:00:00.000000000",
          "2018-10-20T00:00:00.000000000",
          "2018-10-27T00:00:00.000000000",
          "2018-11-04T00:00:00.000000000",
          "2018-11-10T00:00:00.000000000",
          "2018-11-24T00:00:00.000000000",
          "2018-12-01T00:00:00.000000000",
          "2018-12-05T00:00:00.000000000",
          "2018-12-08T00:00:00.000000000",
          "2018-12-16T00:00:00.000000000",
          "2018-12-22T00:00:00.000000000",
          "2018-12-27T00:00:00.000000000",
          "2018-12-30T00:00:00.000000000",
          "2019-01-02T00:00:00.000000000",
          "2019-01-12T00:00:00.000000000",
          "2019-01-19T00:00:00.000000000",
          "2019-01-30T00:00:00.000000000",
          "2019-02-02T00:00:00.000000000",
          "2019-02-09T00:00:00.000000000",
          "2019-02-24T00:00:00.000000000",
          "2019-02-27T00:00:00.000000000",
          "2019-03-02T00:00:00.000000000",
          "2019-03-09T00:00:00.000000000",
          "2019-03-30T00:00:00.000000000",
          "2019-04-05T00:00:00.000000000",
          "2019-04-13T00:00:00.000000000",
          "2019-04-20T00:00:00.000000000",
          "2019-04-23T00:00:00.000000000",
          "2019-04-27T00:00:00.000000000",
          "2019-05-04T00:00:00.000000000",
          "2019-05-12T00:00:00.000000000",
          "2019-08-10T00:00:00.000000000",
          "2019-08-17T00:00:00.000000000",
          "2019-08-24T00:00:00.000000000",
          "2019-08-31T00:00:00.000000000",
          "2019-09-14T00:00:00.000000000",
          "2019-09-20T00:00:00.000000000",
          "2019-09-28T00:00:00.000000000",
          "2019-10-06T00:00:00.000000000",
          "2019-10-19T00:00:00.000000000",
          "2019-10-25T00:00:00.000000000",
          "2019-11-02T00:00:00.000000000",
          "2019-11-09T00:00:00.000000000",
          "2019-11-23T00:00:00.000000000",
          "2019-11-30T00:00:00.000000000",
          "2019-12-04T00:00:00.000000000",
          "2019-12-08T00:00:00.000000000",
          "2019-12-14T00:00:00.000000000",
          "2019-12-21T00:00:00.000000000",
          "2019-12-26T00:00:00.000000000",
          "2019-12-28T00:00:00.000000000",
          "2020-01-01T00:00:00.000000000",
          "2020-01-11T00:00:00.000000000",
          "2020-01-18T00:00:00.000000000",
          "2020-01-21T00:00:00.000000000",
          "2020-02-01T00:00:00.000000000",
          "2020-02-15T00:00:00.000000000",
          "2020-02-22T00:00:00.000000000",
          "2020-02-29T00:00:00.000000000",
          "2020-03-07T00:00:00.000000000",
          "2020-06-19T00:00:00.000000000",
          "2020-06-25T00:00:00.000000000",
          "2020-06-28T00:00:00.000000000",
          "2020-07-05T00:00:00.000000000",
          "2020-07-09T00:00:00.000000000",
          "2020-07-13T00:00:00.000000000",
          "2020-07-16T00:00:00.000000000",
          "2020-07-19T00:00:00.000000000",
          "2020-07-26T00:00:00.000000000",
          "2020-09-12T00:00:00.000000000",
          "2020-09-20T00:00:00.000000000",
          "2020-09-26T00:00:00.000000000",
          "2020-10-04T00:00:00.000000000",
          "2020-10-17T00:00:00.000000000",
          "2020-10-25T00:00:00.000000000",
          "2020-11-01T00:00:00.000000000",
          "2020-11-06T00:00:00.000000000",
          "2020-11-23T00:00:00.000000000",
          "2020-11-29T00:00:00.000000000",
          "2020-12-07T00:00:00.000000000",
          "2020-12-13T00:00:00.000000000",
          "2020-12-16T00:00:00.000000000",
          "2020-12-19T00:00:00.000000000",
          "2020-12-26T00:00:00.000000000",
          "2020-12-29T00:00:00.000000000",
          "2021-01-04T00:00:00.000000000",
          "2021-01-16T00:00:00.000000000",
          "2021-01-26T00:00:00.000000000",
          "2021-01-30T00:00:00.000000000",
          "2021-02-02T00:00:00.000000000",
          "2021-02-06T00:00:00.000000000",
          "2021-02-14T00:00:00.000000000",
          "2021-02-20T00:00:00.000000000",
          "2021-02-23T00:00:00.000000000",
          "2021-03-01T00:00:00.000000000",
          "2021-03-06T00:00:00.000000000",
          "2021-03-10T00:00:00.000000000",
          "2021-03-14T00:00:00.000000000",
          "2021-04-04T00:00:00.000000000",
          "2021-04-12T00:00:00.000000000",
          "2021-04-21T00:00:00.000000000",
          "2021-04-30T00:00:00.000000000",
          "2021-05-08T00:00:00.000000000",
          "2021-05-11T00:00:00.000000000",
          "2021-05-15T00:00:00.000000000",
          "2021-05-18T00:00:00.000000000",
          "2021-05-23T00:00:00.000000000",
          "2021-08-14T00:00:00.000000000",
          "2021-08-22T00:00:00.000000000",
          "2021-08-28T00:00:00.000000000",
          "2021-09-11T00:00:00.000000000",
          "2021-09-18T00:00:00.000000000",
          "2021-09-26T00:00:00.000000000",
          "2021-10-02T00:00:00.000000000",
          "2021-10-16T00:00:00.000000000",
          "2021-10-23T00:00:00.000000000",
          "2021-10-30T00:00:00.000000000",
          "2021-11-05T00:00:00.000000000",
          "2021-11-20T00:00:00.000000000",
          "2021-11-27T00:00:00.000000000",
          "2021-12-01T00:00:00.000000000",
          "2021-12-04T00:00:00.000000000",
          "2021-12-11T00:00:00.000000000",
          "2021-12-15T00:00:00.000000000",
          "2021-12-26T00:00:00.000000000",
          "2021-12-28T00:00:00.000000000",
          "2022-01-11T00:00:00.000000000",
          "2022-01-15T00:00:00.000000000",
          "2022-01-22T00:00:00.000000000",
          "2022-02-09T00:00:00.000000000",
          "2022-02-12T00:00:00.000000000",
          "2022-02-19T00:00:00.000000000",
          "2022-02-25T00:00:00.000000000",
          "2022-03-05T00:00:00.000000000",
          "2022-03-10T00:00:00.000000000",
          "2022-03-13T00:00:00.000000000",
          "2022-04-02T00:00:00.000000000",
          "2022-04-09T00:00:00.000000000",
          "2022-04-16T00:00:00.000000000",
          "2022-04-21T00:00:00.000000000",
          "2022-04-24T00:00:00.000000000",
          "2022-04-30T00:00:00.000000000",
          "2022-05-07T00:00:00.000000000",
          "2022-05-17T00:00:00.000000000",
          "2022-05-22T00:00:00.000000000",
          "2022-08-06T00:00:00.000000000",
          "2022-08-13T00:00:00.000000000",
          "2022-08-20T00:00:00.000000000",
          "2022-08-27T00:00:00.000000000",
          "2022-08-30T00:00:00.000000000",
          "2022-09-03T00:00:00.000000000",
          "2022-09-16T00:00:00.000000000",
          "2022-10-01T00:00:00.000000000",
          "2022-10-08T00:00:00.000000000",
          "2022-10-16T00:00:00.000000000",
          "2022-10-19T00:00:00.000000000",
          "2022-10-23T00:00:00.000000000",
          "2022-10-29T00:00:00.000000000",
          "2022-11-06T00:00:00.000000000",
          "2022-11-12T00:00:00.000000000",
          "2022-12-26T00:00:00.000000000",
          "2022-12-31T00:00:00.000000000",
          "2023-01-04T00:00:00.000000000",
          "2023-01-14T00:00:00.000000000",
          "2023-01-21T00:00:00.000000000",
          "2023-02-04T00:00:00.000000000",
          "2023-02-11T00:00:00.000000000",
          "2023-02-18T00:00:00.000000000",
          "2023-02-25T00:00:00.000000000",
          "2023-03-04T00:00:00.000000000",
          "2023-03-12T00:00:00.000000000",
          "2023-03-15T00:00:00.000000000",
          "2023-03-18T00:00:00.000000000",
          "2023-04-02T00:00:00.000000000",
          "2023-04-08T00:00:00.000000000",
          "2023-04-15T00:00:00.000000000",
          "2023-04-21T00:00:00.000000000",
          "2023-04-27T00:00:00.000000000",
          "2023-04-30T00:00:00.000000000",
          "2023-05-08T00:00:00.000000000",
          "2023-05-13T00:00:00.000000000",
          "2023-05-21T00:00:00.000000000",
          "2023-05-28T00:00:00.000000000",
          "2024-08-17T00:00:00.000000000",
          "2024-08-24T00:00:00.000000000",
          "2024-08-31T00:00:00.000000000",
          "2024-09-14T00:00:00.000000000",
          "2024-09-21T00:00:00.000000000",
          "2024-09-30T00:00:00.000000000",
          "2024-10-05T00:00:00.000000000",
          "2024-10-19T00:00:00.000000000",
          "2024-10-26T00:00:00.000000000",
          "2024-11-02T00:00:00.000000000",
          "2024-11-09T00:00:00.000000000",
          "2024-11-24T00:00:00.000000000",
          "2024-11-29T00:00:00.000000000",
          "2024-12-04T00:00:00.000000000",
          "2024-12-07T00:00:00.000000000",
          "2024-12-15T00:00:00.000000000",
          "2024-12-22T00:00:00.000000000",
          "2024-12-26T00:00:00.000000000",
          "2024-12-29T00:00:00.000000000",
          "2025-01-04T00:00:00.000000000",
          "2025-01-16T00:00:00.000000000",
          "2025-01-19T00:00:00.000000000",
          "2025-01-25T00:00:00.000000000",
          "2025-02-01T00:00:00.000000000",
          "2025-02-15T00:00:00.000000000",
          "2025-02-22T00:00:00.000000000",
          "2025-02-25T00:00:00.000000000",
          "2025-03-08T00:00:00.000000000",
          "2025-03-15T00:00:00.000000000",
          "2025-04-02T00:00:00.000000000",
          "2025-04-06T00:00:00.000000000",
          "2025-04-12T00:00:00.000000000",
          "2025-04-19T00:00:00.000000000",
          "2025-04-26T00:00:00.000000000",
          "2025-05-03T00:00:00.000000000",
          "2025-05-10T00:00:00.000000000",
          "2025-05-18T00:00:00.000000000",
          "2025-05-25T00:00:00.000000000"
         ],
         "xaxis": "x",
         "y": {
          "bdata": "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",
          "dtype": "f8"
         },
         "yaxis": "y"
        },
        {
         "hovertemplate": "Team=Man United<br>Date=%{x}<br>Elo-rating after match=%{y}<extra></extra>",
         "legendgroup": "Man United",
         "line": {
          "color": "#ab63fa",
          "dash": "solid"
         },
         "marker": {
          "symbol": "circle"
         },
         "mode": "lines",
         "name": "Man United",
         "showlegend": true,
         "type": "scattergl",
         "x": [
          "1993-08-15T00:00:00.000000000",
          "1993-08-18T00:00:00.000000000",
          "1993-08-21T00:00:00.000000000",
          "1993-08-23T00:00:00.000000000",
          "1993-08-28T00:00:00.000000000",
          "1993-09-01T00:00:00.000000000",
          "1993-09-11T00:00:00.000000000",
          "1993-09-19T00:00:00.000000000",
          "1993-09-25T00:00:00.000000000",
          "1993-10-02T00:00:00.000000000",
          "1993-10-16T00:00:00.000000000",
          "1993-10-23T00:00:00.000000000",
          "1993-10-30T00:00:00.000000000",
          "1993-11-07T00:00:00.000000000",
          "1993-11-20T00:00:00.000000000",
          "1993-11-24T00:00:00.000000000",
          "1993-11-27T00:00:00.000000000",
          "1993-12-04T00:00:00.000000000",
          "1993-12-07T00:00:00.000000000",
          "1993-12-11T00:00:00.000000000",
          "1993-12-19T00:00:00.000000000",
          "1993-12-26T00:00:00.000000000",
          "1993-12-29T00:00:00.000000000",
          "1994-01-01T00:00:00.000000000",
          "1994-01-04T00:00:00.000000000",
          "1994-01-15T00:00:00.000000000",
          "1994-01-22T00:00:00.000000000",
          "1994-02-05T00:00:00.000000000",
          "1994-02-26T00:00:00.000000000",
          "1994-03-05T00:00:00.000000000",
          "1994-03-16T00:00:00.000000000",
          "1994-03-19T00:00:00.000000000",
          "1994-03-22T00:00:00.000000000",
          "1994-03-30T00:00:00.000000000",
          "1994-04-02T00:00:00.000000000",
          "1994-08-20T00:00:00.000000000",
          "1994-08-22T00:00:00.000000000",
          "1994-08-27T00:00:00.000000000",
          "1994-08-31T00:00:00.000000000",
          "1994-09-11T00:00:00.000000000",
          "1994-09-17T00:00:00.000000000",
          "1994-09-24T00:00:00.000000000",
          "1994-10-01T00:00:00.000000000",
          "1994-10-08T00:00:00.000000000",
          "1994-10-15T00:00:00.000000000",
          "1994-10-23T00:00:00.000000000",
          "1994-10-29T00:00:00.000000000",
          "1994-11-06T00:00:00.000000000",
          "1994-11-10T00:00:00.000000000",
          "1994-11-19T00:00:00.000000000",
          "1994-11-26T00:00:00.000000000",
          "1994-12-03T00:00:00.000000000",
          "1994-12-10T00:00:00.000000000",
          "1994-12-17T00:00:00.000000000",
          "1994-12-26T00:00:00.000000000",
          "1994-12-28T00:00:00.000000000",
          "1994-12-31T00:00:00.000000000",
          "1995-01-03T00:00:00.000000000",
          "1995-01-15T00:00:00.000000000",
          "1995-01-22T00:00:00.000000000",
          "1995-01-25T00:00:00.000000000",
          "1995-02-04T00:00:00.000000000",
          "1995-02-11T00:00:00.000000000",
          "1995-02-22T00:00:00.000000000",
          "1995-02-25T00:00:00.000000000",
          "1995-03-04T00:00:00.000000000",
          "1995-03-07T00:00:00.000000000",
          "1995-03-15T00:00:00.000000000",
          "1995-03-19T00:00:00.000000000",
          "1995-03-22T00:00:00.000000000",
          "1995-04-02T00:00:00.000000000",
          "1995-08-19T00:00:00.000000000",
          "1995-08-23T00:00:00.000000000",
          "1995-08-26T00:00:00.000000000",
          "1995-08-28T00:00:00.000000000",
          "1995-09-09T00:00:00.000000000",
          "1995-09-16T00:00:00.000000000",
          "1995-09-23T00:00:00.000000000",
          "1995-10-01T00:00:00.000000000",
          "1995-10-14T00:00:00.000000000",
          "1995-10-21T00:00:00.000000000",
          "1995-10-28T00:00:00.000000000",
          "1995-11-04T00:00:00.000000000",
          "1995-11-18T00:00:00.000000000",
          "1995-11-22T00:00:00.000000000",
          "1995-11-27T00:00:00.000000000",
          "1995-12-02T00:00:00.000000000",
          "1995-12-09T00:00:00.000000000",
          "1995-12-17T00:00:00.000000000",
          "1995-12-24T00:00:00.000000000",
          "1995-12-27T00:00:00.000000000",
          "1995-12-30T00:00:00.000000000",
          "1996-01-01T00:00:00.000000000",
          "1996-01-13T00:00:00.000000000",
          "1996-01-23T00:00:00.000000000",
          "1996-02-03T00:00:00.000000000",
          "1996-02-10T00:00:00.000000000",
          "1996-02-21T00:00:00.000000000",
          "1996-02-25T00:00:00.000000000",
          "1996-03-04T00:00:00.000000000",
          "1996-03-16T00:00:00.000000000",
          "1996-03-20T00:00:00.000000000",
          "1996-03-24T00:00:00.000000000",
          "1996-04-06T00:00:00.000000000",
          "1996-04-08T00:00:00.000000000",
          "1996-04-13T00:00:00.000000000",
          "1996-04-17T00:00:00.000000000",
          "1996-04-28T00:00:00.000000000",
          "1996-05-04T00:00:00.000000000",
          "1996-08-17T00:00:00.000000000",
          "1996-08-21T00:00:00.000000000",
          "1996-08-25T00:00:00.000000000",
          "1996-09-04T00:00:00.000000000",
          "1996-09-07T00:00:00.000000000",
          "1996-09-14T00:00:00.000000000",
          "1996-09-21T00:00:00.000000000",
          "1996-09-29T00:00:00.000000000",
          "1996-10-12T00:00:00.000000000",
          "1996-10-20T00:00:00.000000000",
          "1996-10-26T00:00:00.000000000",
          "1996-11-02T00:00:00.000000000",
          "1996-11-16T00:00:00.000000000",
          "1996-11-23T00:00:00.000000000",
          "1996-11-30T00:00:00.000000000",
          "1996-12-08T00:00:00.000000000",
          "1996-12-18T00:00:00.000000000",
          "1996-12-21T00:00:00.000000000",
          "1996-12-26T00:00:00.000000000",
          "1996-12-28T00:00:00.000000000",
          "1997-01-01T00:00:00.000000000",
          "1997-01-12T00:00:00.000000000",
          "1997-01-18T00:00:00.000000000",
          "1997-01-29T00:00:00.000000000",
          "1997-02-01T00:00:00.000000000",
          "1997-02-19T00:00:00.000000000",
          "1997-02-22T00:00:00.000000000",
          "1997-03-01T00:00:00.000000000",
          "1997-03-08T00:00:00.000000000",
          "1997-03-15T00:00:00.000000000",
          "1997-03-22T00:00:00.000000000",
          "1997-04-05T00:00:00.000000000",
          "1997-04-12T00:00:00.000000000",
          "1997-04-19T00:00:00.000000000",
          "1997-05-03T00:00:00.000000000",
          "1997-05-05T00:00:00.000000000",
          "1997-05-08T00:00:00.000000000",
          "1997-05-11T00:00:00.000000000",
          "1997-08-10T00:00:00.000000000",
          "1997-08-13T00:00:00.000000000",
          "1997-08-23T00:00:00.000000000",
          "1997-08-27T00:00:00.000000000",
          "1997-08-30T00:00:00.000000000",
          "1997-09-13T00:00:00.000000000",
          "1997-09-20T00:00:00.000000000",
          "1997-09-24T00:00:00.000000000",
          "1997-09-27T00:00:00.000000000",
          "1997-10-04T00:00:00.000000000",
          "1997-10-18T00:00:00.000000000",
          "1997-10-25T00:00:00.000000000",
          "1997-11-01T00:00:00.000000000",
          "1997-11-09T00:00:00.000000000",
          "1997-11-22T00:00:00.000000000",
          "1997-11-30T00:00:00.000000000",
          "1997-12-06T00:00:00.000000000",
          "1997-12-15T00:00:00.000000000",
          "1997-12-21T00:00:00.000000000",
          "1997-12-26T00:00:00.000000000",
          "1997-12-28T00:00:00.000000000",
          "1998-01-10T00:00:00.000000000",
          "1998-01-19T00:00:00.000000000",
          "1998-01-31T00:00:00.000000000",
          "1998-02-07T00:00:00.000000000",
          "1998-02-18T00:00:00.000000000",
          "1998-02-21T00:00:00.000000000",
          "1998-02-28T00:00:00.000000000",
          "1998-03-07T00:00:00.000000000",
          "1998-03-11T00:00:00.000000000",
          "1998-03-14T00:00:00.000000000",
          "1998-03-28T00:00:00.000000000",
          "1998-04-06T00:00:00.000000000",
          "1998-04-10T00:00:00.000000000",
          "1998-04-18T00:00:00.000000000",
          "1998-04-27T00:00:00.000000000",
          "1998-05-04T00:00:00.000000000",
          "1998-05-10T00:00:00.000000000",
          "1998-08-15T00:00:00.000000000",
          "1998-08-22T00:00:00.000000000",
          "1998-09-09T00:00:00.000000000",
          "1998-09-12T00:00:00.000000000",
          "1998-09-20T00:00:00.000000000",
          "1998-09-24T00:00:00.000000000",
          "1998-10-03T00:00:00.000000000",
          "1998-10-17T00:00:00.000000000",
          "1998-10-24T00:00:00.000000000",
          "1998-10-31T00:00:00.000000000",
          "1998-11-08T00:00:00.000000000",
          "1998-11-14T00:00:00.000000000",
          "1998-11-21T00:00:00.000000000",
          "1998-11-29T00:00:00.000000000",
          "1998-12-05T00:00:00.000000000",
          "1998-12-12T00:00:00.000000000",
          "1998-12-16T00:00:00.000000000",
          "1998-12-19T00:00:00.000000000",
          "1998-12-26T00:00:00.000000000",
          "1998-12-29T00:00:00.000000000",
          "1999-01-10T00:00:00.000000000",
          "1999-01-16T00:00:00.000000000",
          "1999-01-31T00:00:00.000000000",
          "1999-02-02T00:00:00.000000000",
          "1999-02-06T00:00:00.000000000",
          "1999-02-17T00:00:00.000000000",
          "1999-02-20T00:00:00.000000000",
          "1999-02-27T00:00:00.000000000",
          "1999-03-13T00:00:00.000000000",
          "1999-03-21T00:00:00.000000000",
          "1999-04-03T00:00:00.000000000",
          "1999-04-17T00:00:00.000000000",
          "1999-04-25T00:00:00.000000000",
          "1999-05-01T00:00:00.000000000",
          "1999-05-05T00:00:00.000000000",
          "1999-05-09T00:00:00.000000000",
          "1999-05-12T00:00:00.000000000",
          "1999-05-16T00:00:00.000000000",
          "1999-08-08T00:00:00.000000000",
          "1999-08-11T00:00:00.000000000",
          "1999-08-14T00:00:00.000000000",
          "1999-08-22T00:00:00.000000000",
          "1999-08-25T00:00:00.000000000",
          "1999-08-30T00:00:00.000000000",
          "1999-09-11T00:00:00.000000000",
          "1999-09-18T00:00:00.000000000",
          "1999-09-25T00:00:00.000000000",
          "1999-10-03T00:00:00.000000000",
          "1999-10-16T00:00:00.000000000",
          "1999-10-23T00:00:00.000000000",
          "1999-10-30T00:00:00.000000000",
          "1999-11-06T00:00:00.000000000",
          "1999-11-20T00:00:00.000000000",
          "1999-12-04T00:00:00.000000000",
          "1999-12-18T00:00:00.000000000",
          "1999-12-26T00:00:00.000000000",
          "1999-12-28T00:00:00.000000000",
          "2000-01-24T00:00:00.000000000",
          "2000-01-29T00:00:00.000000000",
          "2000-02-02T00:00:00.000000000",
          "2000-02-05T00:00:00.000000000",
          "2000-02-12T00:00:00.000000000",
          "2000-02-20T00:00:00.000000000",
          "2000-02-26T00:00:00.000000000",
          "2000-03-04T00:00:00.000000000",
          "2000-03-11T00:00:00.000000000",
          "2000-03-18T00:00:00.000000000",
          "2000-03-25T00:00:00.000000000",
          "2000-04-01T00:00:00.000000000",
          "2000-04-10T00:00:00.000000000",
          "2000-04-15T00:00:00.000000000",
          "2000-04-22T00:00:00.000000000",
          "2000-04-24T00:00:00.000000000",
          "2000-04-29T00:00:00.000000000",
          "2000-05-06T00:00:00.000000000",
          "2000-05-14T00:00:00.000000000",
          "2000-08-20T00:00:00.000000000",
          "2000-08-22T00:00:00.000000000",
          "2000-08-26T00:00:00.000000000",
          "2000-09-05T00:00:00.000000000",
          "2000-09-09T00:00:00.000000000",
          "2000-09-16T00:00:00.000000000",
          "2000-09-23T00:00:00.000000000",
          "2000-10-01T00:00:00.000000000",
          "2000-10-14T00:00:00.000000000",
          "2000-10-21T00:00:00.000000000",
          "2000-10-28T00:00:00.000000000",
          "2000-11-04T00:00:00.000000000",
          "2000-11-11T00:00:00.000000000",
          "2000-11-18T00:00:00.000000000",
          "2000-11-25T00:00:00.000000000",
          "2000-12-02T00:00:00.000000000",
          "2000-12-09T00:00:00.000000000",
          "2000-12-17T00:00:00.000000000",
          "2000-12-23T00:00:00.000000000",
          "2000-12-26T00:00:00.000000000",
          "2000-12-30T00:00:00.000000000",
          "2001-01-01T00:00:00.000000000",
          "2001-01-13T00:00:00.000000000",
          "2001-01-20T00:00:00.000000000",
          "2001-01-31T00:00:00.000000000",
          "2001-02-03T00:00:00.000000000",
          "2001-02-10T00:00:00.000000000",
          "2001-02-25T00:00:00.000000000",
          "2001-03-03T00:00:00.000000000",
          "2001-03-17T00:00:00.000000000",
          "2001-03-31T00:00:00.000000000",
          "2001-04-10T00:00:00.000000000",
          "2001-04-14T00:00:00.000000000",
          "2001-04-21T00:00:00.000000000",
          "2001-04-28T00:00:00.000000000",
          "2001-05-05T00:00:00.000000000",
          "2001-05-13T00:00:00.000000000",
          "2001-05-19T00:00:00.000000000",
          "2001-08-19T00:00:00.000000000",
          "2001-08-22T00:00:00.000000000",
          "2001-08-26T00:00:00.000000000",
          "2001-09-08T00:00:00.000000000",
          "2001-09-15T00:00:00.000000000",
          "2001-09-22T00:00:00.000000000",
          "2001-09-29T00:00:00.000000000",
          "2001-10-13T00:00:00.000000000",
          "2001-10-20T00:00:00.000000000",
          "2001-10-27T00:00:00.000000000",
          "2001-11-04T00:00:00.000000000",
          "2001-11-17T00:00:00.000000000",
          "2001-11-25T00:00:00.000000000",
          "2001-12-01T00:00:00.000000000",
          "2001-12-08T00:00:00.000000000",
          "2001-12-12T00:00:00.000000000",
          "2001-12-15T00:00:00.000000000",
          "2001-12-22T00:00:00.000000000",
          "2001-12-26T00:00:00.000000000",
          "2001-12-30T00:00:00.000000000",
          "2002-01-02T00:00:00.000000000",
          "2002-01-13T00:00:00.000000000",
          "2002-01-19T00:00:00.000000000",
          "2002-01-22T00:00:00.000000000",
          "2002-01-29T00:00:00.000000000",
          "2002-02-02T00:00:00.000000000",
          "2002-02-10T00:00:00.000000000",
          "2002-02-23T00:00:00.000000000",
          "2002-03-03T00:00:00.000000000",
          "2002-03-06T00:00:00.000000000",
          "2002-03-16T00:00:00.000000000",
          "2002-03-23T00:00:00.000000000",
          "2002-03-30T00:00:00.000000000",
          "2002-04-06T00:00:00.000000000",
          "2002-04-20T00:00:00.000000000",
          "2002-04-27T00:00:00.000000000",
          "2002-05-08T00:00:00.000000000",
          "2002-05-11T00:00:00.000000000",
          "2002-08-17T00:00:00.000000000",
          "2002-08-23T00:00:00.000000000",
          "2002-08-31T00:00:00.000000000",
          "2002-09-03T00:00:00.000000000",
          "2002-09-11T00:00:00.000000000",
          "2002-09-14T00:00:00.000000000",
          "2002-09-21T00:00:00.000000000",
          "2002-09-28T00:00:00.000000000",
          "2002-10-07T00:00:00.000000000",
          "2002-10-19T00:00:00.000000000",
          "2002-10-26T00:00:00.000000000",
          "2002-11-02T00:00:00.000000000",
          "2002-11-09T00:00:00.000000000",
          "2002-11-17T00:00:00.000000000",
          "2002-11-23T00:00:00.000000000",
          "2002-12-01T00:00:00.000000000",
          "2002-12-07T00:00:00.000000000",
          "2002-12-14T00:00:00.000000000",
          "2002-12-22T00:00:00.000000000",
          "2002-12-26T00:00:00.000000000",
          "2002-12-28T00:00:00.000000000",
          "2003-01-01T00:00:00.000000000",
          "2003-01-11T00:00:00.000000000",
          "2003-01-18T00:00:00.000000000",
          "2003-02-01T00:00:00.000000000",
          "2003-02-04T00:00:00.000000000",
          "2003-02-09T00:00:00.000000000",
          "2003-02-22T00:00:00.000000000",
          "2003-03-05T00:00:00.000000000",
          "2003-03-15T00:00:00.000000000",
          "2003-03-22T00:00:00.000000000",
          "2003-04-05T00:00:00.000000000",
          "2003-04-12T00:00:00.000000000",
          "2003-04-16T00:00:00.000000000",
          "2003-04-19T00:00:00.000000000",
          "2003-04-27T00:00:00.000000000",
          "2003-05-03T00:00:00.000000000",
          "2003-05-11T00:00:00.000000000",
          "2003-08-16T00:00:00.000000000",
          "2003-08-23T00:00:00.000000000",
          "2003-08-27T00:00:00.000000000",
          "2003-08-31T00:00:00.000000000",
          "2003-09-13T00:00:00.000000000",
          "2003-09-21T00:00:00.000000000",
          "2003-09-27T00:00:00.000000000",
          "2003-10-04T00:00:00.000000000",
          "2003-10-18T00:00:00.000000000",
          "2003-10-25T00:00:00.000000000",
          "2003-11-01T00:00:00.000000000",
          "2003-11-09T00:00:00.000000000",
          "2003-11-22T00:00:00.000000000",
          "2003-11-30T00:00:00.000000000",
          "2003-12-06T00:00:00.000000000",
          "2003-12-13T00:00:00.000000000",
          "2003-12-21T00:00:00.000000000",
          "2003-12-26T00:00:00.000000000",
          "2003-12-28T00:00:00.000000000",
          "2004-01-07T00:00:00.000000000",
          "2004-01-11T00:00:00.000000000",
          "2004-01-17T00:00:00.000000000",
          "2004-01-31T00:00:00.000000000",
          "2004-02-07T00:00:00.000000000",
          "2004-02-11T00:00:00.000000000",
          "2004-02-21T00:00:00.000000000",
          "2004-02-28T00:00:00.000000000",
          "2004-03-14T00:00:00.000000000",
          "2004-03-20T00:00:00.000000000",
          "2004-03-28T00:00:00.000000000",
          "2004-04-10T00:00:00.000000000",
          "2004-04-13T00:00:00.000000000",
          "2004-04-17T00:00:00.000000000",
          "2004-04-20T00:00:00.000000000",
          "2004-04-24T00:00:00.000000000",
          "2004-05-01T00:00:00.000000000",
          "2004-05-08T00:00:00.000000000",
          "2004-05-15T00:00:00.000000000",
          "2004-08-15T00:00:00.000000000",
          "2004-08-21T00:00:00.000000000",
          "2004-08-28T00:00:00.000000000",
          "2004-08-30T00:00:00.000000000",
          "2004-09-11T00:00:00.000000000",
          "2004-09-20T00:00:00.000000000",
          "2004-09-25T00:00:00.000000000",
          "2004-10-03T00:00:00.000000000",
          "2004-10-16T00:00:00.000000000",
          "2004-10-24T00:00:00.000000000",
          "2004-10-30T00:00:00.000000000",
          "2004-11-07T00:00:00.000000000",
          "2004-11-14T00:00:00.000000000",
          "2004-11-20T00:00:00.000000000",
          "2004-11-27T00:00:00.000000000",
          "2004-12-04T00:00:00.000000000",
          "2004-12-13T00:00:00.000000000",
          "2004-12-18T00:00:00.000000000",
          "2004-12-26T00:00:00.000000000",
          "2004-12-28T00:00:00.000000000",
          "2005-01-01T00:00:00.000000000",
          "2005-01-04T00:00:00.000000000",
          "2005-01-15T00:00:00.000000000",
          "2005-01-22T00:00:00.000000000",
          "2005-02-01T00:00:00.000000000",
          "2005-02-05T00:00:00.000000000",
          "2005-02-13T00:00:00.000000000",
          "2005-02-26T00:00:00.000000000",
          "2005-03-05T00:00:00.000000000",
          "2005-03-19T00:00:00.000000000",
          "2005-04-02T00:00:00.000000000",
          "2005-04-09T00:00:00.000000000",
          "2005-04-20T00:00:00.000000000",
          "2005-04-24T00:00:00.000000000",
          "2005-05-01T00:00:00.000000000",
          "2005-05-07T00:00:00.000000000",
          "2005-05-10T00:00:00.000000000",
          "2005-05-15T00:00:00.000000000",
          "2005-08-13T00:00:00.000000000",
          "2005-08-20T00:00:00.000000000",
          "2005-08-28T00:00:00.000000000",
          "2005-09-10T00:00:00.000000000",
          "2005-09-18T00:00:00.000000000",
          "2005-09-24T00:00:00.000000000",
          "2005-10-01T00:00:00.000000000",
          "2005-10-15T00:00:00.000000000",
          "2005-10-22T00:00:00.000000000",
          "2005-10-29T00:00:00.000000000",
          "2005-11-06T00:00:00.000000000",
          "2005-11-19T00:00:00.000000000",
          "2005-11-27T00:00:00.000000000",
          "2005-12-03T00:00:00.000000000",
          "2005-12-11T00:00:00.000000000",
          "2005-12-14T00:00:00.000000000",
          "2005-12-17T00:00:00.000000000",
          "2005-12-26T00:00:00.000000000",
          "2005-12-28T00:00:00.000000000",
          "2005-12-31T00:00:00.000000000",
          "2006-01-03T00:00:00.000000000",
          "2006-01-14T00:00:00.000000000",
          "2006-01-22T00:00:00.000000000",
          "2006-02-01T00:00:00.000000000",
          "2006-02-04T00:00:00.000000000",
          "2006-02-11T00:00:00.000000000",
          "2006-03-06T00:00:00.000000000",
          "2006-03-12T00:00:00.000000000",
          "2006-03-18T00:00:00.000000000",
          "2006-03-26T00:00:00.000000000",
          "2006-03-29T00:00:00.000000000",
          "2006-04-01T00:00:00.000000000",
          "2006-04-09T00:00:00.000000000",
          "2006-04-14T00:00:00.000000000",
          "2006-04-17T00:00:00.000000000",
          "2006-04-29T00:00:00.000000000",
          "2006-05-01T00:00:00.000000000",
          "2006-05-07T00:00:00.000000000",
          "2006-08-20T00:00:00.000000000",
          "2006-08-23T00:00:00.000000000",
          "2006-08-26T00:00:00.000000000",
          "2006-09-09T00:00:00.000000000",
          "2006-09-17T00:00:00.000000000",
          "2006-09-23T00:00:00.000000000",
          "2006-10-01T00:00:00.000000000",
          "2006-10-14T00:00:00.000000000",
          "2006-10-22T00:00:00.000000000",
          "2006-10-28T00:00:00.000000000",
          "2006-11-04T00:00:00.000000000",
          "2006-11-11T00:00:00.000000000",
          "2006-11-18T00:00:00.000000000",
          "2006-11-26T00:00:00.000000000",
          "2006-11-29T00:00:00.000000000",
          "2006-12-02T00:00:00.000000000",
          "2006-12-09T00:00:00.000000000",
          "2006-12-17T00:00:00.000000000",
          "2006-12-23T00:00:00.000000000",
          "2006-12-26T00:00:00.000000000",
          "2006-12-30T00:00:00.000000000",
          "2007-01-01T00:00:00.000000000",
          "2007-01-13T00:00:00.000000000",
          "2007-01-21T00:00:00.000000000",
          "2007-01-31T00:00:00.000000000",
          "2007-02-04T00:00:00.000000000",
          "2007-02-10T00:00:00.000000000",
          "2007-02-24T00:00:00.000000000",
          "2007-03-03T00:00:00.000000000",
          "2007-03-17T00:00:00.000000000",
          "2007-03-31T00:00:00.000000000",
          "2007-04-07T00:00:00.000000000",
          "2007-04-17T00:00:00.000000000",
          "2007-04-21T00:00:00.000000000",
          "2007-04-28T00:00:00.000000000",
          "2007-05-05T00:00:00.000000000",
          "2007-05-09T00:00:00.000000000",
          "2007-05-13T00:00:00.000000000",
          "2007-08-12T00:00:00.000000000",
          "2007-08-15T00:00:00.000000000",
          "2007-08-19T00:00:00.000000000",
          "2007-08-26T00:00:00.000000000",
          "2007-09-01T00:00:00.000000000",
          "2007-09-15T00:00:00.000000000",
          "2007-09-23T00:00:00.000000000",
          "2007-09-29T00:00:00.000000000",
          "2007-10-06T00:00:00.000000000",
          "2007-10-20T00:00:00.000000000",
          "2007-10-27T00:00:00.000000000",
          "2007-11-03T00:00:00.000000000",
          "2007-11-11T00:00:00.000000000",
          "2007-11-24T00:00:00.000000000",
          "2007-12-03T00:00:00.000000000",
          "2007-12-08T00:00:00.000000000",
          "2007-12-16T00:00:00.000000000",
          "2007-12-23T00:00:00.000000000",
          "2007-12-26T00:00:00.000000000",
          "2007-12-29T00:00:00.000000000",
          "2008-01-01T00:00:00.000000000",
          "2008-01-12T00:00:00.000000000",
          "2008-01-19T00:00:00.000000000",
          "2008-01-30T00:00:00.000000000",
          "2008-02-02T00:00:00.000000000",
          "2008-02-10T00:00:00.000000000",
          "2008-02-23T00:00:00.000000000",
          "2008-03-01T00:00:00.000000000",
          "2008-03-15T00:00:00.000000000",
          "2008-03-19T00:00:00.000000000",
          "2008-03-23T00:00:00.000000000",
          "2008-03-29T00:00:00.000000000",
          "2008-04-06T00:00:00.000000000",
          "2008-04-13T00:00:00.000000000",
          "2008-04-19T00:00:00.000000000",
          "2008-04-26T00:00:00.000000000",
          "2008-05-03T00:00:00.000000000",
          "2008-05-11T00:00:00.000000000",
          "2008-08-17T00:00:00.000000000",
          "2008-08-25T00:00:00.000000000",
          "2008-09-13T00:00:00.000000000",
          "2008-09-21T00:00:00.000000000",
          "2008-09-27T00:00:00.000000000",
          "2008-10-04T00:00:00.000000000",
          "2008-10-18T00:00:00.000000000",
          "2008-10-25T00:00:00.000000000",
          "2008-10-29T00:00:00.000000000",
          "2008-11-01T00:00:00.000000000",
          "2008-11-08T00:00:00.000000000",
          "2008-11-15T00:00:00.000000000",
          "2008-11-22T00:00:00.000000000",
          "2008-11-30T00:00:00.000000000",
          "2008-12-06T00:00:00.000000000",
          "2008-12-13T00:00:00.000000000",
          "2008-12-26T00:00:00.000000000",
          "2008-12-29T00:00:00.000000000",
          "2009-01-11T00:00:00.000000000",
          "2009-01-14T00:00:00.000000000",
          "2009-01-17T00:00:00.000000000",
          "2009-01-27T00:00:00.000000000",
          "2009-01-31T00:00:00.000000000",
          "2009-02-08T00:00:00.000000000",
          "2009-02-18T00:00:00.000000000",
          "2009-02-21T00:00:00.000000000",
          "2009-03-04T00:00:00.000000000",
          "2009-03-14T00:00:00.000000000",
          "2009-03-21T00:00:00.000000000",
          "2009-04-05T00:00:00.000000000",
          "2009-04-11T00:00:00.000000000",
          "2009-04-22T00:00:00.000000000",
          "2009-04-25T00:00:00.000000000",
          "2009-05-02T00:00:00.000000000",
          "2009-05-10T00:00:00.000000000",
          "2009-05-13T00:00:00.000000000",
          "2009-05-16T00:00:00.000000000",
          "2009-05-24T00:00:00.000000000",
          "2009-08-16T00:00:00.000000000",
          "2009-08-19T00:00:00.000000000",
          "2009-08-22T00:00:00.000000000",
          "2009-08-29T00:00:00.000000000",
          "2009-09-12T00:00:00.000000000",
          "2009-09-20T00:00:00.000000000",
          "2009-09-26T00:00:00.000000000",
          "2009-10-03T00:00:00.000000000",
          "2009-10-17T00:00:00.000000000",
          "2009-10-25T00:00:00.000000000",
          "2009-10-31T00:00:00.000000000",
          "2009-11-08T00:00:00.000000000",
          "2009-11-21T00:00:00.000000000",
          "2009-11-28T00:00:00.000000000",
          "2009-12-05T00:00:00.000000000",
          "2009-12-12T00:00:00.000000000",
          "2009-12-15T00:00:00.000000000",
          "2009-12-19T00:00:00.000000000",
          "2009-12-27T00:00:00.000000000",
          "2009-12-30T00:00:00.000000000",
          "2010-01-09T00:00:00.000000000",
          "2010-01-16T00:00:00.000000000",
          "2010-01-23T00:00:00.000000000",
          "2010-01-31T00:00:00.000000000",
          "2010-02-06T00:00:00.000000000",
          "2010-02-10T00:00:00.000000000",
          "2010-02-20T00:00:00.000000000",
          "2010-02-23T00:00:00.000000000",
          "2010-03-06T00:00:00.000000000",
          "2010-03-14T00:00:00.000000000",
          "2010-03-21T00:00:00.000000000",
          "2010-03-27T00:00:00.000000000",
          "2010-04-03T00:00:00.000000000",
          "2010-04-11T00:00:00.000000000",
          "2010-04-17T00:00:00.000000000",
          "2010-04-24T00:00:00.000000000",
          "2010-05-02T00:00:00.000000000",
          "2010-05-09T00:00:00.000000000",
          "2010-08-16T00:00:00.000000000",
          "2010-08-22T00:00:00.000000000",
          "2010-08-28T00:00:00.000000000",
          "2010-09-11T00:00:00.000000000",
          "2010-09-19T00:00:00.000000000",
          "2010-09-26T00:00:00.000000000",
          "2010-10-02T00:00:00.000000000",
          "2010-10-16T00:00:00.000000000",
          "2010-10-24T00:00:00.000000000",
          "2010-10-30T00:00:00.000000000",
          "2010-11-06T00:00:00.000000000",
          "2010-11-10T00:00:00.000000000",
          "2010-11-13T00:00:00.000000000",
          "2010-11-20T00:00:00.000000000",
          "2010-11-27T00:00:00.000000000",
          "2010-12-13T00:00:00.000000000",
          "2010-12-26T00:00:00.000000000",
          "2010-12-28T00:00:00.000000000",
          "2011-01-01T00:00:00.000000000",
          "2011-01-04T00:00:00.000000000",
          "2011-01-16T00:00:00.000000000",
          "2011-01-22T00:00:00.000000000",
          "2011-01-25T00:00:00.000000000",
          "2011-02-01T00:00:00.000000000",
          "2011-02-05T00:00:00.000000000",
          "2011-02-12T00:00:00.000000000",
          "2011-02-26T00:00:00.000000000",
          "2011-03-01T00:00:00.000000000",
          "2011-03-06T00:00:00.000000000",
          "2011-03-19T00:00:00.000000000",
          "2011-04-02T00:00:00.000000000",
          "2011-04-09T00:00:00.000000000",
          "2011-04-19T00:00:00.000000000",
          "2011-04-23T00:00:00.000000000",
          "2011-05-01T00:00:00.000000000",
          "2011-05-08T00:00:00.000000000",
          "2011-05-14T00:00:00.000000000",
          "2011-05-22T00:00:00.000000000",
          "2011-08-14T00:00:00.000000000",
          "2011-08-22T00:00:00.000000000",
          "2011-08-28T00:00:00.000000000",
          "2011-09-10T00:00:00.000000000",
          "2011-09-18T00:00:00.000000000",
          "2011-09-24T00:00:00.000000000",
          "2011-10-01T00:00:00.000000000",
          "2011-10-15T00:00:00.000000000",
          "2011-10-23T00:00:00.000000000",
          "2011-10-29T00:00:00.000000000",
          "2011-11-05T00:00:00.000000000",
          "2011-11-19T00:00:00.000000000",
          "2011-11-26T00:00:00.000000000",
          "2011-12-03T00:00:00.000000000",
          "2011-12-10T00:00:00.000000000",
          "2011-12-18T00:00:00.000000000",
          "2011-12-21T00:00:00.000000000",
          "2011-12-26T00:00:00.000000000",
          "2011-12-31T00:00:00.000000000",
          "2012-01-04T00:00:00.000000000",
          "2012-01-14T00:00:00.000000000",
          "2012-01-22T00:00:00.000000000",
          "2012-01-31T00:00:00.000000000",
          "2012-02-05T00:00:00.000000000",
          "2012-02-11T00:00:00.000000000",
          "2012-02-26T00:00:00.000000000",
          "2012-03-04T00:00:00.000000000",
          "2012-03-11T00:00:00.000000000",
          "2012-03-18T00:00:00.000000000",
          "2012-03-26T00:00:00.000000000",
          "2012-04-02T00:00:00.000000000",
          "2012-04-08T00:00:00.000000000",
          "2012-04-11T00:00:00.000000000",
          "2012-04-15T00:00:00.000000000",
          "2012-04-22T00:00:00.000000000",
          "2012-04-30T00:00:00.000000000",
          "2012-05-06T00:00:00.000000000",
          "2012-05-13T00:00:00.000000000",
          "2012-08-20T00:00:00.000000000",
          "2012-08-25T00:00:00.000000000",
          "2012-09-02T00:00:00.000000000",
          "2012-09-15T00:00:00.000000000",
          "2012-09-23T00:00:00.000000000",
          "2012-09-29T00:00:00.000000000",
          "2012-10-07T00:00:00.000000000",
          "2012-10-20T00:00:00.000000000",
          "2012-10-28T00:00:00.000000000",
          "2012-11-03T00:00:00.000000000",
          "2012-11-10T00:00:00.000000000",
          "2012-11-17T00:00:00.000000000",
          "2012-11-24T00:00:00.000000000",
          "2012-11-28T00:00:00.000000000",
          "2012-12-01T00:00:00.000000000",
          "2012-12-09T00:00:00.000000000",
          "2012-12-15T00:00:00.000000000",
          "2012-12-23T00:00:00.000000000",
          "2012-12-26T00:00:00.000000000",
          "2012-12-29T00:00:00.000000000",
          "2013-01-01T00:00:00.000000000",
          "2013-01-13T00:00:00.000000000",
          "2013-01-20T00:00:00.000000000",
          "2013-01-30T00:00:00.000000000",
          "2013-02-02T00:00:00.000000000",
          "2013-02-10T00:00:00.000000000",
          "2013-02-23T00:00:00.000000000",
          "2013-03-02T00:00:00.000000000",
          "2013-03-16T00:00:00.000000000",
          "2013-03-30T00:00:00.000000000",
          "2013-04-08T00:00:00.000000000",
          "2013-04-14T00:00:00.000000000",
          "2013-04-17T00:00:00.000000000",
          "2013-04-22T00:00:00.000000000",
          "2013-04-28T00:00:00.000000000",
          "2013-05-05T00:00:00.000000000",
          "2013-05-12T00:00:00.000000000",
          "2013-05-19T00:00:00.000000000",
          "2013-08-17T00:00:00.000000000",
          "2013-08-26T00:00:00.000000000",
          "2013-09-01T00:00:00.000000000",
          "2013-09-14T00:00:00.000000000",
          "2013-09-22T00:00:00.000000000",
          "2013-09-28T00:00:00.000000000",
          "2013-10-05T00:00:00.000000000",
          "2013-10-19T00:00:00.000000000",
          "2013-10-26T00:00:00.000000000",
          "2013-11-02T00:00:00.000000000",
          "2013-11-10T00:00:00.000000000",
          "2013-11-24T00:00:00.000000000",
          "2013-12-01T00:00:00.000000000",
          "2013-12-04T00:00:00.000000000",
          "2013-12-07T00:00:00.000000000",
          "2013-12-15T00:00:00.000000000",
          "2013-12-21T00:00:00.000000000",
          "2013-12-26T00:00:00.000000000",
          "2013-12-28T00:00:00.000000000",
          "2014-01-01T00:00:00.000000000",
          "2014-01-11T00:00:00.000000000",
          "2014-01-19T00:00:00.000000000",
          "2014-01-28T00:00:00.000000000",
          "2014-02-01T00:00:00.000000000",
          "2014-02-09T00:00:00.000000000",
          "2014-02-12T00:00:00.000000000",
          "2014-02-22T00:00:00.000000000",
          "2014-03-08T00:00:00.000000000",
          "2014-03-16T00:00:00.000000000",
          "2014-03-22T00:00:00.000000000",
          "2014-03-25T00:00:00.000000000",
          "2014-03-29T00:00:00.000000000",
          "2014-04-05T00:00:00.000000000",
          "2014-04-20T00:00:00.000000000",
          "2014-04-26T00:00:00.000000000",
          "2014-05-03T00:00:00.000000000",
          "2014-05-06T00:00:00.000000000",
          "2014-05-11T00:00:00.000000000",
          "2014-08-16T00:00:00.000000000",
          "2014-08-24T00:00:00.000000000",
          "2014-08-30T00:00:00.000000000",
          "2014-09-14T00:00:00.000000000",
          "2014-09-21T00:00:00.000000000",
          "2014-09-27T00:00:00.000000000",
          "2014-10-05T00:00:00.000000000",
          "2014-10-20T00:00:00.000000000",
          "2014-10-26T00:00:00.000000000",
          "2014-11-02T00:00:00.000000000",
          "2014-11-08T00:00:00.000000000",
          "2014-11-22T00:00:00.000000000",
          "2014-11-29T00:00:00.000000000",
          "2014-12-02T00:00:00.000000000",
          "2014-12-08T00:00:00.000000000",
          "2014-12-14T00:00:00.000000000",
          "2014-12-20T00:00:00.000000000",
          "2014-12-26T00:00:00.000000000",
          "2014-12-28T00:00:00.000000000",
          "2015-01-01T00:00:00.000000000",
          "2015-01-11T00:00:00.000000000",
          "2015-01-17T00:00:00.000000000",
          "2015-01-31T00:00:00.000000000",
          "2015-02-08T00:00:00.000000000",
          "2015-02-11T00:00:00.000000000",
          "2015-02-21T00:00:00.000000000",
          "2015-02-28T00:00:00.000000000",
          "2015-03-04T00:00:00.000000000",
          "2015-03-15T00:00:00.000000000",
          "2015-03-22T00:00:00.000000000",
          "2015-04-04T00:00:00.000000000",
          "2015-04-12T00:00:00.000000000",
          "2015-04-18T00:00:00.000000000",
          "2015-04-26T00:00:00.000000000",
          "2015-05-02T00:00:00.000000000",
          "2015-05-09T00:00:00.000000000",
          "2015-05-17T00:00:00.000000000",
          "2015-05-24T00:00:00.000000000",
          "2015-08-08T00:00:00.000000000",
          "2015-08-14T00:00:00.000000000",
          "2015-08-22T00:00:00.000000000",
          "2015-08-30T00:00:00.000000000",
          "2015-09-12T00:00:00.000000000",
          "2015-09-20T00:00:00.000000000",
          "2015-09-26T00:00:00.000000000",
          "2015-10-04T00:00:00.000000000",
          "2015-10-17T00:00:00.000000000",
          "2015-10-25T00:00:00.000000000",
          "2015-10-31T00:00:00.000000000",
          "2015-11-07T00:00:00.000000000",
          "2015-11-21T00:00:00.000000000",
          "2015-11-28T00:00:00.000000000",
          "2015-12-05T00:00:00.000000000",
          "2015-12-12T00:00:00.000000000",
          "2015-12-19T00:00:00.000000000",
          "2015-12-26T00:00:00.000000000",
          "2015-12-28T00:00:00.000000000",
          "2016-01-02T00:00:00.000000000",
          "2016-01-12T00:00:00.000000000",
          "2016-01-17T00:00:00.000000000",
          "2016-01-23T00:00:00.000000000",
          "2016-02-02T00:00:00.000000000",
          "2016-02-07T00:00:00.000000000",
          "2016-02-13T00:00:00.000000000",
          "2016-02-28T00:00:00.000000000",
          "2016-03-02T00:00:00.000000000",
          "2016-03-06T00:00:00.000000000",
          "2016-03-20T00:00:00.000000000",
          "2016-04-03T00:00:00.000000000",
          "2016-04-10T00:00:00.000000000",
          "2016-04-16T00:00:00.000000000",
          "2016-04-20T00:00:00.000000000",
          "2016-05-01T00:00:00.000000000",
          "2016-05-07T00:00:00.000000000",
          "2016-05-10T00:00:00.000000000",
          "2016-05-17T00:00:00.000000000",
          "2016-08-14T00:00:00.000000000",
          "2016-08-19T00:00:00.000000000",
          "2016-08-27T00:00:00.000000000",
          "2016-09-10T00:00:00.000000000",
          "2016-09-18T00:00:00.000000000",
          "2016-09-24T00:00:00.000000000",
          "2016-10-02T00:00:00.000000000",
          "2016-10-17T00:00:00.000000000",
          "2016-10-23T00:00:00.000000000",
          "2016-10-29T00:00:00.000000000",
          "2016-11-06T00:00:00.000000000",
          "2016-11-19T00:00:00.000000000",
          "2016-11-27T00:00:00.000000000",
          "2016-12-04T00:00:00.000000000",
          "2016-12-11T00:00:00.000000000",
          "2016-12-14T00:00:00.000000000",
          "2016-12-17T00:00:00.000000000",
          "2016-12-26T00:00:00.000000000",
          "2016-12-31T00:00:00.000000000",
          "2017-01-02T00:00:00.000000000",
          "2017-01-15T00:00:00.000000000",
          "2017-01-21T00:00:00.000000000",
          "2017-02-01T00:00:00.000000000",
          "2017-02-05T00:00:00.000000000",
          "2017-02-11T00:00:00.000000000",
          "2017-03-04T00:00:00.000000000",
          "2017-03-19T00:00:00.000000000",
          "2017-04-01T00:00:00.000000000",
          "2017-04-04T00:00:00.000000000",
          "2017-04-09T00:00:00.000000000",
          "2017-04-16T00:00:00.000000000",
          "2017-04-23T00:00:00.000000000",
          "2017-04-27T00:00:00.000000000",
          "2017-04-30T00:00:00.000000000",
          "2017-05-07T00:00:00.000000000",
          "2017-05-14T00:00:00.000000000",
          "2017-05-17T00:00:00.000000000",
          "2017-05-21T00:00:00.000000000",
          "2017-08-13T00:00:00.000000000",
          "2017-08-19T00:00:00.000000000",
          "2017-08-26T00:00:00.000000000",
          "2017-09-09T00:00:00.000000000",
          "2017-09-17T00:00:00.000000000",
          "2017-09-23T00:00:00.000000000",
          "2017-09-30T00:00:00.000000000",
          "2017-10-14T00:00:00.000000000",
          "2017-10-21T00:00:00.000000000",
          "2017-10-28T00:00:00.000000000",
          "2017-11-05T00:00:00.000000000",
          "2017-11-18T00:00:00.000000000",
          "2017-11-25T00:00:00.000000000",
          "2017-11-28T00:00:00.000000000",
          "2017-12-02T00:00:00.000000000",
          "2017-12-10T00:00:00.000000000",
          "2017-12-13T00:00:00.000000000",
          "2017-12-17T00:00:00.000000000",
          "2017-12-23T00:00:00.000000000",
          "2017-12-26T00:00:00.000000000",
          "2017-12-30T00:00:00.000000000",
          "2018-01-01T00:00:00.000000000",
          "2018-01-15T00:00:00.000000000",
          "2018-01-20T00:00:00.000000000",
          "2018-01-31T00:00:00.000000000",
          "2018-02-03T00:00:00.000000000",
          "2018-02-11T00:00:00.000000000",
          "2018-02-25T00:00:00.000000000",
          "2018-03-05T00:00:00.000000000",
          "2018-03-10T00:00:00.000000000",
          "2018-03-31T00:00:00.000000000",
          "2018-04-07T00:00:00.000000000",
          "2018-04-15T00:00:00.000000000",
          "2018-04-18T00:00:00.000000000",
          "2018-04-29T00:00:00.000000000",
          "2018-05-04T00:00:00.000000000",
          "2018-05-10T00:00:00.000000000",
          "2018-05-13T00:00:00.000000000",
          "2018-08-10T00:00:00.000000000",
          "2018-08-19T00:00:00.000000000",
          "2018-08-27T00:00:00.000000000",
          "2018-09-02T00:00:00.000000000",
          "2018-09-15T00:00:00.000000000",
          "2018-09-22T00:00:00.000000000",
          "2018-09-29T00:00:00.000000000",
          "2018-10-06T00:00:00.000000000",
          "2018-10-20T00:00:00.000000000",
          "2018-10-28T00:00:00.000000000",
          "2018-11-03T00:00:00.000000000",
          "2018-11-11T00:00:00.000000000",
          "2018-11-24T00:00:00.000000000",
          "2018-12-01T00:00:00.000000000",
          "2018-12-05T00:00:00.000000000",
          "2018-12-08T00:00:00.000000000",
          "2018-12-16T00:00:00.000000000",
          "2018-12-22T00:00:00.000000000",
          "2018-12-26T00:00:00.000000000",
          "2018-12-30T00:00:00.000000000",
          "2019-01-02T00:00:00.000000000",
          "2019-01-13T00:00:00.000000000",
          "2019-01-19T00:00:00.000000000",
          "2019-01-29T00:00:00.000000000",
          "2019-02-03T00:00:00.000000000",
          "2019-02-09T00:00:00.000000000",
          "2019-02-24T00:00:00.000000000",
          "2019-02-27T00:00:00.000000000",
          "2019-03-02T00:00:00.000000000",
          "2019-03-10T00:00:00.000000000",
          "2019-03-30T00:00:00.000000000",
          "2019-04-02T00:00:00.000000000",
          "2019-04-13T00:00:00.000000000",
          "2019-04-21T00:00:00.000000000",
          "2019-04-24T00:00:00.000000000",
          "2019-04-28T00:00:00.000000000",
          "2019-05-05T00:00:00.000000000",
          "2019-05-12T00:00:00.000000000",
          "2019-08-11T00:00:00.000000000",
          "2019-08-19T00:00:00.000000000",
          "2019-08-24T00:00:00.000000000",
          "2019-08-31T00:00:00.000000000",
          "2019-09-14T00:00:00.000000000",
          "2019-09-22T00:00:00.000000000",
          "2019-09-30T00:00:00.000000000",
          "2019-10-06T00:00:00.000000000",
          "2019-10-20T00:00:00.000000000",
          "2019-10-27T00:00:00.000000000",
          "2019-11-02T00:00:00.000000000",
          "2019-11-10T00:00:00.000000000",
          "2019-11-24T00:00:00.000000000",
          "2019-12-01T00:00:00.000000000",
          "2019-12-04T00:00:00.000000000",
          "2019-12-07T00:00:00.000000000",
          "2019-12-15T00:00:00.000000000",
          "2019-12-22T00:00:00.000000000",
          "2019-12-26T00:00:00.000000000",
          "2019-12-28T00:00:00.000000000",
          "2020-01-01T00:00:00.000000000",
          "2020-01-11T00:00:00.000000000",
          "2020-01-19T00:00:00.000000000",
          "2020-01-22T00:00:00.000000000",
          "2020-02-01T00:00:00.000000000",
          "2020-02-17T00:00:00.000000000",
          "2020-02-23T00:00:00.000000000",
          "2020-03-01T00:00:00.000000000",
          "2020-03-08T00:00:00.000000000",
          "2020-06-19T00:00:00.000000000",
          "2020-06-24T00:00:00.000000000",
          "2020-06-30T00:00:00.000000000",
          "2020-07-04T00:00:00.000000000",
          "2020-07-09T00:00:00.000000000",
          "2020-07-13T00:00:00.000000000",
          "2020-07-16T00:00:00.000000000",
          "2020-07-22T00:00:00.000000000",
          "2020-07-26T00:00:00.000000000",
          "2020-09-19T00:00:00.000000000",
          "2020-09-26T00:00:00.000000000",
          "2020-10-04T00:00:00.000000000",
          "2020-10-17T00:00:00.000000000",
          "2020-10-24T00:00:00.000000000",
          "2020-11-01T00:00:00.000000000",
          "2020-11-07T00:00:00.000000000",
          "2020-11-21T00:00:00.000000000",
          "2020-11-29T00:00:00.000000000",
          "2020-12-05T00:00:00.000000000",
          "2020-12-12T00:00:00.000000000",
          "2020-12-17T00:00:00.000000000",
          "2020-12-20T00:00:00.000000000",
          "2020-12-26T00:00:00.000000000",
          "2020-12-29T00:00:00.000000000",
          "2021-01-01T00:00:00.000000000",
          "2021-01-12T00:00:00.000000000",
          "2021-01-17T00:00:00.000000000",
          "2021-01-20T00:00:00.000000000",
          "2021-01-27T00:00:00.000000000",
          "2021-01-30T00:00:00.000000000",
          "2021-02-02T00:00:00.000000000",
          "2021-02-06T00:00:00.000000000",
          "2021-02-14T00:00:00.000000000",
          "2021-02-21T00:00:00.000000000",
          "2021-02-28T00:00:00.000000000",
          "2021-03-03T00:00:00.000000000",
          "2021-03-07T00:00:00.000000000",
          "2021-03-14T00:00:00.000000000",
          "2021-04-04T00:00:00.000000000",
          "2021-04-11T00:00:00.000000000",
          "2021-04-18T00:00:00.000000000",
          "2021-04-25T00:00:00.000000000",
          "2021-05-09T00:00:00.000000000",
          "2021-05-11T00:00:00.000000000",
          "2021-05-13T00:00:00.000000000",
          "2021-05-18T00:00:00.000000000",
          "2021-05-23T00:00:00.000000000",
          "2021-08-14T00:00:00.000000000",
          "2021-08-22T00:00:00.000000000",
          "2021-08-29T00:00:00.000000000",
          "2021-09-11T00:00:00.000000000",
          "2021-09-19T00:00:00.000000000",
          "2021-09-25T00:00:00.000000000",
          "2021-10-02T00:00:00.000000000",
          "2021-10-16T00:00:00.000000000",
          "2021-10-24T00:00:00.000000000",
          "2021-10-30T00:00:00.000000000",
          "2021-11-06T00:00:00.000000000",
          "2021-11-20T00:00:00.000000000",
          "2021-11-28T00:00:00.000000000",
          "2021-12-02T00:00:00.000000000",
          "2021-12-05T00:00:00.000000000",
          "2021-12-11T00:00:00.000000000",
          "2021-12-27T00:00:00.000000000",
          "2021-12-30T00:00:00.000000000",
          "2022-01-03T00:00:00.000000000",
          "2022-01-15T00:00:00.000000000",
          "2022-01-19T00:00:00.000000000",
          "2022-01-22T00:00:00.000000000",
          "2022-02-08T00:00:00.000000000",
          "2022-02-12T00:00:00.000000000",
          "2022-02-15T00:00:00.000000000",
          "2022-02-20T00:00:00.000000000",
          "2022-02-26T00:00:00.000000000",
          "2022-03-06T00:00:00.000000000",
          "2022-03-12T00:00:00.000000000",
          "2022-04-02T00:00:00.000000000",
          "2022-04-09T00:00:00.000000000",
          "2022-04-16T00:00:00.000000000",
          "2022-04-19T00:00:00.000000000",
          "2022-04-23T00:00:00.000000000",
          "2022-04-28T00:00:00.000000000",
          "2022-05-02T00:00:00.000000000",
          "2022-05-07T00:00:00.000000000",
          "2022-05-22T00:00:00.000000000",
          "2022-08-07T00:00:00.000000000",
          "2022-08-13T00:00:00.000000000",
          "2022-08-22T00:00:00.000000000",
          "2022-08-27T00:00:00.000000000",
          "2022-09-01T00:00:00.000000000",
          "2022-09-04T00:00:00.000000000",
          "2022-10-02T00:00:00.000000000",
          "2022-10-09T00:00:00.000000000",
          "2022-10-16T00:00:00.000000000",
          "2022-10-19T00:00:00.000000000",
          "2022-10-22T00:00:00.000000000",
          "2022-10-30T00:00:00.000000000",
          "2022-11-06T00:00:00.000000000",
          "2022-11-13T00:00:00.000000000",
          "2022-12-27T00:00:00.000000000",
          "2022-12-31T00:00:00.000000000",
          "2023-01-03T00:00:00.000000000",
          "2023-01-14T00:00:00.000000000",
          "2023-01-18T00:00:00.000000000",
          "2023-01-22T00:00:00.000000000",
          "2023-02-04T00:00:00.000000000",
          "2023-02-08T00:00:00.000000000",
          "2023-02-12T00:00:00.000000000",
          "2023-02-19T00:00:00.000000000",
          "2023-03-05T00:00:00.000000000",
          "2023-03-12T00:00:00.000000000",
          "2023-04-02T00:00:00.000000000",
          "2023-04-05T00:00:00.000000000",
          "2023-04-08T00:00:00.000000000",
          "2023-04-16T00:00:00.000000000",
          "2023-04-27T00:00:00.000000000",
          "2023-04-30T00:00:00.000000000",
          "2023-05-04T00:00:00.000000000",
          "2023-05-07T00:00:00.000000000",
          "2023-05-13T00:00:00.000000000",
          "2023-05-20T00:00:00.000000000",
          "2023-05-25T00:00:00.000000000",
          "2023-05-28T00:00:00.000000000",
          "2023-08-14T00:00:00.000000000",
          "2023-08-19T00:00:00.000000000",
          "2023-08-26T00:00:00.000000000",
          "2023-09-03T00:00:00.000000000",
          "2023-09-16T00:00:00.000000000",
          "2023-09-23T00:00:00.000000000",
          "2023-09-30T00:00:00.000000000",
          "2023-10-07T00:00:00.000000000",
          "2023-10-21T00:00:00.000000000",
          "2023-10-29T00:00:00.000000000",
          "2023-11-04T00:00:00.000000000",
          "2023-11-11T00:00:00.000000000",
          "2023-11-26T00:00:00.000000000",
          "2023-12-02T00:00:00.000000000",
          "2023-12-06T00:00:00.000000000",
          "2023-12-09T00:00:00.000000000",
          "2023-12-17T00:00:00.000000000",
          "2023-12-23T00:00:00.000000000",
          "2023-12-26T00:00:00.000000000",
          "2023-12-30T00:00:00.000000000",
          "2024-01-14T00:00:00.000000000",
          "2024-02-01T00:00:00.000000000",
          "2024-02-04T00:00:00.000000000",
          "2024-02-11T00:00:00.000000000",
          "2024-02-18T00:00:00.000000000",
          "2024-02-24T00:00:00.000000000",
          "2024-03-03T00:00:00.000000000",
          "2024-03-09T00:00:00.000000000",
          "2024-03-30T00:00:00.000000000",
          "2024-04-04T00:00:00.000000000",
          "2024-04-07T00:00:00.000000000",
          "2024-04-13T00:00:00.000000000",
          "2024-04-24T00:00:00.000000000",
          "2024-04-27T00:00:00.000000000",
          "2024-05-06T00:00:00.000000000",
          "2024-05-12T00:00:00.000000000",
          "2024-05-15T00:00:00.000000000",
          "2024-05-19T00:00:00.000000000",
          "2024-08-16T00:00:00.000000000",
          "2024-08-24T00:00:00.000000000",
          "2024-09-01T00:00:00.000000000",
          "2024-09-14T00:00:00.000000000",
          "2024-09-21T00:00:00.000000000",
          "2024-09-29T00:00:00.000000000",
          "2024-10-06T00:00:00.000000000",
          "2024-10-19T00:00:00.000000000",
          "2024-10-27T00:00:00.000000000",
          "2024-11-03T00:00:00.000000000",
          "2024-11-10T00:00:00.000000000",
          "2024-11-24T00:00:00.000000000",
          "2024-12-01T00:00:00.000000000",
          "2024-12-04T00:00:00.000000000",
          "2024-12-07T00:00:00.000000000",
          "2024-12-15T00:00:00.000000000",
          "2024-12-22T00:00:00.000000000",
          "2024-12-26T00:00:00.000000000",
          "2024-12-30T00:00:00.000000000",
          "2025-01-05T00:00:00.000000000",
          "2025-01-16T00:00:00.000000000",
          "2025-01-19T00:00:00.000000000",
          "2025-01-26T00:00:00.000000000",
          "2025-02-02T00:00:00.000000000",
          "2025-02-16T00:00:00.000000000",
          "2025-02-22T00:00:00.000000000",
          "2025-02-26T00:00:00.000000000",
          "2025-03-09T00:00:00.000000000",
          "2025-03-16T00:00:00.000000000",
          "2025-04-01T00:00:00.000000000",
          "2025-04-06T00:00:00.000000000",
          "2025-04-13T00:00:00.000000000",
          "2025-04-20T00:00:00.000000000",
          "2025-04-27T00:00:00.000000000",
          "2025-05-04T00:00:00.000000000",
          "2025-05-11T00:00:00.000000000",
          "2025-05-16T00:00:00.000000000",
          "2025-05-25T00:00:00.000000000"
         ],
         "xaxis": "x",
         "y": {
          "bdata": "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",
          "dtype": "f8"
         },
         "yaxis": "y"
        }
       ],
       "layout": {
        "legend": {
         "title": {
          "text": "Team"
         },
         "tracegroupgap": 0
        },
        "template": {
         "data": {
          "bar": [
           {
            "error_x": {
             "color": "#2a3f5f"
            },
            "error_y": {
             "color": "#2a3f5f"
            },
            "marker": {
             "line": {
              "color": "#E5ECF6",
              "width": 0.5
             },
             "pattern": {
              "fillmode": "overlay",
              "size": 10,
              "solidity": 0.2
             }
            },
            "type": "bar"
           }
          ],
          "barpolar": [
           {
            "marker": {
             "line": {
              "color": "#E5ECF6",
              "width": 0.5
             },
             "pattern": {
              "fillmode": "overlay",
              "size": 10,
              "solidity": 0.2
             }
            },
            "type": "barpolar"
           }
          ],
          "carpet": [
           {
            "aaxis": {
             "endlinecolor": "#2a3f5f",
             "gridcolor": "white",
             "linecolor": "white",
             "minorgridcolor": "white",
             "startlinecolor": "#2a3f5f"
            },
            "baxis": {
             "endlinecolor": "#2a3f5f",
             "gridcolor": "white",
             "linecolor": "white",
             "minorgridcolor": "white",
             "startlinecolor": "#2a3f5f"
            },
            "type": "carpet"
           }
          ],
          "choropleth": [
           {
            "colorbar": {
             "outlinewidth": 0,
             "ticks": ""
            },
            "type": "choropleth"
           }
          ],
          "contour": [
           {
            "colorbar": {
             "outlinewidth": 0,
             "ticks": ""
            },
            "colorscale": [
             [
              0,
              "#0d0887"
             ],
             [
              0.1111111111111111,
              "#46039f"
             ],
             [
              0.2222222222222222,
              "#7201a8"
             ],
             [
              0.3333333333333333,
              "#9c179e"
             ],
             [
              0.4444444444444444,
              "#bd3786"
             ],
             [
              0.5555555555555556,
              "#d8576b"
             ],
             [
              0.6666666666666666,
              "#ed7953"
             ],
             [
              0.7777777777777778,
              "#fb9f3a"
             ],
             [
              0.8888888888888888,
              "#fdca26"
             ],
             [
              1,
              "#f0f921"
             ]
            ],
            "type": "contour"
           }
          ],
          "contourcarpet": [
           {
            "colorbar": {
             "outlinewidth": 0,
             "ticks": ""
            },
            "type": "contourcarpet"
           }
          ],
          "heatmap": [
           {
            "colorbar": {
             "outlinewidth": 0,
             "ticks": ""
            },
            "colorscale": [
             [
              0,
              "#0d0887"
             ],
             [
              0.1111111111111111,
              "#46039f"
             ],
             [
              0.2222222222222222,
              "#7201a8"
             ],
             [
              0.3333333333333333,
              "#9c179e"
             ],
             [
              0.4444444444444444,
              "#bd3786"
             ],
             [
              0.5555555555555556,
              "#d8576b"
             ],
             [
              0.6666666666666666,
              "#ed7953"
             ],
             [
              0.7777777777777778,
              "#fb9f3a"
             ],
             [
              0.8888888888888888,
              "#fdca26"
             ],
             [
              1,
              "#f0f921"
             ]
            ],
            "type": "heatmap"
           }
          ],
          "histogram": [
           {
            "marker": {
             "pattern": {
              "fillmode": "overlay",
              "size": 10,
              "solidity": 0.2
             }
            },
            "type": "histogram"
           }
          ],
          "histogram2d": [
           {
            "colorbar": {
             "outlinewidth": 0,
             "ticks": ""
            },
            "colorscale": [
             [
              0,
              "#0d0887"
             ],
             [
              0.1111111111111111,
              "#46039f"
             ],
             [
              0.2222222222222222,
              "#7201a8"
             ],
             [
              0.3333333333333333,
              "#9c179e"
             ],
             [
              0.4444444444444444,
              "#bd3786"
             ],
             [
              0.5555555555555556,
              "#d8576b"
             ],
             [
              0.6666666666666666,
              "#ed7953"
             ],
             [
              0.7777777777777778,
              "#fb9f3a"
             ],
             [
              0.8888888888888888,
              "#fdca26"
             ],
             [
              1,
              "#f0f921"
             ]
            ],
            "type": "histogram2d"
           }
          ],
          "histogram2dcontour": [
           {
            "colorbar": {
             "outlinewidth": 0,
             "ticks": ""
            },
            "colorscale": [
             [
              0,
              "#0d0887"
             ],
             [
              0.1111111111111111,
              "#46039f"
             ],
             [
              0.2222222222222222,
              "#7201a8"
             ],
             [
              0.3333333333333333,
              "#9c179e"
             ],
             [
              0.4444444444444444,
              "#bd3786"
             ],
             [
              0.5555555555555556,
              "#d8576b"
             ],
             [
              0.6666666666666666,
              "#ed7953"
             ],
             [
              0.7777777777777778,
              "#fb9f3a"
             ],
             [
              0.8888888888888888,
              "#fdca26"
             ],
             [
              1,
              "#f0f921"
             ]
            ],
            "type": "histogram2dcontour"
           }
          ],
          "mesh3d": [
           {
            "colorbar": {
             "outlinewidth": 0,
             "ticks": ""
            },
            "type": "mesh3d"
           }
          ],
          "parcoords": [
           {
            "line": {
             "colorbar": {
              "outlinewidth": 0,
              "ticks": ""
             }
            },
            "type": "parcoords"
           }
          ],
          "pie": [
           {
            "automargin": true,
            "type": "pie"
           }
          ],
          "scatter": [
           {
            "fillpattern": {
             "fillmode": "overlay",
             "size": 10,
             "solidity": 0.2
            },
            "type": "scatter"
           }
          ],
          "scatter3d": [
           {
            "line": {
             "colorbar": {
              "outlinewidth": 0,
              "ticks": ""
             }
            },
            "marker": {
             "colorbar": {
              "outlinewidth": 0,
              "ticks": ""
             }
            },
            "type": "scatter3d"
           }
          ],
          "scattercarpet": [
           {
            "marker": {
             "colorbar": {
              "outlinewidth": 0,
              "ticks": ""
             }
            },
            "type": "scattercarpet"
           }
          ],
          "scattergeo": [
           {
            "marker": {
             "colorbar": {
              "outlinewidth": 0,
              "ticks": ""
             }
            },
            "type": "scattergeo"
           }
          ],
          "scattergl": [
           {
            "marker": {
             "colorbar": {
              "outlinewidth": 0,
              "ticks": ""
             }
            },
            "type": "scattergl"
           }
          ],
          "scattermap": [
           {
            "marker": {
             "colorbar": {
              "outlinewidth": 0,
              "ticks": ""
             }
            },
            "type": "scattermap"
           }
          ],
          "scattermapbox": [
           {
            "marker": {
             "colorbar": {
              "outlinewidth": 0,
              "ticks": ""
             }
            },
            "type": "scattermapbox"
           }
          ],
          "scatterpolar": [
           {
            "marker": {
             "colorbar": {
              "outlinewidth": 0,
              "ticks": ""
             }
            },
            "type": "scatterpolar"
           }
          ],
          "scatterpolargl": [
           {
            "marker": {
             "colorbar": {
              "outlinewidth": 0,
              "ticks": ""
             }
            },
            "type": "scatterpolargl"
           }
          ],
          "scatterternary": [
           {
            "marker": {
             "colorbar": {
              "outlinewidth": 0,
              "ticks": ""
             }
            },
            "type": "scatterternary"
           }
          ],
          "surface": [
           {
            "colorbar": {
             "outlinewidth": 0,
             "ticks": ""
            },
            "colorscale": [
             [
              0,
              "#0d0887"
             ],
             [
              0.1111111111111111,
              "#46039f"
             ],
             [
              0.2222222222222222,
              "#7201a8"
             ],
             [
              0.3333333333333333,
              "#9c179e"
             ],
             [
              0.4444444444444444,
              "#bd3786"
             ],
             [
              0.5555555555555556,
              "#d8576b"
             ],
             [
              0.6666666666666666,
              "#ed7953"
             ],
             [
              0.7777777777777778,
              "#fb9f3a"
             ],
             [
              0.8888888888888888,
              "#fdca26"
             ],
             [
              1,
              "#f0f921"
             ]
            ],
            "type": "surface"
           }
          ],
          "table": [
           {
            "cells": {
             "fill": {
              "color": "#EBF0F8"
             },
             "line": {
              "color": "white"
             }
            },
            "header": {
             "fill": {
              "color": "#C8D4E3"
             },
             "line": {
              "color": "white"
             }
            },
            "type": "table"
           }
          ]
         },
         "layout": {
          "annotationdefaults": {
           "arrowcolor": "#2a3f5f",
           "arrowhead": 0,
           "arrowwidth": 1
          },
          "autotypenumbers": "strict",
          "coloraxis": {
           "colorbar": {
            "outlinewidth": 0,
            "ticks": ""
           }
          },
          "colorscale": {
           "diverging": [
            [
             0,
             "#8e0152"
            ],
            [
             0.1,
             "#c51b7d"
            ],
            [
             0.2,
             "#de77ae"
            ],
            [
             0.3,
             "#f1b6da"
            ],
            [
             0.4,
             "#fde0ef"
            ],
            [
             0.5,
             "#f7f7f7"
            ],
            [
             0.6,
             "#e6f5d0"
            ],
            [
             0.7,
             "#b8e186"
            ],
            [
             0.8,
             "#7fbc41"
            ],
            [
             0.9,
             "#4d9221"
            ],
            [
             1,
             "#276419"
            ]
           ],
           "sequential": [
            [
             0,
             "#0d0887"
            ],
            [
             0.1111111111111111,
             "#46039f"
            ],
            [
             0.2222222222222222,
             "#7201a8"
            ],
            [
             0.3333333333333333,
             "#9c179e"
            ],
            [
             0.4444444444444444,
             "#bd3786"
            ],
            [
             0.5555555555555556,
             "#d8576b"
            ],
            [
             0.6666666666666666,
             "#ed7953"
            ],
            [
             0.7777777777777778,
             "#fb9f3a"
            ],
            [
             0.8888888888888888,
             "#fdca26"
            ],
            [
             1,
             "#f0f921"
            ]
           ],
           "sequentialminus": [
            [
             0,
             "#0d0887"
            ],
            [
             0.1111111111111111,
             "#46039f"
            ],
            [
             0.2222222222222222,
             "#7201a8"
            ],
            [
             0.3333333333333333,
             "#9c179e"
            ],
            [
             0.4444444444444444,
             "#bd3786"
            ],
            [
             0.5555555555555556,
             "#d8576b"
            ],
            [
             0.6666666666666666,
             "#ed7953"
            ],
            [
             0.7777777777777778,
             "#fb9f3a"
            ],
            [
             0.8888888888888888,
             "#fdca26"
            ],
            [
             1,
             "#f0f921"
            ]
           ]
          },
          "colorway": [
           "#636efa",
           "#EF553B",
           "#00cc96",
           "#ab63fa",
           "#FFA15A",
           "#19d3f3",
           "#FF6692",
           "#B6E880",
           "#FF97FF",
           "#FECB52"
          ],
          "font": {
           "color": "#2a3f5f"
          },
          "geo": {
           "bgcolor": "white",
           "lakecolor": "white",
           "landcolor": "#E5ECF6",
           "showlakes": true,
           "showland": true,
           "subunitcolor": "white"
          },
          "hoverlabel": {
           "align": "left"
          },
          "hovermode": "closest",
          "mapbox": {
           "style": "light"
          },
          "paper_bgcolor": "white",
          "plot_bgcolor": "#E5ECF6",
          "polar": {
           "angularaxis": {
            "gridcolor": "white",
            "linecolor": "white",
            "ticks": ""
           },
           "bgcolor": "#E5ECF6",
           "radialaxis": {
            "gridcolor": "white",
            "linecolor": "white",
            "ticks": ""
           }
          },
          "scene": {
           "xaxis": {
            "backgroundcolor": "#E5ECF6",
            "gridcolor": "white",
            "gridwidth": 2,
            "linecolor": "white",
            "showbackground": true,
            "ticks": "",
            "zerolinecolor": "white"
           },
           "yaxis": {
            "backgroundcolor": "#E5ECF6",
            "gridcolor": "white",
            "gridwidth": 2,
            "linecolor": "white",
            "showbackground": true,
            "ticks": "",
            "zerolinecolor": "white"
           },
           "zaxis": {
            "backgroundcolor": "#E5ECF6",
            "gridcolor": "white",
            "gridwidth": 2,
            "linecolor": "white",
            "showbackground": true,
            "ticks": "",
            "zerolinecolor": "white"
           }
          },
          "shapedefaults": {
           "line": {
            "color": "#2a3f5f"
           }
          },
          "ternary": {
           "aaxis": {
            "gridcolor": "white",
            "linecolor": "white",
            "ticks": ""
           },
           "baxis": {
            "gridcolor": "white",
            "linecolor": "white",
            "ticks": ""
           },
           "bgcolor": "#E5ECF6",
           "caxis": {
            "gridcolor": "white",
            "linecolor": "white",
            "ticks": ""
           }
          },
          "title": {
           "x": 0.05
          },
          "xaxis": {
           "automargin": true,
           "gridcolor": "white",
           "linecolor": "white",
           "ticks": "",
           "title": {
            "standoff": 15
           },
           "zerolinecolor": "white",
           "zerolinewidth": 2
          },
          "yaxis": {
           "automargin": true,
           "gridcolor": "white",
           "linecolor": "white",
           "ticks": "",
           "title": {
            "standoff": 15
           },
           "zerolinecolor": "white",
           "zerolinewidth": 2
          }
         }
        },
        "title": {
         "text": "Elo Rating History of Chelsea, Liverpool, Man United, Southampton"
        },
        "xaxis": {
         "anchor": "y",
         "domain": [
          0,
          1
         ],
         "title": {
          "text": "Date"
         }
        },
        "yaxis": {
         "anchor": "x",
         "domain": [
          0,
          1
         ],
         "title": {
          "text": "Elo-rating after match"
         }
        }
       }
      }
     },
     "metadata": {},
     "output_type": "display_data"
    }
   ],
   "source": [
    "plotly_express_chart_maker('Chelsea', 'Liverpool','Man United', 'Southampton')"
   ]
  },
  {
   "cell_type": "code",
   "execution_count": 13,
   "id": "a3014689",
   "metadata": {},
   "outputs": [
    {
     "data": {
      "text/html": [
       "<div>\n",
       "<style scoped>\n",
       "    .dataframe tbody tr th:only-of-type {\n",
       "        vertical-align: middle;\n",
       "    }\n",
       "\n",
       "    .dataframe tbody tr th {\n",
       "        vertical-align: top;\n",
       "    }\n",
       "\n",
       "    .dataframe thead th {\n",
       "        text-align: right;\n",
       "    }\n",
       "</style>\n",
       "<table border=\"1\" class=\"dataframe\">\n",
       "  <thead>\n",
       "    <tr style=\"text-align: right;\">\n",
       "      <th></th>\n",
       "      <th>Season</th>\n",
       "      <th>Date</th>\n",
       "      <th>Team</th>\n",
       "      <th>Elo-rating after match</th>\n",
       "    </tr>\n",
       "  </thead>\n",
       "  <tbody>\n",
       "    <tr>\n",
       "      <th>20298</th>\n",
       "      <td>2019-2020</td>\n",
       "      <td>2020-02-24</td>\n",
       "      <td>Liverpool</td>\n",
       "      <td>1958.06</td>\n",
       "    </tr>\n",
       "    <tr>\n",
       "      <th>19763</th>\n",
       "      <td>2019-2020</td>\n",
       "      <td>2019-08-10</td>\n",
       "      <td>Man City</td>\n",
       "      <td>1908.84</td>\n",
       "    </tr>\n",
       "    <tr>\n",
       "      <th>9547</th>\n",
       "      <td>2005-2006</td>\n",
       "      <td>2006-01-15</td>\n",
       "      <td>Chelsea</td>\n",
       "      <td>1875.96</td>\n",
       "    </tr>\n",
       "    <tr>\n",
       "      <th>15041</th>\n",
       "      <td>2012-2013</td>\n",
       "      <td>2013-03-30</td>\n",
       "      <td>Man United</td>\n",
       "      <td>1861.53</td>\n",
       "    </tr>\n",
       "    <tr>\n",
       "      <th>23684</th>\n",
       "      <td>2024-2025</td>\n",
       "      <td>2024-10-05</td>\n",
       "      <td>Arsenal</td>\n",
       "      <td>1848.48</td>\n",
       "    </tr>\n",
       "  </tbody>\n",
       "</table>\n",
       "</div>"
      ],
      "text/plain": [
       "          Season        Date        Team  Elo-rating after match\n",
       "20298  2019-2020  2020-02-24   Liverpool                 1958.06\n",
       "19763  2019-2020  2019-08-10    Man City                 1908.84\n",
       "9547   2005-2006  2006-01-15     Chelsea                 1875.96\n",
       "15041  2012-2013  2013-03-30  Man United                 1861.53\n",
       "23684  2024-2025  2024-10-05     Arsenal                 1848.48"
      ]
     },
     "execution_count": 13,
     "metadata": {},
     "output_type": "execute_result"
    }
   ],
   "source": [
    "def highest_elo_rating_achieved():\n",
    "    max_team_rating_index = elo_ratings_history_df.groupby('Team')['Elo-rating after match'].idxmax()\n",
    "    max_team_rating_df = elo_ratings_history_df.loc[max_team_rating_index]\n",
    "    max_team_rating_df['Date'] = max_team_rating_df['Date'].dt.date\n",
    "    max_team_rating_df_sorted = max_team_rating_df.sort_values(by = 'Elo-rating after match', ascending = False)\n",
    "    return max_team_rating_df_sorted[['Season', 'Date', 'Team', 'Elo-rating after match']]\n",
    "\n",
    "max_team_rating_df = highest_elo_rating_achieved()\n",
    "max_team_rating_df.head()"
   ]
  },
  {
   "cell_type": "code",
   "execution_count": 14,
   "id": "78eae20e",
   "metadata": {},
   "outputs": [],
   "source": [
    "def plotly_bar_chart_max_rating(*teams):\n",
    "    if len(teams) > 7:\n",
    "        return \"Too long list for bar chart\"\n",
    "    \n",
    "    required_df = max_team_rating_df.loc[max_team_rating_df['Team'].isin(teams)]\n",
    "    required_df.sort_values(by = 'Elo-rating after match', ascending = False)\n",
    "    \n",
    "    fig = px.bar(\n",
    "       required_df,\n",
    "       x = \"Team\",\n",
    "       y = 'Elo-rating after match',\n",
    "       title = f'Highest Elo-Ratings ever achieved for,{', '.join(teams)} ',\n",
    "       color = 'Team',\n",
    "       hover_data = ['Date','Season'],\n",
    "       text = 'Elo-rating after match'\n",
    ")\n",
    "    fig.update_yaxes(range = [required_df['Elo-rating after match'].min() - 100, required_df['Elo-rating after match'].max() + 20 ])\n",
    "    fig.show()"
   ]
  },
  {
   "cell_type": "code",
   "execution_count": 15,
   "id": "ba74b335",
   "metadata": {},
   "outputs": [
    {
     "data": {
      "application/vnd.plotly.v1+json": {
       "config": {
        "plotlyServerURL": "https://plot.ly"
       },
       "data": [
        {
         "customdata": [
          [
           "2020-02-24",
           "2019-2020"
          ]
         ],
         "hovertemplate": "Team=%{x}<br>Elo-rating after match=%{text}<br>Date=%{customdata[0]}<br>Season=%{customdata[1]}<extra></extra>",
         "legendgroup": "Liverpool",
         "marker": {
          "color": "#636efa",
          "pattern": {
           "shape": ""
          }
         },
         "name": "Liverpool",
         "orientation": "v",
         "showlegend": true,
         "text": {
          "bdata": "CtejcD2YnkA=",
          "dtype": "f8"
         },
         "textposition": "auto",
         "type": "bar",
         "x": [
          "Liverpool"
         ],
         "xaxis": "x",
         "y": {
          "bdata": "CtejcD2YnkA=",
          "dtype": "f8"
         },
         "yaxis": "y"
        },
        {
         "customdata": [
          [
           "2019-08-10",
           "2019-2020"
          ]
         ],
         "hovertemplate": "Team=%{x}<br>Elo-rating after match=%{text}<br>Date=%{customdata[0]}<br>Season=%{customdata[1]}<extra></extra>",
         "legendgroup": "Man City",
         "marker": {
          "color": "#EF553B",
          "pattern": {
           "shape": ""
          }
         },
         "name": "Man City",
         "orientation": "v",
         "showlegend": true,
         "text": {
          "bdata": "j8L1KFzTnUA=",
          "dtype": "f8"
         },
         "textposition": "auto",
         "type": "bar",
         "x": [
          "Man City"
         ],
         "xaxis": "x",
         "y": {
          "bdata": "j8L1KFzTnUA=",
          "dtype": "f8"
         },
         "yaxis": "y"
        },
        {
         "customdata": [
          [
           "2006-01-15",
           "2005-2006"
          ]
         ],
         "hovertemplate": "Team=%{x}<br>Elo-rating after match=%{text}<br>Date=%{customdata[0]}<br>Season=%{customdata[1]}<extra></extra>",
         "legendgroup": "Chelsea",
         "marker": {
          "color": "#00cc96",
          "pattern": {
           "shape": ""
          }
         },
         "name": "Chelsea",
         "orientation": "v",
         "showlegend": true,
         "text": {
          "bdata": "pHA9CtdPnUA=",
          "dtype": "f8"
         },
         "textposition": "auto",
         "type": "bar",
         "x": [
          "Chelsea"
         ],
         "xaxis": "x",
         "y": {
          "bdata": "pHA9CtdPnUA=",
          "dtype": "f8"
         },
         "yaxis": "y"
        },
        {
         "customdata": [
          [
           "2013-03-30",
           "2012-2013"
          ]
         ],
         "hovertemplate": "Team=%{x}<br>Elo-rating after match=%{text}<br>Date=%{customdata[0]}<br>Season=%{customdata[1]}<extra></extra>",
         "legendgroup": "Man United",
         "marker": {
          "color": "#ab63fa",
          "pattern": {
           "shape": ""
          }
         },
         "name": "Man United",
         "orientation": "v",
         "showlegend": true,
         "text": {
          "bdata": "hetRuB4WnUA=",
          "dtype": "f8"
         },
         "textposition": "auto",
         "type": "bar",
         "x": [
          "Man United"
         ],
         "xaxis": "x",
         "y": {
          "bdata": "hetRuB4WnUA=",
          "dtype": "f8"
         },
         "yaxis": "y"
        },
        {
         "customdata": [
          [
           "2024-10-05",
           "2024-2025"
          ]
         ],
         "hovertemplate": "Team=%{x}<br>Elo-rating after match=%{text}<br>Date=%{customdata[0]}<br>Season=%{customdata[1]}<extra></extra>",
         "legendgroup": "Arsenal",
         "marker": {
          "color": "#FFA15A",
          "pattern": {
           "shape": ""
          }
         },
         "name": "Arsenal",
         "orientation": "v",
         "showlegend": true,
         "text": {
          "bdata": "UrgehevhnEA=",
          "dtype": "f8"
         },
         "textposition": "auto",
         "type": "bar",
         "x": [
          "Arsenal"
         ],
         "xaxis": "x",
         "y": {
          "bdata": "UrgehevhnEA=",
          "dtype": "f8"
         },
         "yaxis": "y"
        },
        {
         "customdata": [
          [
           "2018-04-07",
           "2017-2018"
          ]
         ],
         "hovertemplate": "Team=%{x}<br>Elo-rating after match=%{text}<br>Date=%{customdata[0]}<br>Season=%{customdata[1]}<extra></extra>",
         "legendgroup": "Tottenham",
         "marker": {
          "color": "#19d3f3",
          "pattern": {
           "shape": ""
          }
         },
         "name": "Tottenham",
         "orientation": "v",
         "showlegend": true,
         "text": {
          "bdata": "4XoUrkcqnEA=",
          "dtype": "f8"
         },
         "textposition": "auto",
         "type": "bar",
         "x": [
          "Tottenham"
         ],
         "xaxis": "x",
         "y": {
          "bdata": "4XoUrkcqnEA=",
          "dtype": "f8"
         },
         "yaxis": "y"
        },
        {
         "customdata": [
          [
           "2015-01-17",
           "2014-2015"
          ]
         ],
         "hovertemplate": "Team=%{x}<br>Elo-rating after match=%{text}<br>Date=%{customdata[0]}<br>Season=%{customdata[1]}<extra></extra>",
         "legendgroup": "Southampton",
         "marker": {
          "color": "#FF6692",
          "pattern": {
           "shape": ""
          }
         },
         "name": "Southampton",
         "orientation": "v",
         "showlegend": true,
         "text": {
          "bdata": "PQrXo3AamkA=",
          "dtype": "f8"
         },
         "textposition": "auto",
         "type": "bar",
         "x": [
          "Southampton"
         ],
         "xaxis": "x",
         "y": {
          "bdata": "PQrXo3AamkA=",
          "dtype": "f8"
         },
         "yaxis": "y"
        }
       ],
       "layout": {
        "barmode": "relative",
        "legend": {
         "title": {
          "text": "Team"
         },
         "tracegroupgap": 0
        },
        "template": {
         "data": {
          "bar": [
           {
            "error_x": {
             "color": "#2a3f5f"
            },
            "error_y": {
             "color": "#2a3f5f"
            },
            "marker": {
             "line": {
              "color": "#E5ECF6",
              "width": 0.5
             },
             "pattern": {
              "fillmode": "overlay",
              "size": 10,
              "solidity": 0.2
             }
            },
            "type": "bar"
           }
          ],
          "barpolar": [
           {
            "marker": {
             "line": {
              "color": "#E5ECF6",
              "width": 0.5
             },
             "pattern": {
              "fillmode": "overlay",
              "size": 10,
              "solidity": 0.2
             }
            },
            "type": "barpolar"
           }
          ],
          "carpet": [
           {
            "aaxis": {
             "endlinecolor": "#2a3f5f",
             "gridcolor": "white",
             "linecolor": "white",
             "minorgridcolor": "white",
             "startlinecolor": "#2a3f5f"
            },
            "baxis": {
             "endlinecolor": "#2a3f5f",
             "gridcolor": "white",
             "linecolor": "white",
             "minorgridcolor": "white",
             "startlinecolor": "#2a3f5f"
            },
            "type": "carpet"
           }
          ],
          "choropleth": [
           {
            "colorbar": {
             "outlinewidth": 0,
             "ticks": ""
            },
            "type": "choropleth"
           }
          ],
          "contour": [
           {
            "colorbar": {
             "outlinewidth": 0,
             "ticks": ""
            },
            "colorscale": [
             [
              0,
              "#0d0887"
             ],
             [
              0.1111111111111111,
              "#46039f"
             ],
             [
              0.2222222222222222,
              "#7201a8"
             ],
             [
              0.3333333333333333,
              "#9c179e"
             ],
             [
              0.4444444444444444,
              "#bd3786"
             ],
             [
              0.5555555555555556,
              "#d8576b"
             ],
             [
              0.6666666666666666,
              "#ed7953"
             ],
             [
              0.7777777777777778,
              "#fb9f3a"
             ],
             [
              0.8888888888888888,
              "#fdca26"
             ],
             [
              1,
              "#f0f921"
             ]
            ],
            "type": "contour"
           }
          ],
          "contourcarpet": [
           {
            "colorbar": {
             "outlinewidth": 0,
             "ticks": ""
            },
            "type": "contourcarpet"
           }
          ],
          "heatmap": [
           {
            "colorbar": {
             "outlinewidth": 0,
             "ticks": ""
            },
            "colorscale": [
             [
              0,
              "#0d0887"
             ],
             [
              0.1111111111111111,
              "#46039f"
             ],
             [
              0.2222222222222222,
              "#7201a8"
             ],
             [
              0.3333333333333333,
              "#9c179e"
             ],
             [
              0.4444444444444444,
              "#bd3786"
             ],
             [
              0.5555555555555556,
              "#d8576b"
             ],
             [
              0.6666666666666666,
              "#ed7953"
             ],
             [
              0.7777777777777778,
              "#fb9f3a"
             ],
             [
              0.8888888888888888,
              "#fdca26"
             ],
             [
              1,
              "#f0f921"
             ]
            ],
            "type": "heatmap"
           }
          ],
          "histogram": [
           {
            "marker": {
             "pattern": {
              "fillmode": "overlay",
              "size": 10,
              "solidity": 0.2
             }
            },
            "type": "histogram"
           }
          ],
          "histogram2d": [
           {
            "colorbar": {
             "outlinewidth": 0,
             "ticks": ""
            },
            "colorscale": [
             [
              0,
              "#0d0887"
             ],
             [
              0.1111111111111111,
              "#46039f"
             ],
             [
              0.2222222222222222,
              "#7201a8"
             ],
             [
              0.3333333333333333,
              "#9c179e"
             ],
             [
              0.4444444444444444,
              "#bd3786"
             ],
             [
              0.5555555555555556,
              "#d8576b"
             ],
             [
              0.6666666666666666,
              "#ed7953"
             ],
             [
              0.7777777777777778,
              "#fb9f3a"
             ],
             [
              0.8888888888888888,
              "#fdca26"
             ],
             [
              1,
              "#f0f921"
             ]
            ],
            "type": "histogram2d"
           }
          ],
          "histogram2dcontour": [
           {
            "colorbar": {
             "outlinewidth": 0,
             "ticks": ""
            },
            "colorscale": [
             [
              0,
              "#0d0887"
             ],
             [
              0.1111111111111111,
              "#46039f"
             ],
             [
              0.2222222222222222,
              "#7201a8"
             ],
             [
              0.3333333333333333,
              "#9c179e"
             ],
             [
              0.4444444444444444,
              "#bd3786"
             ],
             [
              0.5555555555555556,
              "#d8576b"
             ],
             [
              0.6666666666666666,
              "#ed7953"
             ],
             [
              0.7777777777777778,
              "#fb9f3a"
             ],
             [
              0.8888888888888888,
              "#fdca26"
             ],
             [
              1,
              "#f0f921"
             ]
            ],
            "type": "histogram2dcontour"
           }
          ],
          "mesh3d": [
           {
            "colorbar": {
             "outlinewidth": 0,
             "ticks": ""
            },
            "type": "mesh3d"
           }
          ],
          "parcoords": [
           {
            "line": {
             "colorbar": {
              "outlinewidth": 0,
              "ticks": ""
             }
            },
            "type": "parcoords"
           }
          ],
          "pie": [
           {
            "automargin": true,
            "type": "pie"
           }
          ],
          "scatter": [
           {
            "fillpattern": {
             "fillmode": "overlay",
             "size": 10,
             "solidity": 0.2
            },
            "type": "scatter"
           }
          ],
          "scatter3d": [
           {
            "line": {
             "colorbar": {
              "outlinewidth": 0,
              "ticks": ""
             }
            },
            "marker": {
             "colorbar": {
              "outlinewidth": 0,
              "ticks": ""
             }
            },
            "type": "scatter3d"
           }
          ],
          "scattercarpet": [
           {
            "marker": {
             "colorbar": {
              "outlinewidth": 0,
              "ticks": ""
             }
            },
            "type": "scattercarpet"
           }
          ],
          "scattergeo": [
           {
            "marker": {
             "colorbar": {
              "outlinewidth": 0,
              "ticks": ""
             }
            },
            "type": "scattergeo"
           }
          ],
          "scattergl": [
           {
            "marker": {
             "colorbar": {
              "outlinewidth": 0,
              "ticks": ""
             }
            },
            "type": "scattergl"
           }
          ],
          "scattermap": [
           {
            "marker": {
             "colorbar": {
              "outlinewidth": 0,
              "ticks": ""
             }
            },
            "type": "scattermap"
           }
          ],
          "scattermapbox": [
           {
            "marker": {
             "colorbar": {
              "outlinewidth": 0,
              "ticks": ""
             }
            },
            "type": "scattermapbox"
           }
          ],
          "scatterpolar": [
           {
            "marker": {
             "colorbar": {
              "outlinewidth": 0,
              "ticks": ""
             }
            },
            "type": "scatterpolar"
           }
          ],
          "scatterpolargl": [
           {
            "marker": {
             "colorbar": {
              "outlinewidth": 0,
              "ticks": ""
             }
            },
            "type": "scatterpolargl"
           }
          ],
          "scatterternary": [
           {
            "marker": {
             "colorbar": {
              "outlinewidth": 0,
              "ticks": ""
             }
            },
            "type": "scatterternary"
           }
          ],
          "surface": [
           {
            "colorbar": {
             "outlinewidth": 0,
             "ticks": ""
            },
            "colorscale": [
             [
              0,
              "#0d0887"
             ],
             [
              0.1111111111111111,
              "#46039f"
             ],
             [
              0.2222222222222222,
              "#7201a8"
             ],
             [
              0.3333333333333333,
              "#9c179e"
             ],
             [
              0.4444444444444444,
              "#bd3786"
             ],
             [
              0.5555555555555556,
              "#d8576b"
             ],
             [
              0.6666666666666666,
              "#ed7953"
             ],
             [
              0.7777777777777778,
              "#fb9f3a"
             ],
             [
              0.8888888888888888,
              "#fdca26"
             ],
             [
              1,
              "#f0f921"
             ]
            ],
            "type": "surface"
           }
          ],
          "table": [
           {
            "cells": {
             "fill": {
              "color": "#EBF0F8"
             },
             "line": {
              "color": "white"
             }
            },
            "header": {
             "fill": {
              "color": "#C8D4E3"
             },
             "line": {
              "color": "white"
             }
            },
            "type": "table"
           }
          ]
         },
         "layout": {
          "annotationdefaults": {
           "arrowcolor": "#2a3f5f",
           "arrowhead": 0,
           "arrowwidth": 1
          },
          "autotypenumbers": "strict",
          "coloraxis": {
           "colorbar": {
            "outlinewidth": 0,
            "ticks": ""
           }
          },
          "colorscale": {
           "diverging": [
            [
             0,
             "#8e0152"
            ],
            [
             0.1,
             "#c51b7d"
            ],
            [
             0.2,
             "#de77ae"
            ],
            [
             0.3,
             "#f1b6da"
            ],
            [
             0.4,
             "#fde0ef"
            ],
            [
             0.5,
             "#f7f7f7"
            ],
            [
             0.6,
             "#e6f5d0"
            ],
            [
             0.7,
             "#b8e186"
            ],
            [
             0.8,
             "#7fbc41"
            ],
            [
             0.9,
             "#4d9221"
            ],
            [
             1,
             "#276419"
            ]
           ],
           "sequential": [
            [
             0,
             "#0d0887"
            ],
            [
             0.1111111111111111,
             "#46039f"
            ],
            [
             0.2222222222222222,
             "#7201a8"
            ],
            [
             0.3333333333333333,
             "#9c179e"
            ],
            [
             0.4444444444444444,
             "#bd3786"
            ],
            [
             0.5555555555555556,
             "#d8576b"
            ],
            [
             0.6666666666666666,
             "#ed7953"
            ],
            [
             0.7777777777777778,
             "#fb9f3a"
            ],
            [
             0.8888888888888888,
             "#fdca26"
            ],
            [
             1,
             "#f0f921"
            ]
           ],
           "sequentialminus": [
            [
             0,
             "#0d0887"
            ],
            [
             0.1111111111111111,
             "#46039f"
            ],
            [
             0.2222222222222222,
             "#7201a8"
            ],
            [
             0.3333333333333333,
             "#9c179e"
            ],
            [
             0.4444444444444444,
             "#bd3786"
            ],
            [
             0.5555555555555556,
             "#d8576b"
            ],
            [
             0.6666666666666666,
             "#ed7953"
            ],
            [
             0.7777777777777778,
             "#fb9f3a"
            ],
            [
             0.8888888888888888,
             "#fdca26"
            ],
            [
             1,
             "#f0f921"
            ]
           ]
          },
          "colorway": [
           "#636efa",
           "#EF553B",
           "#00cc96",
           "#ab63fa",
           "#FFA15A",
           "#19d3f3",
           "#FF6692",
           "#B6E880",
           "#FF97FF",
           "#FECB52"
          ],
          "font": {
           "color": "#2a3f5f"
          },
          "geo": {
           "bgcolor": "white",
           "lakecolor": "white",
           "landcolor": "#E5ECF6",
           "showlakes": true,
           "showland": true,
           "subunitcolor": "white"
          },
          "hoverlabel": {
           "align": "left"
          },
          "hovermode": "closest",
          "mapbox": {
           "style": "light"
          },
          "paper_bgcolor": "white",
          "plot_bgcolor": "#E5ECF6",
          "polar": {
           "angularaxis": {
            "gridcolor": "white",
            "linecolor": "white",
            "ticks": ""
           },
           "bgcolor": "#E5ECF6",
           "radialaxis": {
            "gridcolor": "white",
            "linecolor": "white",
            "ticks": ""
           }
          },
          "scene": {
           "xaxis": {
            "backgroundcolor": "#E5ECF6",
            "gridcolor": "white",
            "gridwidth": 2,
            "linecolor": "white",
            "showbackground": true,
            "ticks": "",
            "zerolinecolor": "white"
           },
           "yaxis": {
            "backgroundcolor": "#E5ECF6",
            "gridcolor": "white",
            "gridwidth": 2,
            "linecolor": "white",
            "showbackground": true,
            "ticks": "",
            "zerolinecolor": "white"
           },
           "zaxis": {
            "backgroundcolor": "#E5ECF6",
            "gridcolor": "white",
            "gridwidth": 2,
            "linecolor": "white",
            "showbackground": true,
            "ticks": "",
            "zerolinecolor": "white"
           }
          },
          "shapedefaults": {
           "line": {
            "color": "#2a3f5f"
           }
          },
          "ternary": {
           "aaxis": {
            "gridcolor": "white",
            "linecolor": "white",
            "ticks": ""
           },
           "baxis": {
            "gridcolor": "white",
            "linecolor": "white",
            "ticks": ""
           },
           "bgcolor": "#E5ECF6",
           "caxis": {
            "gridcolor": "white",
            "linecolor": "white",
            "ticks": ""
           }
          },
          "title": {
           "x": 0.05
          },
          "xaxis": {
           "automargin": true,
           "gridcolor": "white",
           "linecolor": "white",
           "ticks": "",
           "title": {
            "standoff": 15
           },
           "zerolinecolor": "white",
           "zerolinewidth": 2
          },
          "yaxis": {
           "automargin": true,
           "gridcolor": "white",
           "linecolor": "white",
           "ticks": "",
           "title": {
            "standoff": 15
           },
           "zerolinecolor": "white",
           "zerolinewidth": 2
          }
         }
        },
        "title": {
         "text": "Highest Elo-Ratings ever achieved for,Liverpool, Chelsea, Arsenal, Man United, Man City, Tottenham, Southampton "
        },
        "xaxis": {
         "anchor": "y",
         "categoryarray": [
          "Liverpool",
          "Man City",
          "Chelsea",
          "Man United",
          "Arsenal",
          "Tottenham",
          "Southampton"
         ],
         "categoryorder": "array",
         "domain": [
          0,
          1
         ],
         "title": {
          "text": "Team"
         }
        },
        "yaxis": {
         "anchor": "x",
         "domain": [
          0,
          1
         ],
         "range": [
          1570.61,
          1978.06
         ],
         "title": {
          "text": "Elo-rating after match"
         }
        }
       }
      }
     },
     "metadata": {},
     "output_type": "display_data"
    }
   ],
   "source": [
    "plotly_bar_chart_max_rating('Liverpool', 'Chelsea', 'Arsenal', 'Man United', 'Man City', 'Tottenham', 'Southampton')"
   ]
  },
  {
   "cell_type": "code",
   "execution_count": 16,
   "id": "b227d21f",
   "metadata": {},
   "outputs": [
    {
     "data": {
      "text/plain": [
       "array(['Arsenal', 'Coventry', 'Aston Villa', 'QPR', 'Chelsea',\n",
       "       'Blackburn', 'Liverpool', 'Sheffield Weds', 'Man City', 'Leeds',\n",
       "       'Newcastle', 'Tottenham', 'Oldham', 'Ipswich', 'Sheffield United',\n",
       "       'Swindon', 'Southampton', 'Everton', 'West Ham', 'Wimbledon',\n",
       "       'Norwich', 'Man United', 'Crystal Palace', \"Nott'm Forest\",\n",
       "       'Leicester', 'Bolton', 'Middlesbrough', 'Derby', 'Sunderland',\n",
       "       'Barnsley', 'Charlton', 'Bradford', 'Watford', 'Fulham',\n",
       "       'West Brom', 'Birmingham', 'Wolves', 'Portsmouth', 'Wigan',\n",
       "       'Reading', 'Hull', 'Stoke', 'Burnley', 'Blackpool', 'Swansea',\n",
       "       'Cardiff', 'Bournemouth', 'Brighton', 'Huddersfield', 'Brentford',\n",
       "       'Luton'], dtype=object)"
      ]
     },
     "execution_count": 16,
     "metadata": {},
     "output_type": "execute_result"
    }
   ],
   "source": [
    "unique_teams = elo_ratings_history_df['Team'].unique()\n",
    "unique_teams"
   ]
  },
  {
   "cell_type": "code",
   "execution_count": 17,
   "id": "96537ec4",
   "metadata": {},
   "outputs": [],
   "source": [
    "elo_ratings_improvements = []\n",
    "for team in unique_teams:\n",
    "    team_data_df = elo_ratings_history_df.loc[elo_ratings_history_df['Team'] == team]\n",
    "    unique_seasons = team_data_df['Season'].unique()\n",
    "\n",
    "    for season in unique_seasons:\n",
    "        team_data_season_df = team_data_df.loc[team_data_df['Season'] == season].sort_values(by = 'Date')\n",
    "        season_start_elo = team_data_season_df.iloc[0]['Elo-rating before match']\n",
    "        season_end_elo = team_data_season_df.iloc[-1]['Elo-rating after match']\n",
    "\n",
    "        elo_difference_season = season_end_elo - season_start_elo\n",
    "\n",
    "        elo_ratings_improvements.append({\n",
    "            'Season': season,\n",
    "            'Team': team,\n",
    "            'Season Start Elo': season_start_elo,\n",
    "            'Season End Elo': season_end_elo,\n",
    "            'Elo-difference': round(elo_difference_season, 2)\n",
    "        })\n",
    "\n"
   ]
  },
  {
   "cell_type": "code",
   "execution_count": 18,
   "id": "a6a4585f",
   "metadata": {},
   "outputs": [],
   "source": [
    "elo_ratings_improvements_df = pd.DataFrame(elo_ratings_improvements)\n",
    "elo_gain_per_team = elo_ratings_improvements_df.loc[elo_ratings_improvements_df.groupby('Team')['Elo-difference'].idxmax()].sort_values(by = 'Elo-difference',ascending = False)\n",
    "elo_loss_per_team = elo_ratings_improvements_df.loc[elo_ratings_improvements_df.groupby('Team')['Elo-difference'].idxmin()].sort_values(by = 'Elo-difference',ascending = True)\n",
    "elo_gain_per_team.to_csv('../Data/Processed/Elo_gain_per_team.csv', index = False)\n",
    "elo_gain_per_team.head()\n",
    "elo_loss_per_team.to_csv('../Data/Processed/Elo_loss_per_team.csv', index = False)"
   ]
  },
  {
   "cell_type": "code",
   "execution_count": 19,
   "id": "e07a1f7b",
   "metadata": {},
   "outputs": [],
   "source": [
    "def plotly_bar_chart_elo_gain(*teams):\n",
    "    \n",
    "    required_df = elo_gain_per_team.loc[elo_gain_per_team['Team'].isin(teams)].sort_values(by = 'Elo-difference', ascending = False)\n",
    "    fig = px.bar(\n",
    "        required_df,\n",
    "        x = 'Team',\n",
    "        y = 'Elo-difference',\n",
    "        title = f'Best Elo-gain for {', '.join(teams)}',\n",
    "        color = 'Team',\n",
    "        hover_data = ['Season', 'Season Start Elo', 'Season End Elo'],\n",
    "        text = 'Elo-difference'\n",
    "        )\n",
    "\n",
    "    fig.show()"
   ]
  },
  {
   "cell_type": "code",
   "execution_count": 20,
   "id": "d3660bcd",
   "metadata": {},
   "outputs": [
    {
     "data": {
      "application/vnd.plotly.v1+json": {
       "config": {
        "plotlyServerURL": "https://plot.ly"
       },
       "data": [
        {
         "customdata": [
          [
           "2000-2001",
           1357.33,
           1572.21
          ]
         ],
         "hovertemplate": "Team=%{x}<br>Elo-difference=%{text}<br>Season=%{customdata[0]}<br>Season Start Elo=%{customdata[1]}<br>Season End Elo=%{customdata[2]}<extra></extra>",
         "legendgroup": "Ipswich",
         "marker": {
          "color": "#636efa",
          "pattern": {
           "shape": ""
          }
         },
         "name": "Ipswich",
         "orientation": "v",
         "showlegend": true,
         "text": {
          "bdata": "XI/C9SjcakA=",
          "dtype": "f8"
         },
         "textposition": "auto",
         "type": "bar",
         "x": [
          "Ipswich"
         ],
         "xaxis": "x",
         "y": {
          "bdata": "XI/C9SjcakA=",
          "dtype": "f8"
         },
         "yaxis": "y"
        },
        {
         "customdata": [
          [
           "2015-2016",
           1525.71,
           1728.96
          ]
         ],
         "hovertemplate": "Team=%{x}<br>Elo-difference=%{text}<br>Season=%{customdata[0]}<br>Season Start Elo=%{customdata[1]}<br>Season End Elo=%{customdata[2]}<extra></extra>",
         "legendgroup": "Leicester",
         "marker": {
          "color": "#EF553B",
          "pattern": {
           "shape": ""
          }
         },
         "name": "Leicester",
         "orientation": "v",
         "showlegend": true,
         "text": {
          "bdata": "AAAAAABoaUA=",
          "dtype": "f8"
         },
         "textposition": "auto",
         "type": "bar",
         "x": [
          "Leicester"
         ],
         "xaxis": "x",
         "y": {
          "bdata": "AAAAAABoaUA=",
          "dtype": "f8"
         },
         "yaxis": "y"
        },
        {
         "customdata": [
          [
           "2018-2019",
           1408.36,
           1577.77
          ]
         ],
         "hovertemplate": "Team=%{x}<br>Elo-difference=%{text}<br>Season=%{customdata[0]}<br>Season Start Elo=%{customdata[1]}<br>Season End Elo=%{customdata[2]}<extra></extra>",
         "legendgroup": "Wolves",
         "marker": {
          "color": "#00cc96",
          "pattern": {
           "shape": ""
          }
         },
         "name": "Wolves",
         "orientation": "v",
         "showlegend": true,
         "text": {
          "bdata": "hetRuB4tZUA=",
          "dtype": "f8"
         },
         "textposition": "auto",
         "type": "bar",
         "x": [
          "Wolves"
         ],
         "xaxis": "x",
         "y": {
          "bdata": "hetRuB4tZUA=",
          "dtype": "f8"
         },
         "yaxis": "y"
        },
        {
         "customdata": [
          [
           "2016-2017",
           1646.36,
           1799.44
          ]
         ],
         "hovertemplate": "Team=%{x}<br>Elo-difference=%{text}<br>Season=%{customdata[0]}<br>Season Start Elo=%{customdata[1]}<br>Season End Elo=%{customdata[2]}<extra></extra>",
         "legendgroup": "Chelsea",
         "marker": {
          "color": "#ab63fa",
          "pattern": {
           "shape": ""
          }
         },
         "name": "Chelsea",
         "orientation": "v",
         "showlegend": true,
         "text": {
          "bdata": "w/UoXI8iY0A=",
          "dtype": "f8"
         },
         "textposition": "auto",
         "type": "bar",
         "x": [
          "Chelsea"
         ],
         "xaxis": "x",
         "y": {
          "bdata": "w/UoXI8iY0A=",
          "dtype": "f8"
         },
         "yaxis": "y"
        },
        {
         "customdata": [
          [
           "2020-2021",
           1466.14,
           1618.59
          ]
         ],
         "hovertemplate": "Team=%{x}<br>Elo-difference=%{text}<br>Season=%{customdata[0]}<br>Season Start Elo=%{customdata[1]}<br>Season End Elo=%{customdata[2]}<extra></extra>",
         "legendgroup": "Leeds",
         "marker": {
          "color": "#FFA15A",
          "pattern": {
           "shape": ""
          }
         },
         "name": "Leeds",
         "orientation": "v",
         "showlegend": true,
         "text": {
          "bdata": "ZmZmZmYOY0A=",
          "dtype": "f8"
         },
         "textposition": "auto",
         "type": "bar",
         "x": [
          "Leeds"
         ],
         "xaxis": "x",
         "y": {
          "bdata": "ZmZmZmYOY0A=",
          "dtype": "f8"
         },
         "yaxis": "y"
        },
        {
         "customdata": [
          [
           "2001-2002",
           1656.86,
           1788.63
          ]
         ],
         "hovertemplate": "Team=%{x}<br>Elo-difference=%{text}<br>Season=%{customdata[0]}<br>Season Start Elo=%{customdata[1]}<br>Season End Elo=%{customdata[2]}<extra></extra>",
         "legendgroup": "Arsenal",
         "marker": {
          "color": "#19d3f3",
          "pattern": {
           "shape": ""
          }
         },
         "name": "Arsenal",
         "orientation": "v",
         "showlegend": true,
         "text": {
          "bdata": "cT0K16N4YEA=",
          "dtype": "f8"
         },
         "textposition": "auto",
         "type": "bar",
         "x": [
          "Arsenal"
         ],
         "xaxis": "x",
         "y": {
          "bdata": "cT0K16N4YEA=",
          "dtype": "f8"
         },
         "yaxis": "y"
        }
       ],
       "layout": {
        "barmode": "relative",
        "legend": {
         "title": {
          "text": "Team"
         },
         "tracegroupgap": 0
        },
        "template": {
         "data": {
          "bar": [
           {
            "error_x": {
             "color": "#2a3f5f"
            },
            "error_y": {
             "color": "#2a3f5f"
            },
            "marker": {
             "line": {
              "color": "#E5ECF6",
              "width": 0.5
             },
             "pattern": {
              "fillmode": "overlay",
              "size": 10,
              "solidity": 0.2
             }
            },
            "type": "bar"
           }
          ],
          "barpolar": [
           {
            "marker": {
             "line": {
              "color": "#E5ECF6",
              "width": 0.5
             },
             "pattern": {
              "fillmode": "overlay",
              "size": 10,
              "solidity": 0.2
             }
            },
            "type": "barpolar"
           }
          ],
          "carpet": [
           {
            "aaxis": {
             "endlinecolor": "#2a3f5f",
             "gridcolor": "white",
             "linecolor": "white",
             "minorgridcolor": "white",
             "startlinecolor": "#2a3f5f"
            },
            "baxis": {
             "endlinecolor": "#2a3f5f",
             "gridcolor": "white",
             "linecolor": "white",
             "minorgridcolor": "white",
             "startlinecolor": "#2a3f5f"
            },
            "type": "carpet"
           }
          ],
          "choropleth": [
           {
            "colorbar": {
             "outlinewidth": 0,
             "ticks": ""
            },
            "type": "choropleth"
           }
          ],
          "contour": [
           {
            "colorbar": {
             "outlinewidth": 0,
             "ticks": ""
            },
            "colorscale": [
             [
              0,
              "#0d0887"
             ],
             [
              0.1111111111111111,
              "#46039f"
             ],
             [
              0.2222222222222222,
              "#7201a8"
             ],
             [
              0.3333333333333333,
              "#9c179e"
             ],
             [
              0.4444444444444444,
              "#bd3786"
             ],
             [
              0.5555555555555556,
              "#d8576b"
             ],
             [
              0.6666666666666666,
              "#ed7953"
             ],
             [
              0.7777777777777778,
              "#fb9f3a"
             ],
             [
              0.8888888888888888,
              "#fdca26"
             ],
             [
              1,
              "#f0f921"
             ]
            ],
            "type": "contour"
           }
          ],
          "contourcarpet": [
           {
            "colorbar": {
             "outlinewidth": 0,
             "ticks": ""
            },
            "type": "contourcarpet"
           }
          ],
          "heatmap": [
           {
            "colorbar": {
             "outlinewidth": 0,
             "ticks": ""
            },
            "colorscale": [
             [
              0,
              "#0d0887"
             ],
             [
              0.1111111111111111,
              "#46039f"
             ],
             [
              0.2222222222222222,
              "#7201a8"
             ],
             [
              0.3333333333333333,
              "#9c179e"
             ],
             [
              0.4444444444444444,
              "#bd3786"
             ],
             [
              0.5555555555555556,
              "#d8576b"
             ],
             [
              0.6666666666666666,
              "#ed7953"
             ],
             [
              0.7777777777777778,
              "#fb9f3a"
             ],
             [
              0.8888888888888888,
              "#fdca26"
             ],
             [
              1,
              "#f0f921"
             ]
            ],
            "type": "heatmap"
           }
          ],
          "histogram": [
           {
            "marker": {
             "pattern": {
              "fillmode": "overlay",
              "size": 10,
              "solidity": 0.2
             }
            },
            "type": "histogram"
           }
          ],
          "histogram2d": [
           {
            "colorbar": {
             "outlinewidth": 0,
             "ticks": ""
            },
            "colorscale": [
             [
              0,
              "#0d0887"
             ],
             [
              0.1111111111111111,
              "#46039f"
             ],
             [
              0.2222222222222222,
              "#7201a8"
             ],
             [
              0.3333333333333333,
              "#9c179e"
             ],
             [
              0.4444444444444444,
              "#bd3786"
             ],
             [
              0.5555555555555556,
              "#d8576b"
             ],
             [
              0.6666666666666666,
              "#ed7953"
             ],
             [
              0.7777777777777778,
              "#fb9f3a"
             ],
             [
              0.8888888888888888,
              "#fdca26"
             ],
             [
              1,
              "#f0f921"
             ]
            ],
            "type": "histogram2d"
           }
          ],
          "histogram2dcontour": [
           {
            "colorbar": {
             "outlinewidth": 0,
             "ticks": ""
            },
            "colorscale": [
             [
              0,
              "#0d0887"
             ],
             [
              0.1111111111111111,
              "#46039f"
             ],
             [
              0.2222222222222222,
              "#7201a8"
             ],
             [
              0.3333333333333333,
              "#9c179e"
             ],
             [
              0.4444444444444444,
              "#bd3786"
             ],
             [
              0.5555555555555556,
              "#d8576b"
             ],
             [
              0.6666666666666666,
              "#ed7953"
             ],
             [
              0.7777777777777778,
              "#fb9f3a"
             ],
             [
              0.8888888888888888,
              "#fdca26"
             ],
             [
              1,
              "#f0f921"
             ]
            ],
            "type": "histogram2dcontour"
           }
          ],
          "mesh3d": [
           {
            "colorbar": {
             "outlinewidth": 0,
             "ticks": ""
            },
            "type": "mesh3d"
           }
          ],
          "parcoords": [
           {
            "line": {
             "colorbar": {
              "outlinewidth": 0,
              "ticks": ""
             }
            },
            "type": "parcoords"
           }
          ],
          "pie": [
           {
            "automargin": true,
            "type": "pie"
           }
          ],
          "scatter": [
           {
            "fillpattern": {
             "fillmode": "overlay",
             "size": 10,
             "solidity": 0.2
            },
            "type": "scatter"
           }
          ],
          "scatter3d": [
           {
            "line": {
             "colorbar": {
              "outlinewidth": 0,
              "ticks": ""
             }
            },
            "marker": {
             "colorbar": {
              "outlinewidth": 0,
              "ticks": ""
             }
            },
            "type": "scatter3d"
           }
          ],
          "scattercarpet": [
           {
            "marker": {
             "colorbar": {
              "outlinewidth": 0,
              "ticks": ""
             }
            },
            "type": "scattercarpet"
           }
          ],
          "scattergeo": [
           {
            "marker": {
             "colorbar": {
              "outlinewidth": 0,
              "ticks": ""
             }
            },
            "type": "scattergeo"
           }
          ],
          "scattergl": [
           {
            "marker": {
             "colorbar": {
              "outlinewidth": 0,
              "ticks": ""
             }
            },
            "type": "scattergl"
           }
          ],
          "scattermap": [
           {
            "marker": {
             "colorbar": {
              "outlinewidth": 0,
              "ticks": ""
             }
            },
            "type": "scattermap"
           }
          ],
          "scattermapbox": [
           {
            "marker": {
             "colorbar": {
              "outlinewidth": 0,
              "ticks": ""
             }
            },
            "type": "scattermapbox"
           }
          ],
          "scatterpolar": [
           {
            "marker": {
             "colorbar": {
              "outlinewidth": 0,
              "ticks": ""
             }
            },
            "type": "scatterpolar"
           }
          ],
          "scatterpolargl": [
           {
            "marker": {
             "colorbar": {
              "outlinewidth": 0,
              "ticks": ""
             }
            },
            "type": "scatterpolargl"
           }
          ],
          "scatterternary": [
           {
            "marker": {
             "colorbar": {
              "outlinewidth": 0,
              "ticks": ""
             }
            },
            "type": "scatterternary"
           }
          ],
          "surface": [
           {
            "colorbar": {
             "outlinewidth": 0,
             "ticks": ""
            },
            "colorscale": [
             [
              0,
              "#0d0887"
             ],
             [
              0.1111111111111111,
              "#46039f"
             ],
             [
              0.2222222222222222,
              "#7201a8"
             ],
             [
              0.3333333333333333,
              "#9c179e"
             ],
             [
              0.4444444444444444,
              "#bd3786"
             ],
             [
              0.5555555555555556,
              "#d8576b"
             ],
             [
              0.6666666666666666,
              "#ed7953"
             ],
             [
              0.7777777777777778,
              "#fb9f3a"
             ],
             [
              0.8888888888888888,
              "#fdca26"
             ],
             [
              1,
              "#f0f921"
             ]
            ],
            "type": "surface"
           }
          ],
          "table": [
           {
            "cells": {
             "fill": {
              "color": "#EBF0F8"
             },
             "line": {
              "color": "white"
             }
            },
            "header": {
             "fill": {
              "color": "#C8D4E3"
             },
             "line": {
              "color": "white"
             }
            },
            "type": "table"
           }
          ]
         },
         "layout": {
          "annotationdefaults": {
           "arrowcolor": "#2a3f5f",
           "arrowhead": 0,
           "arrowwidth": 1
          },
          "autotypenumbers": "strict",
          "coloraxis": {
           "colorbar": {
            "outlinewidth": 0,
            "ticks": ""
           }
          },
          "colorscale": {
           "diverging": [
            [
             0,
             "#8e0152"
            ],
            [
             0.1,
             "#c51b7d"
            ],
            [
             0.2,
             "#de77ae"
            ],
            [
             0.3,
             "#f1b6da"
            ],
            [
             0.4,
             "#fde0ef"
            ],
            [
             0.5,
             "#f7f7f7"
            ],
            [
             0.6,
             "#e6f5d0"
            ],
            [
             0.7,
             "#b8e186"
            ],
            [
             0.8,
             "#7fbc41"
            ],
            [
             0.9,
             "#4d9221"
            ],
            [
             1,
             "#276419"
            ]
           ],
           "sequential": [
            [
             0,
             "#0d0887"
            ],
            [
             0.1111111111111111,
             "#46039f"
            ],
            [
             0.2222222222222222,
             "#7201a8"
            ],
            [
             0.3333333333333333,
             "#9c179e"
            ],
            [
             0.4444444444444444,
             "#bd3786"
            ],
            [
             0.5555555555555556,
             "#d8576b"
            ],
            [
             0.6666666666666666,
             "#ed7953"
            ],
            [
             0.7777777777777778,
             "#fb9f3a"
            ],
            [
             0.8888888888888888,
             "#fdca26"
            ],
            [
             1,
             "#f0f921"
            ]
           ],
           "sequentialminus": [
            [
             0,
             "#0d0887"
            ],
            [
             0.1111111111111111,
             "#46039f"
            ],
            [
             0.2222222222222222,
             "#7201a8"
            ],
            [
             0.3333333333333333,
             "#9c179e"
            ],
            [
             0.4444444444444444,
             "#bd3786"
            ],
            [
             0.5555555555555556,
             "#d8576b"
            ],
            [
             0.6666666666666666,
             "#ed7953"
            ],
            [
             0.7777777777777778,
             "#fb9f3a"
            ],
            [
             0.8888888888888888,
             "#fdca26"
            ],
            [
             1,
             "#f0f921"
            ]
           ]
          },
          "colorway": [
           "#636efa",
           "#EF553B",
           "#00cc96",
           "#ab63fa",
           "#FFA15A",
           "#19d3f3",
           "#FF6692",
           "#B6E880",
           "#FF97FF",
           "#FECB52"
          ],
          "font": {
           "color": "#2a3f5f"
          },
          "geo": {
           "bgcolor": "white",
           "lakecolor": "white",
           "landcolor": "#E5ECF6",
           "showlakes": true,
           "showland": true,
           "subunitcolor": "white"
          },
          "hoverlabel": {
           "align": "left"
          },
          "hovermode": "closest",
          "mapbox": {
           "style": "light"
          },
          "paper_bgcolor": "white",
          "plot_bgcolor": "#E5ECF6",
          "polar": {
           "angularaxis": {
            "gridcolor": "white",
            "linecolor": "white",
            "ticks": ""
           },
           "bgcolor": "#E5ECF6",
           "radialaxis": {
            "gridcolor": "white",
            "linecolor": "white",
            "ticks": ""
           }
          },
          "scene": {
           "xaxis": {
            "backgroundcolor": "#E5ECF6",
            "gridcolor": "white",
            "gridwidth": 2,
            "linecolor": "white",
            "showbackground": true,
            "ticks": "",
            "zerolinecolor": "white"
           },
           "yaxis": {
            "backgroundcolor": "#E5ECF6",
            "gridcolor": "white",
            "gridwidth": 2,
            "linecolor": "white",
            "showbackground": true,
            "ticks": "",
            "zerolinecolor": "white"
           },
           "zaxis": {
            "backgroundcolor": "#E5ECF6",
            "gridcolor": "white",
            "gridwidth": 2,
            "linecolor": "white",
            "showbackground": true,
            "ticks": "",
            "zerolinecolor": "white"
           }
          },
          "shapedefaults": {
           "line": {
            "color": "#2a3f5f"
           }
          },
          "ternary": {
           "aaxis": {
            "gridcolor": "white",
            "linecolor": "white",
            "ticks": ""
           },
           "baxis": {
            "gridcolor": "white",
            "linecolor": "white",
            "ticks": ""
           },
           "bgcolor": "#E5ECF6",
           "caxis": {
            "gridcolor": "white",
            "linecolor": "white",
            "ticks": ""
           }
          },
          "title": {
           "x": 0.05
          },
          "xaxis": {
           "automargin": true,
           "gridcolor": "white",
           "linecolor": "white",
           "ticks": "",
           "title": {
            "standoff": 15
           },
           "zerolinecolor": "white",
           "zerolinewidth": 2
          },
          "yaxis": {
           "automargin": true,
           "gridcolor": "white",
           "linecolor": "white",
           "ticks": "",
           "title": {
            "standoff": 15
           },
           "zerolinecolor": "white",
           "zerolinewidth": 2
          }
         }
        },
        "title": {
         "text": "Best Elo-gain for Chelsea, Ipswich, Wolves, Arsenal, Leeds, Leicester"
        },
        "xaxis": {
         "anchor": "y",
         "categoryarray": [
          "Ipswich",
          "Leicester",
          "Wolves",
          "Chelsea",
          "Leeds",
          "Arsenal"
         ],
         "categoryorder": "array",
         "domain": [
          0,
          1
         ],
         "title": {
          "text": "Team"
         }
        },
        "yaxis": {
         "anchor": "x",
         "domain": [
          0,
          1
         ],
         "title": {
          "text": "Elo-difference"
         }
        }
       }
      }
     },
     "metadata": {},
     "output_type": "display_data"
    }
   ],
   "source": [
    "plotly_bar_chart_elo_gain('Chelsea', 'Ipswich', 'Wolves', 'Arsenal', 'Leeds', 'Leicester')"
   ]
  },
  {
   "cell_type": "code",
   "execution_count": 21,
   "id": "e0bf9de9",
   "metadata": {},
   "outputs": [],
   "source": [
    "def plotly_bar_chart_elo_loss(*teams):\n",
    "    \n",
    "    required_df = elo_loss_per_team.loc[elo_loss_per_team['Team'].isin(teams)].sort_values(by = 'Elo-difference', ascending = True)\n",
    "    fig = px.bar(\n",
    "        required_df,\n",
    "        x = 'Team',\n",
    "        y = 'Elo-difference',\n",
    "        title = f'Highest Elo-loss for {', '.join(teams)}',\n",
    "        color = 'Team',\n",
    "        hover_data = ['Season', 'Season Start Elo', 'Season End Elo'],\n",
    "        text = 'Elo-difference'\n",
    "        )\n",
    "\n",
    "    fig.show()"
   ]
  },
  {
   "cell_type": "code",
   "execution_count": 22,
   "id": "e1c53bcf",
   "metadata": {},
   "outputs": [
    {
     "data": {
      "application/vnd.plotly.v1+json": {
       "config": {
        "plotlyServerURL": "https://plot.ly"
       },
       "data": [
        {
         "customdata": [
          [
           "2002-2003",
           1471.66,
           1315.48
          ]
         ],
         "hovertemplate": "Team=%{x}<br>Elo-difference=%{text}<br>Season=%{customdata[0]}<br>Season Start Elo=%{customdata[1]}<br>Season End Elo=%{customdata[2]}<extra></extra>",
         "legendgroup": "Sunderland",
         "marker": {
          "color": "#636efa",
          "pattern": {
           "shape": ""
          }
         },
         "name": "Sunderland",
         "orientation": "v",
         "showlegend": true,
         "text": {
          "bdata": "9ihcj8KFY8A=",
          "dtype": "f8"
         },
         "textposition": "auto",
         "type": "bar",
         "x": [
          "Sunderland"
         ],
         "xaxis": "x",
         "y": {
          "bdata": "9ihcj8KFY8A=",
          "dtype": "f8"
         },
         "yaxis": "y"
        },
        {
         "customdata": [
          [
           "2015-2016",
           1800.42,
           1646.36
          ]
         ],
         "hovertemplate": "Team=%{x}<br>Elo-difference=%{text}<br>Season=%{customdata[0]}<br>Season Start Elo=%{customdata[1]}<br>Season End Elo=%{customdata[2]}<extra></extra>",
         "legendgroup": "Chelsea",
         "marker": {
          "color": "#EF553B",
          "pattern": {
           "shape": ""
          }
         },
         "name": "Chelsea",
         "orientation": "v",
         "showlegend": true,
         "text": {
          "bdata": "UrgehetBY8A=",
          "dtype": "f8"
         },
         "textposition": "auto",
         "type": "bar",
         "x": [
          "Chelsea"
         ],
         "xaxis": "x",
         "y": {
          "bdata": "UrgehetBY8A=",
          "dtype": "f8"
         },
         "yaxis": "y"
        },
        {
         "customdata": [
          [
           "1994-1995",
           1500,
           1349
          ]
         ],
         "hovertemplate": "Team=%{x}<br>Elo-difference=%{text}<br>Season=%{customdata[0]}<br>Season Start Elo=%{customdata[1]}<br>Season End Elo=%{customdata[2]}<extra></extra>",
         "legendgroup": "Leicester",
         "marker": {
          "color": "#00cc96",
          "pattern": {
           "shape": ""
          }
         },
         "name": "Leicester",
         "orientation": "v",
         "showlegend": true,
         "text": {
          "bdata": "AAAAAADgYsA=",
          "dtype": "f8"
         },
         "textposition": "auto",
         "type": "bar",
         "x": [
          "Leicester"
         ],
         "xaxis": "x",
         "y": {
          "bdata": "AAAAAADgYsA=",
          "dtype": "f8"
         },
         "yaxis": "y"
        },
        {
         "customdata": [
          [
           "1995-1996",
           1560.35,
           1434.05
          ]
         ],
         "hovertemplate": "Team=%{x}<br>Elo-difference=%{text}<br>Season=%{customdata[0]}<br>Season Start Elo=%{customdata[1]}<br>Season End Elo=%{customdata[2]}<extra></extra>",
         "legendgroup": "Leeds",
         "marker": {
          "color": "#ab63fa",
          "pattern": {
           "shape": ""
          }
         },
         "name": "Leeds",
         "orientation": "v",
         "showlegend": true,
         "text": {
          "bdata": "MzMzMzOTX8A=",
          "dtype": "f8"
         },
         "textposition": "auto",
         "type": "bar",
         "x": [
          "Leeds"
         ],
         "xaxis": "x",
         "y": {
          "bdata": "MzMzMzOTX8A=",
          "dtype": "f8"
         },
         "yaxis": "y"
        },
        {
         "customdata": [
          [
           "1994-1995",
           1459.91,
           1357.33
          ]
         ],
         "hovertemplate": "Team=%{x}<br>Elo-difference=%{text}<br>Season=%{customdata[0]}<br>Season Start Elo=%{customdata[1]}<br>Season End Elo=%{customdata[2]}<extra></extra>",
         "legendgroup": "Ipswich",
         "marker": {
          "color": "#FFA15A",
          "pattern": {
           "shape": ""
          }
         },
         "name": "Ipswich",
         "orientation": "v",
         "showlegend": true,
         "text": {
          "bdata": "hetRuB6lWcA=",
          "dtype": "f8"
         },
         "textposition": "auto",
         "type": "bar",
         "x": [
          "Ipswich"
         ],
         "xaxis": "x",
         "y": {
          "bdata": "hetRuB6lWcA=",
          "dtype": "f8"
         },
         "yaxis": "y"
        },
        {
         "customdata": [
          [
           "1994-1995",
           1594.31,
           1494.05
          ]
         ],
         "hovertemplate": "Team=%{x}<br>Elo-difference=%{text}<br>Season=%{customdata[0]}<br>Season Start Elo=%{customdata[1]}<br>Season End Elo=%{customdata[2]}<extra></extra>",
         "legendgroup": "Arsenal",
         "marker": {
          "color": "#19d3f3",
          "pattern": {
           "shape": ""
          }
         },
         "name": "Arsenal",
         "orientation": "v",
         "showlegend": true,
         "text": {
          "bdata": "cT0K16MQWcA=",
          "dtype": "f8"
         },
         "textposition": "auto",
         "type": "bar",
         "x": [
          "Arsenal"
         ],
         "xaxis": "x",
         "y": {
          "bdata": "cT0K16MQWcA=",
          "dtype": "f8"
         },
         "yaxis": "y"
        }
       ],
       "layout": {
        "barmode": "relative",
        "legend": {
         "title": {
          "text": "Team"
         },
         "tracegroupgap": 0
        },
        "template": {
         "data": {
          "bar": [
           {
            "error_x": {
             "color": "#2a3f5f"
            },
            "error_y": {
             "color": "#2a3f5f"
            },
            "marker": {
             "line": {
              "color": "#E5ECF6",
              "width": 0.5
             },
             "pattern": {
              "fillmode": "overlay",
              "size": 10,
              "solidity": 0.2
             }
            },
            "type": "bar"
           }
          ],
          "barpolar": [
           {
            "marker": {
             "line": {
              "color": "#E5ECF6",
              "width": 0.5
             },
             "pattern": {
              "fillmode": "overlay",
              "size": 10,
              "solidity": 0.2
             }
            },
            "type": "barpolar"
           }
          ],
          "carpet": [
           {
            "aaxis": {
             "endlinecolor": "#2a3f5f",
             "gridcolor": "white",
             "linecolor": "white",
             "minorgridcolor": "white",
             "startlinecolor": "#2a3f5f"
            },
            "baxis": {
             "endlinecolor": "#2a3f5f",
             "gridcolor": "white",
             "linecolor": "white",
             "minorgridcolor": "white",
             "startlinecolor": "#2a3f5f"
            },
            "type": "carpet"
           }
          ],
          "choropleth": [
           {
            "colorbar": {
             "outlinewidth": 0,
             "ticks": ""
            },
            "type": "choropleth"
           }
          ],
          "contour": [
           {
            "colorbar": {
             "outlinewidth": 0,
             "ticks": ""
            },
            "colorscale": [
             [
              0,
              "#0d0887"
             ],
             [
              0.1111111111111111,
              "#46039f"
             ],
             [
              0.2222222222222222,
              "#7201a8"
             ],
             [
              0.3333333333333333,
              "#9c179e"
             ],
             [
              0.4444444444444444,
              "#bd3786"
             ],
             [
              0.5555555555555556,
              "#d8576b"
             ],
             [
              0.6666666666666666,
              "#ed7953"
             ],
             [
              0.7777777777777778,
              "#fb9f3a"
             ],
             [
              0.8888888888888888,
              "#fdca26"
             ],
             [
              1,
              "#f0f921"
             ]
            ],
            "type": "contour"
           }
          ],
          "contourcarpet": [
           {
            "colorbar": {
             "outlinewidth": 0,
             "ticks": ""
            },
            "type": "contourcarpet"
           }
          ],
          "heatmap": [
           {
            "colorbar": {
             "outlinewidth": 0,
             "ticks": ""
            },
            "colorscale": [
             [
              0,
              "#0d0887"
             ],
             [
              0.1111111111111111,
              "#46039f"
             ],
             [
              0.2222222222222222,
              "#7201a8"
             ],
             [
              0.3333333333333333,
              "#9c179e"
             ],
             [
              0.4444444444444444,
              "#bd3786"
             ],
             [
              0.5555555555555556,
              "#d8576b"
             ],
             [
              0.6666666666666666,
              "#ed7953"
             ],
             [
              0.7777777777777778,
              "#fb9f3a"
             ],
             [
              0.8888888888888888,
              "#fdca26"
             ],
             [
              1,
              "#f0f921"
             ]
            ],
            "type": "heatmap"
           }
          ],
          "histogram": [
           {
            "marker": {
             "pattern": {
              "fillmode": "overlay",
              "size": 10,
              "solidity": 0.2
             }
            },
            "type": "histogram"
           }
          ],
          "histogram2d": [
           {
            "colorbar": {
             "outlinewidth": 0,
             "ticks": ""
            },
            "colorscale": [
             [
              0,
              "#0d0887"
             ],
             [
              0.1111111111111111,
              "#46039f"
             ],
             [
              0.2222222222222222,
              "#7201a8"
             ],
             [
              0.3333333333333333,
              "#9c179e"
             ],
             [
              0.4444444444444444,
              "#bd3786"
             ],
             [
              0.5555555555555556,
              "#d8576b"
             ],
             [
              0.6666666666666666,
              "#ed7953"
             ],
             [
              0.7777777777777778,
              "#fb9f3a"
             ],
             [
              0.8888888888888888,
              "#fdca26"
             ],
             [
              1,
              "#f0f921"
             ]
            ],
            "type": "histogram2d"
           }
          ],
          "histogram2dcontour": [
           {
            "colorbar": {
             "outlinewidth": 0,
             "ticks": ""
            },
            "colorscale": [
             [
              0,
              "#0d0887"
             ],
             [
              0.1111111111111111,
              "#46039f"
             ],
             [
              0.2222222222222222,
              "#7201a8"
             ],
             [
              0.3333333333333333,
              "#9c179e"
             ],
             [
              0.4444444444444444,
              "#bd3786"
             ],
             [
              0.5555555555555556,
              "#d8576b"
             ],
             [
              0.6666666666666666,
              "#ed7953"
             ],
             [
              0.7777777777777778,
              "#fb9f3a"
             ],
             [
              0.8888888888888888,
              "#fdca26"
             ],
             [
              1,
              "#f0f921"
             ]
            ],
            "type": "histogram2dcontour"
           }
          ],
          "mesh3d": [
           {
            "colorbar": {
             "outlinewidth": 0,
             "ticks": ""
            },
            "type": "mesh3d"
           }
          ],
          "parcoords": [
           {
            "line": {
             "colorbar": {
              "outlinewidth": 0,
              "ticks": ""
             }
            },
            "type": "parcoords"
           }
          ],
          "pie": [
           {
            "automargin": true,
            "type": "pie"
           }
          ],
          "scatter": [
           {
            "fillpattern": {
             "fillmode": "overlay",
             "size": 10,
             "solidity": 0.2
            },
            "type": "scatter"
           }
          ],
          "scatter3d": [
           {
            "line": {
             "colorbar": {
              "outlinewidth": 0,
              "ticks": ""
             }
            },
            "marker": {
             "colorbar": {
              "outlinewidth": 0,
              "ticks": ""
             }
            },
            "type": "scatter3d"
           }
          ],
          "scattercarpet": [
           {
            "marker": {
             "colorbar": {
              "outlinewidth": 0,
              "ticks": ""
             }
            },
            "type": "scattercarpet"
           }
          ],
          "scattergeo": [
           {
            "marker": {
             "colorbar": {
              "outlinewidth": 0,
              "ticks": ""
             }
            },
            "type": "scattergeo"
           }
          ],
          "scattergl": [
           {
            "marker": {
             "colorbar": {
              "outlinewidth": 0,
              "ticks": ""
             }
            },
            "type": "scattergl"
           }
          ],
          "scattermap": [
           {
            "marker": {
             "colorbar": {
              "outlinewidth": 0,
              "ticks": ""
             }
            },
            "type": "scattermap"
           }
          ],
          "scattermapbox": [
           {
            "marker": {
             "colorbar": {
              "outlinewidth": 0,
              "ticks": ""
             }
            },
            "type": "scattermapbox"
           }
          ],
          "scatterpolar": [
           {
            "marker": {
             "colorbar": {
              "outlinewidth": 0,
              "ticks": ""
             }
            },
            "type": "scatterpolar"
           }
          ],
          "scatterpolargl": [
           {
            "marker": {
             "colorbar": {
              "outlinewidth": 0,
              "ticks": ""
             }
            },
            "type": "scatterpolargl"
           }
          ],
          "scatterternary": [
           {
            "marker": {
             "colorbar": {
              "outlinewidth": 0,
              "ticks": ""
             }
            },
            "type": "scatterternary"
           }
          ],
          "surface": [
           {
            "colorbar": {
             "outlinewidth": 0,
             "ticks": ""
            },
            "colorscale": [
             [
              0,
              "#0d0887"
             ],
             [
              0.1111111111111111,
              "#46039f"
             ],
             [
              0.2222222222222222,
              "#7201a8"
             ],
             [
              0.3333333333333333,
              "#9c179e"
             ],
             [
              0.4444444444444444,
              "#bd3786"
             ],
             [
              0.5555555555555556,
              "#d8576b"
             ],
             [
              0.6666666666666666,
              "#ed7953"
             ],
             [
              0.7777777777777778,
              "#fb9f3a"
             ],
             [
              0.8888888888888888,
              "#fdca26"
             ],
             [
              1,
              "#f0f921"
             ]
            ],
            "type": "surface"
           }
          ],
          "table": [
           {
            "cells": {
             "fill": {
              "color": "#EBF0F8"
             },
             "line": {
              "color": "white"
             }
            },
            "header": {
             "fill": {
              "color": "#C8D4E3"
             },
             "line": {
              "color": "white"
             }
            },
            "type": "table"
           }
          ]
         },
         "layout": {
          "annotationdefaults": {
           "arrowcolor": "#2a3f5f",
           "arrowhead": 0,
           "arrowwidth": 1
          },
          "autotypenumbers": "strict",
          "coloraxis": {
           "colorbar": {
            "outlinewidth": 0,
            "ticks": ""
           }
          },
          "colorscale": {
           "diverging": [
            [
             0,
             "#8e0152"
            ],
            [
             0.1,
             "#c51b7d"
            ],
            [
             0.2,
             "#de77ae"
            ],
            [
             0.3,
             "#f1b6da"
            ],
            [
             0.4,
             "#fde0ef"
            ],
            [
             0.5,
             "#f7f7f7"
            ],
            [
             0.6,
             "#e6f5d0"
            ],
            [
             0.7,
             "#b8e186"
            ],
            [
             0.8,
             "#7fbc41"
            ],
            [
             0.9,
             "#4d9221"
            ],
            [
             1,
             "#276419"
            ]
           ],
           "sequential": [
            [
             0,
             "#0d0887"
            ],
            [
             0.1111111111111111,
             "#46039f"
            ],
            [
             0.2222222222222222,
             "#7201a8"
            ],
            [
             0.3333333333333333,
             "#9c179e"
            ],
            [
             0.4444444444444444,
             "#bd3786"
            ],
            [
             0.5555555555555556,
             "#d8576b"
            ],
            [
             0.6666666666666666,
             "#ed7953"
            ],
            [
             0.7777777777777778,
             "#fb9f3a"
            ],
            [
             0.8888888888888888,
             "#fdca26"
            ],
            [
             1,
             "#f0f921"
            ]
           ],
           "sequentialminus": [
            [
             0,
             "#0d0887"
            ],
            [
             0.1111111111111111,
             "#46039f"
            ],
            [
             0.2222222222222222,
             "#7201a8"
            ],
            [
             0.3333333333333333,
             "#9c179e"
            ],
            [
             0.4444444444444444,
             "#bd3786"
            ],
            [
             0.5555555555555556,
             "#d8576b"
            ],
            [
             0.6666666666666666,
             "#ed7953"
            ],
            [
             0.7777777777777778,
             "#fb9f3a"
            ],
            [
             0.8888888888888888,
             "#fdca26"
            ],
            [
             1,
             "#f0f921"
            ]
           ]
          },
          "colorway": [
           "#636efa",
           "#EF553B",
           "#00cc96",
           "#ab63fa",
           "#FFA15A",
           "#19d3f3",
           "#FF6692",
           "#B6E880",
           "#FF97FF",
           "#FECB52"
          ],
          "font": {
           "color": "#2a3f5f"
          },
          "geo": {
           "bgcolor": "white",
           "lakecolor": "white",
           "landcolor": "#E5ECF6",
           "showlakes": true,
           "showland": true,
           "subunitcolor": "white"
          },
          "hoverlabel": {
           "align": "left"
          },
          "hovermode": "closest",
          "mapbox": {
           "style": "light"
          },
          "paper_bgcolor": "white",
          "plot_bgcolor": "#E5ECF6",
          "polar": {
           "angularaxis": {
            "gridcolor": "white",
            "linecolor": "white",
            "ticks": ""
           },
           "bgcolor": "#E5ECF6",
           "radialaxis": {
            "gridcolor": "white",
            "linecolor": "white",
            "ticks": ""
           }
          },
          "scene": {
           "xaxis": {
            "backgroundcolor": "#E5ECF6",
            "gridcolor": "white",
            "gridwidth": 2,
            "linecolor": "white",
            "showbackground": true,
            "ticks": "",
            "zerolinecolor": "white"
           },
           "yaxis": {
            "backgroundcolor": "#E5ECF6",
            "gridcolor": "white",
            "gridwidth": 2,
            "linecolor": "white",
            "showbackground": true,
            "ticks": "",
            "zerolinecolor": "white"
           },
           "zaxis": {
            "backgroundcolor": "#E5ECF6",
            "gridcolor": "white",
            "gridwidth": 2,
            "linecolor": "white",
            "showbackground": true,
            "ticks": "",
            "zerolinecolor": "white"
           }
          },
          "shapedefaults": {
           "line": {
            "color": "#2a3f5f"
           }
          },
          "ternary": {
           "aaxis": {
            "gridcolor": "white",
            "linecolor": "white",
            "ticks": ""
           },
           "baxis": {
            "gridcolor": "white",
            "linecolor": "white",
            "ticks": ""
           },
           "bgcolor": "#E5ECF6",
           "caxis": {
            "gridcolor": "white",
            "linecolor": "white",
            "ticks": ""
           }
          },
          "title": {
           "x": 0.05
          },
          "xaxis": {
           "automargin": true,
           "gridcolor": "white",
           "linecolor": "white",
           "ticks": "",
           "title": {
            "standoff": 15
           },
           "zerolinecolor": "white",
           "zerolinewidth": 2
          },
          "yaxis": {
           "automargin": true,
           "gridcolor": "white",
           "linecolor": "white",
           "ticks": "",
           "title": {
            "standoff": 15
           },
           "zerolinecolor": "white",
           "zerolinewidth": 2
          }
         }
        },
        "title": {
         "text": "Highest Elo-loss for Chelsea, Ipswich, Sunderland, Arsenal, Leeds, Leicester"
        },
        "xaxis": {
         "anchor": "y",
         "categoryarray": [
          "Sunderland",
          "Chelsea",
          "Leicester",
          "Leeds",
          "Ipswich",
          "Arsenal"
         ],
         "categoryorder": "array",
         "domain": [
          0,
          1
         ],
         "title": {
          "text": "Team"
         }
        },
        "yaxis": {
         "anchor": "x",
         "domain": [
          0,
          1
         ],
         "title": {
          "text": "Elo-difference"
         }
        }
       }
      }
     },
     "metadata": {},
     "output_type": "display_data"
    }
   ],
   "source": [
    "plotly_bar_chart_elo_loss('Chelsea', 'Ipswich', 'Sunderland', 'Arsenal', 'Leeds', 'Leicester')"
   ]
  },
  {
   "cell_type": "code",
   "execution_count": 23,
   "id": "7ea73a9f",
   "metadata": {},
   "outputs": [],
   "source": [
    "def plotly_line_chart_matchBYmatch(*teams, season):\n",
    "    if len(teams) >6:\n",
    "        return \"Too many teams\"\n",
    "    \n",
    "    required_df = elo_ratings_history_df.loc[\n",
    "        (elo_ratings_history_df['Team'].isin(teams)) & (elo_ratings_history_df['Season'] == season)].sort_values( by = 'Date')\n",
    "\n",
    "    fig = px.line(\n",
    "        required_df,\n",
    "        x = 'Date',\n",
    "        y = 'Elo-rating after match',\n",
    "        title = f'Elo-Ratings of {', '.join(teams)} across the {season} season',\n",
    "        color = 'Team',\n",
    "        hover_data = ['Date', 'Elo-rating before match']\n",
    "    )\n",
    "    fig.show()"
   ]
  },
  {
   "cell_type": "code",
   "execution_count": 24,
   "id": "85cde3ec",
   "metadata": {},
   "outputs": [
    {
     "data": {
      "application/vnd.plotly.v1+json": {
       "config": {
        "plotlyServerURL": "https://plot.ly"
       },
       "data": [
        {
         "customdata": {
          "bdata": "hetRuB4YnUD2KFyPwiGdQNejcD0KL51Aw/UoXI9NnUA9CtejcFydQFyPwvUobJ1AhetRuB6JnUDsUbgehZOdQAAAAAAAqJ1AmpmZmZmBnUBcj8L1KJidQIXrUbgen51AcT0K16PWnUBI4XoUruadQNejcD0K8J1ApHA9Ctf7nUBxPQrXowWeQM3MzMzMDZ5A16NwPQolnkAUrkfhejeeQIXrUbgeQ55Aw/UoXI9TnkAUrkfhemaeQI/C9Shcdp5ArkfhehR/nkCkcD0K14qeQFyPwvUokJ5ACtejcD2YnkCuR+F6FCieQPYoXI/CL55A4XoUrkcCnkBmZmZmZhKeQFyPwvUowZ1AmpmZmZnHnUAfhetRuNKdQDMzMzMzqJ1AhetRuB5FnUDhehSuR2CdQA==",
          "dtype": "f8",
          "shape": "38, 1"
         },
         "hovertemplate": "Team=Liverpool<br>Date=%{x}<br>Elo-rating after match=%{y}<br>Elo-rating before match=%{customdata[0]}<extra></extra>",
         "legendgroup": "Liverpool",
         "line": {
          "color": "#636efa",
          "dash": "solid"
         },
         "marker": {
          "symbol": "circle"
         },
         "mode": "lines",
         "name": "Liverpool",
         "orientation": "v",
         "showlegend": true,
         "type": "scatter",
         "x": [
          "2019-08-09T00:00:00.000000000",
          "2019-08-17T00:00:00.000000000",
          "2019-08-24T00:00:00.000000000",
          "2019-08-31T00:00:00.000000000",
          "2019-09-14T00:00:00.000000000",
          "2019-09-22T00:00:00.000000000",
          "2019-09-28T00:00:00.000000000",
          "2019-10-05T00:00:00.000000000",
          "2019-10-20T00:00:00.000000000",
          "2019-10-27T00:00:00.000000000",
          "2019-11-02T00:00:00.000000000",
          "2019-11-10T00:00:00.000000000",
          "2019-11-23T00:00:00.000000000",
          "2019-11-30T00:00:00.000000000",
          "2019-12-04T00:00:00.000000000",
          "2019-12-07T00:00:00.000000000",
          "2019-12-14T00:00:00.000000000",
          "2019-12-26T00:00:00.000000000",
          "2019-12-29T00:00:00.000000000",
          "2020-01-02T00:00:00.000000000",
          "2020-01-11T00:00:00.000000000",
          "2020-01-19T00:00:00.000000000",
          "2020-01-23T00:00:00.000000000",
          "2020-01-29T00:00:00.000000000",
          "2020-02-01T00:00:00.000000000",
          "2020-02-15T00:00:00.000000000",
          "2020-02-24T00:00:00.000000000",
          "2020-02-29T00:00:00.000000000",
          "2020-03-07T00:00:00.000000000",
          "2020-06-21T00:00:00.000000000",
          "2020-06-24T00:00:00.000000000",
          "2020-07-02T00:00:00.000000000",
          "2020-07-05T00:00:00.000000000",
          "2020-07-08T00:00:00.000000000",
          "2020-07-11T00:00:00.000000000",
          "2020-07-15T00:00:00.000000000",
          "2020-07-22T00:00:00.000000000",
          "2020-07-26T00:00:00.000000000"
         ],
         "xaxis": "x",
         "y": {
          "bdata": "9ihcj8IhnUDXo3A9Ci+dQMP1KFyPTZ1APQrXo3BcnUBcj8L1KGydQIXrUbgeiZ1A7FG4HoWTnUAAAAAAAKidQJqZmZmZgZ1AXI/C9SiYnUCF61G4Hp+dQHE9Ctej1p1ASOF6FK7mnUDXo3A9CvCdQKRwPQrX+51AcT0K16MFnkDNzMzMzA2eQNejcD0KJZ5AFK5H4Xo3nkCF61G4HkOeQMP1KFyPU55AFK5H4XpmnkCPwvUoXHaeQK5H4XoUf55ApHA9CteKnkBcj8L1KJCeQArXo3A9mJ5ArkfhehQonkD2KFyPwi+eQOF6FK5HAp5AZmZmZmYSnkBcj8L1KMGdQJqZmZmZx51AH4XrUbjSnUAzMzMzM6idQIXrUbgeRZ1A4XoUrkdgnUCamZmZmW6dQA==",
          "dtype": "f8"
         },
         "yaxis": "y"
        },
        {
         "customdata": {
          "bdata": "MzMzMzPDnUCPwvUoXNOdQB+F61G4r51AUrgeheu7nUBcj8L1KMWdQHsUrkfhVJ1AAAAAAABhnUCuR+F6FHKdQKRwPQrXCp1A4XoUrkcinUDD9ShcjyqdQIXrUbgeN51AmpmZmZn/nEAzMzMzMyadQDMzMzMz+5xAuB6F61ELnUAzMzMzM66cQLgehetRyJxAzczMzMzqnEAfhetRuIqcQIXrUbgen5xAcT0K16O2nEBxPQrXo8CcQClcj8L1mpxAzczMzMyvnEC4HoXrUVKcQEjhehSuY5xAuB6F61GFnEDXo3A9Ci2cQPYoXI/CTpxAPQrXo3BmnEDhehSuRxCcQOxRuB6FYZxAcT0K16P9m0B7FK5H4RecQPYoXI/CKpxAuB6F61E5nEA9CtejcEqcQA==",
          "dtype": "f8",
          "shape": "38, 1"
         },
         "hovertemplate": "Team=Man City<br>Date=%{x}<br>Elo-rating after match=%{y}<br>Elo-rating before match=%{customdata[0]}<extra></extra>",
         "legendgroup": "Man City",
         "line": {
          "color": "#EF553B",
          "dash": "solid"
         },
         "marker": {
          "symbol": "circle"
         },
         "mode": "lines",
         "name": "Man City",
         "orientation": "v",
         "showlegend": true,
         "type": "scatter",
         "x": [
          "2019-08-10T00:00:00.000000000",
          "2019-08-17T00:00:00.000000000",
          "2019-08-25T00:00:00.000000000",
          "2019-08-31T00:00:00.000000000",
          "2019-09-14T00:00:00.000000000",
          "2019-09-21T00:00:00.000000000",
          "2019-09-28T00:00:00.000000000",
          "2019-10-06T00:00:00.000000000",
          "2019-10-19T00:00:00.000000000",
          "2019-10-26T00:00:00.000000000",
          "2019-11-02T00:00:00.000000000",
          "2019-11-10T00:00:00.000000000",
          "2019-11-23T00:00:00.000000000",
          "2019-11-30T00:00:00.000000000",
          "2019-12-03T00:00:00.000000000",
          "2019-12-07T00:00:00.000000000",
          "2019-12-15T00:00:00.000000000",
          "2019-12-21T00:00:00.000000000",
          "2019-12-27T00:00:00.000000000",
          "2019-12-29T00:00:00.000000000",
          "2020-01-01T00:00:00.000000000",
          "2020-01-12T00:00:00.000000000",
          "2020-01-18T00:00:00.000000000",
          "2020-01-21T00:00:00.000000000",
          "2020-02-02T00:00:00.000000000",
          "2020-02-19T00:00:00.000000000",
          "2020-02-22T00:00:00.000000000",
          "2020-03-08T00:00:00.000000000",
          "2020-06-17T00:00:00.000000000",
          "2020-06-22T00:00:00.000000000",
          "2020-06-25T00:00:00.000000000",
          "2020-07-02T00:00:00.000000000",
          "2020-07-05T00:00:00.000000000",
          "2020-07-08T00:00:00.000000000",
          "2020-07-11T00:00:00.000000000",
          "2020-07-15T00:00:00.000000000",
          "2020-07-21T00:00:00.000000000",
          "2020-07-26T00:00:00.000000000"
         ],
         "xaxis": "x",
         "y": {
          "bdata": "j8L1KFzTnUAfhetRuK+dQFK4HoXru51AXI/C9SjFnUB7FK5H4VSdQAAAAAAAYZ1ArkfhehRynUCkcD0K1wqdQOF6FK5HIp1Aw/UoXI8qnUCF61G4HjedQJqZmZmZ/5xAMzMzMzMmnUAzMzMzM/ucQLgehetRC51AMzMzMzOunEC4HoXrUcicQM3MzMzM6pxAH4XrUbiKnECF61G4Hp+cQHE9CtejtpxAcT0K16PAnEApXI/C9ZqcQM3MzMzMr5xAuB6F61FSnEBI4XoUrmOcQLgehetRhZxA16NwPQotnED2KFyPwk6cQD0K16NwZpxA4XoUrkcQnEDsUbgehWGcQHE9Ctej/ZtAexSuR+EXnED2KFyPwiqcQLgehetROZxAPQrXo3BKnEAfhetRuFKcQA==",
          "dtype": "f8"
         },
         "yaxis": "y"
        },
        {
         "customdata": {
          "bdata": "7FG4HoUMmkB7FK5H4R2aQOxRuB6FQZpAuB6F61HtmUD2KFyPwu+ZQKRwPQrXIZpAPQrXo3DXmUAAAAAAAP2ZQD0K16NwoplA9ihcj8KImUAzMzMzM3KZQIXrUbgeZJlAmpmZmZlSmUDXo3A9CoCZQBSuR+F6qZlAUrgehetqmUCF61G4HpaZQLgehetRzplAAAAAAACTmUAK16NwPbiZQIXrUbgek5lAAAAAAABEmUDD9ShcjzOZQLgehetRJplApHA9CtdEmUC4HoXrUaKZQHE9CtejvZlAhetRuB5+mUB7FK5H4UCZQOF6FK5HOJlA9ihcj8JBmUCamZmZmWmZQNejcD0KIZlAZmZmZmZfmUB7FK5H4UCZQEjhehSugZlAAAAAAACvmUCPwvUoXOWZQA==",
          "dtype": "f8",
          "shape": "38, 1"
         },
         "hovertemplate": "Team=Tottenham<br>Date=%{x}<br>Elo-rating after match=%{y}<br>Elo-rating before match=%{customdata[0]}<extra></extra>",
         "legendgroup": "Tottenham",
         "line": {
          "color": "#00cc96",
          "dash": "solid"
         },
         "marker": {
          "symbol": "circle"
         },
         "mode": "lines",
         "name": "Tottenham",
         "orientation": "v",
         "showlegend": true,
         "type": "scatter",
         "x": [
          "2019-08-10T00:00:00.000000000",
          "2019-08-17T00:00:00.000000000",
          "2019-08-25T00:00:00.000000000",
          "2019-09-01T00:00:00.000000000",
          "2019-09-14T00:00:00.000000000",
          "2019-09-21T00:00:00.000000000",
          "2019-09-28T00:00:00.000000000",
          "2019-10-05T00:00:00.000000000",
          "2019-10-19T00:00:00.000000000",
          "2019-10-27T00:00:00.000000000",
          "2019-11-03T00:00:00.000000000",
          "2019-11-09T00:00:00.000000000",
          "2019-11-23T00:00:00.000000000",
          "2019-11-30T00:00:00.000000000",
          "2019-12-04T00:00:00.000000000",
          "2019-12-07T00:00:00.000000000",
          "2019-12-15T00:00:00.000000000",
          "2019-12-22T00:00:00.000000000",
          "2019-12-26T00:00:00.000000000",
          "2019-12-28T00:00:00.000000000",
          "2020-01-01T00:00:00.000000000",
          "2020-01-11T00:00:00.000000000",
          "2020-01-18T00:00:00.000000000",
          "2020-01-22T00:00:00.000000000",
          "2020-02-02T00:00:00.000000000",
          "2020-02-16T00:00:00.000000000",
          "2020-02-22T00:00:00.000000000",
          "2020-03-01T00:00:00.000000000",
          "2020-03-07T00:00:00.000000000",
          "2020-06-19T00:00:00.000000000",
          "2020-06-23T00:00:00.000000000",
          "2020-07-02T00:00:00.000000000",
          "2020-07-06T00:00:00.000000000",
          "2020-07-09T00:00:00.000000000",
          "2020-07-12T00:00:00.000000000",
          "2020-07-15T00:00:00.000000000",
          "2020-07-19T00:00:00.000000000",
          "2020-07-26T00:00:00.000000000"
         ],
         "xaxis": "x",
         "y": {
          "bdata": "exSuR+EdmkDsUbgehUGaQLgehetR7ZlA9ihcj8LvmUCkcD0K1yGaQD0K16Nw15lAAAAAAAD9mUA9CtejcKKZQPYoXI/CiJlAMzMzMzNymUCF61G4HmSZQJqZmZmZUplA16NwPQqAmUAUrkfheqmZQFK4HoXraplAhetRuB6WmUC4HoXrUc6ZQAAAAAAAk5lACtejcD24mUCF61G4HpOZQAAAAAAARJlAw/UoXI8zmUC4HoXrUSaZQKRwPQrXRJlAuB6F61GimUBxPQrXo72ZQIXrUbgefplAexSuR+FAmUDhehSuRziZQPYoXI/CQZlAmpmZmZlpmUDXo3A9CiGZQGZmZmZmX5lAexSuR+FAmUBI4XoUroGZQAAAAAAAr5lAj8L1KFzlmUBI4XoUrs2ZQA==",
          "dtype": "f8"
         },
         "yaxis": "y"
        },
        {
         "customdata": {
          "bdata": "SOF6FK4qmkC4HoXrUWqaQBSuR+F6V5pArkfhehQJmkDhehSuR/CZQClcj8L1IZpAuB6F61HXmUBcj8L1KNqZQHE9CtejiZlArkfhehSwmUA9CtejcMuZQAAAAAAAe5lAzczMzMyhmUDD9Shcj46ZQPYoXI/CbZlAuB6F61GsmUA9CtejcAmaQClcj8L19ZlAXI/C9SibmUDhehSuR86ZQB+F61G49plArkfhehSumUDXo3A9CseZQIXrUbgetJlAKVyPwvVimUDhehSuR2GZQBSuR+F6oJlA4XoUrkfGmUDD9Shcj72ZQHsUrkfhFZpAZmZmZmYMmkApXI/C9TaaQMP1KFyPV5pAZmZmZmZumkAfhetRuIGaQNejcD0KbJpAMzMzMzOOmkAzMzMzM3KaQA==",
          "dtype": "f8",
          "shape": "38, 1"
         },
         "hovertemplate": "Team=Man United<br>Date=%{x}<br>Elo-rating after match=%{y}<br>Elo-rating before match=%{customdata[0]}<extra></extra>",
         "legendgroup": "Man United",
         "line": {
          "color": "#ab63fa",
          "dash": "solid"
         },
         "marker": {
          "symbol": "circle"
         },
         "mode": "lines",
         "name": "Man United",
         "orientation": "v",
         "showlegend": true,
         "type": "scatter",
         "x": [
          "2019-08-11T00:00:00.000000000",
          "2019-08-19T00:00:00.000000000",
          "2019-08-24T00:00:00.000000000",
          "2019-08-31T00:00:00.000000000",
          "2019-09-14T00:00:00.000000000",
          "2019-09-22T00:00:00.000000000",
          "2019-09-30T00:00:00.000000000",
          "2019-10-06T00:00:00.000000000",
          "2019-10-20T00:00:00.000000000",
          "2019-10-27T00:00:00.000000000",
          "2019-11-02T00:00:00.000000000",
          "2019-11-10T00:00:00.000000000",
          "2019-11-24T00:00:00.000000000",
          "2019-12-01T00:00:00.000000000",
          "2019-12-04T00:00:00.000000000",
          "2019-12-07T00:00:00.000000000",
          "2019-12-15T00:00:00.000000000",
          "2019-12-22T00:00:00.000000000",
          "2019-12-26T00:00:00.000000000",
          "2019-12-28T00:00:00.000000000",
          "2020-01-01T00:00:00.000000000",
          "2020-01-11T00:00:00.000000000",
          "2020-01-19T00:00:00.000000000",
          "2020-01-22T00:00:00.000000000",
          "2020-02-01T00:00:00.000000000",
          "2020-02-17T00:00:00.000000000",
          "2020-02-23T00:00:00.000000000",
          "2020-03-01T00:00:00.000000000",
          "2020-03-08T00:00:00.000000000",
          "2020-06-19T00:00:00.000000000",
          "2020-06-24T00:00:00.000000000",
          "2020-06-30T00:00:00.000000000",
          "2020-07-04T00:00:00.000000000",
          "2020-07-09T00:00:00.000000000",
          "2020-07-13T00:00:00.000000000",
          "2020-07-16T00:00:00.000000000",
          "2020-07-22T00:00:00.000000000",
          "2020-07-26T00:00:00.000000000"
         ],
         "xaxis": "x",
         "y": {
          "bdata": "uB6F61FqmkAUrkfheleaQK5H4XoUCZpA4XoUrkfwmUApXI/C9SGaQLgehetR15lAXI/C9SjamUBxPQrXo4mZQK5H4XoUsJlAPQrXo3DLmUAAAAAAAHuZQM3MzMzMoZlAw/UoXI+OmUD2KFyPwm2ZQLgehetRrJlAPQrXo3AJmkApXI/C9fWZQFyPwvUom5lA4XoUrkfOmUAfhetRuPaZQK5H4XoUrplA16NwPQrHmUCF61G4HrSZQClcj8L1YplA4XoUrkdhmUAUrkfheqCZQOF6FK5HxplAw/UoXI+9mUB7FK5H4RWaQGZmZmZmDJpAKVyPwvU2mkDD9Shcj1eaQGZmZmZmbppAH4XrUbiBmkDXo3A9CmyaQDMzMzMzjppAMzMzMzNymkBcj8L1KJ6aQA==",
          "dtype": "f8"
         },
         "yaxis": "y"
        },
        {
         "customdata": {
          "bdata": "hetRuB5/mkAUrkfhej+aQBSuR+F6LZpAUrgehetHmkBI4XoUriaaQHE9CtejUJpASOF6FK4zmkDhehSuR1CaQDMzMzMzcJpAhetRuB6VmkApXI/C9baaQI/C9Shc0ZpACtejcD35mkBxPQrXo9KaQLgehetReJpAUrgeheuNmkA9CtejcDaaQPYoXI/C3ZlArkfhehQZmkA9CtejcMGZQDMzMzMz9ZlApHA9CtfbmUDhehSuR/+ZQMP1KFyPsJlAZmZmZmapmUBI4XoUrquZQBSuR+F6bJlAKVyPwvWrmUDD9Shcj46ZQJqZmZmZxJlAAAAAAADdmUBcj8L1KDOaQNejcD0K2ZlAPQrXo3D6mUBI4XoUriWaQBSuR+F625lAUrgehevumUD2KFyPwtOZQA==",
          "dtype": "f8",
          "shape": "38, 1"
         },
         "hovertemplate": "Team=Chelsea<br>Date=%{x}<br>Elo-rating after match=%{y}<br>Elo-rating before match=%{customdata[0]}<extra></extra>",
         "legendgroup": "Chelsea",
         "line": {
          "color": "#FFA15A",
          "dash": "solid"
         },
         "marker": {
          "symbol": "circle"
         },
         "mode": "lines",
         "name": "Chelsea",
         "orientation": "v",
         "showlegend": true,
         "type": "scatter",
         "x": [
          "2019-08-11T00:00:00.000000000",
          "2019-08-18T00:00:00.000000000",
          "2019-08-24T00:00:00.000000000",
          "2019-08-31T00:00:00.000000000",
          "2019-09-14T00:00:00.000000000",
          "2019-09-22T00:00:00.000000000",
          "2019-09-28T00:00:00.000000000",
          "2019-10-06T00:00:00.000000000",
          "2019-10-19T00:00:00.000000000",
          "2019-10-26T00:00:00.000000000",
          "2019-11-02T00:00:00.000000000",
          "2019-11-09T00:00:00.000000000",
          "2019-11-23T00:00:00.000000000",
          "2019-11-30T00:00:00.000000000",
          "2019-12-04T00:00:00.000000000",
          "2019-12-07T00:00:00.000000000",
          "2019-12-14T00:00:00.000000000",
          "2019-12-22T00:00:00.000000000",
          "2019-12-26T00:00:00.000000000",
          "2019-12-29T00:00:00.000000000",
          "2020-01-01T00:00:00.000000000",
          "2020-01-11T00:00:00.000000000",
          "2020-01-18T00:00:00.000000000",
          "2020-01-21T00:00:00.000000000",
          "2020-02-01T00:00:00.000000000",
          "2020-02-17T00:00:00.000000000",
          "2020-02-22T00:00:00.000000000",
          "2020-02-29T00:00:00.000000000",
          "2020-03-08T00:00:00.000000000",
          "2020-06-21T00:00:00.000000000",
          "2020-06-25T00:00:00.000000000",
          "2020-07-01T00:00:00.000000000",
          "2020-07-04T00:00:00.000000000",
          "2020-07-07T00:00:00.000000000",
          "2020-07-11T00:00:00.000000000",
          "2020-07-14T00:00:00.000000000",
          "2020-07-22T00:00:00.000000000",
          "2020-07-26T00:00:00.000000000"
         ],
         "xaxis": "x",
         "y": {
          "bdata": "FK5H4Xo/mkAUrkfhei2aQFK4HoXrR5pASOF6FK4mmkBxPQrXo1CaQEjhehSuM5pA4XoUrkdQmkAzMzMzM3CaQIXrUbgelZpAKVyPwvW2mkCPwvUoXNGaQArXo3A9+ZpAcT0K16PSmkC4HoXrUXiaQFK4HoXrjZpAPQrXo3A2mkD2KFyPwt2ZQK5H4XoUGZpAPQrXo3DBmUAzMzMzM/WZQKRwPQrX25lA4XoUrkf/mUDD9Shcj7CZQGZmZmZmqZlASOF6FK6rmUAUrkfhemyZQClcj8L1q5lAw/UoXI+OmUCamZmZmcSZQAAAAAAA3ZlAXI/C9SgzmkDXo3A9CtmZQD0K16Nw+plASOF6FK4lmkAUrkfhetuZQFK4HoXr7plA9ihcj8LTmUDsUbgehQ6aQA==",
          "dtype": "f8"
         },
         "yaxis": "y"
        }
       ],
       "layout": {
        "legend": {
         "title": {
          "text": "Team"
         },
         "tracegroupgap": 0
        },
        "template": {
         "data": {
          "bar": [
           {
            "error_x": {
             "color": "#2a3f5f"
            },
            "error_y": {
             "color": "#2a3f5f"
            },
            "marker": {
             "line": {
              "color": "#E5ECF6",
              "width": 0.5
             },
             "pattern": {
              "fillmode": "overlay",
              "size": 10,
              "solidity": 0.2
             }
            },
            "type": "bar"
           }
          ],
          "barpolar": [
           {
            "marker": {
             "line": {
              "color": "#E5ECF6",
              "width": 0.5
             },
             "pattern": {
              "fillmode": "overlay",
              "size": 10,
              "solidity": 0.2
             }
            },
            "type": "barpolar"
           }
          ],
          "carpet": [
           {
            "aaxis": {
             "endlinecolor": "#2a3f5f",
             "gridcolor": "white",
             "linecolor": "white",
             "minorgridcolor": "white",
             "startlinecolor": "#2a3f5f"
            },
            "baxis": {
             "endlinecolor": "#2a3f5f",
             "gridcolor": "white",
             "linecolor": "white",
             "minorgridcolor": "white",
             "startlinecolor": "#2a3f5f"
            },
            "type": "carpet"
           }
          ],
          "choropleth": [
           {
            "colorbar": {
             "outlinewidth": 0,
             "ticks": ""
            },
            "type": "choropleth"
           }
          ],
          "contour": [
           {
            "colorbar": {
             "outlinewidth": 0,
             "ticks": ""
            },
            "colorscale": [
             [
              0,
              "#0d0887"
             ],
             [
              0.1111111111111111,
              "#46039f"
             ],
             [
              0.2222222222222222,
              "#7201a8"
             ],
             [
              0.3333333333333333,
              "#9c179e"
             ],
             [
              0.4444444444444444,
              "#bd3786"
             ],
             [
              0.5555555555555556,
              "#d8576b"
             ],
             [
              0.6666666666666666,
              "#ed7953"
             ],
             [
              0.7777777777777778,
              "#fb9f3a"
             ],
             [
              0.8888888888888888,
              "#fdca26"
             ],
             [
              1,
              "#f0f921"
             ]
            ],
            "type": "contour"
           }
          ],
          "contourcarpet": [
           {
            "colorbar": {
             "outlinewidth": 0,
             "ticks": ""
            },
            "type": "contourcarpet"
           }
          ],
          "heatmap": [
           {
            "colorbar": {
             "outlinewidth": 0,
             "ticks": ""
            },
            "colorscale": [
             [
              0,
              "#0d0887"
             ],
             [
              0.1111111111111111,
              "#46039f"
             ],
             [
              0.2222222222222222,
              "#7201a8"
             ],
             [
              0.3333333333333333,
              "#9c179e"
             ],
             [
              0.4444444444444444,
              "#bd3786"
             ],
             [
              0.5555555555555556,
              "#d8576b"
             ],
             [
              0.6666666666666666,
              "#ed7953"
             ],
             [
              0.7777777777777778,
              "#fb9f3a"
             ],
             [
              0.8888888888888888,
              "#fdca26"
             ],
             [
              1,
              "#f0f921"
             ]
            ],
            "type": "heatmap"
           }
          ],
          "histogram": [
           {
            "marker": {
             "pattern": {
              "fillmode": "overlay",
              "size": 10,
              "solidity": 0.2
             }
            },
            "type": "histogram"
           }
          ],
          "histogram2d": [
           {
            "colorbar": {
             "outlinewidth": 0,
             "ticks": ""
            },
            "colorscale": [
             [
              0,
              "#0d0887"
             ],
             [
              0.1111111111111111,
              "#46039f"
             ],
             [
              0.2222222222222222,
              "#7201a8"
             ],
             [
              0.3333333333333333,
              "#9c179e"
             ],
             [
              0.4444444444444444,
              "#bd3786"
             ],
             [
              0.5555555555555556,
              "#d8576b"
             ],
             [
              0.6666666666666666,
              "#ed7953"
             ],
             [
              0.7777777777777778,
              "#fb9f3a"
             ],
             [
              0.8888888888888888,
              "#fdca26"
             ],
             [
              1,
              "#f0f921"
             ]
            ],
            "type": "histogram2d"
           }
          ],
          "histogram2dcontour": [
           {
            "colorbar": {
             "outlinewidth": 0,
             "ticks": ""
            },
            "colorscale": [
             [
              0,
              "#0d0887"
             ],
             [
              0.1111111111111111,
              "#46039f"
             ],
             [
              0.2222222222222222,
              "#7201a8"
             ],
             [
              0.3333333333333333,
              "#9c179e"
             ],
             [
              0.4444444444444444,
              "#bd3786"
             ],
             [
              0.5555555555555556,
              "#d8576b"
             ],
             [
              0.6666666666666666,
              "#ed7953"
             ],
             [
              0.7777777777777778,
              "#fb9f3a"
             ],
             [
              0.8888888888888888,
              "#fdca26"
             ],
             [
              1,
              "#f0f921"
             ]
            ],
            "type": "histogram2dcontour"
           }
          ],
          "mesh3d": [
           {
            "colorbar": {
             "outlinewidth": 0,
             "ticks": ""
            },
            "type": "mesh3d"
           }
          ],
          "parcoords": [
           {
            "line": {
             "colorbar": {
              "outlinewidth": 0,
              "ticks": ""
             }
            },
            "type": "parcoords"
           }
          ],
          "pie": [
           {
            "automargin": true,
            "type": "pie"
           }
          ],
          "scatter": [
           {
            "fillpattern": {
             "fillmode": "overlay",
             "size": 10,
             "solidity": 0.2
            },
            "type": "scatter"
           }
          ],
          "scatter3d": [
           {
            "line": {
             "colorbar": {
              "outlinewidth": 0,
              "ticks": ""
             }
            },
            "marker": {
             "colorbar": {
              "outlinewidth": 0,
              "ticks": ""
             }
            },
            "type": "scatter3d"
           }
          ],
          "scattercarpet": [
           {
            "marker": {
             "colorbar": {
              "outlinewidth": 0,
              "ticks": ""
             }
            },
            "type": "scattercarpet"
           }
          ],
          "scattergeo": [
           {
            "marker": {
             "colorbar": {
              "outlinewidth": 0,
              "ticks": ""
             }
            },
            "type": "scattergeo"
           }
          ],
          "scattergl": [
           {
            "marker": {
             "colorbar": {
              "outlinewidth": 0,
              "ticks": ""
             }
            },
            "type": "scattergl"
           }
          ],
          "scattermap": [
           {
            "marker": {
             "colorbar": {
              "outlinewidth": 0,
              "ticks": ""
             }
            },
            "type": "scattermap"
           }
          ],
          "scattermapbox": [
           {
            "marker": {
             "colorbar": {
              "outlinewidth": 0,
              "ticks": ""
             }
            },
            "type": "scattermapbox"
           }
          ],
          "scatterpolar": [
           {
            "marker": {
             "colorbar": {
              "outlinewidth": 0,
              "ticks": ""
             }
            },
            "type": "scatterpolar"
           }
          ],
          "scatterpolargl": [
           {
            "marker": {
             "colorbar": {
              "outlinewidth": 0,
              "ticks": ""
             }
            },
            "type": "scatterpolargl"
           }
          ],
          "scatterternary": [
           {
            "marker": {
             "colorbar": {
              "outlinewidth": 0,
              "ticks": ""
             }
            },
            "type": "scatterternary"
           }
          ],
          "surface": [
           {
            "colorbar": {
             "outlinewidth": 0,
             "ticks": ""
            },
            "colorscale": [
             [
              0,
              "#0d0887"
             ],
             [
              0.1111111111111111,
              "#46039f"
             ],
             [
              0.2222222222222222,
              "#7201a8"
             ],
             [
              0.3333333333333333,
              "#9c179e"
             ],
             [
              0.4444444444444444,
              "#bd3786"
             ],
             [
              0.5555555555555556,
              "#d8576b"
             ],
             [
              0.6666666666666666,
              "#ed7953"
             ],
             [
              0.7777777777777778,
              "#fb9f3a"
             ],
             [
              0.8888888888888888,
              "#fdca26"
             ],
             [
              1,
              "#f0f921"
             ]
            ],
            "type": "surface"
           }
          ],
          "table": [
           {
            "cells": {
             "fill": {
              "color": "#EBF0F8"
             },
             "line": {
              "color": "white"
             }
            },
            "header": {
             "fill": {
              "color": "#C8D4E3"
             },
             "line": {
              "color": "white"
             }
            },
            "type": "table"
           }
          ]
         },
         "layout": {
          "annotationdefaults": {
           "arrowcolor": "#2a3f5f",
           "arrowhead": 0,
           "arrowwidth": 1
          },
          "autotypenumbers": "strict",
          "coloraxis": {
           "colorbar": {
            "outlinewidth": 0,
            "ticks": ""
           }
          },
          "colorscale": {
           "diverging": [
            [
             0,
             "#8e0152"
            ],
            [
             0.1,
             "#c51b7d"
            ],
            [
             0.2,
             "#de77ae"
            ],
            [
             0.3,
             "#f1b6da"
            ],
            [
             0.4,
             "#fde0ef"
            ],
            [
             0.5,
             "#f7f7f7"
            ],
            [
             0.6,
             "#e6f5d0"
            ],
            [
             0.7,
             "#b8e186"
            ],
            [
             0.8,
             "#7fbc41"
            ],
            [
             0.9,
             "#4d9221"
            ],
            [
             1,
             "#276419"
            ]
           ],
           "sequential": [
            [
             0,
             "#0d0887"
            ],
            [
             0.1111111111111111,
             "#46039f"
            ],
            [
             0.2222222222222222,
             "#7201a8"
            ],
            [
             0.3333333333333333,
             "#9c179e"
            ],
            [
             0.4444444444444444,
             "#bd3786"
            ],
            [
             0.5555555555555556,
             "#d8576b"
            ],
            [
             0.6666666666666666,
             "#ed7953"
            ],
            [
             0.7777777777777778,
             "#fb9f3a"
            ],
            [
             0.8888888888888888,
             "#fdca26"
            ],
            [
             1,
             "#f0f921"
            ]
           ],
           "sequentialminus": [
            [
             0,
             "#0d0887"
            ],
            [
             0.1111111111111111,
             "#46039f"
            ],
            [
             0.2222222222222222,
             "#7201a8"
            ],
            [
             0.3333333333333333,
             "#9c179e"
            ],
            [
             0.4444444444444444,
             "#bd3786"
            ],
            [
             0.5555555555555556,
             "#d8576b"
            ],
            [
             0.6666666666666666,
             "#ed7953"
            ],
            [
             0.7777777777777778,
             "#fb9f3a"
            ],
            [
             0.8888888888888888,
             "#fdca26"
            ],
            [
             1,
             "#f0f921"
            ]
           ]
          },
          "colorway": [
           "#636efa",
           "#EF553B",
           "#00cc96",
           "#ab63fa",
           "#FFA15A",
           "#19d3f3",
           "#FF6692",
           "#B6E880",
           "#FF97FF",
           "#FECB52"
          ],
          "font": {
           "color": "#2a3f5f"
          },
          "geo": {
           "bgcolor": "white",
           "lakecolor": "white",
           "landcolor": "#E5ECF6",
           "showlakes": true,
           "showland": true,
           "subunitcolor": "white"
          },
          "hoverlabel": {
           "align": "left"
          },
          "hovermode": "closest",
          "mapbox": {
           "style": "light"
          },
          "paper_bgcolor": "white",
          "plot_bgcolor": "#E5ECF6",
          "polar": {
           "angularaxis": {
            "gridcolor": "white",
            "linecolor": "white",
            "ticks": ""
           },
           "bgcolor": "#E5ECF6",
           "radialaxis": {
            "gridcolor": "white",
            "linecolor": "white",
            "ticks": ""
           }
          },
          "scene": {
           "xaxis": {
            "backgroundcolor": "#E5ECF6",
            "gridcolor": "white",
            "gridwidth": 2,
            "linecolor": "white",
            "showbackground": true,
            "ticks": "",
            "zerolinecolor": "white"
           },
           "yaxis": {
            "backgroundcolor": "#E5ECF6",
            "gridcolor": "white",
            "gridwidth": 2,
            "linecolor": "white",
            "showbackground": true,
            "ticks": "",
            "zerolinecolor": "white"
           },
           "zaxis": {
            "backgroundcolor": "#E5ECF6",
            "gridcolor": "white",
            "gridwidth": 2,
            "linecolor": "white",
            "showbackground": true,
            "ticks": "",
            "zerolinecolor": "white"
           }
          },
          "shapedefaults": {
           "line": {
            "color": "#2a3f5f"
           }
          },
          "ternary": {
           "aaxis": {
            "gridcolor": "white",
            "linecolor": "white",
            "ticks": ""
           },
           "baxis": {
            "gridcolor": "white",
            "linecolor": "white",
            "ticks": ""
           },
           "bgcolor": "#E5ECF6",
           "caxis": {
            "gridcolor": "white",
            "linecolor": "white",
            "ticks": ""
           }
          },
          "title": {
           "x": 0.05
          },
          "xaxis": {
           "automargin": true,
           "gridcolor": "white",
           "linecolor": "white",
           "ticks": "",
           "title": {
            "standoff": 15
           },
           "zerolinecolor": "white",
           "zerolinewidth": 2
          },
          "yaxis": {
           "automargin": true,
           "gridcolor": "white",
           "linecolor": "white",
           "ticks": "",
           "title": {
            "standoff": 15
           },
           "zerolinecolor": "white",
           "zerolinewidth": 2
          }
         }
        },
        "title": {
         "text": "Elo-Ratings of Chelsea, Liverpool, Man City, Tottenham, Man United across the 2019-2020 season"
        },
        "xaxis": {
         "anchor": "y",
         "domain": [
          0,
          1
         ],
         "title": {
          "text": "Date"
         }
        },
        "yaxis": {
         "anchor": "x",
         "domain": [
          0,
          1
         ],
         "title": {
          "text": "Elo-rating after match"
         }
        }
       }
      }
     },
     "metadata": {},
     "output_type": "display_data"
    }
   ],
   "source": [
    "plotly_line_chart_matchBYmatch('Chelsea','Liverpool', 'Man City', 'Tottenham', 'Man United', season = '2019-2020')"
   ]
  },
  {
   "cell_type": "code",
   "execution_count": null,
   "id": "e43fa883",
   "metadata": {},
   "outputs": [
    {
     "data": {
      "application/vnd.plotly.v1+json": {
       "config": {
        "plotlyServerURL": "https://plot.ly"
       },
       "data": [
        {
         "hovertemplate": "Color=green<br>Team=%{x}<br>Elo Difference=%{y}<br>Size=%{marker.size}<br>hover_text=%{text}<extra></extra>",
         "legendgroup": "green",
         "marker": {
          "color": "green",
          "size": {
           "bdata": "AAAAAAAYgEAAAAAAALiKQA==",
           "dtype": "f8"
          },
          "sizemode": "area",
          "sizeref": 0.0855,
          "symbol": "circle"
         },
         "mode": "markers+text",
         "name": "green",
         "orientation": "v",
         "showlegend": true,
         "text": [
          "Arsenal<br> Elo Difference: 51.5",
          "Bolton<br> Elo Difference: 85.5"
         ],
         "type": "scatter",
         "x": [
          "Arsenal",
          "Bolton"
         ],
         "xaxis": "x",
         "y": {
          "bdata": "AAAAAADASUAAAAAAAGBVQA==",
          "dtype": "f8"
         },
         "yaxis": "y"
        },
        {
         "hovertemplate": "Color=red<br>Team=%{x}<br>Elo Difference=%{y}<br>Size=%{marker.size}<br>hover_text=%{text}<extra></extra>",
         "legendgroup": "red",
         "marker": {
          "color": "red",
          "size": {
           "bdata": "AAAAAAAAPUAAAAAAAABuQA==",
           "dtype": "f8"
          },
          "sizemode": "area",
          "sizeref": 0.0855,
          "symbol": "circle"
         },
         "mode": "markers+text",
         "name": "red",
         "orientation": "v",
         "showlegend": true,
         "text": [
          "Chelsea<br> Elo Difference: -2.9",
          "Tottenham<br> Elo Difference: -24.0"
         ],
         "type": "scatter",
         "x": [
          "Chelsea",
          "Tottenham"
         ],
         "xaxis": "x",
         "y": {
          "bdata": "MzMzMzMzB8AAAAAAAAA4wA==",
          "dtype": "f8"
         },
         "yaxis": "y"
        }
       ],
       "layout": {
        "legend": {
         "itemsizing": "constant",
         "title": {
          "text": "Color"
         },
         "tracegroupgap": 0
        },
        "showlegend": false,
        "template": {
         "data": {
          "bar": [
           {
            "error_x": {
             "color": "#2a3f5f"
            },
            "error_y": {
             "color": "#2a3f5f"
            },
            "marker": {
             "line": {
              "color": "#E5ECF6",
              "width": 0.5
             },
             "pattern": {
              "fillmode": "overlay",
              "size": 10,
              "solidity": 0.2
             }
            },
            "type": "bar"
           }
          ],
          "barpolar": [
           {
            "marker": {
             "line": {
              "color": "#E5ECF6",
              "width": 0.5
             },
             "pattern": {
              "fillmode": "overlay",
              "size": 10,
              "solidity": 0.2
             }
            },
            "type": "barpolar"
           }
          ],
          "carpet": [
           {
            "aaxis": {
             "endlinecolor": "#2a3f5f",
             "gridcolor": "white",
             "linecolor": "white",
             "minorgridcolor": "white",
             "startlinecolor": "#2a3f5f"
            },
            "baxis": {
             "endlinecolor": "#2a3f5f",
             "gridcolor": "white",
             "linecolor": "white",
             "minorgridcolor": "white",
             "startlinecolor": "#2a3f5f"
            },
            "type": "carpet"
           }
          ],
          "choropleth": [
           {
            "colorbar": {
             "outlinewidth": 0,
             "ticks": ""
            },
            "type": "choropleth"
           }
          ],
          "contour": [
           {
            "colorbar": {
             "outlinewidth": 0,
             "ticks": ""
            },
            "colorscale": [
             [
              0,
              "#0d0887"
             ],
             [
              0.1111111111111111,
              "#46039f"
             ],
             [
              0.2222222222222222,
              "#7201a8"
             ],
             [
              0.3333333333333333,
              "#9c179e"
             ],
             [
              0.4444444444444444,
              "#bd3786"
             ],
             [
              0.5555555555555556,
              "#d8576b"
             ],
             [
              0.6666666666666666,
              "#ed7953"
             ],
             [
              0.7777777777777778,
              "#fb9f3a"
             ],
             [
              0.8888888888888888,
              "#fdca26"
             ],
             [
              1,
              "#f0f921"
             ]
            ],
            "type": "contour"
           }
          ],
          "contourcarpet": [
           {
            "colorbar": {
             "outlinewidth": 0,
             "ticks": ""
            },
            "type": "contourcarpet"
           }
          ],
          "heatmap": [
           {
            "colorbar": {
             "outlinewidth": 0,
             "ticks": ""
            },
            "colorscale": [
             [
              0,
              "#0d0887"
             ],
             [
              0.1111111111111111,
              "#46039f"
             ],
             [
              0.2222222222222222,
              "#7201a8"
             ],
             [
              0.3333333333333333,
              "#9c179e"
             ],
             [
              0.4444444444444444,
              "#bd3786"
             ],
             [
              0.5555555555555556,
              "#d8576b"
             ],
             [
              0.6666666666666666,
              "#ed7953"
             ],
             [
              0.7777777777777778,
              "#fb9f3a"
             ],
             [
              0.8888888888888888,
              "#fdca26"
             ],
             [
              1,
              "#f0f921"
             ]
            ],
            "type": "heatmap"
           }
          ],
          "histogram": [
           {
            "marker": {
             "pattern": {
              "fillmode": "overlay",
              "size": 10,
              "solidity": 0.2
             }
            },
            "type": "histogram"
           }
          ],
          "histogram2d": [
           {
            "colorbar": {
             "outlinewidth": 0,
             "ticks": ""
            },
            "colorscale": [
             [
              0,
              "#0d0887"
             ],
             [
              0.1111111111111111,
              "#46039f"
             ],
             [
              0.2222222222222222,
              "#7201a8"
             ],
             [
              0.3333333333333333,
              "#9c179e"
             ],
             [
              0.4444444444444444,
              "#bd3786"
             ],
             [
              0.5555555555555556,
              "#d8576b"
             ],
             [
              0.6666666666666666,
              "#ed7953"
             ],
             [
              0.7777777777777778,
              "#fb9f3a"
             ],
             [
              0.8888888888888888,
              "#fdca26"
             ],
             [
              1,
              "#f0f921"
             ]
            ],
            "type": "histogram2d"
           }
          ],
          "histogram2dcontour": [
           {
            "colorbar": {
             "outlinewidth": 0,
             "ticks": ""
            },
            "colorscale": [
             [
              0,
              "#0d0887"
             ],
             [
              0.1111111111111111,
              "#46039f"
             ],
             [
              0.2222222222222222,
              "#7201a8"
             ],
             [
              0.3333333333333333,
              "#9c179e"
             ],
             [
              0.4444444444444444,
              "#bd3786"
             ],
             [
              0.5555555555555556,
              "#d8576b"
             ],
             [
              0.6666666666666666,
              "#ed7953"
             ],
             [
              0.7777777777777778,
              "#fb9f3a"
             ],
             [
              0.8888888888888888,
              "#fdca26"
             ],
             [
              1,
              "#f0f921"
             ]
            ],
            "type": "histogram2dcontour"
           }
          ],
          "mesh3d": [
           {
            "colorbar": {
             "outlinewidth": 0,
             "ticks": ""
            },
            "type": "mesh3d"
           }
          ],
          "parcoords": [
           {
            "line": {
             "colorbar": {
              "outlinewidth": 0,
              "ticks": ""
             }
            },
            "type": "parcoords"
           }
          ],
          "pie": [
           {
            "automargin": true,
            "type": "pie"
           }
          ],
          "scatter": [
           {
            "fillpattern": {
             "fillmode": "overlay",
             "size": 10,
             "solidity": 0.2
            },
            "type": "scatter"
           }
          ],
          "scatter3d": [
           {
            "line": {
             "colorbar": {
              "outlinewidth": 0,
              "ticks": ""
             }
            },
            "marker": {
             "colorbar": {
              "outlinewidth": 0,
              "ticks": ""
             }
            },
            "type": "scatter3d"
           }
          ],
          "scattercarpet": [
           {
            "marker": {
             "colorbar": {
              "outlinewidth": 0,
              "ticks": ""
             }
            },
            "type": "scattercarpet"
           }
          ],
          "scattergeo": [
           {
            "marker": {
             "colorbar": {
              "outlinewidth": 0,
              "ticks": ""
             }
            },
            "type": "scattergeo"
           }
          ],
          "scattergl": [
           {
            "marker": {
             "colorbar": {
              "outlinewidth": 0,
              "ticks": ""
             }
            },
            "type": "scattergl"
           }
          ],
          "scattermap": [
           {
            "marker": {
             "colorbar": {
              "outlinewidth": 0,
              "ticks": ""
             }
            },
            "type": "scattermap"
           }
          ],
          "scattermapbox": [
           {
            "marker": {
             "colorbar": {
              "outlinewidth": 0,
              "ticks": ""
             }
            },
            "type": "scattermapbox"
           }
          ],
          "scatterpolar": [
           {
            "marker": {
             "colorbar": {
              "outlinewidth": 0,
              "ticks": ""
             }
            },
            "type": "scatterpolar"
           }
          ],
          "scatterpolargl": [
           {
            "marker": {
             "colorbar": {
              "outlinewidth": 0,
              "ticks": ""
             }
            },
            "type": "scatterpolargl"
           }
          ],
          "scatterternary": [
           {
            "marker": {
             "colorbar": {
              "outlinewidth": 0,
              "ticks": ""
             }
            },
            "type": "scatterternary"
           }
          ],
          "surface": [
           {
            "colorbar": {
             "outlinewidth": 0,
             "ticks": ""
            },
            "colorscale": [
             [
              0,
              "#0d0887"
             ],
             [
              0.1111111111111111,
              "#46039f"
             ],
             [
              0.2222222222222222,
              "#7201a8"
             ],
             [
              0.3333333333333333,
              "#9c179e"
             ],
             [
              0.4444444444444444,
              "#bd3786"
             ],
             [
              0.5555555555555556,
              "#d8576b"
             ],
             [
              0.6666666666666666,
              "#ed7953"
             ],
             [
              0.7777777777777778,
              "#fb9f3a"
             ],
             [
              0.8888888888888888,
              "#fdca26"
             ],
             [
              1,
              "#f0f921"
             ]
            ],
            "type": "surface"
           }
          ],
          "table": [
           {
            "cells": {
             "fill": {
              "color": "#EBF0F8"
             },
             "line": {
              "color": "white"
             }
            },
            "header": {
             "fill": {
              "color": "#C8D4E3"
             },
             "line": {
              "color": "white"
             }
            },
            "type": "table"
           }
          ]
         },
         "layout": {
          "annotationdefaults": {
           "arrowcolor": "#2a3f5f",
           "arrowhead": 0,
           "arrowwidth": 1
          },
          "autotypenumbers": "strict",
          "coloraxis": {
           "colorbar": {
            "outlinewidth": 0,
            "ticks": ""
           }
          },
          "colorscale": {
           "diverging": [
            [
             0,
             "#8e0152"
            ],
            [
             0.1,
             "#c51b7d"
            ],
            [
             0.2,
             "#de77ae"
            ],
            [
             0.3,
             "#f1b6da"
            ],
            [
             0.4,
             "#fde0ef"
            ],
            [
             0.5,
             "#f7f7f7"
            ],
            [
             0.6,
             "#e6f5d0"
            ],
            [
             0.7,
             "#b8e186"
            ],
            [
             0.8,
             "#7fbc41"
            ],
            [
             0.9,
             "#4d9221"
            ],
            [
             1,
             "#276419"
            ]
           ],
           "sequential": [
            [
             0,
             "#0d0887"
            ],
            [
             0.1111111111111111,
             "#46039f"
            ],
            [
             0.2222222222222222,
             "#7201a8"
            ],
            [
             0.3333333333333333,
             "#9c179e"
            ],
            [
             0.4444444444444444,
             "#bd3786"
            ],
            [
             0.5555555555555556,
             "#d8576b"
            ],
            [
             0.6666666666666666,
             "#ed7953"
            ],
            [
             0.7777777777777778,
             "#fb9f3a"
            ],
            [
             0.8888888888888888,
             "#fdca26"
            ],
            [
             1,
             "#f0f921"
            ]
           ],
           "sequentialminus": [
            [
             0,
             "#0d0887"
            ],
            [
             0.1111111111111111,
             "#46039f"
            ],
            [
             0.2222222222222222,
             "#7201a8"
            ],
            [
             0.3333333333333333,
             "#9c179e"
            ],
            [
             0.4444444444444444,
             "#bd3786"
            ],
            [
             0.5555555555555556,
             "#d8576b"
            ],
            [
             0.6666666666666666,
             "#ed7953"
            ],
            [
             0.7777777777777778,
             "#fb9f3a"
            ],
            [
             0.8888888888888888,
             "#fdca26"
            ],
            [
             1,
             "#f0f921"
            ]
           ]
          },
          "colorway": [
           "#636efa",
           "#EF553B",
           "#00cc96",
           "#ab63fa",
           "#FFA15A",
           "#19d3f3",
           "#FF6692",
           "#B6E880",
           "#FF97FF",
           "#FECB52"
          ],
          "font": {
           "color": "#2a3f5f"
          },
          "geo": {
           "bgcolor": "white",
           "lakecolor": "white",
           "landcolor": "#E5ECF6",
           "showlakes": true,
           "showland": true,
           "subunitcolor": "white"
          },
          "hoverlabel": {
           "align": "left"
          },
          "hovermode": "closest",
          "mapbox": {
           "style": "light"
          },
          "paper_bgcolor": "white",
          "plot_bgcolor": "#E5ECF6",
          "polar": {
           "angularaxis": {
            "gridcolor": "white",
            "linecolor": "white",
            "ticks": ""
           },
           "bgcolor": "#E5ECF6",
           "radialaxis": {
            "gridcolor": "white",
            "linecolor": "white",
            "ticks": ""
           }
          },
          "scene": {
           "xaxis": {
            "backgroundcolor": "#E5ECF6",
            "gridcolor": "white",
            "gridwidth": 2,
            "linecolor": "white",
            "showbackground": true,
            "ticks": "",
            "zerolinecolor": "white"
           },
           "yaxis": {
            "backgroundcolor": "#E5ECF6",
            "gridcolor": "white",
            "gridwidth": 2,
            "linecolor": "white",
            "showbackground": true,
            "ticks": "",
            "zerolinecolor": "white"
           },
           "zaxis": {
            "backgroundcolor": "#E5ECF6",
            "gridcolor": "white",
            "gridwidth": 2,
            "linecolor": "white",
            "showbackground": true,
            "ticks": "",
            "zerolinecolor": "white"
           }
          },
          "shapedefaults": {
           "line": {
            "color": "#2a3f5f"
           }
          },
          "ternary": {
           "aaxis": {
            "gridcolor": "white",
            "linecolor": "white",
            "ticks": ""
           },
           "baxis": {
            "gridcolor": "white",
            "linecolor": "white",
            "ticks": ""
           },
           "bgcolor": "#E5ECF6",
           "caxis": {
            "gridcolor": "white",
            "linecolor": "white",
            "ticks": ""
           }
          },
          "title": {
           "x": 0.05
          },
          "xaxis": {
           "automargin": true,
           "gridcolor": "white",
           "linecolor": "white",
           "ticks": "",
           "title": {
            "standoff": 15
           },
           "zerolinecolor": "white",
           "zerolinewidth": 2
          },
          "yaxis": {
           "automargin": true,
           "gridcolor": "white",
           "linecolor": "white",
           "ticks": "",
           "title": {
            "standoff": 15
           },
           "zerolinecolor": "white",
           "zerolinewidth": 2
          }
         }
        },
        "title": {
         "text": "Elo Rating Changes Across 3 Seasons for Arsenal, Bolton, Chelsea, Tottenham"
        },
        "xaxis": {
         "anchor": "y",
         "domain": [
          0,
          1
         ],
         "title": {
          "text": ""
         }
        },
        "yaxis": {
         "anchor": "x",
         "domain": [
          0,
          1
         ],
         "title": {
          "text": "Elo Difference"
         },
         "visible": false
        }
       }
      }
     },
     "metadata": {},
     "output_type": "display_data"
    }
   ],
   "source": [
    "def elo_difference_across_seasons(*teams, season):\n",
    "    required_df = elo_ratings_history_df.loc[\n",
    "        (elo_ratings_history_df['Team'].isin(teams)) & (elo_ratings_history_df['Season'].isin(season))].sort_values( by = 'Date')\n",
    "    required_df.drop('Full Time Goals', axis =1, inplace = True)\n",
    "    \n",
    "    start_rating = required_df.groupby(\"Team\")[\"Elo-rating before match\"].first()\n",
    "    end_rating = required_df.groupby(\"Team\")['Elo-rating after match'].last()\n",
    "\n",
    "    elo_difference_df = pd.DataFrame({\n",
    "        \"Start Elo\" : start_rating,\n",
    "        \"End Elo\" : end_rating\n",
    "    })\n",
    "    elo_difference_df['Elo Difference'] = round(elo_difference_df['End Elo'] - elo_difference_df['Start Elo'], 1)\n",
    "    elo_difference_df['Color'] = elo_difference_df['Elo Difference'].apply(lambda x : 'green' if x >=0  else 'red')\n",
    "    elo_difference_df['Size'] = elo_difference_df['Elo Difference'].abs()*10\n",
    "    elo_difference_df['hover_text'] = elo_difference_df.index + \"<br> Elo Difference: \" + elo_difference_df['Elo Difference'].astype(str)\n",
    "    \n",
    "    fig = px.scatter(\n",
    "        elo_difference_df,\n",
    "        x = elo_difference_df.index,\n",
    "        y = 'Elo Difference',\n",
    "        size = 'Size',\n",
    "        color = 'Color',\n",
    "        text = 'hover_text',\n",
    "        title = f\"Elo Rating Changes Across {len(season)} Seasons for {', '.join(elo_difference_df.index)}\",\n",
    "        color_discrete_map={'green':'green','red':'red'},\n",
    "        size_max = 100\n",
    "\n",
    "    )\n",
    "    fig.update_layout(showlegend = False)\n",
    "    fig.update_xaxes(title = \"\")\n",
    "    fig.update_yaxes(visible = False)\n",
    "\n",
    "    fig.show()\n",
    "    \n",
    "elo_difference_across_seasons(\"Chelsea\",\"Arsenal\",\"Tottenham\", \"Bolton\", season = [\"2000-2001\", \"2001-2002\", \"2002-2003\"])\n",
    "\n"
   ]
  }
 ],
 "metadata": {
  "kernelspec": {
   "display_name": "Python 3",
   "language": "python",
   "name": "python3"
  },
  "language_info": {
   "codemirror_mode": {
    "name": "ipython",
    "version": 3
   },
   "file_extension": ".py",
   "mimetype": "text/x-python",
   "name": "python",
   "nbconvert_exporter": "python",
   "pygments_lexer": "ipython3",
   "version": "3.13.7"
  }
 },
 "nbformat": 4,
 "nbformat_minor": 5
}
